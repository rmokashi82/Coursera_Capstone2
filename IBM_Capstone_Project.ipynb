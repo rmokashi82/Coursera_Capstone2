{
  "nbformat": 4,
  "nbformat_minor": 0,
  "metadata": {
    "colab": {
      "name": "IBM - Capstone Project.ipynb",
      "provenance": [],
      "collapsed_sections": [],
      "authorship_tag": "ABX9TyPXm1kVKdwiBCUz5K5xlLzq",
      "include_colab_link": true
    },
    "kernelspec": {
      "name": "python3",
      "display_name": "Python 3"
    }
  },
  "cells": [
    {
      "cell_type": "markdown",
      "metadata": {
        "id": "view-in-github",
        "colab_type": "text"
      },
      "source": [
        "<a href=\"https://colab.research.google.com/github/rmokashi82/Coursera_Capstone2/blob/master/IBM_Capstone_Project.ipynb\" target=\"_parent\"><img src=\"https://colab.research.google.com/assets/colab-badge.svg\" alt=\"Open In Colab\"/></a>"
      ]
    },
    {
      "cell_type": "markdown",
      "metadata": {
        "id": "3yAfmMIfzuQM"
      },
      "source": [
        "<h1 style=\"color:blue\">IBM Data Science Capstone </h1>\n",
        "    <h3>This Notebook contains the Final Assignment of the IBM Capstone - The Battle of the Neighborhood.</h3>"
      ]
    },
    {
      "cell_type": "markdown",
      "metadata": {
        "id": "0294VNBo5FzW"
      },
      "source": [
        "## Import Libraries"
      ]
    },
    {
      "cell_type": "code",
      "metadata": {
        "colab": {
          "base_uri": "https://localhost:8080/"
        },
        "id": "oL9doQDszlkB",
        "outputId": "e841b136-a3e7-4cc3-ab79-72c1d3882f35"
      },
      "source": [
        "import pandas as pd\n",
        "import numpy as np\n",
        "import requests\n",
        "import matplotlib\n",
        "import matplotlib.pyplot as plt\n",
        "import matplotlib.cm as cm\n",
        "from pandas.io.json import json_normalize\n",
        "import folium\n",
        "from geopy.geocoders import Nominatim\n",
        "from sklearn.cluster import KMeans\n",
        "from yellowbrick.cluster import KElbowVisualizer"
      ],
      "execution_count": 1,
      "outputs": [
        {
          "output_type": "stream",
          "text": [
            "/usr/local/lib/python3.6/dist-packages/sklearn/utils/deprecation.py:144: FutureWarning: The sklearn.metrics.classification module is  deprecated in version 0.22 and will be removed in version 0.24. The corresponding classes / functions should instead be imported from sklearn.metrics. Anything that cannot be imported from sklearn.metrics is now part of the private API.\n",
            "  warnings.warn(message, FutureWarning)\n"
          ],
          "name": "stderr"
        }
      ]
    },
    {
      "cell_type": "markdown",
      "metadata": {
        "id": "B1jT9whXC8dz"
      },
      "source": [
        "## Import Ahmedabad Geospatial Dataset"
      ]
    },
    {
      "cell_type": "code",
      "metadata": {
        "colab": {
          "base_uri": "https://localhost:8080/",
          "height": 419
        },
        "id": "cYnhr9WuC9I5",
        "outputId": "fa9cf4c4-5a13-4142-b5ce-60fa214afad3"
      },
      "source": [
        "vicinity_df = pd.read_csv('Abad_lat_lng_upd.csv')\n",
        "vicinity_df[vicinity_df.isnull().any(axis=1)]"
      ],
      "execution_count": 2,
      "outputs": [
        {
          "output_type": "execute_result",
          "data": {
            "text/html": [
              "<div>\n",
              "<style scoped>\n",
              "    .dataframe tbody tr th:only-of-type {\n",
              "        vertical-align: middle;\n",
              "    }\n",
              "\n",
              "    .dataframe tbody tr th {\n",
              "        vertical-align: top;\n",
              "    }\n",
              "\n",
              "    .dataframe thead th {\n",
              "        text-align: right;\n",
              "    }\n",
              "</style>\n",
              "<table border=\"1\" class=\"dataframe\">\n",
              "  <thead>\n",
              "    <tr style=\"text-align: right;\">\n",
              "      <th></th>\n",
              "      <th>Vicinity</th>\n",
              "      <th>V Lat</th>\n",
              "      <th>V Long</th>\n",
              "    </tr>\n",
              "  </thead>\n",
              "  <tbody>\n",
              "    <tr>\n",
              "      <th>46</th>\n",
              "      <td>Lapkaman</td>\n",
              "      <td>NaN</td>\n",
              "      <td>NaN</td>\n",
              "    </tr>\n",
              "    <tr>\n",
              "      <th>51</th>\n",
              "      <td>Goraj</td>\n",
              "      <td>NaN</td>\n",
              "      <td>NaN</td>\n",
              "    </tr>\n",
              "    <tr>\n",
              "      <th>52</th>\n",
              "      <td>Kundal</td>\n",
              "      <td>NaN</td>\n",
              "      <td>NaN</td>\n",
              "    </tr>\n",
              "    <tr>\n",
              "      <th>54</th>\n",
              "      <td>Fangadi</td>\n",
              "      <td>NaN</td>\n",
              "      <td>NaN</td>\n",
              "    </tr>\n",
              "    <tr>\n",
              "      <th>55</th>\n",
              "      <td>Vekaria</td>\n",
              "      <td>NaN</td>\n",
              "      <td>NaN</td>\n",
              "    </tr>\n",
              "    <tr>\n",
              "      <th>...</th>\n",
              "      <td>...</td>\n",
              "      <td>...</td>\n",
              "      <td>...</td>\n",
              "    </tr>\n",
              "    <tr>\n",
              "      <th>444</th>\n",
              "      <td>Fatepur</td>\n",
              "      <td>NaN</td>\n",
              "      <td>NaN</td>\n",
              "    </tr>\n",
              "    <tr>\n",
              "      <th>449</th>\n",
              "      <td>Panchham</td>\n",
              "      <td>NaN</td>\n",
              "      <td>NaN</td>\n",
              "    </tr>\n",
              "    <tr>\n",
              "      <th>450</th>\n",
              "      <td>Buranpur</td>\n",
              "      <td>NaN</td>\n",
              "      <td>NaN</td>\n",
              "    </tr>\n",
              "    <tr>\n",
              "      <th>455</th>\n",
              "      <td>Digvijaynagar</td>\n",
              "      <td>NaN</td>\n",
              "      <td>NaN</td>\n",
              "    </tr>\n",
              "    <tr>\n",
              "      <th>462</th>\n",
              "      <td>Ambalia</td>\n",
              "      <td>NaN</td>\n",
              "      <td>NaN</td>\n",
              "    </tr>\n",
              "  </tbody>\n",
              "</table>\n",
              "<p>293 rows × 3 columns</p>\n",
              "</div>"
            ],
            "text/plain": [
              "          Vicinity  V Lat  V Long\n",
              "46        Lapkaman    NaN     NaN\n",
              "51           Goraj    NaN     NaN\n",
              "52          Kundal    NaN     NaN\n",
              "54         Fangadi    NaN     NaN\n",
              "55         Vekaria    NaN     NaN\n",
              "..             ...    ...     ...\n",
              "444        Fatepur    NaN     NaN\n",
              "449       Panchham    NaN     NaN\n",
              "450       Buranpur    NaN     NaN\n",
              "455  Digvijaynagar    NaN     NaN\n",
              "462        Ambalia    NaN     NaN\n",
              "\n",
              "[293 rows x 3 columns]"
            ]
          },
          "metadata": {
            "tags": []
          },
          "execution_count": 2
        }
      ]
    },
    {
      "cell_type": "markdown",
      "metadata": {
        "id": "NgUgHOy4DS6x"
      },
      "source": [
        "#### Drop Records That Do Not Have Geo Data"
      ]
    },
    {
      "cell_type": "code",
      "metadata": {
        "colab": {
          "base_uri": "https://localhost:8080/",
          "height": 419
        },
        "id": "hUu6WvHfDODS",
        "outputId": "c128f8ec-1e32-4c41-cf64-4d73645abd5e"
      },
      "source": [
        "#drop rows with NaN values\n",
        "vicinity_df.dropna(axis=0, inplace=True)\n",
        "vicinity_df"
      ],
      "execution_count": 3,
      "outputs": [
        {
          "output_type": "execute_result",
          "data": {
            "text/html": [
              "<div>\n",
              "<style scoped>\n",
              "    .dataframe tbody tr th:only-of-type {\n",
              "        vertical-align: middle;\n",
              "    }\n",
              "\n",
              "    .dataframe tbody tr th {\n",
              "        vertical-align: top;\n",
              "    }\n",
              "\n",
              "    .dataframe thead th {\n",
              "        text-align: right;\n",
              "    }\n",
              "</style>\n",
              "<table border=\"1\" class=\"dataframe\">\n",
              "  <thead>\n",
              "    <tr style=\"text-align: right;\">\n",
              "      <th></th>\n",
              "      <th>Vicinity</th>\n",
              "      <th>V Lat</th>\n",
              "      <th>V Long</th>\n",
              "    </tr>\n",
              "  </thead>\n",
              "  <tbody>\n",
              "    <tr>\n",
              "      <th>0</th>\n",
              "      <td>Lal Darwaja</td>\n",
              "      <td>23.024190</td>\n",
              "      <td>72.578556</td>\n",
              "    </tr>\n",
              "    <tr>\n",
              "      <th>1</th>\n",
              "      <td>Manek Chowk</td>\n",
              "      <td>23.023180</td>\n",
              "      <td>72.588952</td>\n",
              "    </tr>\n",
              "    <tr>\n",
              "      <th>2</th>\n",
              "      <td>Shahibag</td>\n",
              "      <td>23.055966</td>\n",
              "      <td>72.593869</td>\n",
              "    </tr>\n",
              "    <tr>\n",
              "      <th>3</th>\n",
              "      <td>Sabarmati</td>\n",
              "      <td>23.083993</td>\n",
              "      <td>72.587619</td>\n",
              "    </tr>\n",
              "    <tr>\n",
              "      <th>4</th>\n",
              "      <td>Kabir Chowk</td>\n",
              "      <td>23.087505</td>\n",
              "      <td>72.585701</td>\n",
              "    </tr>\n",
              "    <tr>\n",
              "      <th>...</th>\n",
              "      <td>...</td>\n",
              "      <td>...</td>\n",
              "      <td>...</td>\n",
              "    </tr>\n",
              "    <tr>\n",
              "      <th>457</th>\n",
              "      <td>Sardarnagar</td>\n",
              "      <td>23.083583</td>\n",
              "      <td>72.624861</td>\n",
              "    </tr>\n",
              "    <tr>\n",
              "      <th>458</th>\n",
              "      <td>Ranip</td>\n",
              "      <td>23.076623</td>\n",
              "      <td>72.576420</td>\n",
              "    </tr>\n",
              "    <tr>\n",
              "      <th>459</th>\n",
              "      <td>Gota</td>\n",
              "      <td>23.073910</td>\n",
              "      <td>72.557217</td>\n",
              "    </tr>\n",
              "    <tr>\n",
              "      <th>460</th>\n",
              "      <td>Chandlodia</td>\n",
              "      <td>23.084580</td>\n",
              "      <td>72.567884</td>\n",
              "    </tr>\n",
              "    <tr>\n",
              "      <th>461</th>\n",
              "      <td>Nirnaynagar</td>\n",
              "      <td>23.077191</td>\n",
              "      <td>72.558595</td>\n",
              "    </tr>\n",
              "  </tbody>\n",
              "</table>\n",
              "<p>170 rows × 3 columns</p>\n",
              "</div>"
            ],
            "text/plain": [
              "        Vicinity      V Lat     V Long\n",
              "0    Lal Darwaja  23.024190  72.578556\n",
              "1    Manek Chowk  23.023180  72.588952\n",
              "2       Shahibag  23.055966  72.593869\n",
              "3      Sabarmati  23.083993  72.587619\n",
              "4    Kabir Chowk  23.087505  72.585701\n",
              "..           ...        ...        ...\n",
              "457  Sardarnagar  23.083583  72.624861\n",
              "458        Ranip  23.076623  72.576420\n",
              "459         Gota  23.073910  72.557217\n",
              "460   Chandlodia  23.084580  72.567884\n",
              "461  Nirnaynagar  23.077191  72.558595\n",
              "\n",
              "[170 rows x 3 columns]"
            ]
          },
          "metadata": {
            "tags": []
          },
          "execution_count": 3
        }
      ]
    },
    {
      "cell_type": "markdown",
      "metadata": {
        "id": "oa1Y-WaSDcq4"
      },
      "source": [
        "#### Select First 50 Neighborhood"
      ]
    },
    {
      "cell_type": "code",
      "metadata": {
        "colab": {
          "base_uri": "https://localhost:8080/",
          "height": 1000
        },
        "id": "l17Qgn8jDXgu",
        "outputId": "67e4f0bb-11c1-4d42-a758-79256338dfbc"
      },
      "source": [
        "vicinity_df = vicinity_df.head(50).reset_index()\n",
        "vicinity_df.drop(['index'], axis=1, inplace=True)\n",
        "vicinity_df"
      ],
      "execution_count": 4,
      "outputs": [
        {
          "output_type": "execute_result",
          "data": {
            "text/html": [
              "<div>\n",
              "<style scoped>\n",
              "    .dataframe tbody tr th:only-of-type {\n",
              "        vertical-align: middle;\n",
              "    }\n",
              "\n",
              "    .dataframe tbody tr th {\n",
              "        vertical-align: top;\n",
              "    }\n",
              "\n",
              "    .dataframe thead th {\n",
              "        text-align: right;\n",
              "    }\n",
              "</style>\n",
              "<table border=\"1\" class=\"dataframe\">\n",
              "  <thead>\n",
              "    <tr style=\"text-align: right;\">\n",
              "      <th></th>\n",
              "      <th>Vicinity</th>\n",
              "      <th>V Lat</th>\n",
              "      <th>V Long</th>\n",
              "    </tr>\n",
              "  </thead>\n",
              "  <tbody>\n",
              "    <tr>\n",
              "      <th>0</th>\n",
              "      <td>Lal Darwaja</td>\n",
              "      <td>23.024190</td>\n",
              "      <td>72.578556</td>\n",
              "    </tr>\n",
              "    <tr>\n",
              "      <th>1</th>\n",
              "      <td>Manek Chowk</td>\n",
              "      <td>23.023180</td>\n",
              "      <td>72.588952</td>\n",
              "    </tr>\n",
              "    <tr>\n",
              "      <th>2</th>\n",
              "      <td>Shahibag</td>\n",
              "      <td>23.055966</td>\n",
              "      <td>72.593869</td>\n",
              "    </tr>\n",
              "    <tr>\n",
              "      <th>3</th>\n",
              "      <td>Sabarmati</td>\n",
              "      <td>23.083993</td>\n",
              "      <td>72.587619</td>\n",
              "    </tr>\n",
              "    <tr>\n",
              "      <th>4</th>\n",
              "      <td>Kabir Chowk</td>\n",
              "      <td>23.087505</td>\n",
              "      <td>72.585701</td>\n",
              "    </tr>\n",
              "    <tr>\n",
              "      <th>5</th>\n",
              "      <td>Motera</td>\n",
              "      <td>23.091703</td>\n",
              "      <td>72.597481</td>\n",
              "    </tr>\n",
              "    <tr>\n",
              "      <th>6</th>\n",
              "      <td>Ambawadi (Ahmedabad)</td>\n",
              "      <td>23.022612</td>\n",
              "      <td>72.549083</td>\n",
              "    </tr>\n",
              "    <tr>\n",
              "      <th>7</th>\n",
              "      <td>Ellisbridge</td>\n",
              "      <td>23.022886</td>\n",
              "      <td>72.571642</td>\n",
              "    </tr>\n",
              "    <tr>\n",
              "      <th>8</th>\n",
              "      <td>Paldi (Ahmedabad)</td>\n",
              "      <td>23.014553</td>\n",
              "      <td>72.563543</td>\n",
              "    </tr>\n",
              "    <tr>\n",
              "      <th>9</th>\n",
              "      <td>Sarkhej Road</td>\n",
              "      <td>22.983483</td>\n",
              "      <td>72.500720</td>\n",
              "    </tr>\n",
              "    <tr>\n",
              "      <th>10</th>\n",
              "      <td>Anandnagar (Ahmedabad)</td>\n",
              "      <td>23.016075</td>\n",
              "      <td>72.509295</td>\n",
              "    </tr>\n",
              "    <tr>\n",
              "      <th>11</th>\n",
              "      <td>Shardanagar</td>\n",
              "      <td>23.011190</td>\n",
              "      <td>72.552575</td>\n",
              "    </tr>\n",
              "    <tr>\n",
              "      <th>12</th>\n",
              "      <td>Narayannagar</td>\n",
              "      <td>22.997826</td>\n",
              "      <td>72.560115</td>\n",
              "    </tr>\n",
              "    <tr>\n",
              "      <th>13</th>\n",
              "      <td>Jawahar Chowk</td>\n",
              "      <td>22.995137</td>\n",
              "      <td>72.605099</td>\n",
              "    </tr>\n",
              "    <tr>\n",
              "      <th>14</th>\n",
              "      <td>Maninagar</td>\n",
              "      <td>22.997713</td>\n",
              "      <td>72.606717</td>\n",
              "    </tr>\n",
              "    <tr>\n",
              "      <th>15</th>\n",
              "      <td>Ashram Road</td>\n",
              "      <td>23.026694</td>\n",
              "      <td>72.571078</td>\n",
              "    </tr>\n",
              "    <tr>\n",
              "      <th>16</th>\n",
              "      <td>Darpan Society</td>\n",
              "      <td>23.046712</td>\n",
              "      <td>72.553567</td>\n",
              "    </tr>\n",
              "    <tr>\n",
              "      <th>17</th>\n",
              "      <td>Gujarat University</td>\n",
              "      <td>23.037307</td>\n",
              "      <td>72.544748</td>\n",
              "    </tr>\n",
              "    <tr>\n",
              "      <th>18</th>\n",
              "      <td>Navrangpura</td>\n",
              "      <td>23.036000</td>\n",
              "      <td>72.564343</td>\n",
              "    </tr>\n",
              "    <tr>\n",
              "      <th>19</th>\n",
              "      <td>Stadium Marg</td>\n",
              "      <td>23.049768</td>\n",
              "      <td>72.561628</td>\n",
              "    </tr>\n",
              "    <tr>\n",
              "      <th>20</th>\n",
              "      <td>Vadaj</td>\n",
              "      <td>23.068224</td>\n",
              "      <td>72.564099</td>\n",
              "    </tr>\n",
              "    <tr>\n",
              "      <th>21</th>\n",
              "      <td>Naranpura Vistar</td>\n",
              "      <td>23.056861</td>\n",
              "      <td>72.550710</td>\n",
              "    </tr>\n",
              "    <tr>\n",
              "      <th>22</th>\n",
              "      <td>Shastrinagar (Ahmedabad)</td>\n",
              "      <td>23.062423</td>\n",
              "      <td>72.553180</td>\n",
              "    </tr>\n",
              "    <tr>\n",
              "      <th>23</th>\n",
              "      <td>Nava Vadaj</td>\n",
              "      <td>23.068224</td>\n",
              "      <td>72.564099</td>\n",
              "    </tr>\n",
              "    <tr>\n",
              "      <th>24</th>\n",
              "      <td>Navjivan</td>\n",
              "      <td>23.053692</td>\n",
              "      <td>72.642707</td>\n",
              "    </tr>\n",
              "    <tr>\n",
              "      <th>25</th>\n",
              "      <td>Jodhpur Char Rasta</td>\n",
              "      <td>23.025341</td>\n",
              "      <td>72.527761</td>\n",
              "    </tr>\n",
              "    <tr>\n",
              "      <th>26</th>\n",
              "      <td>I I M</td>\n",
              "      <td>23.031270</td>\n",
              "      <td>72.537133</td>\n",
              "    </tr>\n",
              "    <tr>\n",
              "      <th>27</th>\n",
              "      <td>Manekbag</td>\n",
              "      <td>23.019342</td>\n",
              "      <td>72.541232</td>\n",
              "    </tr>\n",
              "    <tr>\n",
              "      <th>28</th>\n",
              "      <td>Polytechnic (Ahmedabad)</td>\n",
              "      <td>23.026577</td>\n",
              "      <td>72.547506</td>\n",
              "    </tr>\n",
              "    <tr>\n",
              "      <th>29</th>\n",
              "      <td>Azad Society</td>\n",
              "      <td>23.029157</td>\n",
              "      <td>72.532752</td>\n",
              "    </tr>\n",
              "    <tr>\n",
              "      <th>30</th>\n",
              "      <td>Meghaningar</td>\n",
              "      <td>23.058283</td>\n",
              "      <td>72.616509</td>\n",
              "    </tr>\n",
              "    <tr>\n",
              "      <th>31</th>\n",
              "      <td>Gita Mandir Road</td>\n",
              "      <td>23.015200</td>\n",
              "      <td>72.593222</td>\n",
              "    </tr>\n",
              "    <tr>\n",
              "      <th>32</th>\n",
              "      <td>Civil Hospital</td>\n",
              "      <td>23.051438</td>\n",
              "      <td>72.605116</td>\n",
              "    </tr>\n",
              "    <tr>\n",
              "      <th>33</th>\n",
              "      <td>Gandhi Ashram (Ahmedabad)</td>\n",
              "      <td>23.060165</td>\n",
              "      <td>72.580638</td>\n",
              "    </tr>\n",
              "    <tr>\n",
              "      <th>34</th>\n",
              "      <td>Jivraj Park</td>\n",
              "      <td>23.006332</td>\n",
              "      <td>72.536517</td>\n",
              "    </tr>\n",
              "    <tr>\n",
              "      <th>35</th>\n",
              "      <td>Memnagar</td>\n",
              "      <td>23.053084</td>\n",
              "      <td>72.532931</td>\n",
              "    </tr>\n",
              "    <tr>\n",
              "      <th>36</th>\n",
              "      <td>Thaltej Road</td>\n",
              "      <td>23.050483</td>\n",
              "      <td>72.498859</td>\n",
              "    </tr>\n",
              "    <tr>\n",
              "      <th>37</th>\n",
              "      <td>Bodakdev</td>\n",
              "      <td>23.044227</td>\n",
              "      <td>72.517458</td>\n",
              "    </tr>\n",
              "    <tr>\n",
              "      <th>38</th>\n",
              "      <td>Juhapura</td>\n",
              "      <td>23.005630</td>\n",
              "      <td>72.523101</td>\n",
              "    </tr>\n",
              "    <tr>\n",
              "      <th>39</th>\n",
              "      <td>Bopal</td>\n",
              "      <td>23.029699</td>\n",
              "      <td>72.465579</td>\n",
              "    </tr>\n",
              "    <tr>\n",
              "      <th>40</th>\n",
              "      <td>Ghuma</td>\n",
              "      <td>23.029511</td>\n",
              "      <td>72.450601</td>\n",
              "    </tr>\n",
              "    <tr>\n",
              "      <th>41</th>\n",
              "      <td>Ambli</td>\n",
              "      <td>23.018494</td>\n",
              "      <td>72.495454</td>\n",
              "    </tr>\n",
              "    <tr>\n",
              "      <th>42</th>\n",
              "      <td>Shela</td>\n",
              "      <td>23.010030</td>\n",
              "      <td>72.444016</td>\n",
              "    </tr>\n",
              "    <tr>\n",
              "      <th>43</th>\n",
              "      <td>Thaltej</td>\n",
              "      <td>23.048539</td>\n",
              "      <td>72.511742</td>\n",
              "    </tr>\n",
              "    <tr>\n",
              "      <th>44</th>\n",
              "      <td>Shilaj</td>\n",
              "      <td>23.054437</td>\n",
              "      <td>72.472076</td>\n",
              "    </tr>\n",
              "    <tr>\n",
              "      <th>45</th>\n",
              "      <td>Sola</td>\n",
              "      <td>23.069237</td>\n",
              "      <td>72.511131</td>\n",
              "    </tr>\n",
              "    <tr>\n",
              "      <th>46</th>\n",
              "      <td>Bhadaj</td>\n",
              "      <td>23.086873</td>\n",
              "      <td>72.483504</td>\n",
              "    </tr>\n",
              "    <tr>\n",
              "      <th>47</th>\n",
              "      <td>Ognaj</td>\n",
              "      <td>23.108063</td>\n",
              "      <td>72.522650</td>\n",
              "    </tr>\n",
              "    <tr>\n",
              "      <th>48</th>\n",
              "      <td>Ghatlodia</td>\n",
              "      <td>23.068665</td>\n",
              "      <td>72.536822</td>\n",
              "    </tr>\n",
              "    <tr>\n",
              "      <th>49</th>\n",
              "      <td>Sola H B C</td>\n",
              "      <td>23.057801</td>\n",
              "      <td>72.549016</td>\n",
              "    </tr>\n",
              "  </tbody>\n",
              "</table>\n",
              "</div>"
            ],
            "text/plain": [
              "                     Vicinity      V Lat     V Long\n",
              "0                 Lal Darwaja  23.024190  72.578556\n",
              "1                 Manek Chowk  23.023180  72.588952\n",
              "2                    Shahibag  23.055966  72.593869\n",
              "3                   Sabarmati  23.083993  72.587619\n",
              "4                 Kabir Chowk  23.087505  72.585701\n",
              "5                      Motera  23.091703  72.597481\n",
              "6        Ambawadi (Ahmedabad)  23.022612  72.549083\n",
              "7                 Ellisbridge  23.022886  72.571642\n",
              "8           Paldi (Ahmedabad)  23.014553  72.563543\n",
              "9                Sarkhej Road  22.983483  72.500720\n",
              "10     Anandnagar (Ahmedabad)  23.016075  72.509295\n",
              "11                Shardanagar  23.011190  72.552575\n",
              "12               Narayannagar  22.997826  72.560115\n",
              "13              Jawahar Chowk  22.995137  72.605099\n",
              "14                  Maninagar  22.997713  72.606717\n",
              "15                Ashram Road  23.026694  72.571078\n",
              "16             Darpan Society  23.046712  72.553567\n",
              "17         Gujarat University  23.037307  72.544748\n",
              "18                Navrangpura  23.036000  72.564343\n",
              "19               Stadium Marg  23.049768  72.561628\n",
              "20                      Vadaj  23.068224  72.564099\n",
              "21           Naranpura Vistar  23.056861  72.550710\n",
              "22   Shastrinagar (Ahmedabad)  23.062423  72.553180\n",
              "23                 Nava Vadaj  23.068224  72.564099\n",
              "24                   Navjivan  23.053692  72.642707\n",
              "25         Jodhpur Char Rasta  23.025341  72.527761\n",
              "26                      I I M  23.031270  72.537133\n",
              "27                   Manekbag  23.019342  72.541232\n",
              "28    Polytechnic (Ahmedabad)  23.026577  72.547506\n",
              "29               Azad Society  23.029157  72.532752\n",
              "30                Meghaningar  23.058283  72.616509\n",
              "31           Gita Mandir Road  23.015200  72.593222\n",
              "32             Civil Hospital  23.051438  72.605116\n",
              "33  Gandhi Ashram (Ahmedabad)  23.060165  72.580638\n",
              "34                Jivraj Park  23.006332  72.536517\n",
              "35                   Memnagar  23.053084  72.532931\n",
              "36               Thaltej Road  23.050483  72.498859\n",
              "37                   Bodakdev  23.044227  72.517458\n",
              "38                   Juhapura  23.005630  72.523101\n",
              "39                      Bopal  23.029699  72.465579\n",
              "40                      Ghuma  23.029511  72.450601\n",
              "41                      Ambli  23.018494  72.495454\n",
              "42                      Shela  23.010030  72.444016\n",
              "43                    Thaltej  23.048539  72.511742\n",
              "44                     Shilaj  23.054437  72.472076\n",
              "45                       Sola  23.069237  72.511131\n",
              "46                     Bhadaj  23.086873  72.483504\n",
              "47                      Ognaj  23.108063  72.522650\n",
              "48                  Ghatlodia  23.068665  72.536822\n",
              "49                 Sola H B C  23.057801  72.549016"
            ]
          },
          "metadata": {
            "tags": []
          },
          "execution_count": 4
        }
      ]
    },
    {
      "cell_type": "markdown",
      "metadata": {
        "id": "_vkQlG7mDlX_"
      },
      "source": [
        "## Get Nearby Places Using Foursquare Location Services API"
      ]
    },
    {
      "cell_type": "markdown",
      "metadata": {
        "id": "CDh_GVJZDtwB"
      },
      "source": [
        "#### Define Foursquare Credentials"
      ]
    },
    {
      "cell_type": "code",
      "metadata": {
        "colab": {
          "base_uri": "https://localhost:8080/"
        },
        "cellView": "form",
        "id": "54DRZ7XODf6V",
        "outputId": "393290e8-be4b-4864-8908-909c470ab0a9"
      },
      "source": [
        "#@title\n",
        "CLIENT_ID = 'M4GPEZEOTPJDP5YFT5ZQRDNJHGLQDVMOR2LO52IO51OKT5PZ' # Foursquare ID\n",
        "CLIENT_SECRET = 'JYKIKLICQYHXOFDO3ZLMJ3D3ZG0KLULMOMG0TRF4J5JUEGUA' # Foursquare Secret\n",
        "VERSION = '20180605' # Foursquare API version\n",
        "LIMIT = 100 # A default Foursquare API limit value\n",
        "\n",
        "print('Credentails Defined:')"
      ],
      "execution_count": 5,
      "outputs": [
        {
          "output_type": "stream",
          "text": [
            "Credentails Defined:\n"
          ],
          "name": "stdout"
        }
      ]
    },
    {
      "cell_type": "markdown",
      "metadata": {
        "id": "pXOSEJDgD7d2"
      },
      "source": [
        "#### Define Function to Search The Neighborhood With Keyword 'Pizza'"
      ]
    },
    {
      "cell_type": "code",
      "metadata": {
        "id": "oL9K6-HfDx7D"
      },
      "source": [
        "def searchVenues(names, latitudes, longitudes, radius=1100):\n",
        "    \n",
        "    venues_list=[]\n",
        "    for name, lat, lng in zip(names, latitudes, longitudes):\n",
        "        print(name)\n",
        "            \n",
        "        # create the API request URL\n",
        "        url = 'https://api.foursquare.com/v2/venues/search?&client_id={}&client_secret={}&v={}&ll={},{}&radius={}&limit={}&query=pizza'.format(\n",
        "            CLIENT_ID, \n",
        "            CLIENT_SECRET, \n",
        "            VERSION, \n",
        "            lat, \n",
        "            lng, \n",
        "            radius, \n",
        "            LIMIT)\n",
        "            \n",
        "        # make the GET request\n",
        "        results = requests.get(url).json()[\"response\"]['venues']\n",
        "        \n",
        "        # return only relevant information for each nearby venue\n",
        "        for v in results:\n",
        "            try:\n",
        "              category = v['categories'][0]['name']\n",
        "            except:\n",
        "              category = 'Pizza Place'\n",
        "            venues_list.append([(\n",
        "                name, \n",
        "                lat, \n",
        "                lng, \n",
        "                v['id'],\n",
        "                v['name'], \n",
        "                v['location']['lat'], \n",
        "                v['location']['lng'],  \n",
        "                category,\n",
        "                v['location']['distance'])])\n",
        "\n",
        "    nearby_venues = pd.DataFrame([item for venue_list in venues_list for item in venue_list])\n",
        "    nearby_venues.columns = ['Neighborhood', \n",
        "                  'Neighborhood Latitude', \n",
        "                  'Neighborhood Longitude', \n",
        "                  'Venue ID',           \n",
        "                  'Venue', \n",
        "                  'Venue Latitude', \n",
        "                  'Venue Longitude', \n",
        "                  'Venue Category',\n",
        "                  'Distance']\n",
        "    \n",
        "    return(nearby_venues)"
      ],
      "execution_count": 6,
      "outputs": []
    },
    {
      "cell_type": "markdown",
      "metadata": {
        "id": "e4ginJ14EKYy"
      },
      "source": [
        "#### Get Venues for Each Neighborhood"
      ]
    },
    {
      "cell_type": "code",
      "metadata": {
        "colab": {
          "base_uri": "https://localhost:8080/",
          "height": 1000
        },
        "id": "rv5oQkZLELE-",
        "outputId": "f982a475-02ed-402a-ecc0-c7eedc79fca7"
      },
      "source": [
        "ahmedabad_venues = searchVenues(\n",
        "                                     names = vicinity_df['Vicinity'],\n",
        "                                     latitudes = vicinity_df['V Lat'],\n",
        "                                     longitudes = vicinity_df['V Long'],\n",
        "                                 )\n",
        "ahmedabad_venues.head()"
      ],
      "execution_count": 7,
      "outputs": [
        {
          "output_type": "stream",
          "text": [
            "Lal Darwaja\n",
            "Manek Chowk\n",
            "Shahibag\n",
            "Sabarmati\n",
            "Kabir Chowk\n",
            "Motera\n",
            "Ambawadi (Ahmedabad)\n",
            "Ellisbridge\n",
            "Paldi (Ahmedabad)\n",
            "Sarkhej Road\n",
            "Anandnagar (Ahmedabad)\n",
            "Shardanagar\n",
            "Narayannagar\n",
            "Jawahar Chowk\n",
            "Maninagar\n",
            "Ashram Road\n",
            "Darpan Society\n",
            "Gujarat University\n",
            "Navrangpura\n",
            "Stadium Marg\n",
            "Vadaj\n",
            "Naranpura Vistar\n",
            "Shastrinagar (Ahmedabad)\n",
            "Nava Vadaj\n",
            "Navjivan\n",
            "Jodhpur Char Rasta\n",
            "I I M\n",
            "Manekbag\n",
            "Polytechnic (Ahmedabad)\n",
            "Azad Society\n",
            "Meghaningar\n",
            "Gita Mandir Road\n",
            "Civil Hospital\n",
            "Gandhi Ashram (Ahmedabad)\n",
            "Jivraj Park\n",
            "Memnagar\n",
            "Thaltej Road\n",
            "Bodakdev\n",
            "Juhapura\n",
            "Bopal\n",
            "Ghuma\n",
            "Ambli\n",
            "Shela\n",
            "Thaltej\n",
            "Shilaj\n",
            "Sola\n",
            "Bhadaj\n",
            "Ognaj\n",
            "Ghatlodia\n",
            "Sola H B C\n"
          ],
          "name": "stdout"
        },
        {
          "output_type": "execute_result",
          "data": {
            "text/html": [
              "<div>\n",
              "<style scoped>\n",
              "    .dataframe tbody tr th:only-of-type {\n",
              "        vertical-align: middle;\n",
              "    }\n",
              "\n",
              "    .dataframe tbody tr th {\n",
              "        vertical-align: top;\n",
              "    }\n",
              "\n",
              "    .dataframe thead th {\n",
              "        text-align: right;\n",
              "    }\n",
              "</style>\n",
              "<table border=\"1\" class=\"dataframe\">\n",
              "  <thead>\n",
              "    <tr style=\"text-align: right;\">\n",
              "      <th></th>\n",
              "      <th>Neighborhood</th>\n",
              "      <th>Neighborhood Latitude</th>\n",
              "      <th>Neighborhood Longitude</th>\n",
              "      <th>Venue ID</th>\n",
              "      <th>Venue</th>\n",
              "      <th>Venue Latitude</th>\n",
              "      <th>Venue Longitude</th>\n",
              "      <th>Venue Category</th>\n",
              "      <th>Distance</th>\n",
              "    </tr>\n",
              "  </thead>\n",
              "  <tbody>\n",
              "    <tr>\n",
              "      <th>0</th>\n",
              "      <td>Lal Darwaja</td>\n",
              "      <td>23.02419</td>\n",
              "      <td>72.578556</td>\n",
              "      <td>56fcee27498eef4f589db68f</td>\n",
              "      <td>Pizza Hut</td>\n",
              "      <td>23.032067</td>\n",
              "      <td>72.570223</td>\n",
              "      <td>Pizza Place</td>\n",
              "      <td>1223</td>\n",
              "    </tr>\n",
              "    <tr>\n",
              "      <th>1</th>\n",
              "      <td>Lal Darwaja</td>\n",
              "      <td>23.02419</td>\n",
              "      <td>72.578556</td>\n",
              "      <td>510947c5e4b0c06b6e9fe820</td>\n",
              "      <td>Chef's Pizza</td>\n",
              "      <td>23.026209</td>\n",
              "      <td>72.580739</td>\n",
              "      <td>Pizza Place</td>\n",
              "      <td>317</td>\n",
              "    </tr>\n",
              "    <tr>\n",
              "      <th>2</th>\n",
              "      <td>Lal Darwaja</td>\n",
              "      <td>23.02419</td>\n",
              "      <td>72.578556</td>\n",
              "      <td>5300f3f9498efe1cdbdcc2e0</td>\n",
              "      <td>Pizza Hut Delivery Express</td>\n",
              "      <td>23.031657</td>\n",
              "      <td>72.570516</td>\n",
              "      <td>Pizza Place</td>\n",
              "      <td>1170</td>\n",
              "    </tr>\n",
              "    <tr>\n",
              "      <th>3</th>\n",
              "      <td>Lal Darwaja</td>\n",
              "      <td>23.02419</td>\n",
              "      <td>72.578556</td>\n",
              "      <td>51d31558498eab154179e566</td>\n",
              "      <td>Manek Pizza &amp; Sandwich</td>\n",
              "      <td>23.023835</td>\n",
              "      <td>72.588502</td>\n",
              "      <td>Fast Food Restaurant</td>\n",
              "      <td>1019</td>\n",
              "    </tr>\n",
              "    <tr>\n",
              "      <th>4</th>\n",
              "      <td>Lal Darwaja</td>\n",
              "      <td>23.02419</td>\n",
              "      <td>72.578556</td>\n",
              "      <td>4fd73e73e4b0ed2ec945faa6</td>\n",
              "      <td>Pinky Pizza</td>\n",
              "      <td>23.027697</td>\n",
              "      <td>72.589634</td>\n",
              "      <td>Fast Food Restaurant</td>\n",
              "      <td>1200</td>\n",
              "    </tr>\n",
              "  </tbody>\n",
              "</table>\n",
              "</div>"
            ],
            "text/plain": [
              "  Neighborhood  Neighborhood Latitude  ...        Venue Category Distance\n",
              "0  Lal Darwaja               23.02419  ...           Pizza Place     1223\n",
              "1  Lal Darwaja               23.02419  ...           Pizza Place      317\n",
              "2  Lal Darwaja               23.02419  ...           Pizza Place     1170\n",
              "3  Lal Darwaja               23.02419  ...  Fast Food Restaurant     1019\n",
              "4  Lal Darwaja               23.02419  ...  Fast Food Restaurant     1200\n",
              "\n",
              "[5 rows x 9 columns]"
            ]
          },
          "metadata": {
            "tags": []
          },
          "execution_count": 7
        }
      ]
    },
    {
      "cell_type": "code",
      "metadata": {
        "colab": {
          "base_uri": "https://localhost:8080/",
          "height": 343
        },
        "id": "evWwGXnYEXKh",
        "outputId": "17b65c36-4da7-4243-eba0-478c6e17d589"
      },
      "source": [
        "print(ahmedabad_venues.shape[0])\n",
        "ahmedabad_venues.sort_values(by=['Venue ID','Distance'], ascending=True, inplace=True)\n",
        "ahmedabad_venues.head()"
      ],
      "execution_count": 8,
      "outputs": [
        {
          "output_type": "stream",
          "text": [
            "256\n"
          ],
          "name": "stdout"
        },
        {
          "output_type": "execute_result",
          "data": {
            "text/html": [
              "<div>\n",
              "<style scoped>\n",
              "    .dataframe tbody tr th:only-of-type {\n",
              "        vertical-align: middle;\n",
              "    }\n",
              "\n",
              "    .dataframe tbody tr th {\n",
              "        vertical-align: top;\n",
              "    }\n",
              "\n",
              "    .dataframe thead th {\n",
              "        text-align: right;\n",
              "    }\n",
              "</style>\n",
              "<table border=\"1\" class=\"dataframe\">\n",
              "  <thead>\n",
              "    <tr style=\"text-align: right;\">\n",
              "      <th></th>\n",
              "      <th>Neighborhood</th>\n",
              "      <th>Neighborhood Latitude</th>\n",
              "      <th>Neighborhood Longitude</th>\n",
              "      <th>Venue ID</th>\n",
              "      <th>Venue</th>\n",
              "      <th>Venue Latitude</th>\n",
              "      <th>Venue Longitude</th>\n",
              "      <th>Venue Category</th>\n",
              "      <th>Distance</th>\n",
              "    </tr>\n",
              "  </thead>\n",
              "  <tbody>\n",
              "    <tr>\n",
              "      <th>153</th>\n",
              "      <td>Jodhpur Char Rasta</td>\n",
              "      <td>23.025341</td>\n",
              "      <td>72.527761</td>\n",
              "      <td>4bace359f964a52011163be3</td>\n",
              "      <td>Pizza hut</td>\n",
              "      <td>23.026240</td>\n",
              "      <td>72.529440</td>\n",
              "      <td>Italian Restaurant</td>\n",
              "      <td>199</td>\n",
              "    </tr>\n",
              "    <tr>\n",
              "      <th>183</th>\n",
              "      <td>Azad Society</td>\n",
              "      <td>23.029157</td>\n",
              "      <td>72.532752</td>\n",
              "      <td>4bace359f964a52011163be3</td>\n",
              "      <td>Pizza hut</td>\n",
              "      <td>23.026240</td>\n",
              "      <td>72.529440</td>\n",
              "      <td>Italian Restaurant</td>\n",
              "      <td>469</td>\n",
              "    </tr>\n",
              "    <tr>\n",
              "      <th>158</th>\n",
              "      <td>I I M</td>\n",
              "      <td>23.031270</td>\n",
              "      <td>72.537133</td>\n",
              "      <td>4bace359f964a52011163be3</td>\n",
              "      <td>Pizza hut</td>\n",
              "      <td>23.026240</td>\n",
              "      <td>72.529440</td>\n",
              "      <td>Italian Restaurant</td>\n",
              "      <td>966</td>\n",
              "    </tr>\n",
              "    <tr>\n",
              "      <th>51</th>\n",
              "      <td>Anandnagar (Ahmedabad)</td>\n",
              "      <td>23.016075</td>\n",
              "      <td>72.509295</td>\n",
              "      <td>4bc829dd14d79521b49c68e9</td>\n",
              "      <td>Domino's Pizza</td>\n",
              "      <td>23.024285</td>\n",
              "      <td>72.507111</td>\n",
              "      <td>Pizza Place</td>\n",
              "      <td>940</td>\n",
              "    </tr>\n",
              "    <tr>\n",
              "      <th>42</th>\n",
              "      <td>Anandnagar (Ahmedabad)</td>\n",
              "      <td>23.016075</td>\n",
              "      <td>72.509295</td>\n",
              "      <td>4bd6e2decfa7b7132e3428da</td>\n",
              "      <td>Jasuben pizza</td>\n",
              "      <td>23.015231</td>\n",
              "      <td>72.507146</td>\n",
              "      <td>Pizza Place</td>\n",
              "      <td>239</td>\n",
              "    </tr>\n",
              "  </tbody>\n",
              "</table>\n",
              "</div>"
            ],
            "text/plain": [
              "               Neighborhood  ...  Distance\n",
              "153      Jodhpur Char Rasta  ...       199\n",
              "183            Azad Society  ...       469\n",
              "158                   I I M  ...       966\n",
              "51   Anandnagar (Ahmedabad)  ...       940\n",
              "42   Anandnagar (Ahmedabad)  ...       239\n",
              "\n",
              "[5 rows x 9 columns]"
            ]
          },
          "metadata": {
            "tags": []
          },
          "execution_count": 8
        }
      ]
    },
    {
      "cell_type": "code",
      "metadata": {
        "colab": {
          "base_uri": "https://localhost:8080/",
          "height": 374
        },
        "id": "8S1DCcG1jl81",
        "outputId": "f0ff2a0e-bcc3-4de0-a8f1-d6f55c3d7d1b"
      },
      "source": [
        "ahmedabad_venues[ahmedabad_venues['Venue']=='bon pizza']"
      ],
      "execution_count": 9,
      "outputs": [
        {
          "output_type": "execute_result",
          "data": {
            "text/html": [
              "<div>\n",
              "<style scoped>\n",
              "    .dataframe tbody tr th:only-of-type {\n",
              "        vertical-align: middle;\n",
              "    }\n",
              "\n",
              "    .dataframe tbody tr th {\n",
              "        vertical-align: top;\n",
              "    }\n",
              "\n",
              "    .dataframe thead th {\n",
              "        text-align: right;\n",
              "    }\n",
              "</style>\n",
              "<table border=\"1\" class=\"dataframe\">\n",
              "  <thead>\n",
              "    <tr style=\"text-align: right;\">\n",
              "      <th></th>\n",
              "      <th>Neighborhood</th>\n",
              "      <th>Neighborhood Latitude</th>\n",
              "      <th>Neighborhood Longitude</th>\n",
              "      <th>Venue ID</th>\n",
              "      <th>Venue</th>\n",
              "      <th>Venue Latitude</th>\n",
              "      <th>Venue Longitude</th>\n",
              "      <th>Venue Category</th>\n",
              "      <th>Distance</th>\n",
              "    </tr>\n",
              "  </thead>\n",
              "  <tbody>\n",
              "    <tr>\n",
              "      <th>157</th>\n",
              "      <td>I I M</td>\n",
              "      <td>23.031270</td>\n",
              "      <td>72.537133</td>\n",
              "      <td>541d99c5498e3fbc999faec7</td>\n",
              "      <td>bon pizza</td>\n",
              "      <td>23.030107</td>\n",
              "      <td>72.54184</td>\n",
              "      <td>Pizza Place</td>\n",
              "      <td>499</td>\n",
              "    </tr>\n",
              "    <tr>\n",
              "      <th>181</th>\n",
              "      <td>Polytechnic (Ahmedabad)</td>\n",
              "      <td>23.026577</td>\n",
              "      <td>72.547506</td>\n",
              "      <td>541d99c5498e3fbc999faec7</td>\n",
              "      <td>bon pizza</td>\n",
              "      <td>23.030107</td>\n",
              "      <td>72.54184</td>\n",
              "      <td>Pizza Place</td>\n",
              "      <td>701</td>\n",
              "    </tr>\n",
              "    <tr>\n",
              "      <th>113</th>\n",
              "      <td>Gujarat University</td>\n",
              "      <td>23.037307</td>\n",
              "      <td>72.544748</td>\n",
              "      <td>541d99c5498e3fbc999faec7</td>\n",
              "      <td>bon pizza</td>\n",
              "      <td>23.030107</td>\n",
              "      <td>72.54184</td>\n",
              "      <td>Pizza Place</td>\n",
              "      <td>855</td>\n",
              "    </tr>\n",
              "    <tr>\n",
              "      <th>189</th>\n",
              "      <td>Azad Society</td>\n",
              "      <td>23.029157</td>\n",
              "      <td>72.532752</td>\n",
              "      <td>541d99c5498e3fbc999faec7</td>\n",
              "      <td>bon pizza</td>\n",
              "      <td>23.030107</td>\n",
              "      <td>72.54184</td>\n",
              "      <td>Pizza Place</td>\n",
              "      <td>936</td>\n",
              "    </tr>\n",
              "    <tr>\n",
              "      <th>24</th>\n",
              "      <td>Ambawadi (Ahmedabad)</td>\n",
              "      <td>23.022612</td>\n",
              "      <td>72.549083</td>\n",
              "      <td>541d99c5498e3fbc999faec7</td>\n",
              "      <td>bon pizza</td>\n",
              "      <td>23.030107</td>\n",
              "      <td>72.54184</td>\n",
              "      <td>Pizza Place</td>\n",
              "      <td>1116</td>\n",
              "    </tr>\n",
              "    <tr>\n",
              "      <th>173</th>\n",
              "      <td>Manekbag</td>\n",
              "      <td>23.019342</td>\n",
              "      <td>72.541232</td>\n",
              "      <td>541d99c5498e3fbc999faec7</td>\n",
              "      <td>bon pizza</td>\n",
              "      <td>23.030107</td>\n",
              "      <td>72.54184</td>\n",
              "      <td>Pizza Place</td>\n",
              "      <td>1200</td>\n",
              "    </tr>\n",
              "  </tbody>\n",
              "</table>\n",
              "</div>"
            ],
            "text/plain": [
              "                Neighborhood  Neighborhood Latitude  ...  Venue Category Distance\n",
              "157                    I I M              23.031270  ...     Pizza Place      499\n",
              "181  Polytechnic (Ahmedabad)              23.026577  ...     Pizza Place      701\n",
              "113       Gujarat University              23.037307  ...     Pizza Place      855\n",
              "189             Azad Society              23.029157  ...     Pizza Place      936\n",
              "24      Ambawadi (Ahmedabad)              23.022612  ...     Pizza Place     1116\n",
              "173                 Manekbag              23.019342  ...     Pizza Place     1200\n",
              "\n",
              "[6 rows x 9 columns]"
            ]
          },
          "metadata": {
            "tags": []
          },
          "execution_count": 9
        }
      ]
    },
    {
      "cell_type": "markdown",
      "metadata": {
        "id": "p6YT98Z5FAu-"
      },
      "source": [
        "#### Remove Duplicate Pizza Places Intersecting the Radii of Neighborhoods"
      ]
    },
    {
      "cell_type": "code",
      "metadata": {
        "colab": {
          "base_uri": "https://localhost:8080/",
          "height": 235
        },
        "id": "3azmWdqME658",
        "outputId": "738ca33e-0baf-4727-bb88-9e2608e597d5"
      },
      "source": [
        "duplicates = pd.DataFrame(ahmedabad_venues.groupby(['Venue ID', 'Venue']).count()['Neighborhood']).sort_values(by='Neighborhood', ascending=False)\n",
        "duplicates.head()"
      ],
      "execution_count": 10,
      "outputs": [
        {
          "output_type": "execute_result",
          "data": {
            "text/html": [
              "<div>\n",
              "<style scoped>\n",
              "    .dataframe tbody tr th:only-of-type {\n",
              "        vertical-align: middle;\n",
              "    }\n",
              "\n",
              "    .dataframe tbody tr th {\n",
              "        vertical-align: top;\n",
              "    }\n",
              "\n",
              "    .dataframe thead th {\n",
              "        text-align: right;\n",
              "    }\n",
              "</style>\n",
              "<table border=\"1\" class=\"dataframe\">\n",
              "  <thead>\n",
              "    <tr style=\"text-align: right;\">\n",
              "      <th></th>\n",
              "      <th></th>\n",
              "      <th>Neighborhood</th>\n",
              "    </tr>\n",
              "    <tr>\n",
              "      <th>Venue ID</th>\n",
              "      <th>Venue</th>\n",
              "      <th></th>\n",
              "    </tr>\n",
              "  </thead>\n",
              "  <tbody>\n",
              "    <tr>\n",
              "      <th>4f5ccb33e4b05cfda5d7cbad</th>\n",
              "      <th>Domino's Pizza</th>\n",
              "      <td>6</td>\n",
              "    </tr>\n",
              "    <tr>\n",
              "      <th>561d52eb498ed81f498c4fbe</th>\n",
              "      <th>Domino's Pizza</th>\n",
              "      <td>6</td>\n",
              "    </tr>\n",
              "    <tr>\n",
              "      <th>541d99c5498e3fbc999faec7</th>\n",
              "      <th>bon pizza</th>\n",
              "      <td>6</td>\n",
              "    </tr>\n",
              "    <tr>\n",
              "      <th>5162ba38e4b03d1defd89f4f</th>\n",
              "      <th>Jasuben old pizza</th>\n",
              "      <td>5</td>\n",
              "    </tr>\n",
              "    <tr>\n",
              "      <th>56fcee25498ee94f64c5b967</th>\n",
              "      <th>Pizza Hut</th>\n",
              "      <td>5</td>\n",
              "    </tr>\n",
              "  </tbody>\n",
              "</table>\n",
              "</div>"
            ],
            "text/plain": [
              "                                            Neighborhood\n",
              "Venue ID                 Venue                          \n",
              "4f5ccb33e4b05cfda5d7cbad Domino's Pizza                6\n",
              "561d52eb498ed81f498c4fbe Domino's Pizza                6\n",
              "541d99c5498e3fbc999faec7 bon pizza                     6\n",
              "5162ba38e4b03d1defd89f4f Jasuben old pizza             5\n",
              "56fcee25498ee94f64c5b967 Pizza Hut                     5"
            ]
          },
          "metadata": {
            "tags": []
          },
          "execution_count": 10
        }
      ]
    },
    {
      "cell_type": "code",
      "metadata": {
        "colab": {
          "base_uri": "https://localhost:8080/",
          "height": 388
        },
        "id": "IimGzaiHFfwx",
        "outputId": "f574ce72-f7e3-4dce-800e-c13f3df77410"
      },
      "source": [
        "ahmedabad_venues.drop_duplicates(subset=['Venue ID'], keep='first', inplace=True)\n",
        "print(ahmedabad_venues.shape[0])\n",
        "print(ahmedabad_venues['Neighborhood'].unique())\n",
        "duplicates = pd.DataFrame(ahmedabad_venues.groupby(['Venue ID', 'Venue']).count()['Neighborhood']).sort_values(by='Neighborhood', ascending=False)\n",
        "duplicates.head()"
      ],
      "execution_count": 11,
      "outputs": [
        {
          "output_type": "stream",
          "text": [
            "120\n",
            "['Jodhpur Char Rasta' 'Anandnagar (Ahmedabad)' 'Ambawadi (Ahmedabad)'\n",
            " 'Memnagar' 'Navrangpura' 'Maninagar' 'Bodakdev'\n",
            " 'Shastrinagar (Ahmedabad)' 'Azad Society' 'Narayannagar'\n",
            " 'Gujarat University' 'Bopal' 'Shardanagar' 'Gandhi Ashram (Ahmedabad)'\n",
            " 'I I M' 'Darpan Society' 'Polytechnic (Ahmedabad)' 'Ghatlodia'\n",
            " 'Manek Chowk' 'Motera' 'Jawahar Chowk' 'Paldi (Ahmedabad)' 'Shahibag'\n",
            " 'Lal Darwaja' 'Ashram Road' 'Manekbag' 'Stadium Marg' 'Thaltej'\n",
            " 'Gita Mandir Road' 'Ghuma' 'Juhapura' 'Thaltej Road']\n"
          ],
          "name": "stdout"
        },
        {
          "output_type": "execute_result",
          "data": {
            "text/html": [
              "<div>\n",
              "<style scoped>\n",
              "    .dataframe tbody tr th:only-of-type {\n",
              "        vertical-align: middle;\n",
              "    }\n",
              "\n",
              "    .dataframe tbody tr th {\n",
              "        vertical-align: top;\n",
              "    }\n",
              "\n",
              "    .dataframe thead th {\n",
              "        text-align: right;\n",
              "    }\n",
              "</style>\n",
              "<table border=\"1\" class=\"dataframe\">\n",
              "  <thead>\n",
              "    <tr style=\"text-align: right;\">\n",
              "      <th></th>\n",
              "      <th></th>\n",
              "      <th>Neighborhood</th>\n",
              "    </tr>\n",
              "    <tr>\n",
              "      <th>Venue ID</th>\n",
              "      <th>Venue</th>\n",
              "      <th></th>\n",
              "    </tr>\n",
              "  </thead>\n",
              "  <tbody>\n",
              "    <tr>\n",
              "      <th>4bace359f964a52011163be3</th>\n",
              "      <th>Pizza hut</th>\n",
              "      <td>1</td>\n",
              "    </tr>\n",
              "    <tr>\n",
              "      <th>4bc829dd14d79521b49c68e9</th>\n",
              "      <th>Domino's Pizza</th>\n",
              "      <td>1</td>\n",
              "    </tr>\n",
              "    <tr>\n",
              "      <th>5319778a498e2932f30def4b</th>\n",
              "      <th>Neopolitan Pizza</th>\n",
              "      <td>1</td>\n",
              "    </tr>\n",
              "    <tr>\n",
              "      <th>530e081011d20a35828c5200</th>\n",
              "      <th>Pizza Hut</th>\n",
              "      <td>1</td>\n",
              "    </tr>\n",
              "    <tr>\n",
              "      <th>5300f3f9498efe1cdbdcc2e0</th>\n",
              "      <th>Pizza Hut Delivery Express</th>\n",
              "      <td>1</td>\n",
              "    </tr>\n",
              "  </tbody>\n",
              "</table>\n",
              "</div>"
            ],
            "text/plain": [
              "                                                     Neighborhood\n",
              "Venue ID                 Venue                                   \n",
              "4bace359f964a52011163be3 Pizza hut                              1\n",
              "4bc829dd14d79521b49c68e9 Domino's Pizza                         1\n",
              "5319778a498e2932f30def4b Neopolitan Pizza                       1\n",
              "530e081011d20a35828c5200 Pizza Hut                              1\n",
              "5300f3f9498efe1cdbdcc2e0 Pizza Hut Delivery Express             1"
            ]
          },
          "metadata": {
            "tags": []
          },
          "execution_count": 11
        }
      ]
    },
    {
      "cell_type": "markdown",
      "metadata": {
        "id": "est_Hqr2HTZQ"
      },
      "source": [
        "### Check if Multiple Branches Are Classified Into Different Venue Categories"
      ]
    },
    {
      "cell_type": "code",
      "metadata": {
        "colab": {
          "base_uri": "https://localhost:8080/",
          "height": 514
        },
        "id": "CJ7nzi2SG2bw",
        "outputId": "2a7cda2d-cc85-4872-90e9-354dfac998fd"
      },
      "source": [
        "branches_df = pd.DataFrame(ahmedabad_venues.groupby(['Venue']).count().sort_values(by='Neighborhood', ascending=False)['Neighborhood'])\n",
        "branches_df.reset_index(inplace=True)\n",
        "branches_df.rename(columns={'Neighborhood':'Count'}, inplace=True)\n",
        "branches_df.head(15)"
      ],
      "execution_count": 12,
      "outputs": [
        {
          "output_type": "execute_result",
          "data": {
            "text/html": [
              "<div>\n",
              "<style scoped>\n",
              "    .dataframe tbody tr th:only-of-type {\n",
              "        vertical-align: middle;\n",
              "    }\n",
              "\n",
              "    .dataframe tbody tr th {\n",
              "        vertical-align: top;\n",
              "    }\n",
              "\n",
              "    .dataframe thead th {\n",
              "        text-align: right;\n",
              "    }\n",
              "</style>\n",
              "<table border=\"1\" class=\"dataframe\">\n",
              "  <thead>\n",
              "    <tr style=\"text-align: right;\">\n",
              "      <th></th>\n",
              "      <th>Venue</th>\n",
              "      <th>Count</th>\n",
              "    </tr>\n",
              "  </thead>\n",
              "  <tbody>\n",
              "    <tr>\n",
              "      <th>0</th>\n",
              "      <td>Domino's Pizza</td>\n",
              "      <td>18</td>\n",
              "    </tr>\n",
              "    <tr>\n",
              "      <th>1</th>\n",
              "      <td>Pizza Hut</td>\n",
              "      <td>9</td>\n",
              "    </tr>\n",
              "    <tr>\n",
              "      <th>2</th>\n",
              "      <td>U S Pizza</td>\n",
              "      <td>6</td>\n",
              "    </tr>\n",
              "    <tr>\n",
              "      <th>3</th>\n",
              "      <td>Pizza Zone</td>\n",
              "      <td>3</td>\n",
              "    </tr>\n",
              "    <tr>\n",
              "      <th>4</th>\n",
              "      <td>La Pino's Pizza</td>\n",
              "      <td>2</td>\n",
              "    </tr>\n",
              "    <tr>\n",
              "      <th>5</th>\n",
              "      <td>Pizza World</td>\n",
              "      <td>2</td>\n",
              "    </tr>\n",
              "    <tr>\n",
              "      <th>6</th>\n",
              "      <td>Enjoy Pizza</td>\n",
              "      <td>2</td>\n",
              "    </tr>\n",
              "    <tr>\n",
              "      <th>7</th>\n",
              "      <td>Sam's Pizza</td>\n",
              "      <td>2</td>\n",
              "    </tr>\n",
              "    <tr>\n",
              "      <th>8</th>\n",
              "      <td>Pizza Americano</td>\n",
              "      <td>2</td>\n",
              "    </tr>\n",
              "    <tr>\n",
              "      <th>9</th>\n",
              "      <td>Pomos Pizza</td>\n",
              "      <td>1</td>\n",
              "    </tr>\n",
              "    <tr>\n",
              "      <th>10</th>\n",
              "      <td>The Pizza Hub</td>\n",
              "      <td>1</td>\n",
              "    </tr>\n",
              "    <tr>\n",
              "      <th>11</th>\n",
              "      <td>Shree Shankar Pizza</td>\n",
              "      <td>1</td>\n",
              "    </tr>\n",
              "    <tr>\n",
              "      <th>12</th>\n",
              "      <td>Shakti Parlour</td>\n",
              "      <td>1</td>\n",
              "    </tr>\n",
              "    <tr>\n",
              "      <th>13</th>\n",
              "      <td>Red Chili Pizza</td>\n",
              "      <td>1</td>\n",
              "    </tr>\n",
              "    <tr>\n",
              "      <th>14</th>\n",
              "      <td>Quick Pick  Sam Pizza</td>\n",
              "      <td>1</td>\n",
              "    </tr>\n",
              "  </tbody>\n",
              "</table>\n",
              "</div>"
            ],
            "text/plain": [
              "                    Venue  Count\n",
              "0          Domino's Pizza     18\n",
              "1               Pizza Hut      9\n",
              "2               U S Pizza      6\n",
              "3              Pizza Zone      3\n",
              "4         La Pino's Pizza      2\n",
              "5             Pizza World      2\n",
              "6             Enjoy Pizza      2\n",
              "7             Sam's Pizza      2\n",
              "8         Pizza Americano      2\n",
              "9             Pomos Pizza      1\n",
              "10          The Pizza Hub      1\n",
              "11    Shree Shankar Pizza      1\n",
              "12         Shakti Parlour      1\n",
              "13        Red Chili Pizza      1\n",
              "14  Quick Pick  Sam Pizza      1"
            ]
          },
          "metadata": {
            "tags": []
          },
          "execution_count": 12
        }
      ]
    },
    {
      "cell_type": "code",
      "metadata": {
        "id": "u-v4ngViHXnF"
      },
      "source": [
        "temp_df = ahmedabad_venues.groupby(['Venue', 'Venue Category']).count()\n",
        "temp_df.reset_index(inplace=True)\n",
        "cols = ['Venue','Category List']\n",
        "\n",
        "multi_cat = []\n",
        "for branch in range(len(branches_df)): \n",
        "    lst = []\n",
        "    lst = temp_df.loc[temp_df['Venue'].str.contains(temp_df.loc[branch]['Venue'], case=False)]['Venue Category'].unique()\n",
        "    if len(lst) > 1:\n",
        "        multi_cat.append([temp_df.loc[branch]['Venue'], lst])\n",
        "multi_cat = pd.DataFrame(multi_cat, columns=cols)\n",
        "multi_cat.drop_duplicates(subset=['Venue'], keep='last', inplace=True)\n",
        "multi_cat.reset_index(inplace=True)\n",
        "multi_cat.drop('index', inplace=True, axis=1)"
      ],
      "execution_count": 13,
      "outputs": []
    },
    {
      "cell_type": "code",
      "metadata": {
        "colab": {
          "base_uri": "https://localhost:8080/",
          "height": 297
        },
        "id": "5aFpeiq8Mc2I",
        "outputId": "deda6edb-4f5a-41b2-d42c-a3c8e412a3e7"
      },
      "source": [
        "multi_cat"
      ],
      "execution_count": 14,
      "outputs": [
        {
          "output_type": "execute_result",
          "data": {
            "text/html": [
              "<div>\n",
              "<style scoped>\n",
              "    .dataframe tbody tr th:only-of-type {\n",
              "        vertical-align: middle;\n",
              "    }\n",
              "\n",
              "    .dataframe tbody tr th {\n",
              "        vertical-align: top;\n",
              "    }\n",
              "\n",
              "    .dataframe thead th {\n",
              "        text-align: right;\n",
              "    }\n",
              "</style>\n",
              "<table border=\"1\" class=\"dataframe\">\n",
              "  <thead>\n",
              "    <tr style=\"text-align: right;\">\n",
              "      <th></th>\n",
              "      <th>Venue</th>\n",
              "      <th>Category List</th>\n",
              "    </tr>\n",
              "  </thead>\n",
              "  <tbody>\n",
              "    <tr>\n",
              "      <th>0</th>\n",
              "      <td>Bon pizza</td>\n",
              "      <td>[Food Truck, Pizza Place]</td>\n",
              "    </tr>\n",
              "    <tr>\n",
              "      <th>1</th>\n",
              "      <td>Enjoy Pizza</td>\n",
              "      <td>[Italian Restaurant, Pizza Place]</td>\n",
              "    </tr>\n",
              "    <tr>\n",
              "      <th>2</th>\n",
              "      <td>Pizza Hut</td>\n",
              "      <td>[Pizza Place, Italian Restaurant]</td>\n",
              "    </tr>\n",
              "    <tr>\n",
              "      <th>3</th>\n",
              "      <td>Pizza hut</td>\n",
              "      <td>[Pizza Place, Italian Restaurant]</td>\n",
              "    </tr>\n",
              "    <tr>\n",
              "      <th>4</th>\n",
              "      <td>U S Pizza</td>\n",
              "      <td>[Italian Restaurant, Pizza Place]</td>\n",
              "    </tr>\n",
              "    <tr>\n",
              "      <th>5</th>\n",
              "      <td>U.S Pizza</td>\n",
              "      <td>[Italian Restaurant, Pizza Place]</td>\n",
              "    </tr>\n",
              "    <tr>\n",
              "      <th>6</th>\n",
              "      <td>U.S.Pizza</td>\n",
              "      <td>[Italian Restaurant, Pizza Place]</td>\n",
              "    </tr>\n",
              "    <tr>\n",
              "      <th>7</th>\n",
              "      <td>bon pizza</td>\n",
              "      <td>[Food Truck, Pizza Place]</td>\n",
              "    </tr>\n",
              "  </tbody>\n",
              "</table>\n",
              "</div>"
            ],
            "text/plain": [
              "         Venue                      Category List\n",
              "0    Bon pizza          [Food Truck, Pizza Place]\n",
              "1  Enjoy Pizza  [Italian Restaurant, Pizza Place]\n",
              "2    Pizza Hut  [Pizza Place, Italian Restaurant]\n",
              "3    Pizza hut  [Pizza Place, Italian Restaurant]\n",
              "4    U S Pizza  [Italian Restaurant, Pizza Place]\n",
              "5    U.S Pizza  [Italian Restaurant, Pizza Place]\n",
              "6    U.S.Pizza  [Italian Restaurant, Pizza Place]\n",
              "7    bon pizza          [Food Truck, Pizza Place]"
            ]
          },
          "metadata": {
            "tags": []
          },
          "execution_count": 14
        }
      ]
    },
    {
      "cell_type": "markdown",
      "metadata": {
        "id": "EeiUGyz0ICD3"
      },
      "source": [
        "#### Classify Each of the Branches Identified Above Into Uniform Category"
      ]
    },
    {
      "cell_type": "code",
      "metadata": {
        "id": "KLvlyCHrHi3s"
      },
      "source": [
        "for v in range(len(multi_cat)):\n",
        "  ahmedabad_venues.loc[ahmedabad_venues['Venue'].str.contains(multi_cat.loc[v, 'Venue'], case=False), 'Venue Category'] = 'Pizza Place'"
      ],
      "execution_count": 15,
      "outputs": []
    },
    {
      "cell_type": "markdown",
      "metadata": {
        "id": "ttYbDSGSOSBK"
      },
      "source": [
        "#### Check various other categories that also serves pizzas"
      ]
    },
    {
      "cell_type": "code",
      "metadata": {
        "colab": {
          "base_uri": "https://localhost:8080/"
        },
        "id": "7jjqi0JvOZbg",
        "outputId": "455ab645-9b69-410f-b64e-ee19866353fa"
      },
      "source": [
        "ahmedabad_venues['Venue Category'].unique()"
      ],
      "execution_count": 16,
      "outputs": [
        {
          "output_type": "execute_result",
          "data": {
            "text/plain": [
              "array(['Pizza Place', 'Arcade', 'Asian Restaurant', 'Sandwich Place',\n",
              "       'Fast Food Restaurant', 'Italian Restaurant', 'Food Truck'],\n",
              "      dtype=object)"
            ]
          },
          "metadata": {
            "tags": []
          },
          "execution_count": 16
        }
      ]
    },
    {
      "cell_type": "markdown",
      "metadata": {
        "id": "Q6t0usHuOgdl"
      },
      "source": [
        "#### Check out the places classified as Italian Restaurant"
      ]
    },
    {
      "cell_type": "code",
      "metadata": {
        "colab": {
          "base_uri": "https://localhost:8080/",
          "height": 247
        },
        "id": "gIzcyX9AJB1B",
        "outputId": "a37bef0a-fae3-440d-e80b-a0b1beb81a02"
      },
      "source": [
        "ahmedabad_venues[ahmedabad_venues['Venue Category']== 'Italian Restaurant']"
      ],
      "execution_count": 17,
      "outputs": [
        {
          "output_type": "execute_result",
          "data": {
            "text/html": [
              "<div>\n",
              "<style scoped>\n",
              "    .dataframe tbody tr th:only-of-type {\n",
              "        vertical-align: middle;\n",
              "    }\n",
              "\n",
              "    .dataframe tbody tr th {\n",
              "        vertical-align: top;\n",
              "    }\n",
              "\n",
              "    .dataframe thead th {\n",
              "        text-align: right;\n",
              "    }\n",
              "</style>\n",
              "<table border=\"1\" class=\"dataframe\">\n",
              "  <thead>\n",
              "    <tr style=\"text-align: right;\">\n",
              "      <th></th>\n",
              "      <th>Neighborhood</th>\n",
              "      <th>Neighborhood Latitude</th>\n",
              "      <th>Neighborhood Longitude</th>\n",
              "      <th>Venue ID</th>\n",
              "      <th>Venue</th>\n",
              "      <th>Venue Latitude</th>\n",
              "      <th>Venue Longitude</th>\n",
              "      <th>Venue Category</th>\n",
              "      <th>Distance</th>\n",
              "    </tr>\n",
              "  </thead>\n",
              "  <tbody>\n",
              "    <tr>\n",
              "      <th>78</th>\n",
              "      <td>Maninagar</td>\n",
              "      <td>22.997713</td>\n",
              "      <td>72.606717</td>\n",
              "      <td>5219ce4111d27a09b610db33</td>\n",
              "      <td>Italiano Pizza</td>\n",
              "      <td>23.001574</td>\n",
              "      <td>72.603958</td>\n",
              "      <td>Italian Restaurant</td>\n",
              "      <td>514</td>\n",
              "    </tr>\n",
              "    <tr>\n",
              "      <th>49</th>\n",
              "      <td>Anandnagar (Ahmedabad)</td>\n",
              "      <td>23.016075</td>\n",
              "      <td>72.509295</td>\n",
              "      <td>55a7464b498e5be6be14f99c</td>\n",
              "      <td>Pizza shop test</td>\n",
              "      <td>23.006515</td>\n",
              "      <td>72.506740</td>\n",
              "      <td>Italian Restaurant</td>\n",
              "      <td>1095</td>\n",
              "    </tr>\n",
              "    <tr>\n",
              "      <th>93</th>\n",
              "      <td>Darpan Society</td>\n",
              "      <td>23.046712</td>\n",
              "      <td>72.553567</td>\n",
              "      <td>58e11ad50acb6a21e3503442</td>\n",
              "      <td>Madro's Pizza</td>\n",
              "      <td>23.043184</td>\n",
              "      <td>72.550020</td>\n",
              "      <td>Italian Restaurant</td>\n",
              "      <td>535</td>\n",
              "    </tr>\n",
              "  </tbody>\n",
              "</table>\n",
              "</div>"
            ],
            "text/plain": [
              "              Neighborhood  Neighborhood Latitude  ...      Venue Category Distance\n",
              "78               Maninagar              22.997713  ...  Italian Restaurant      514\n",
              "49  Anandnagar (Ahmedabad)              23.016075  ...  Italian Restaurant     1095\n",
              "93          Darpan Society              23.046712  ...  Italian Restaurant      535\n",
              "\n",
              "[3 rows x 9 columns]"
            ]
          },
          "metadata": {
            "tags": []
          },
          "execution_count": 17
        }
      ]
    },
    {
      "cell_type": "markdown",
      "metadata": {
        "id": "XiL18b1cOr6C"
      },
      "source": [
        "The above places classified as Italian Restaurants can be classified as a Pizza Place"
      ]
    },
    {
      "cell_type": "code",
      "metadata": {
        "colab": {
          "base_uri": "https://localhost:8080/"
        },
        "id": "bUoeGWTYNn9E",
        "outputId": "503ea5d3-4313-45a4-8498-205cfcd99314"
      },
      "source": [
        "ahmedabad_venues['Venue Category'] = ahmedabad_venues['Venue Category'].replace(['Italian Restaurant'],['Pizza Place'])\n",
        "ahmedabad_venues['Venue Category'].unique()"
      ],
      "execution_count": 18,
      "outputs": [
        {
          "output_type": "execute_result",
          "data": {
            "text/plain": [
              "array(['Pizza Place', 'Arcade', 'Asian Restaurant', 'Sandwich Place',\n",
              "       'Fast Food Restaurant', 'Food Truck'], dtype=object)"
            ]
          },
          "metadata": {
            "tags": []
          },
          "execution_count": 18
        }
      ]
    },
    {
      "cell_type": "markdown",
      "metadata": {
        "id": "RjLKkbCPPkMM"
      },
      "source": [
        "#### Check out the places classified as Asian Restaurant"
      ]
    },
    {
      "cell_type": "code",
      "metadata": {
        "colab": {
          "base_uri": "https://localhost:8080/",
          "height": 134
        },
        "id": "zY1l04iUPZzi",
        "outputId": "d06b6e58-7b71-4a6e-e006-bd2fcc741ceb"
      },
      "source": [
        "ahmedabad_venues[ahmedabad_venues['Venue Category']== 'Asian Restaurant']"
      ],
      "execution_count": 19,
      "outputs": [
        {
          "output_type": "execute_result",
          "data": {
            "text/html": [
              "<div>\n",
              "<style scoped>\n",
              "    .dataframe tbody tr th:only-of-type {\n",
              "        vertical-align: middle;\n",
              "    }\n",
              "\n",
              "    .dataframe tbody tr th {\n",
              "        vertical-align: top;\n",
              "    }\n",
              "\n",
              "    .dataframe thead th {\n",
              "        text-align: right;\n",
              "    }\n",
              "</style>\n",
              "<table border=\"1\" class=\"dataframe\">\n",
              "  <thead>\n",
              "    <tr style=\"text-align: right;\">\n",
              "      <th></th>\n",
              "      <th>Neighborhood</th>\n",
              "      <th>Neighborhood Latitude</th>\n",
              "      <th>Neighborhood Longitude</th>\n",
              "      <th>Venue ID</th>\n",
              "      <th>Venue</th>\n",
              "      <th>Venue Latitude</th>\n",
              "      <th>Venue Longitude</th>\n",
              "      <th>Venue Category</th>\n",
              "      <th>Distance</th>\n",
              "    </tr>\n",
              "  </thead>\n",
              "  <tbody>\n",
              "    <tr>\n",
              "      <th>67</th>\n",
              "      <td>Narayannagar</td>\n",
              "      <td>22.997826</td>\n",
              "      <td>72.560115</td>\n",
              "      <td>4e0f3266d4c0f6d6b4014bfa</td>\n",
              "      <td>Pizzaiolo</td>\n",
              "      <td>23.003846</td>\n",
              "      <td>72.558785</td>\n",
              "      <td>Asian Restaurant</td>\n",
              "      <td>683</td>\n",
              "    </tr>\n",
              "  </tbody>\n",
              "</table>\n",
              "</div>"
            ],
            "text/plain": [
              "    Neighborhood  Neighborhood Latitude  ...    Venue Category Distance\n",
              "67  Narayannagar              22.997826  ...  Asian Restaurant      683\n",
              "\n",
              "[1 rows x 9 columns]"
            ]
          },
          "metadata": {
            "tags": []
          },
          "execution_count": 19
        }
      ]
    },
    {
      "cell_type": "markdown",
      "metadata": {
        "id": "FgaHhFELP3X4"
      },
      "source": [
        "The above place classified as Asian Restaurant can be classified as a Pizza Place"
      ]
    },
    {
      "cell_type": "code",
      "metadata": {
        "colab": {
          "base_uri": "https://localhost:8080/"
        },
        "id": "IpIeG_FZPtTz",
        "outputId": "abea861e-48d2-411a-801e-fcbb8d6bddc2"
      },
      "source": [
        "ahmedabad_venues['Venue Category'] = ahmedabad_venues['Venue Category'].replace(['Asian Restaurant'],['Pizza Place'])\n",
        "ahmedabad_venues['Venue Category'].unique()"
      ],
      "execution_count": 20,
      "outputs": [
        {
          "output_type": "execute_result",
          "data": {
            "text/plain": [
              "array(['Pizza Place', 'Arcade', 'Sandwich Place', 'Fast Food Restaurant',\n",
              "       'Food Truck'], dtype=object)"
            ]
          },
          "metadata": {
            "tags": []
          },
          "execution_count": 20
        }
      ]
    },
    {
      "cell_type": "markdown",
      "metadata": {
        "id": "fGubYx5nRb2V"
      },
      "source": [
        "#### Check the Rest of The Categories"
      ]
    },
    {
      "cell_type": "code",
      "metadata": {
        "colab": {
          "base_uri": "https://localhost:8080/",
          "height": 832
        },
        "id": "fIuKp2gLQJU1",
        "outputId": "82a19454-cd24-4373-dc49-ce5b4bf5383a"
      },
      "source": [
        "ahmedabad_venues[ahmedabad_venues['Venue Category'].isin(['Fast Food Restaurant', 'Sandwich Place', 'Food Truck', 'Arcade'])]"
      ],
      "execution_count": 21,
      "outputs": [
        {
          "output_type": "execute_result",
          "data": {
            "text/html": [
              "<div>\n",
              "<style scoped>\n",
              "    .dataframe tbody tr th:only-of-type {\n",
              "        vertical-align: middle;\n",
              "    }\n",
              "\n",
              "    .dataframe tbody tr th {\n",
              "        vertical-align: top;\n",
              "    }\n",
              "\n",
              "    .dataframe thead th {\n",
              "        text-align: right;\n",
              "    }\n",
              "</style>\n",
              "<table border=\"1\" class=\"dataframe\">\n",
              "  <thead>\n",
              "    <tr style=\"text-align: right;\">\n",
              "      <th></th>\n",
              "      <th>Neighborhood</th>\n",
              "      <th>Neighborhood Latitude</th>\n",
              "      <th>Neighborhood Longitude</th>\n",
              "      <th>Venue ID</th>\n",
              "      <th>Venue</th>\n",
              "      <th>Venue Latitude</th>\n",
              "      <th>Venue Longitude</th>\n",
              "      <th>Venue Category</th>\n",
              "      <th>Distance</th>\n",
              "    </tr>\n",
              "  </thead>\n",
              "  <tbody>\n",
              "    <tr>\n",
              "      <th>147</th>\n",
              "      <td>Shastrinagar (Ahmedabad)</td>\n",
              "      <td>23.062423</td>\n",
              "      <td>72.553180</td>\n",
              "      <td>4d033bf0e8d85941b2dc2ca6</td>\n",
              "      <td>pizza , 36 types of salad</td>\n",
              "      <td>23.061747</td>\n",
              "      <td>72.553174</td>\n",
              "      <td>Arcade</td>\n",
              "      <td>75</td>\n",
              "    </tr>\n",
              "    <tr>\n",
              "      <th>236</th>\n",
              "      <td>Bopal</td>\n",
              "      <td>23.029699</td>\n",
              "      <td>72.465579</td>\n",
              "      <td>4f770248e4b042108253cc98</td>\n",
              "      <td>Amul Sandwich &amp; Pizza</td>\n",
              "      <td>23.029089</td>\n",
              "      <td>72.477398</td>\n",
              "      <td>Sandwich Place</td>\n",
              "      <td>1212</td>\n",
              "    </tr>\n",
              "    <tr>\n",
              "      <th>9</th>\n",
              "      <td>Manek Chowk</td>\n",
              "      <td>23.023180</td>\n",
              "      <td>72.588952</td>\n",
              "      <td>4fd73e73e4b0ed2ec945faa6</td>\n",
              "      <td>Pinky Pizza</td>\n",
              "      <td>23.027697</td>\n",
              "      <td>72.589634</td>\n",
              "      <td>Fast Food Restaurant</td>\n",
              "      <td>507</td>\n",
              "    </tr>\n",
              "    <tr>\n",
              "      <th>205</th>\n",
              "      <td>Memnagar</td>\n",
              "      <td>23.053084</td>\n",
              "      <td>72.532931</td>\n",
              "      <td>50e5b0b9e4b08bda3081f822</td>\n",
              "      <td>Amul Sandwich And Pizza</td>\n",
              "      <td>23.046270</td>\n",
              "      <td>72.530069</td>\n",
              "      <td>Sandwich Place</td>\n",
              "      <td>813</td>\n",
              "    </tr>\n",
              "    <tr>\n",
              "      <th>57</th>\n",
              "      <td>Shardanagar</td>\n",
              "      <td>23.011190</td>\n",
              "      <td>72.552575</td>\n",
              "      <td>513a0b59e4b0a4dac98fd3fb</td>\n",
              "      <td>Modi Sandwich &amp; Pizza</td>\n",
              "      <td>23.006339</td>\n",
              "      <td>72.556463</td>\n",
              "      <td>Fast Food Restaurant</td>\n",
              "      <td>670</td>\n",
              "    </tr>\n",
              "    <tr>\n",
              "      <th>86</th>\n",
              "      <td>Ashram Road</td>\n",
              "      <td>23.026694</td>\n",
              "      <td>72.571078</td>\n",
              "      <td>5162ba38e4b03d1defd89f4f</td>\n",
              "      <td>Jasuben old pizza</td>\n",
              "      <td>23.025290</td>\n",
              "      <td>72.560610</td>\n",
              "      <td>Fast Food Restaurant</td>\n",
              "      <td>1083</td>\n",
              "    </tr>\n",
              "    <tr>\n",
              "      <th>12</th>\n",
              "      <td>Manek Chowk</td>\n",
              "      <td>23.023180</td>\n",
              "      <td>72.588952</td>\n",
              "      <td>51b22415498efb02c2f3e348</td>\n",
              "      <td>Shakti Parlour</td>\n",
              "      <td>23.026856</td>\n",
              "      <td>72.588710</td>\n",
              "      <td>Sandwich Place</td>\n",
              "      <td>410</td>\n",
              "    </tr>\n",
              "    <tr>\n",
              "      <th>8</th>\n",
              "      <td>Manek Chowk</td>\n",
              "      <td>23.023180</td>\n",
              "      <td>72.588952</td>\n",
              "      <td>51c43efd498ec4d1ef2a0422</td>\n",
              "      <td>Amrut Sandwich &amp; Pizza</td>\n",
              "      <td>23.021963</td>\n",
              "      <td>72.589807</td>\n",
              "      <td>Sandwich Place</td>\n",
              "      <td>161</td>\n",
              "    </tr>\n",
              "    <tr>\n",
              "      <th>7</th>\n",
              "      <td>Manek Chowk</td>\n",
              "      <td>23.023180</td>\n",
              "      <td>72.588952</td>\n",
              "      <td>51d31558498eab154179e566</td>\n",
              "      <td>Manek Pizza &amp; Sandwich</td>\n",
              "      <td>23.023835</td>\n",
              "      <td>72.588502</td>\n",
              "      <td>Fast Food Restaurant</td>\n",
              "      <td>86</td>\n",
              "    </tr>\n",
              "    <tr>\n",
              "      <th>58</th>\n",
              "      <td>Shardanagar</td>\n",
              "      <td>23.011190</td>\n",
              "      <td>72.552575</td>\n",
              "      <td>52adbc8511d283579275dcec</td>\n",
              "      <td>Aman Pizza and Sandwich</td>\n",
              "      <td>23.005728</td>\n",
              "      <td>72.555486</td>\n",
              "      <td>Sandwich Place</td>\n",
              "      <td>677</td>\n",
              "    </tr>\n",
              "    <tr>\n",
              "      <th>99</th>\n",
              "      <td>Darpan Society</td>\n",
              "      <td>23.046712</td>\n",
              "      <td>72.553567</td>\n",
              "      <td>52d3fede11d2c208340494c0</td>\n",
              "      <td>Fresco Pizza</td>\n",
              "      <td>23.038984</td>\n",
              "      <td>72.553494</td>\n",
              "      <td>Food Truck</td>\n",
              "      <td>860</td>\n",
              "    </tr>\n",
              "    <tr>\n",
              "      <th>81</th>\n",
              "      <td>Maninagar</td>\n",
              "      <td>22.997713</td>\n",
              "      <td>72.606717</td>\n",
              "      <td>5df8e273e2044300084fe49d</td>\n",
              "      <td>Woody Jhone’s Pizza</td>\n",
              "      <td>23.002246</td>\n",
              "      <td>72.599542</td>\n",
              "      <td>Fast Food Restaurant</td>\n",
              "      <td>891</td>\n",
              "    </tr>\n",
              "  </tbody>\n",
              "</table>\n",
              "</div>"
            ],
            "text/plain": [
              "                 Neighborhood  ...  Distance\n",
              "147  Shastrinagar (Ahmedabad)  ...        75\n",
              "236                     Bopal  ...      1212\n",
              "9                 Manek Chowk  ...       507\n",
              "205                  Memnagar  ...       813\n",
              "57                Shardanagar  ...       670\n",
              "86                Ashram Road  ...      1083\n",
              "12                Manek Chowk  ...       410\n",
              "8                 Manek Chowk  ...       161\n",
              "7                 Manek Chowk  ...        86\n",
              "58                Shardanagar  ...       677\n",
              "99             Darpan Society  ...       860\n",
              "81                  Maninagar  ...       891\n",
              "\n",
              "[12 rows x 9 columns]"
            ]
          },
          "metadata": {
            "tags": []
          },
          "execution_count": 21
        }
      ]
    },
    {
      "cell_type": "markdown",
      "metadata": {
        "id": "AzBMO43XRstZ"
      },
      "source": [
        "Classify the rest of the categories into Pizza Place"
      ]
    },
    {
      "cell_type": "code",
      "metadata": {
        "colab": {
          "base_uri": "https://localhost:8080/"
        },
        "id": "jlrgCmVWQeZn",
        "outputId": "2032835b-fba7-46d2-e759-ea5951b98cae"
      },
      "source": [
        "ahmedabad_venues['Venue Category'] = ahmedabad_venues['Venue Category'].replace(['Fast Food Restaurant', 'Sandwich Place', 'Food Truck', 'Arcade'],'Pizza Place')\n",
        "ahmedabad_venues['Venue Category'].unique()"
      ],
      "execution_count": 22,
      "outputs": [
        {
          "output_type": "execute_result",
          "data": {
            "text/plain": [
              "array(['Pizza Place'], dtype=object)"
            ]
          },
          "metadata": {
            "tags": []
          },
          "execution_count": 22
        }
      ]
    },
    {
      "cell_type": "markdown",
      "metadata": {
        "id": "E8s_hJ9uTO7o"
      },
      "source": [
        "### Plot Neighborhood Wise Count Of Pizza Places That Serve Some Kind Of Pizza"
      ]
    },
    {
      "cell_type": "code",
      "metadata": {
        "colab": {
          "base_uri": "https://localhost:8080/",
          "height": 1000
        },
        "id": "sSsnWLjRR2yh",
        "outputId": "9bc5352a-df51-4a57-939a-26be99e64383"
      },
      "source": [
        "neighborhood_count = pd.DataFrame(ahmedabad_venues.groupby('Neighborhood').count()['Venue'])\n",
        "neighborhood_count.sort_values(by='Venue', ascending=False, inplace=True)\n",
        "neighborhood_count.reset_index(inplace=True)\n",
        "neighborhood_count"
      ],
      "execution_count": 23,
      "outputs": [
        {
          "output_type": "execute_result",
          "data": {
            "text/html": [
              "<div>\n",
              "<style scoped>\n",
              "    .dataframe tbody tr th:only-of-type {\n",
              "        vertical-align: middle;\n",
              "    }\n",
              "\n",
              "    .dataframe tbody tr th {\n",
              "        vertical-align: top;\n",
              "    }\n",
              "\n",
              "    .dataframe thead th {\n",
              "        text-align: right;\n",
              "    }\n",
              "</style>\n",
              "<table border=\"1\" class=\"dataframe\">\n",
              "  <thead>\n",
              "    <tr style=\"text-align: right;\">\n",
              "      <th></th>\n",
              "      <th>Neighborhood</th>\n",
              "      <th>Venue</th>\n",
              "    </tr>\n",
              "  </thead>\n",
              "  <tbody>\n",
              "    <tr>\n",
              "      <th>0</th>\n",
              "      <td>Bodakdev</td>\n",
              "      <td>14</td>\n",
              "    </tr>\n",
              "    <tr>\n",
              "      <th>1</th>\n",
              "      <td>Anandnagar (Ahmedabad)</td>\n",
              "      <td>13</td>\n",
              "    </tr>\n",
              "    <tr>\n",
              "      <th>2</th>\n",
              "      <td>Memnagar</td>\n",
              "      <td>12</td>\n",
              "    </tr>\n",
              "    <tr>\n",
              "      <th>3</th>\n",
              "      <td>Navrangpura</td>\n",
              "      <td>8</td>\n",
              "    </tr>\n",
              "    <tr>\n",
              "      <th>4</th>\n",
              "      <td>Darpan Society</td>\n",
              "      <td>6</td>\n",
              "    </tr>\n",
              "    <tr>\n",
              "      <th>5</th>\n",
              "      <td>Gujarat University</td>\n",
              "      <td>6</td>\n",
              "    </tr>\n",
              "    <tr>\n",
              "      <th>6</th>\n",
              "      <td>Maninagar</td>\n",
              "      <td>5</td>\n",
              "    </tr>\n",
              "    <tr>\n",
              "      <th>7</th>\n",
              "      <td>Shastrinagar (Ahmedabad)</td>\n",
              "      <td>5</td>\n",
              "    </tr>\n",
              "    <tr>\n",
              "      <th>8</th>\n",
              "      <td>Manek Chowk</td>\n",
              "      <td>4</td>\n",
              "    </tr>\n",
              "    <tr>\n",
              "      <th>9</th>\n",
              "      <td>Shahibag</td>\n",
              "      <td>3</td>\n",
              "    </tr>\n",
              "    <tr>\n",
              "      <th>10</th>\n",
              "      <td>Shardanagar</td>\n",
              "      <td>3</td>\n",
              "    </tr>\n",
              "    <tr>\n",
              "      <th>11</th>\n",
              "      <td>Jodhpur Char Rasta</td>\n",
              "      <td>3</td>\n",
              "    </tr>\n",
              "    <tr>\n",
              "      <th>12</th>\n",
              "      <td>Polytechnic (Ahmedabad)</td>\n",
              "      <td>3</td>\n",
              "    </tr>\n",
              "    <tr>\n",
              "      <th>13</th>\n",
              "      <td>I I M</td>\n",
              "      <td>3</td>\n",
              "    </tr>\n",
              "    <tr>\n",
              "      <th>14</th>\n",
              "      <td>Ghatlodia</td>\n",
              "      <td>3</td>\n",
              "    </tr>\n",
              "    <tr>\n",
              "      <th>15</th>\n",
              "      <td>Bopal</td>\n",
              "      <td>3</td>\n",
              "    </tr>\n",
              "    <tr>\n",
              "      <th>16</th>\n",
              "      <td>Azad Society</td>\n",
              "      <td>3</td>\n",
              "    </tr>\n",
              "    <tr>\n",
              "      <th>17</th>\n",
              "      <td>Ashram Road</td>\n",
              "      <td>3</td>\n",
              "    </tr>\n",
              "    <tr>\n",
              "      <th>18</th>\n",
              "      <td>Paldi (Ahmedabad)</td>\n",
              "      <td>2</td>\n",
              "    </tr>\n",
              "    <tr>\n",
              "      <th>19</th>\n",
              "      <td>Narayannagar</td>\n",
              "      <td>2</td>\n",
              "    </tr>\n",
              "    <tr>\n",
              "      <th>20</th>\n",
              "      <td>Ambawadi (Ahmedabad)</td>\n",
              "      <td>2</td>\n",
              "    </tr>\n",
              "    <tr>\n",
              "      <th>21</th>\n",
              "      <td>Manekbag</td>\n",
              "      <td>2</td>\n",
              "    </tr>\n",
              "    <tr>\n",
              "      <th>22</th>\n",
              "      <td>Gandhi Ashram (Ahmedabad)</td>\n",
              "      <td>2</td>\n",
              "    </tr>\n",
              "    <tr>\n",
              "      <th>23</th>\n",
              "      <td>Jawahar Chowk</td>\n",
              "      <td>2</td>\n",
              "    </tr>\n",
              "    <tr>\n",
              "      <th>24</th>\n",
              "      <td>Stadium Marg</td>\n",
              "      <td>1</td>\n",
              "    </tr>\n",
              "    <tr>\n",
              "      <th>25</th>\n",
              "      <td>Thaltej</td>\n",
              "      <td>1</td>\n",
              "    </tr>\n",
              "    <tr>\n",
              "      <th>26</th>\n",
              "      <td>Lal Darwaja</td>\n",
              "      <td>1</td>\n",
              "    </tr>\n",
              "    <tr>\n",
              "      <th>27</th>\n",
              "      <td>Motera</td>\n",
              "      <td>1</td>\n",
              "    </tr>\n",
              "    <tr>\n",
              "      <th>28</th>\n",
              "      <td>Juhapura</td>\n",
              "      <td>1</td>\n",
              "    </tr>\n",
              "    <tr>\n",
              "      <th>29</th>\n",
              "      <td>Gita Mandir Road</td>\n",
              "      <td>1</td>\n",
              "    </tr>\n",
              "    <tr>\n",
              "      <th>30</th>\n",
              "      <td>Ghuma</td>\n",
              "      <td>1</td>\n",
              "    </tr>\n",
              "    <tr>\n",
              "      <th>31</th>\n",
              "      <td>Thaltej Road</td>\n",
              "      <td>1</td>\n",
              "    </tr>\n",
              "  </tbody>\n",
              "</table>\n",
              "</div>"
            ],
            "text/plain": [
              "                 Neighborhood  Venue\n",
              "0                    Bodakdev     14\n",
              "1      Anandnagar (Ahmedabad)     13\n",
              "2                    Memnagar     12\n",
              "3                 Navrangpura      8\n",
              "4              Darpan Society      6\n",
              "5          Gujarat University      6\n",
              "6                   Maninagar      5\n",
              "7    Shastrinagar (Ahmedabad)      5\n",
              "8                 Manek Chowk      4\n",
              "9                    Shahibag      3\n",
              "10                Shardanagar      3\n",
              "11         Jodhpur Char Rasta      3\n",
              "12    Polytechnic (Ahmedabad)      3\n",
              "13                      I I M      3\n",
              "14                  Ghatlodia      3\n",
              "15                      Bopal      3\n",
              "16               Azad Society      3\n",
              "17                Ashram Road      3\n",
              "18          Paldi (Ahmedabad)      2\n",
              "19               Narayannagar      2\n",
              "20       Ambawadi (Ahmedabad)      2\n",
              "21                   Manekbag      2\n",
              "22  Gandhi Ashram (Ahmedabad)      2\n",
              "23              Jawahar Chowk      2\n",
              "24               Stadium Marg      1\n",
              "25                    Thaltej      1\n",
              "26                Lal Darwaja      1\n",
              "27                     Motera      1\n",
              "28                   Juhapura      1\n",
              "29           Gita Mandir Road      1\n",
              "30                      Ghuma      1\n",
              "31               Thaltej Road      1"
            ]
          },
          "metadata": {
            "tags": []
          },
          "execution_count": 23
        }
      ]
    },
    {
      "cell_type": "code",
      "metadata": {
        "colab": {
          "base_uri": "https://localhost:8080/",
          "height": 520
        },
        "id": "xGV_oroBTwGr",
        "outputId": "417debc4-f754-4a21-822d-ee2efa503aab"
      },
      "source": [
        "y_pos = [i for i, _ in enumerate(neighborhood_count.iloc[:,0].values)]\n",
        "x_pos = [i for i, _ in enumerate(neighborhood_count.iloc[:,-1].values)]\n",
        "\n",
        "maxval = neighborhood_count['Venue'].max()\n",
        "\n",
        "colors = []\n",
        "for value in neighborhood_count.iloc[:,-1].values:\n",
        "    if value == maxval:\n",
        "        colors.append('red')\n",
        "    else:\n",
        "        colors.append('blue')\n",
        "\n",
        "plt.rcParams.update({'font.size': 10})\n",
        "f, ax = plt.subplots(figsize=(8,8))\n",
        "plt.barh(y_pos, neighborhood_count.iloc[:,-1].values, color=colors)\n",
        "plt.title('Pizza Places Across Neighborhoods', fontsize=18)\n",
        "plt.xlabel('Number of Venues', fontsize=15)\n",
        "plt.ylabel('Neighborhood', fontsize=15)\n",
        "plt.yticks(y_pos, neighborhood_count.iloc[:,0].values, fontsize=10)\n",
        "plt.xticks(x_pos, fontsize=10)\n",
        "plt.grid(b=None)\n",
        "\n",
        "for i, v in enumerate(neighborhood_count.iloc[:,-1].values):\n",
        "  ax.text(v, i, str(v), color='black', fontweight='bold')\n",
        "\n",
        "plt.show()"
      ],
      "execution_count": 24,
      "outputs": [
        {
          "output_type": "display_data",
          "data": {
            "image/png": "[encoded data removed]",
            "text/plain": [
              "<Figure size 576x576 with 1 Axes>"
            ]
          },
          "metadata": {
            "tags": [],
            "needs_background": "light"
          }
        }
      ]
    },
    {
      "cell_type": "code",
      "metadata": {
        "id": "IZOL2SaFV3mw"
      },
      "source": [
        "# ahmedabad_df = vicinity_df.merge(ahmedabad_venues, how='outer', left_on='Vicinity', right_on='Neighborhood')\n",
        "# ahmedabad_df.drop(['Neighborhood', 'Neighborhood Latitude', 'Neighborhood Longitude'], axis=1, inplace=True)\n",
        "# ahmedabad_df.rename(columns={'Vicinity':'Neighborhood', 'V Lat':'Neighborhood Latitude', 'V Long':'Neighborhood Longitude'}, inplace=True)\n",
        "# ahmedabad_df.fillna(0)"
      ],
      "execution_count": 25,
      "outputs": []
    },
    {
      "cell_type": "markdown",
      "metadata": {
        "id": "LHi_Le6eYjdo"
      },
      "source": [
        "### Combine Data For All the Neighborhoods"
      ]
    },
    {
      "cell_type": "code",
      "metadata": {
        "colab": {
          "base_uri": "https://localhost:8080/",
          "height": 1000
        },
        "id": "d9XH2a78Ydem",
        "outputId": "c2519cdf-2f65-4423-ffa6-2154a7eeec3d"
      },
      "source": [
        "no_pizzapl = []\n",
        "cols = ['Neighborhood','Venue']\n",
        "for v in range(len(vicinity_df)):\n",
        "  # print(vicinity_df.loc[v, 'Vicinity'])\n",
        "  if neighborhood_count[neighborhood_count['Neighborhood']==vicinity_df.loc[v, 'Vicinity']]['Venue'].any() == False:\n",
        "    no_pizzapl.append([vicinity_df.loc[v, 'Vicinity'],0])\n",
        "no_pizzapl_df = pd.DataFrame(no_pizzapl, columns=cols)\n",
        "all_neighbors_df = neighborhood_count.append(no_pizzapl_df, ignore_index=True)\n",
        "all_neighbors_df"
      ],
      "execution_count": 26,
      "outputs": [
        {
          "output_type": "execute_result",
          "data": {
            "text/html": [
              "<div>\n",
              "<style scoped>\n",
              "    .dataframe tbody tr th:only-of-type {\n",
              "        vertical-align: middle;\n",
              "    }\n",
              "\n",
              "    .dataframe tbody tr th {\n",
              "        vertical-align: top;\n",
              "    }\n",
              "\n",
              "    .dataframe thead th {\n",
              "        text-align: right;\n",
              "    }\n",
              "</style>\n",
              "<table border=\"1\" class=\"dataframe\">\n",
              "  <thead>\n",
              "    <tr style=\"text-align: right;\">\n",
              "      <th></th>\n",
              "      <th>Neighborhood</th>\n",
              "      <th>Venue</th>\n",
              "    </tr>\n",
              "  </thead>\n",
              "  <tbody>\n",
              "    <tr>\n",
              "      <th>0</th>\n",
              "      <td>Bodakdev</td>\n",
              "      <td>14</td>\n",
              "    </tr>\n",
              "    <tr>\n",
              "      <th>1</th>\n",
              "      <td>Anandnagar (Ahmedabad)</td>\n",
              "      <td>13</td>\n",
              "    </tr>\n",
              "    <tr>\n",
              "      <th>2</th>\n",
              "      <td>Memnagar</td>\n",
              "      <td>12</td>\n",
              "    </tr>\n",
              "    <tr>\n",
              "      <th>3</th>\n",
              "      <td>Navrangpura</td>\n",
              "      <td>8</td>\n",
              "    </tr>\n",
              "    <tr>\n",
              "      <th>4</th>\n",
              "      <td>Darpan Society</td>\n",
              "      <td>6</td>\n",
              "    </tr>\n",
              "    <tr>\n",
              "      <th>5</th>\n",
              "      <td>Gujarat University</td>\n",
              "      <td>6</td>\n",
              "    </tr>\n",
              "    <tr>\n",
              "      <th>6</th>\n",
              "      <td>Maninagar</td>\n",
              "      <td>5</td>\n",
              "    </tr>\n",
              "    <tr>\n",
              "      <th>7</th>\n",
              "      <td>Shastrinagar (Ahmedabad)</td>\n",
              "      <td>5</td>\n",
              "    </tr>\n",
              "    <tr>\n",
              "      <th>8</th>\n",
              "      <td>Manek Chowk</td>\n",
              "      <td>4</td>\n",
              "    </tr>\n",
              "    <tr>\n",
              "      <th>9</th>\n",
              "      <td>Shahibag</td>\n",
              "      <td>3</td>\n",
              "    </tr>\n",
              "    <tr>\n",
              "      <th>10</th>\n",
              "      <td>Shardanagar</td>\n",
              "      <td>3</td>\n",
              "    </tr>\n",
              "    <tr>\n",
              "      <th>11</th>\n",
              "      <td>Jodhpur Char Rasta</td>\n",
              "      <td>3</td>\n",
              "    </tr>\n",
              "    <tr>\n",
              "      <th>12</th>\n",
              "      <td>Polytechnic (Ahmedabad)</td>\n",
              "      <td>3</td>\n",
              "    </tr>\n",
              "    <tr>\n",
              "      <th>13</th>\n",
              "      <td>I I M</td>\n",
              "      <td>3</td>\n",
              "    </tr>\n",
              "    <tr>\n",
              "      <th>14</th>\n",
              "      <td>Ghatlodia</td>\n",
              "      <td>3</td>\n",
              "    </tr>\n",
              "    <tr>\n",
              "      <th>15</th>\n",
              "      <td>Bopal</td>\n",
              "      <td>3</td>\n",
              "    </tr>\n",
              "    <tr>\n",
              "      <th>16</th>\n",
              "      <td>Azad Society</td>\n",
              "      <td>3</td>\n",
              "    </tr>\n",
              "    <tr>\n",
              "      <th>17</th>\n",
              "      <td>Ashram Road</td>\n",
              "      <td>3</td>\n",
              "    </tr>\n",
              "    <tr>\n",
              "      <th>18</th>\n",
              "      <td>Paldi (Ahmedabad)</td>\n",
              "      <td>2</td>\n",
              "    </tr>\n",
              "    <tr>\n",
              "      <th>19</th>\n",
              "      <td>Narayannagar</td>\n",
              "      <td>2</td>\n",
              "    </tr>\n",
              "    <tr>\n",
              "      <th>20</th>\n",
              "      <td>Ambawadi (Ahmedabad)</td>\n",
              "      <td>2</td>\n",
              "    </tr>\n",
              "    <tr>\n",
              "      <th>21</th>\n",
              "      <td>Manekbag</td>\n",
              "      <td>2</td>\n",
              "    </tr>\n",
              "    <tr>\n",
              "      <th>22</th>\n",
              "      <td>Gandhi Ashram (Ahmedabad)</td>\n",
              "      <td>2</td>\n",
              "    </tr>\n",
              "    <tr>\n",
              "      <th>23</th>\n",
              "      <td>Jawahar Chowk</td>\n",
              "      <td>2</td>\n",
              "    </tr>\n",
              "    <tr>\n",
              "      <th>24</th>\n",
              "      <td>Stadium Marg</td>\n",
              "      <td>1</td>\n",
              "    </tr>\n",
              "    <tr>\n",
              "      <th>25</th>\n",
              "      <td>Thaltej</td>\n",
              "      <td>1</td>\n",
              "    </tr>\n",
              "    <tr>\n",
              "      <th>26</th>\n",
              "      <td>Lal Darwaja</td>\n",
              "      <td>1</td>\n",
              "    </tr>\n",
              "    <tr>\n",
              "      <th>27</th>\n",
              "      <td>Motera</td>\n",
              "      <td>1</td>\n",
              "    </tr>\n",
              "    <tr>\n",
              "      <th>28</th>\n",
              "      <td>Juhapura</td>\n",
              "      <td>1</td>\n",
              "    </tr>\n",
              "    <tr>\n",
              "      <th>29</th>\n",
              "      <td>Gita Mandir Road</td>\n",
              "      <td>1</td>\n",
              "    </tr>\n",
              "    <tr>\n",
              "      <th>30</th>\n",
              "      <td>Ghuma</td>\n",
              "      <td>1</td>\n",
              "    </tr>\n",
              "    <tr>\n",
              "      <th>31</th>\n",
              "      <td>Thaltej Road</td>\n",
              "      <td>1</td>\n",
              "    </tr>\n",
              "    <tr>\n",
              "      <th>32</th>\n",
              "      <td>Sabarmati</td>\n",
              "      <td>0</td>\n",
              "    </tr>\n",
              "    <tr>\n",
              "      <th>33</th>\n",
              "      <td>Kabir Chowk</td>\n",
              "      <td>0</td>\n",
              "    </tr>\n",
              "    <tr>\n",
              "      <th>34</th>\n",
              "      <td>Ellisbridge</td>\n",
              "      <td>0</td>\n",
              "    </tr>\n",
              "    <tr>\n",
              "      <th>35</th>\n",
              "      <td>Sarkhej Road</td>\n",
              "      <td>0</td>\n",
              "    </tr>\n",
              "    <tr>\n",
              "      <th>36</th>\n",
              "      <td>Vadaj</td>\n",
              "      <td>0</td>\n",
              "    </tr>\n",
              "    <tr>\n",
              "      <th>37</th>\n",
              "      <td>Naranpura Vistar</td>\n",
              "      <td>0</td>\n",
              "    </tr>\n",
              "    <tr>\n",
              "      <th>38</th>\n",
              "      <td>Nava Vadaj</td>\n",
              "      <td>0</td>\n",
              "    </tr>\n",
              "    <tr>\n",
              "      <th>39</th>\n",
              "      <td>Navjivan</td>\n",
              "      <td>0</td>\n",
              "    </tr>\n",
              "    <tr>\n",
              "      <th>40</th>\n",
              "      <td>Meghaningar</td>\n",
              "      <td>0</td>\n",
              "    </tr>\n",
              "    <tr>\n",
              "      <th>41</th>\n",
              "      <td>Civil Hospital</td>\n",
              "      <td>0</td>\n",
              "    </tr>\n",
              "    <tr>\n",
              "      <th>42</th>\n",
              "      <td>Jivraj Park</td>\n",
              "      <td>0</td>\n",
              "    </tr>\n",
              "    <tr>\n",
              "      <th>43</th>\n",
              "      <td>Ambli</td>\n",
              "      <td>0</td>\n",
              "    </tr>\n",
              "    <tr>\n",
              "      <th>44</th>\n",
              "      <td>Shela</td>\n",
              "      <td>0</td>\n",
              "    </tr>\n",
              "    <tr>\n",
              "      <th>45</th>\n",
              "      <td>Shilaj</td>\n",
              "      <td>0</td>\n",
              "    </tr>\n",
              "    <tr>\n",
              "      <th>46</th>\n",
              "      <td>Sola</td>\n",
              "      <td>0</td>\n",
              "    </tr>\n",
              "    <tr>\n",
              "      <th>47</th>\n",
              "      <td>Bhadaj</td>\n",
              "      <td>0</td>\n",
              "    </tr>\n",
              "    <tr>\n",
              "      <th>48</th>\n",
              "      <td>Ognaj</td>\n",
              "      <td>0</td>\n",
              "    </tr>\n",
              "    <tr>\n",
              "      <th>49</th>\n",
              "      <td>Sola H B C</td>\n",
              "      <td>0</td>\n",
              "    </tr>\n",
              "  </tbody>\n",
              "</table>\n",
              "</div>"
            ],
            "text/plain": [
              "                 Neighborhood  Venue\n",
              "0                    Bodakdev     14\n",
              "1      Anandnagar (Ahmedabad)     13\n",
              "2                    Memnagar     12\n",
              "3                 Navrangpura      8\n",
              "4              Darpan Society      6\n",
              "5          Gujarat University      6\n",
              "6                   Maninagar      5\n",
              "7    Shastrinagar (Ahmedabad)      5\n",
              "8                 Manek Chowk      4\n",
              "9                    Shahibag      3\n",
              "10                Shardanagar      3\n",
              "11         Jodhpur Char Rasta      3\n",
              "12    Polytechnic (Ahmedabad)      3\n",
              "13                      I I M      3\n",
              "14                  Ghatlodia      3\n",
              "15                      Bopal      3\n",
              "16               Azad Society      3\n",
              "17                Ashram Road      3\n",
              "18          Paldi (Ahmedabad)      2\n",
              "19               Narayannagar      2\n",
              "20       Ambawadi (Ahmedabad)      2\n",
              "21                   Manekbag      2\n",
              "22  Gandhi Ashram (Ahmedabad)      2\n",
              "23              Jawahar Chowk      2\n",
              "24               Stadium Marg      1\n",
              "25                    Thaltej      1\n",
              "26                Lal Darwaja      1\n",
              "27                     Motera      1\n",
              "28                   Juhapura      1\n",
              "29           Gita Mandir Road      1\n",
              "30                      Ghuma      1\n",
              "31               Thaltej Road      1\n",
              "32                  Sabarmati      0\n",
              "33                Kabir Chowk      0\n",
              "34                Ellisbridge      0\n",
              "35               Sarkhej Road      0\n",
              "36                      Vadaj      0\n",
              "37           Naranpura Vistar      0\n",
              "38                 Nava Vadaj      0\n",
              "39                   Navjivan      0\n",
              "40                Meghaningar      0\n",
              "41             Civil Hospital      0\n",
              "42                Jivraj Park      0\n",
              "43                      Ambli      0\n",
              "44                      Shela      0\n",
              "45                     Shilaj      0\n",
              "46                       Sola      0\n",
              "47                     Bhadaj      0\n",
              "48                      Ognaj      0\n",
              "49                 Sola H B C      0"
            ]
          },
          "metadata": {
            "tags": []
          },
          "execution_count": 26
        }
      ]
    },
    {
      "cell_type": "markdown",
      "metadata": {
        "id": "Eqr7EKRNZ9qs"
      },
      "source": [
        "### Clustering Neighborhoods Using K-Means Method"
      ]
    },
    {
      "cell_type": "markdown",
      "metadata": {
        "id": "so7mc6oraJ4Z"
      },
      "source": [
        "#### Finding The Correct Value of K"
      ]
    },
    {
      "cell_type": "code",
      "metadata": {
        "colab": {
          "base_uri": "https://localhost:8080/",
          "height": 800
        },
        "id": "jlwtm_naTd1y",
        "outputId": "8a4d2bf5-f9e9-4263-d2ee-d95466ff632e"
      },
      "source": [
        "from sklearn.cluster import KMeans\n",
        "from sklearn.preprocessing import StandardScaler\n",
        "\n",
        "wcss = []\n",
        "X = all_neighbors_df.drop('Neighborhood', axis=1)\n",
        "\n",
        "# Apply Feature Scaling\n",
        "scaler = StandardScaler()\n",
        "X = scaler.fit_transform(X)\n",
        "\n",
        "# Select clusters ranging from 1-10\n",
        "for i in range(1, 11):\n",
        "    kmeans = KMeans(n_clusters=i, init='k-means++', random_state=4)\n",
        "    kmeans.fit(X)\n",
        "    print(kmeans.inertia_)\n",
        "    wcss.append(kmeans.inertia_)\n",
        "# End of for loop and start of plotting\n",
        "plt.plot(range(1, 11), wcss)\n",
        "plt.title('The Elbow Graph')\n",
        "plt.xlabel('No. of Clusters')\n",
        "plt.ylabel('WCSS')\n",
        "plt.show()\n",
        "\n",
        "# Instantiate the clustering model and visualizer\n",
        "model = KMeans(random_state=4)\n",
        "visualizer = KElbowVisualizer(model, k=(1,12), metric='distortion', locate_elbow=True)\n",
        "\n",
        "visualizer.fit(X)        # Fit the data to the visualizer\n",
        "visualizer\n"
      ],
      "execution_count": 27,
      "outputs": [
        {
          "output_type": "stream",
          "text": [
            "49.999999999999986\n",
            "14.543113238157039\n",
            "5.264303482587064\n",
            "1.7701456659012622\n",
            "1.1500533049040509\n",
            "0.6836353944562898\n",
            "0.36380597014925375\n",
            "0.22388059701492533\n",
            "0.10883084577114428\n",
            "0.04664179104477613\n"
          ],
          "name": "stdout"
        },
        {
          "output_type": "display_data",
          "data": {
            "image/png": "[encoded data removed]",
            "text/plain": [
              "<Figure size 432x288 with 1 Axes>"
            ]
          },
          "metadata": {
            "tags": [],
            "needs_background": "light"
          }
        },
        {
          "output_type": "stream",
          "text": [
            "/usr/local/lib/python3.6/dist-packages/sklearn/base.py:197: FutureWarning: From version 0.24, get_params will raise an AttributeError if a parameter cannot be retrieved as an instance attribute. Previously it would return None.\n",
            "  FutureWarning)\n"
          ],
          "name": "stderr"
        },
        {
          "output_type": "execute_result",
          "data": {
            "text/plain": [
              "KElbowVisualizer(ax=<matplotlib.axes._subplots.AxesSubplot object at 0x7f06ad767780>,\n",
              "                 k=None, metric=None, model=None, timings=True)"
            ]
          },
          "metadata": {
            "tags": []
          },
          "execution_count": 27
        },
        {
          "output_type": "display_data",
          "data": {
            "image/png": "[encoded data removed]",
            "text/plain": [
              "<Figure size 432x288 with 2 Axes>"
            ]
          },
          "metadata": {
            "tags": [],
            "needs_background": "light"
          }
        }
      ]
    },
    {
      "cell_type": "markdown",
      "metadata": {
        "id": "lVAJIUmkceHD"
      },
      "source": [
        "#### Based On The Above Elbow Graph, Let's Select K=4"
      ]
    },
    {
      "cell_type": "code",
      "metadata": {
        "colab": {
          "base_uri": "https://localhost:8080/"
        },
        "id": "H_08jalIayeD",
        "outputId": "167e46aa-807d-48e2-b3ff-03e25787f453"
      },
      "source": [
        "# set number of clusters\n",
        "kclusters = 4\n",
        "\n",
        "# run k-means clustering\n",
        "kmeans = KMeans(n_clusters=kclusters, random_state=0).fit(X)\n",
        "\n",
        "# check cluster labels generated for each row in the dataframe\n",
        "kmeans.labels_[0:] "
      ],
      "execution_count": 28,
      "outputs": [
        {
          "output_type": "execute_result",
          "data": {
            "text/plain": [
              "array([1, 1, 1, 3, 3, 3, 3, 3, 2, 2, 2, 2, 2, 2, 2, 2, 2, 2, 2, 2, 2, 2,\n",
              "       2, 2, 0, 0, 0, 0, 0, 0, 0, 0, 0, 0, 0, 0, 0, 0, 0, 0, 0, 0, 0, 0,\n",
              "       0, 0, 0, 0, 0, 0], dtype=int32)"
            ]
          },
          "metadata": {
            "tags": []
          },
          "execution_count": 28
        }
      ]
    },
    {
      "cell_type": "markdown",
      "metadata": {
        "id": "WBNCLx7vioQJ"
      },
      "source": [
        "#### Add Cluster Labels To Neighborhood Location Data"
      ]
    },
    {
      "cell_type": "code",
      "metadata": {
        "colab": {
          "base_uri": "https://localhost:8080/",
          "height": 1000
        },
        "id": "XkKCsHqecxcB",
        "outputId": "2a28203a-7f3a-4250-f9db-61ed67fd77b7"
      },
      "source": [
        "geo_df = vicinity_df.merge(all_neighbors_df, how='inner', left_on='Vicinity', right_on='Neighborhood')\n",
        "geo_df.drop('Vicinity', axis=1, inplace=True)\n",
        "\n",
        "# add clustering labels\n",
        "geo_df.insert(3, 'Cluster Labels', kmeans.labels_)\n",
        "geo_df\n"
      ],
      "execution_count": 29,
      "outputs": [
        {
          "output_type": "execute_result",
          "data": {
            "text/html": [
              "<div>\n",
              "<style scoped>\n",
              "    .dataframe tbody tr th:only-of-type {\n",
              "        vertical-align: middle;\n",
              "    }\n",
              "\n",
              "    .dataframe tbody tr th {\n",
              "        vertical-align: top;\n",
              "    }\n",
              "\n",
              "    .dataframe thead th {\n",
              "        text-align: right;\n",
              "    }\n",
              "</style>\n",
              "<table border=\"1\" class=\"dataframe\">\n",
              "  <thead>\n",
              "    <tr style=\"text-align: right;\">\n",
              "      <th></th>\n",
              "      <th>V Lat</th>\n",
              "      <th>V Long</th>\n",
              "      <th>Neighborhood</th>\n",
              "      <th>Cluster Labels</th>\n",
              "      <th>Venue</th>\n",
              "    </tr>\n",
              "  </thead>\n",
              "  <tbody>\n",
              "    <tr>\n",
              "      <th>0</th>\n",
              "      <td>23.024190</td>\n",
              "      <td>72.578556</td>\n",
              "      <td>Lal Darwaja</td>\n",
              "      <td>1</td>\n",
              "      <td>1</td>\n",
              "    </tr>\n",
              "    <tr>\n",
              "      <th>1</th>\n",
              "      <td>23.023180</td>\n",
              "      <td>72.588952</td>\n",
              "      <td>Manek Chowk</td>\n",
              "      <td>1</td>\n",
              "      <td>4</td>\n",
              "    </tr>\n",
              "    <tr>\n",
              "      <th>2</th>\n",
              "      <td>23.055966</td>\n",
              "      <td>72.593869</td>\n",
              "      <td>Shahibag</td>\n",
              "      <td>1</td>\n",
              "      <td>3</td>\n",
              "    </tr>\n",
              "    <tr>\n",
              "      <th>3</th>\n",
              "      <td>23.083993</td>\n",
              "      <td>72.587619</td>\n",
              "      <td>Sabarmati</td>\n",
              "      <td>3</td>\n",
              "      <td>0</td>\n",
              "    </tr>\n",
              "    <tr>\n",
              "      <th>4</th>\n",
              "      <td>23.087505</td>\n",
              "      <td>72.585701</td>\n",
              "      <td>Kabir Chowk</td>\n",
              "      <td>3</td>\n",
              "      <td>0</td>\n",
              "    </tr>\n",
              "    <tr>\n",
              "      <th>5</th>\n",
              "      <td>23.091703</td>\n",
              "      <td>72.597481</td>\n",
              "      <td>Motera</td>\n",
              "      <td>3</td>\n",
              "      <td>1</td>\n",
              "    </tr>\n",
              "    <tr>\n",
              "      <th>6</th>\n",
              "      <td>23.022612</td>\n",
              "      <td>72.549083</td>\n",
              "      <td>Ambawadi (Ahmedabad)</td>\n",
              "      <td>3</td>\n",
              "      <td>2</td>\n",
              "    </tr>\n",
              "    <tr>\n",
              "      <th>7</th>\n",
              "      <td>23.022886</td>\n",
              "      <td>72.571642</td>\n",
              "      <td>Ellisbridge</td>\n",
              "      <td>3</td>\n",
              "      <td>0</td>\n",
              "    </tr>\n",
              "    <tr>\n",
              "      <th>8</th>\n",
              "      <td>23.014553</td>\n",
              "      <td>72.563543</td>\n",
              "      <td>Paldi (Ahmedabad)</td>\n",
              "      <td>2</td>\n",
              "      <td>2</td>\n",
              "    </tr>\n",
              "    <tr>\n",
              "      <th>9</th>\n",
              "      <td>22.983483</td>\n",
              "      <td>72.500720</td>\n",
              "      <td>Sarkhej Road</td>\n",
              "      <td>2</td>\n",
              "      <td>0</td>\n",
              "    </tr>\n",
              "    <tr>\n",
              "      <th>10</th>\n",
              "      <td>23.016075</td>\n",
              "      <td>72.509295</td>\n",
              "      <td>Anandnagar (Ahmedabad)</td>\n",
              "      <td>2</td>\n",
              "      <td>13</td>\n",
              "    </tr>\n",
              "    <tr>\n",
              "      <th>11</th>\n",
              "      <td>23.011190</td>\n",
              "      <td>72.552575</td>\n",
              "      <td>Shardanagar</td>\n",
              "      <td>2</td>\n",
              "      <td>3</td>\n",
              "    </tr>\n",
              "    <tr>\n",
              "      <th>12</th>\n",
              "      <td>22.997826</td>\n",
              "      <td>72.560115</td>\n",
              "      <td>Narayannagar</td>\n",
              "      <td>2</td>\n",
              "      <td>2</td>\n",
              "    </tr>\n",
              "    <tr>\n",
              "      <th>13</th>\n",
              "      <td>22.995137</td>\n",
              "      <td>72.605099</td>\n",
              "      <td>Jawahar Chowk</td>\n",
              "      <td>2</td>\n",
              "      <td>2</td>\n",
              "    </tr>\n",
              "    <tr>\n",
              "      <th>14</th>\n",
              "      <td>22.997713</td>\n",
              "      <td>72.606717</td>\n",
              "      <td>Maninagar</td>\n",
              "      <td>2</td>\n",
              "      <td>5</td>\n",
              "    </tr>\n",
              "    <tr>\n",
              "      <th>15</th>\n",
              "      <td>23.026694</td>\n",
              "      <td>72.571078</td>\n",
              "      <td>Ashram Road</td>\n",
              "      <td>2</td>\n",
              "      <td>3</td>\n",
              "    </tr>\n",
              "    <tr>\n",
              "      <th>16</th>\n",
              "      <td>23.046712</td>\n",
              "      <td>72.553567</td>\n",
              "      <td>Darpan Society</td>\n",
              "      <td>2</td>\n",
              "      <td>6</td>\n",
              "    </tr>\n",
              "    <tr>\n",
              "      <th>17</th>\n",
              "      <td>23.037307</td>\n",
              "      <td>72.544748</td>\n",
              "      <td>Gujarat University</td>\n",
              "      <td>2</td>\n",
              "      <td>6</td>\n",
              "    </tr>\n",
              "    <tr>\n",
              "      <th>18</th>\n",
              "      <td>23.036000</td>\n",
              "      <td>72.564343</td>\n",
              "      <td>Navrangpura</td>\n",
              "      <td>2</td>\n",
              "      <td>8</td>\n",
              "    </tr>\n",
              "    <tr>\n",
              "      <th>19</th>\n",
              "      <td>23.049768</td>\n",
              "      <td>72.561628</td>\n",
              "      <td>Stadium Marg</td>\n",
              "      <td>2</td>\n",
              "      <td>1</td>\n",
              "    </tr>\n",
              "    <tr>\n",
              "      <th>20</th>\n",
              "      <td>23.068224</td>\n",
              "      <td>72.564099</td>\n",
              "      <td>Vadaj</td>\n",
              "      <td>2</td>\n",
              "      <td>0</td>\n",
              "    </tr>\n",
              "    <tr>\n",
              "      <th>21</th>\n",
              "      <td>23.056861</td>\n",
              "      <td>72.550710</td>\n",
              "      <td>Naranpura Vistar</td>\n",
              "      <td>2</td>\n",
              "      <td>0</td>\n",
              "    </tr>\n",
              "    <tr>\n",
              "      <th>22</th>\n",
              "      <td>23.062423</td>\n",
              "      <td>72.553180</td>\n",
              "      <td>Shastrinagar (Ahmedabad)</td>\n",
              "      <td>2</td>\n",
              "      <td>5</td>\n",
              "    </tr>\n",
              "    <tr>\n",
              "      <th>23</th>\n",
              "      <td>23.068224</td>\n",
              "      <td>72.564099</td>\n",
              "      <td>Nava Vadaj</td>\n",
              "      <td>2</td>\n",
              "      <td>0</td>\n",
              "    </tr>\n",
              "    <tr>\n",
              "      <th>24</th>\n",
              "      <td>23.053692</td>\n",
              "      <td>72.642707</td>\n",
              "      <td>Navjivan</td>\n",
              "      <td>0</td>\n",
              "      <td>0</td>\n",
              "    </tr>\n",
              "    <tr>\n",
              "      <th>25</th>\n",
              "      <td>23.025341</td>\n",
              "      <td>72.527761</td>\n",
              "      <td>Jodhpur Char Rasta</td>\n",
              "      <td>0</td>\n",
              "      <td>3</td>\n",
              "    </tr>\n",
              "    <tr>\n",
              "      <th>26</th>\n",
              "      <td>23.031270</td>\n",
              "      <td>72.537133</td>\n",
              "      <td>I I M</td>\n",
              "      <td>0</td>\n",
              "      <td>3</td>\n",
              "    </tr>\n",
              "    <tr>\n",
              "      <th>27</th>\n",
              "      <td>23.019342</td>\n",
              "      <td>72.541232</td>\n",
              "      <td>Manekbag</td>\n",
              "      <td>0</td>\n",
              "      <td>2</td>\n",
              "    </tr>\n",
              "    <tr>\n",
              "      <th>28</th>\n",
              "      <td>23.026577</td>\n",
              "      <td>72.547506</td>\n",
              "      <td>Polytechnic (Ahmedabad)</td>\n",
              "      <td>0</td>\n",
              "      <td>3</td>\n",
              "    </tr>\n",
              "    <tr>\n",
              "      <th>29</th>\n",
              "      <td>23.029157</td>\n",
              "      <td>72.532752</td>\n",
              "      <td>Azad Society</td>\n",
              "      <td>0</td>\n",
              "      <td>3</td>\n",
              "    </tr>\n",
              "    <tr>\n",
              "      <th>30</th>\n",
              "      <td>23.058283</td>\n",
              "      <td>72.616509</td>\n",
              "      <td>Meghaningar</td>\n",
              "      <td>0</td>\n",
              "      <td>0</td>\n",
              "    </tr>\n",
              "    <tr>\n",
              "      <th>31</th>\n",
              "      <td>23.015200</td>\n",
              "      <td>72.593222</td>\n",
              "      <td>Gita Mandir Road</td>\n",
              "      <td>0</td>\n",
              "      <td>1</td>\n",
              "    </tr>\n",
              "    <tr>\n",
              "      <th>32</th>\n",
              "      <td>23.051438</td>\n",
              "      <td>72.605116</td>\n",
              "      <td>Civil Hospital</td>\n",
              "      <td>0</td>\n",
              "      <td>0</td>\n",
              "    </tr>\n",
              "    <tr>\n",
              "      <th>33</th>\n",
              "      <td>23.060165</td>\n",
              "      <td>72.580638</td>\n",
              "      <td>Gandhi Ashram (Ahmedabad)</td>\n",
              "      <td>0</td>\n",
              "      <td>2</td>\n",
              "    </tr>\n",
              "    <tr>\n",
              "      <th>34</th>\n",
              "      <td>23.006332</td>\n",
              "      <td>72.536517</td>\n",
              "      <td>Jivraj Park</td>\n",
              "      <td>0</td>\n",
              "      <td>0</td>\n",
              "    </tr>\n",
              "    <tr>\n",
              "      <th>35</th>\n",
              "      <td>23.053084</td>\n",
              "      <td>72.532931</td>\n",
              "      <td>Memnagar</td>\n",
              "      <td>0</td>\n",
              "      <td>12</td>\n",
              "    </tr>\n",
              "    <tr>\n",
              "      <th>36</th>\n",
              "      <td>23.050483</td>\n",
              "      <td>72.498859</td>\n",
              "      <td>Thaltej Road</td>\n",
              "      <td>0</td>\n",
              "      <td>1</td>\n",
              "    </tr>\n",
              "    <tr>\n",
              "      <th>37</th>\n",
              "      <td>23.044227</td>\n",
              "      <td>72.517458</td>\n",
              "      <td>Bodakdev</td>\n",
              "      <td>0</td>\n",
              "      <td>14</td>\n",
              "    </tr>\n",
              "    <tr>\n",
              "      <th>38</th>\n",
              "      <td>23.005630</td>\n",
              "      <td>72.523101</td>\n",
              "      <td>Juhapura</td>\n",
              "      <td>0</td>\n",
              "      <td>1</td>\n",
              "    </tr>\n",
              "    <tr>\n",
              "      <th>39</th>\n",
              "      <td>23.029699</td>\n",
              "      <td>72.465579</td>\n",
              "      <td>Bopal</td>\n",
              "      <td>0</td>\n",
              "      <td>3</td>\n",
              "    </tr>\n",
              "    <tr>\n",
              "      <th>40</th>\n",
              "      <td>23.029511</td>\n",
              "      <td>72.450601</td>\n",
              "      <td>Ghuma</td>\n",
              "      <td>0</td>\n",
              "      <td>1</td>\n",
              "    </tr>\n",
              "    <tr>\n",
              "      <th>41</th>\n",
              "      <td>23.018494</td>\n",
              "      <td>72.495454</td>\n",
              "      <td>Ambli</td>\n",
              "      <td>0</td>\n",
              "      <td>0</td>\n",
              "    </tr>\n",
              "    <tr>\n",
              "      <th>42</th>\n",
              "      <td>23.010030</td>\n",
              "      <td>72.444016</td>\n",
              "      <td>Shela</td>\n",
              "      <td>0</td>\n",
              "      <td>0</td>\n",
              "    </tr>\n",
              "    <tr>\n",
              "      <th>43</th>\n",
              "      <td>23.048539</td>\n",
              "      <td>72.511742</td>\n",
              "      <td>Thaltej</td>\n",
              "      <td>0</td>\n",
              "      <td>1</td>\n",
              "    </tr>\n",
              "    <tr>\n",
              "      <th>44</th>\n",
              "      <td>23.054437</td>\n",
              "      <td>72.472076</td>\n",
              "      <td>Shilaj</td>\n",
              "      <td>0</td>\n",
              "      <td>0</td>\n",
              "    </tr>\n",
              "    <tr>\n",
              "      <th>45</th>\n",
              "      <td>23.069237</td>\n",
              "      <td>72.511131</td>\n",
              "      <td>Sola</td>\n",
              "      <td>0</td>\n",
              "      <td>0</td>\n",
              "    </tr>\n",
              "    <tr>\n",
              "      <th>46</th>\n",
              "      <td>23.086873</td>\n",
              "      <td>72.483504</td>\n",
              "      <td>Bhadaj</td>\n",
              "      <td>0</td>\n",
              "      <td>0</td>\n",
              "    </tr>\n",
              "    <tr>\n",
              "      <th>47</th>\n",
              "      <td>23.108063</td>\n",
              "      <td>72.522650</td>\n",
              "      <td>Ognaj</td>\n",
              "      <td>0</td>\n",
              "      <td>0</td>\n",
              "    </tr>\n",
              "    <tr>\n",
              "      <th>48</th>\n",
              "      <td>23.068665</td>\n",
              "      <td>72.536822</td>\n",
              "      <td>Ghatlodia</td>\n",
              "      <td>0</td>\n",
              "      <td>3</td>\n",
              "    </tr>\n",
              "    <tr>\n",
              "      <th>49</th>\n",
              "      <td>23.057801</td>\n",
              "      <td>72.549016</td>\n",
              "      <td>Sola H B C</td>\n",
              "      <td>0</td>\n",
              "      <td>0</td>\n",
              "    </tr>\n",
              "  </tbody>\n",
              "</table>\n",
              "</div>"
            ],
            "text/plain": [
              "        V Lat     V Long               Neighborhood  Cluster Labels  Venue\n",
              "0   23.024190  72.578556                Lal Darwaja               1      1\n",
              "1   23.023180  72.588952                Manek Chowk               1      4\n",
              "2   23.055966  72.593869                   Shahibag               1      3\n",
              "3   23.083993  72.587619                  Sabarmati               3      0\n",
              "4   23.087505  72.585701                Kabir Chowk               3      0\n",
              "5   23.091703  72.597481                     Motera               3      1\n",
              "6   23.022612  72.549083       Ambawadi (Ahmedabad)               3      2\n",
              "7   23.022886  72.571642                Ellisbridge               3      0\n",
              "8   23.014553  72.563543          Paldi (Ahmedabad)               2      2\n",
              "9   22.983483  72.500720               Sarkhej Road               2      0\n",
              "10  23.016075  72.509295     Anandnagar (Ahmedabad)               2     13\n",
              "11  23.011190  72.552575                Shardanagar               2      3\n",
              "12  22.997826  72.560115               Narayannagar               2      2\n",
              "13  22.995137  72.605099              Jawahar Chowk               2      2\n",
              "14  22.997713  72.606717                  Maninagar               2      5\n",
              "15  23.026694  72.571078                Ashram Road               2      3\n",
              "16  23.046712  72.553567             Darpan Society               2      6\n",
              "17  23.037307  72.544748         Gujarat University               2      6\n",
              "18  23.036000  72.564343                Navrangpura               2      8\n",
              "19  23.049768  72.561628               Stadium Marg               2      1\n",
              "20  23.068224  72.564099                      Vadaj               2      0\n",
              "21  23.056861  72.550710           Naranpura Vistar               2      0\n",
              "22  23.062423  72.553180   Shastrinagar (Ahmedabad)               2      5\n",
              "23  23.068224  72.564099                 Nava Vadaj               2      0\n",
              "24  23.053692  72.642707                   Navjivan               0      0\n",
              "25  23.025341  72.527761         Jodhpur Char Rasta               0      3\n",
              "26  23.031270  72.537133                      I I M               0      3\n",
              "27  23.019342  72.541232                   Manekbag               0      2\n",
              "28  23.026577  72.547506    Polytechnic (Ahmedabad)               0      3\n",
              "29  23.029157  72.532752               Azad Society               0      3\n",
              "30  23.058283  72.616509                Meghaningar               0      0\n",
              "31  23.015200  72.593222           Gita Mandir Road               0      1\n",
              "32  23.051438  72.605116             Civil Hospital               0      0\n",
              "33  23.060165  72.580638  Gandhi Ashram (Ahmedabad)               0      2\n",
              "34  23.006332  72.536517                Jivraj Park               0      0\n",
              "35  23.053084  72.532931                   Memnagar               0     12\n",
              "36  23.050483  72.498859               Thaltej Road               0      1\n",
              "37  23.044227  72.517458                   Bodakdev               0     14\n",
              "38  23.005630  72.523101                   Juhapura               0      1\n",
              "39  23.029699  72.465579                      Bopal               0      3\n",
              "40  23.029511  72.450601                      Ghuma               0      1\n",
              "41  23.018494  72.495454                      Ambli               0      0\n",
              "42  23.010030  72.444016                      Shela               0      0\n",
              "43  23.048539  72.511742                    Thaltej               0      1\n",
              "44  23.054437  72.472076                     Shilaj               0      0\n",
              "45  23.069237  72.511131                       Sola               0      0\n",
              "46  23.086873  72.483504                     Bhadaj               0      0\n",
              "47  23.108063  72.522650                      Ognaj               0      0\n",
              "48  23.068665  72.536822                  Ghatlodia               0      3\n",
              "49  23.057801  72.549016                 Sola H B C               0      0"
            ]
          },
          "metadata": {
            "tags": []
          },
          "execution_count": 29
        }
      ]
    },
    {
      "cell_type": "markdown",
      "metadata": {
        "id": "KKPkbWKJi-kv"
      },
      "source": [
        "### Map The Clusters"
      ]
    },
    {
      "cell_type": "code",
      "metadata": {
        "colab": {
          "base_uri": "https://localhost:8080/",
          "height": 440
        },
        "id": "4Hesxk8jg9ho",
        "outputId": "c78dcf12-2fce-47db-fea9-f79929fa04b1"
      },
      "source": [
        "import matplotlib.colors as colors\n",
        "\n",
        "#Co-ordinates for the city of Ahmedabad\n",
        "latitude = 23.0225\n",
        "longitude = 72.5714\n",
        "\n",
        "# create map\n",
        "map_clusters = folium.Map(location=[latitude, longitude], zoom_start=11)\n",
        "\n",
        "# set color scheme for the clusters\n",
        "x = np.arange(kclusters)\n",
        "ys = [i + x + (i*x)**2 for i in range(kclusters)]\n",
        "colors_array = cm.rainbow(np.linspace(0, 1, len(ys)))\n",
        "rainbow = [colors.rgb2hex(i) for i in colors_array]\n",
        "\n",
        "# add markers to the map\n",
        "markers_colors = []\n",
        "for lat, lon, poi, cluster in zip(geo_df['V Lat'], geo_df['V Long'], geo_df['Neighborhood'], geo_df['Cluster Labels']):\n",
        "    label = folium.Popup(str(poi) + ' Cluster ' + str(cluster), parse_html=True)\n",
        "    folium.CircleMarker(\n",
        "        [lat, lon],\n",
        "        radius=5,\n",
        "        popup=label,\n",
        "        color=rainbow[cluster-1],\n",
        "        fill=True,\n",
        "        fill_color=rainbow[cluster-1],\n",
        "        fill_opacity=0.7).add_to(map_clusters)\n",
        "       \n",
        "map_clusters"
      ],
      "execution_count": 30,
      "outputs": [
        {
          "output_type": "execute_result",
          "data": {
            "text/html": [
              "<div style=\"width:100%;\"><div style=\"position:relative;width:100%;height:0;padding-bottom:60%;\"><span style=\"color:#565656\">Make this Notebook Trusted to load map: File -> Trust Notebook</span><iframe src=\"about:blank\" style=\"position:absolute;width:100%;height:100%;left:0;top:0;border:none !important;\" data-html=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 onload=\"this.contentDocument.open();this.contentDocument.write(atob(this.getAttribute('data-html')));this.contentDocument.close();\" allowfullscreen webkitallowfullscreen mozallowfullscreen></iframe></div></div>"
            ],
            "text/plain": [
              "<folium.folium.Map at 0x7f06ad6c70b8>"
            ]
          },
          "metadata": {
            "tags": []
          },
          "execution_count": 30
        }
      ]
    },
    {
      "cell_type": "markdown",
      "metadata": {
        "id": "IDseRFDZkxo0"
      },
      "source": [
        "#### Cluster1"
      ]
    },
    {
      "cell_type": "code",
      "metadata": {
        "id": "ZczC_y43kDMe"
      },
      "source": [
        "cluster1_df = geo_df.loc[geo_df['Cluster Labels']==0, geo_df.columns[[2] + list(range(4, geo_df.shape[1]))]]"
      ],
      "execution_count": 31,
      "outputs": []
    },
    {
      "cell_type": "code",
      "metadata": {
        "colab": {
          "base_uri": "https://localhost:8080/",
          "height": 331
        },
        "id": "bfSIl3fNHcY-",
        "outputId": "b718d8d8-514d-411b-b64b-0cfdcb62b973"
      },
      "source": [
        "print('Total Neighborhoods in Cluster-1:', cluster1_df.shape[0])\n",
        "print(cluster1_df['Venue'].mean())\n",
        "cluster1_df.describe()"
      ],
      "execution_count": 32,
      "outputs": [
        {
          "output_type": "stream",
          "text": [
            "Total Neighborhoods in Cluster-1: 26\n",
            "2.0384615384615383\n"
          ],
          "name": "stdout"
        },
        {
          "output_type": "execute_result",
          "data": {
            "text/html": [
              "<div>\n",
              "<style scoped>\n",
              "    .dataframe tbody tr th:only-of-type {\n",
              "        vertical-align: middle;\n",
              "    }\n",
              "\n",
              "    .dataframe tbody tr th {\n",
              "        vertical-align: top;\n",
              "    }\n",
              "\n",
              "    .dataframe thead th {\n",
              "        text-align: right;\n",
              "    }\n",
              "</style>\n",
              "<table border=\"1\" class=\"dataframe\">\n",
              "  <thead>\n",
              "    <tr style=\"text-align: right;\">\n",
              "      <th></th>\n",
              "      <th>Venue</th>\n",
              "    </tr>\n",
              "  </thead>\n",
              "  <tbody>\n",
              "    <tr>\n",
              "      <th>count</th>\n",
              "      <td>26.000000</td>\n",
              "    </tr>\n",
              "    <tr>\n",
              "      <th>mean</th>\n",
              "      <td>2.038462</td>\n",
              "    </tr>\n",
              "    <tr>\n",
              "      <th>std</th>\n",
              "      <td>3.458101</td>\n",
              "    </tr>\n",
              "    <tr>\n",
              "      <th>min</th>\n",
              "      <td>0.000000</td>\n",
              "    </tr>\n",
              "    <tr>\n",
              "      <th>25%</th>\n",
              "      <td>0.000000</td>\n",
              "    </tr>\n",
              "    <tr>\n",
              "      <th>50%</th>\n",
              "      <td>1.000000</td>\n",
              "    </tr>\n",
              "    <tr>\n",
              "      <th>75%</th>\n",
              "      <td>3.000000</td>\n",
              "    </tr>\n",
              "    <tr>\n",
              "      <th>max</th>\n",
              "      <td>14.000000</td>\n",
              "    </tr>\n",
              "  </tbody>\n",
              "</table>\n",
              "</div>"
            ],
            "text/plain": [
              "           Venue\n",
              "count  26.000000\n",
              "mean    2.038462\n",
              "std     3.458101\n",
              "min     0.000000\n",
              "25%     0.000000\n",
              "50%     1.000000\n",
              "75%     3.000000\n",
              "max    14.000000"
            ]
          },
          "metadata": {
            "tags": []
          },
          "execution_count": 32
        }
      ]
    },
    {
      "cell_type": "code",
      "metadata": {
        "colab": {
          "base_uri": "https://localhost:8080/",
          "height": 372
        },
        "id": "hSppd7fPnWUC",
        "outputId": "a55f9a44-dfd9-4bc1-bf40-6dc018cf6a6e"
      },
      "source": [
        "!pip install researchpy\n",
        "import researchpy as rp\n",
        "\n",
        "rp.summary_cont(cluster1_df['Venue'])"
      ],
      "execution_count": 33,
      "outputs": [
        {
          "output_type": "stream",
          "text": [
            "Collecting researchpy\n",
            "  Downloading https://files.pythonhosted.org/packages/4b/a3/b16ea25a5416f7c35824b2fc3ee1cdc9f9d8ab6d9fc4119679504d43b8a8/researchpy-0.2.3-py3-none-any.whl\n",
            "Requirement already satisfied: pandas in /usr/local/lib/python3.6/dist-packages (from researchpy) (1.1.4)\n",
            "Requirement already satisfied: numpy in /usr/local/lib/python3.6/dist-packages (from researchpy) (1.18.5)\n",
            "Requirement already satisfied: statsmodels in /usr/local/lib/python3.6/dist-packages (from researchpy) (0.10.2)\n",
            "Requirement already satisfied: scipy in /usr/local/lib/python3.6/dist-packages (from researchpy) (1.4.1)\n",
            "Requirement already satisfied: python-dateutil>=2.7.3 in /usr/local/lib/python3.6/dist-packages (from pandas->researchpy) (2.8.1)\n",
            "Requirement already satisfied: pytz>=2017.2 in /usr/local/lib/python3.6/dist-packages (from pandas->researchpy) (2018.9)\n",
            "Requirement already satisfied: patsy>=0.4.0 in /usr/local/lib/python3.6/dist-packages (from statsmodels->researchpy) (0.5.1)\n",
            "Requirement already satisfied: six>=1.5 in /usr/local/lib/python3.6/dist-packages (from python-dateutil>=2.7.3->pandas->researchpy) (1.15.0)\n",
            "Installing collected packages: researchpy\n",
            "Successfully installed researchpy-0.2.3\n",
            "\n",
            "\n"
          ],
          "name": "stdout"
        },
        {
          "output_type": "stream",
          "text": [
            "/usr/local/lib/python3.6/dist-packages/statsmodels/tools/_testing.py:19: FutureWarning: pandas.util.testing is deprecated. Use the functions in the public API at pandas.testing instead.\n",
            "  import pandas.util.testing as tm\n"
          ],
          "name": "stderr"
        },
        {
          "output_type": "execute_result",
          "data": {
            "text/html": [
              "<div>\n",
              "<style scoped>\n",
              "    .dataframe tbody tr th:only-of-type {\n",
              "        vertical-align: middle;\n",
              "    }\n",
              "\n",
              "    .dataframe tbody tr th {\n",
              "        vertical-align: top;\n",
              "    }\n",
              "\n",
              "    .dataframe thead th {\n",
              "        text-align: right;\n",
              "    }\n",
              "</style>\n",
              "<table border=\"1\" class=\"dataframe\">\n",
              "  <thead>\n",
              "    <tr style=\"text-align: right;\">\n",
              "      <th></th>\n",
              "      <th>Variable</th>\n",
              "      <th>N</th>\n",
              "      <th>Mean</th>\n",
              "      <th>SD</th>\n",
              "      <th>SE</th>\n",
              "      <th>95% Conf.</th>\n",
              "      <th>Interval</th>\n",
              "    </tr>\n",
              "  </thead>\n",
              "  <tbody>\n",
              "    <tr>\n",
              "      <th>0</th>\n",
              "      <td>Venue</td>\n",
              "      <td>26.0</td>\n",
              "      <td>2.0385</td>\n",
              "      <td>3.4581</td>\n",
              "      <td>0.6782</td>\n",
              "      <td>0.6417</td>\n",
              "      <td>3.4352</td>\n",
              "    </tr>\n",
              "  </tbody>\n",
              "</table>\n",
              "</div>"
            ],
            "text/plain": [
              "  Variable     N    Mean      SD      SE  95% Conf.  Interval\n",
              "0    Venue  26.0  2.0385  3.4581  0.6782     0.6417    3.4352"
            ]
          },
          "metadata": {
            "tags": []
          },
          "execution_count": 33
        }
      ]
    },
    {
      "cell_type": "code",
      "metadata": {
        "colab": {
          "base_uri": "https://localhost:8080/",
          "height": 606
        },
        "id": "yZc_Ir8Tk5cK",
        "outputId": "c004c202-5e0f-41fd-dfeb-45dff721936c"
      },
      "source": [
        "f, ax = plt.subplots(figsize=(10,10))\n",
        "plt.rcParams.update({'font.size': 15})\n",
        "\n",
        "plt.barh(cluster1_df.iloc[:,-2], cluster1_df.iloc[:,-1].values, color='red')\n",
        "plt.title('Pizza Places Across Cluster-1 Neighborhood', fontsize=15)\n",
        "plt.xlabel('No. Of Pizza Places', fontsize=10)\n",
        "plt.ylabel('Neighborhoods', fontsize=10)\n",
        "\n",
        "plt.show()"
      ],
      "execution_count": 34,
      "outputs": [
        {
          "output_type": "display_data",
          "data": {
            "image/png": "[encoded data removed]",
            "text/plain": [
              "<Figure size 720x720 with 1 Axes>"
            ]
          },
          "metadata": {
            "tags": [],
            "needs_background": "light"
          }
        }
      ]
    },
    {
      "cell_type": "markdown",
      "metadata": {
        "id": "DdBhLmPsm6dr"
      },
      "source": [
        "#### Cluster 2"
      ]
    },
    {
      "cell_type": "code",
      "metadata": {
        "colab": {
          "base_uri": "https://localhost:8080/",
          "height": 142
        },
        "id": "sko_8pW0lYlE",
        "outputId": "5711fb27-3244-4b01-ca01-a1ba203aeeae"
      },
      "source": [
        "cluster2_df = geo_df.loc[geo_df['Cluster Labels']==1, geo_df.columns[[2] + list(range(4, geo_df.shape[1]))]]\n",
        "cluster2_df"
      ],
      "execution_count": 35,
      "outputs": [
        {
          "output_type": "execute_result",
          "data": {
            "text/html": [
              "<div>\n",
              "<style scoped>\n",
              "    .dataframe tbody tr th:only-of-type {\n",
              "        vertical-align: middle;\n",
              "    }\n",
              "\n",
              "    .dataframe tbody tr th {\n",
              "        vertical-align: top;\n",
              "    }\n",
              "\n",
              "    .dataframe thead th {\n",
              "        text-align: right;\n",
              "    }\n",
              "</style>\n",
              "<table border=\"1\" class=\"dataframe\">\n",
              "  <thead>\n",
              "    <tr style=\"text-align: right;\">\n",
              "      <th></th>\n",
              "      <th>Neighborhood</th>\n",
              "      <th>Venue</th>\n",
              "    </tr>\n",
              "  </thead>\n",
              "  <tbody>\n",
              "    <tr>\n",
              "      <th>0</th>\n",
              "      <td>Lal Darwaja</td>\n",
              "      <td>1</td>\n",
              "    </tr>\n",
              "    <tr>\n",
              "      <th>1</th>\n",
              "      <td>Manek Chowk</td>\n",
              "      <td>4</td>\n",
              "    </tr>\n",
              "    <tr>\n",
              "      <th>2</th>\n",
              "      <td>Shahibag</td>\n",
              "      <td>3</td>\n",
              "    </tr>\n",
              "  </tbody>\n",
              "</table>\n",
              "</div>"
            ],
            "text/plain": [
              "  Neighborhood  Venue\n",
              "0  Lal Darwaja      1\n",
              "1  Manek Chowk      4\n",
              "2     Shahibag      3"
            ]
          },
          "metadata": {
            "tags": []
          },
          "execution_count": 35
        }
      ]
    },
    {
      "cell_type": "code",
      "metadata": {
        "colab": {
          "base_uri": "https://localhost:8080/"
        },
        "id": "u8qNnzuyIFPT",
        "outputId": "83ba176e-9427-47da-e820-0320bac5e282"
      },
      "source": [
        "print('Total Neighborhoods in Cluster-2:', cluster2_df.shape[0])\n",
        "cluster2_df['Venue'].mean()"
      ],
      "execution_count": 36,
      "outputs": [
        {
          "output_type": "stream",
          "text": [
            "Total Neighborhoods in Cluster-2: 3\n"
          ],
          "name": "stdout"
        },
        {
          "output_type": "execute_result",
          "data": {
            "text/plain": [
              "2.6666666666666665"
            ]
          },
          "metadata": {
            "tags": []
          },
          "execution_count": 36
        }
      ]
    },
    {
      "cell_type": "code",
      "metadata": {
        "colab": {
          "base_uri": "https://localhost:8080/",
          "height": 114
        },
        "id": "THU6jFtksLaD",
        "outputId": "3808cba6-553c-4e39-c22f-8c7e2894e75d"
      },
      "source": [
        "rp.summary_cont(cluster2_df['Venue'])"
      ],
      "execution_count": 37,
      "outputs": [
        {
          "output_type": "stream",
          "text": [
            "\n",
            "\n"
          ],
          "name": "stdout"
        },
        {
          "output_type": "execute_result",
          "data": {
            "text/html": [
              "<div>\n",
              "<style scoped>\n",
              "    .dataframe tbody tr th:only-of-type {\n",
              "        vertical-align: middle;\n",
              "    }\n",
              "\n",
              "    .dataframe tbody tr th {\n",
              "        vertical-align: top;\n",
              "    }\n",
              "\n",
              "    .dataframe thead th {\n",
              "        text-align: right;\n",
              "    }\n",
              "</style>\n",
              "<table border=\"1\" class=\"dataframe\">\n",
              "  <thead>\n",
              "    <tr style=\"text-align: right;\">\n",
              "      <th></th>\n",
              "      <th>Variable</th>\n",
              "      <th>N</th>\n",
              "      <th>Mean</th>\n",
              "      <th>SD</th>\n",
              "      <th>SE</th>\n",
              "      <th>95% Conf.</th>\n",
              "      <th>Interval</th>\n",
              "    </tr>\n",
              "  </thead>\n",
              "  <tbody>\n",
              "    <tr>\n",
              "      <th>0</th>\n",
              "      <td>Venue</td>\n",
              "      <td>3.0</td>\n",
              "      <td>2.6667</td>\n",
              "      <td>1.5275</td>\n",
              "      <td>0.8819</td>\n",
              "      <td>-1.1279</td>\n",
              "      <td>6.4612</td>\n",
              "    </tr>\n",
              "  </tbody>\n",
              "</table>\n",
              "</div>"
            ],
            "text/plain": [
              "  Variable    N    Mean      SD      SE  95% Conf.  Interval\n",
              "0    Venue  3.0  2.6667  1.5275  0.8819    -1.1279    6.4612"
            ]
          },
          "metadata": {
            "tags": []
          },
          "execution_count": 37
        }
      ]
    },
    {
      "cell_type": "code",
      "metadata": {
        "colab": {
          "base_uri": "https://localhost:8080/",
          "height": 351
        },
        "id": "cfpUVDppnKb3",
        "outputId": "5bf559b7-2376-4a6c-d174-6ef558cfb200"
      },
      "source": [
        "f, ax = plt.subplots(figsize=(8,5))\n",
        "plt.rcParams.update({'font.size': 15})\n",
        "\n",
        "plt.barh(cluster2_df.iloc[:,-2], cluster2_df.iloc[:,-1].values, color='darkviolet')\n",
        "plt.title('Pizza Places Across Cluster-2 Neighborhood', fontsize=15)\n",
        "plt.xlabel('No. Of Pizza Places', fontsize=10)\n",
        "plt.ylabel('Neighborhoods', fontsize=10)\n",
        "\n",
        "plt.show()"
      ],
      "execution_count": 38,
      "outputs": [
        {
          "output_type": "display_data",
          "data": {
            "image/png": "[encoded data removed]",
            "text/plain": [
              "<Figure size 576x360 with 1 Axes>"
            ]
          },
          "metadata": {
            "tags": [],
            "needs_background": "light"
          }
        }
      ]
    },
    {
      "cell_type": "markdown",
      "metadata": {
        "id": "fZZvGUkLEf03"
      },
      "source": [
        "#### Cluster 3"
      ]
    },
    {
      "cell_type": "code",
      "metadata": {
        "colab": {
          "base_uri": "https://localhost:8080/",
          "height": 545
        },
        "id": "6cKweJhcEhf0",
        "outputId": "4382c46c-65d2-427e-bbe0-a01e8f34a37e"
      },
      "source": [
        "cluster3_df = geo_df.loc[geo_df['Cluster Labels']==2, geo_df.columns[[2] + list(range(4, geo_df.shape[1]))]]\n",
        "cluster3_df"
      ],
      "execution_count": 39,
      "outputs": [
        {
          "output_type": "execute_result",
          "data": {
            "text/html": [
              "<div>\n",
              "<style scoped>\n",
              "    .dataframe tbody tr th:only-of-type {\n",
              "        vertical-align: middle;\n",
              "    }\n",
              "\n",
              "    .dataframe tbody tr th {\n",
              "        vertical-align: top;\n",
              "    }\n",
              "\n",
              "    .dataframe thead th {\n",
              "        text-align: right;\n",
              "    }\n",
              "</style>\n",
              "<table border=\"1\" class=\"dataframe\">\n",
              "  <thead>\n",
              "    <tr style=\"text-align: right;\">\n",
              "      <th></th>\n",
              "      <th>Neighborhood</th>\n",
              "      <th>Venue</th>\n",
              "    </tr>\n",
              "  </thead>\n",
              "  <tbody>\n",
              "    <tr>\n",
              "      <th>8</th>\n",
              "      <td>Paldi (Ahmedabad)</td>\n",
              "      <td>2</td>\n",
              "    </tr>\n",
              "    <tr>\n",
              "      <th>9</th>\n",
              "      <td>Sarkhej Road</td>\n",
              "      <td>0</td>\n",
              "    </tr>\n",
              "    <tr>\n",
              "      <th>10</th>\n",
              "      <td>Anandnagar (Ahmedabad)</td>\n",
              "      <td>13</td>\n",
              "    </tr>\n",
              "    <tr>\n",
              "      <th>11</th>\n",
              "      <td>Shardanagar</td>\n",
              "      <td>3</td>\n",
              "    </tr>\n",
              "    <tr>\n",
              "      <th>12</th>\n",
              "      <td>Narayannagar</td>\n",
              "      <td>2</td>\n",
              "    </tr>\n",
              "    <tr>\n",
              "      <th>13</th>\n",
              "      <td>Jawahar Chowk</td>\n",
              "      <td>2</td>\n",
              "    </tr>\n",
              "    <tr>\n",
              "      <th>14</th>\n",
              "      <td>Maninagar</td>\n",
              "      <td>5</td>\n",
              "    </tr>\n",
              "    <tr>\n",
              "      <th>15</th>\n",
              "      <td>Ashram Road</td>\n",
              "      <td>3</td>\n",
              "    </tr>\n",
              "    <tr>\n",
              "      <th>16</th>\n",
              "      <td>Darpan Society</td>\n",
              "      <td>6</td>\n",
              "    </tr>\n",
              "    <tr>\n",
              "      <th>17</th>\n",
              "      <td>Gujarat University</td>\n",
              "      <td>6</td>\n",
              "    </tr>\n",
              "    <tr>\n",
              "      <th>18</th>\n",
              "      <td>Navrangpura</td>\n",
              "      <td>8</td>\n",
              "    </tr>\n",
              "    <tr>\n",
              "      <th>19</th>\n",
              "      <td>Stadium Marg</td>\n",
              "      <td>1</td>\n",
              "    </tr>\n",
              "    <tr>\n",
              "      <th>20</th>\n",
              "      <td>Vadaj</td>\n",
              "      <td>0</td>\n",
              "    </tr>\n",
              "    <tr>\n",
              "      <th>21</th>\n",
              "      <td>Naranpura Vistar</td>\n",
              "      <td>0</td>\n",
              "    </tr>\n",
              "    <tr>\n",
              "      <th>22</th>\n",
              "      <td>Shastrinagar (Ahmedabad)</td>\n",
              "      <td>5</td>\n",
              "    </tr>\n",
              "    <tr>\n",
              "      <th>23</th>\n",
              "      <td>Nava Vadaj</td>\n",
              "      <td>0</td>\n",
              "    </tr>\n",
              "  </tbody>\n",
              "</table>\n",
              "</div>"
            ],
            "text/plain": [
              "                Neighborhood  Venue\n",
              "8          Paldi (Ahmedabad)      2\n",
              "9               Sarkhej Road      0\n",
              "10    Anandnagar (Ahmedabad)     13\n",
              "11               Shardanagar      3\n",
              "12              Narayannagar      2\n",
              "13             Jawahar Chowk      2\n",
              "14                 Maninagar      5\n",
              "15               Ashram Road      3\n",
              "16            Darpan Society      6\n",
              "17        Gujarat University      6\n",
              "18               Navrangpura      8\n",
              "19              Stadium Marg      1\n",
              "20                     Vadaj      0\n",
              "21          Naranpura Vistar      0\n",
              "22  Shastrinagar (Ahmedabad)      5\n",
              "23                Nava Vadaj      0"
            ]
          },
          "metadata": {
            "tags": []
          },
          "execution_count": 39
        }
      ]
    },
    {
      "cell_type": "code",
      "metadata": {
        "colab": {
          "base_uri": "https://localhost:8080/"
        },
        "id": "91bfMrceErK0",
        "outputId": "70354ff9-bfeb-45fa-d17a-64249046f002"
      },
      "source": [
        "print('Total Neighborhoods in Cluster-3:', cluster3_df.shape[0])\n",
        "cluster3_df['Venue'].mean()"
      ],
      "execution_count": 40,
      "outputs": [
        {
          "output_type": "stream",
          "text": [
            "Total Neighborhoods in Cluster-3: 16\n"
          ],
          "name": "stdout"
        },
        {
          "output_type": "execute_result",
          "data": {
            "text/plain": [
              "3.5"
            ]
          },
          "metadata": {
            "tags": []
          },
          "execution_count": 40
        }
      ]
    },
    {
      "cell_type": "code",
      "metadata": {
        "colab": {
          "base_uri": "https://localhost:8080/",
          "height": 114
        },
        "id": "67yySlmhsdgI",
        "outputId": "5cc65c3d-cee5-4673-cd49-37eba77df281"
      },
      "source": [
        "rp.summary_cont(cluster3_df['Venue'])"
      ],
      "execution_count": 41,
      "outputs": [
        {
          "output_type": "stream",
          "text": [
            "\n",
            "\n"
          ],
          "name": "stdout"
        },
        {
          "output_type": "execute_result",
          "data": {
            "text/html": [
              "<div>\n",
              "<style scoped>\n",
              "    .dataframe tbody tr th:only-of-type {\n",
              "        vertical-align: middle;\n",
              "    }\n",
              "\n",
              "    .dataframe tbody tr th {\n",
              "        vertical-align: top;\n",
              "    }\n",
              "\n",
              "    .dataframe thead th {\n",
              "        text-align: right;\n",
              "    }\n",
              "</style>\n",
              "<table border=\"1\" class=\"dataframe\">\n",
              "  <thead>\n",
              "    <tr style=\"text-align: right;\">\n",
              "      <th></th>\n",
              "      <th>Variable</th>\n",
              "      <th>N</th>\n",
              "      <th>Mean</th>\n",
              "      <th>SD</th>\n",
              "      <th>SE</th>\n",
              "      <th>95% Conf.</th>\n",
              "      <th>Interval</th>\n",
              "    </tr>\n",
              "  </thead>\n",
              "  <tbody>\n",
              "    <tr>\n",
              "      <th>0</th>\n",
              "      <td>Venue</td>\n",
              "      <td>16.0</td>\n",
              "      <td>3.5</td>\n",
              "      <td>3.559</td>\n",
              "      <td>0.8898</td>\n",
              "      <td>1.6035</td>\n",
              "      <td>5.3965</td>\n",
              "    </tr>\n",
              "  </tbody>\n",
              "</table>\n",
              "</div>"
            ],
            "text/plain": [
              "  Variable     N  Mean     SD      SE  95% Conf.  Interval\n",
              "0    Venue  16.0   3.5  3.559  0.8898     1.6035    5.3965"
            ]
          },
          "metadata": {
            "tags": []
          },
          "execution_count": 41
        }
      ]
    },
    {
      "cell_type": "code",
      "metadata": {
        "colab": {
          "base_uri": "https://localhost:8080/",
          "height": 351
        },
        "id": "v2wD2oIQEz_e",
        "outputId": "ea31b6f5-5b50-4eec-dbb9-cb0335e45336"
      },
      "source": [
        "f, ax = plt.subplots(figsize=(8,5))\n",
        "plt.rcParams.update({'font.size': 15})\n",
        "\n",
        "plt.barh(cluster3_df.iloc[:,-2], cluster3_df.iloc[:,-1].values, color='cyan')\n",
        "plt.title('Pizza Places Across Cluster-3 Neighborhood', fontsize=15)\n",
        "plt.xlabel('No. Of Pizza Places', fontsize=10)\n",
        "plt.ylabel('Neighborhoods', fontsize=10)\n",
        "\n",
        "plt.show()"
      ],
      "execution_count": 42,
      "outputs": [
        {
          "output_type": "display_data",
          "data": {
            "image/png": "[encoded data removed]",
            "text/plain": [
              "<Figure size 576x360 with 1 Axes>"
            ]
          },
          "metadata": {
            "tags": [],
            "needs_background": "light"
          }
        }
      ]
    },
    {
      "cell_type": "markdown",
      "metadata": {
        "id": "5Xqp63bpFBLO"
      },
      "source": [
        "#### Cluster 4"
      ]
    },
    {
      "cell_type": "code",
      "metadata": {
        "colab": {
          "base_uri": "https://localhost:8080/",
          "height": 204
        },
        "id": "C4Gbtf20FGk7",
        "outputId": "08b08ed8-bd4d-4afd-c7c3-2138529766ce"
      },
      "source": [
        "cluster4_df = geo_df.loc[geo_df['Cluster Labels']==3, geo_df.columns[[2] + list(range(4, geo_df.shape[1]))]]\n",
        "cluster4_df"
      ],
      "execution_count": 43,
      "outputs": [
        {
          "output_type": "execute_result",
          "data": {
            "text/html": [
              "<div>\n",
              "<style scoped>\n",
              "    .dataframe tbody tr th:only-of-type {\n",
              "        vertical-align: middle;\n",
              "    }\n",
              "\n",
              "    .dataframe tbody tr th {\n",
              "        vertical-align: top;\n",
              "    }\n",
              "\n",
              "    .dataframe thead th {\n",
              "        text-align: right;\n",
              "    }\n",
              "</style>\n",
              "<table border=\"1\" class=\"dataframe\">\n",
              "  <thead>\n",
              "    <tr style=\"text-align: right;\">\n",
              "      <th></th>\n",
              "      <th>Neighborhood</th>\n",
              "      <th>Venue</th>\n",
              "    </tr>\n",
              "  </thead>\n",
              "  <tbody>\n",
              "    <tr>\n",
              "      <th>3</th>\n",
              "      <td>Sabarmati</td>\n",
              "      <td>0</td>\n",
              "    </tr>\n",
              "    <tr>\n",
              "      <th>4</th>\n",
              "      <td>Kabir Chowk</td>\n",
              "      <td>0</td>\n",
              "    </tr>\n",
              "    <tr>\n",
              "      <th>5</th>\n",
              "      <td>Motera</td>\n",
              "      <td>1</td>\n",
              "    </tr>\n",
              "    <tr>\n",
              "      <th>6</th>\n",
              "      <td>Ambawadi (Ahmedabad)</td>\n",
              "      <td>2</td>\n",
              "    </tr>\n",
              "    <tr>\n",
              "      <th>7</th>\n",
              "      <td>Ellisbridge</td>\n",
              "      <td>0</td>\n",
              "    </tr>\n",
              "  </tbody>\n",
              "</table>\n",
              "</div>"
            ],
            "text/plain": [
              "           Neighborhood  Venue\n",
              "3             Sabarmati      0\n",
              "4           Kabir Chowk      0\n",
              "5                Motera      1\n",
              "6  Ambawadi (Ahmedabad)      2\n",
              "7           Ellisbridge      0"
            ]
          },
          "metadata": {
            "tags": []
          },
          "execution_count": 43
        }
      ]
    },
    {
      "cell_type": "code",
      "metadata": {
        "colab": {
          "base_uri": "https://localhost:8080/"
        },
        "id": "jHf9IfapFMiF",
        "outputId": "dcbe51f2-946c-406e-8315-56ff4a5501ba"
      },
      "source": [
        "print('Total Neighborhoods in Cluster-4:', cluster4_df.shape[0])\n",
        "cluster4_df['Venue'].mean()"
      ],
      "execution_count": 44,
      "outputs": [
        {
          "output_type": "stream",
          "text": [
            "Total Neighborhoods in Cluster-4: 5\n"
          ],
          "name": "stdout"
        },
        {
          "output_type": "execute_result",
          "data": {
            "text/plain": [
              "0.6"
            ]
          },
          "metadata": {
            "tags": []
          },
          "execution_count": 44
        }
      ]
    },
    {
      "cell_type": "code",
      "metadata": {
        "colab": {
          "base_uri": "https://localhost:8080/",
          "height": 114
        },
        "id": "PpNh4l2ssiKc",
        "outputId": "e85d2d30-5c91-4229-ed11-3b59b03f3894"
      },
      "source": [
        "rp.summary_cont(cluster4_df['Venue'])"
      ],
      "execution_count": 45,
      "outputs": [
        {
          "output_type": "stream",
          "text": [
            "\n",
            "\n"
          ],
          "name": "stdout"
        },
        {
          "output_type": "execute_result",
          "data": {
            "text/html": [
              "<div>\n",
              "<style scoped>\n",
              "    .dataframe tbody tr th:only-of-type {\n",
              "        vertical-align: middle;\n",
              "    }\n",
              "\n",
              "    .dataframe tbody tr th {\n",
              "        vertical-align: top;\n",
              "    }\n",
              "\n",
              "    .dataframe thead th {\n",
              "        text-align: right;\n",
              "    }\n",
              "</style>\n",
              "<table border=\"1\" class=\"dataframe\">\n",
              "  <thead>\n",
              "    <tr style=\"text-align: right;\">\n",
              "      <th></th>\n",
              "      <th>Variable</th>\n",
              "      <th>N</th>\n",
              "      <th>Mean</th>\n",
              "      <th>SD</th>\n",
              "      <th>SE</th>\n",
              "      <th>95% Conf.</th>\n",
              "      <th>Interval</th>\n",
              "    </tr>\n",
              "  </thead>\n",
              "  <tbody>\n",
              "    <tr>\n",
              "      <th>0</th>\n",
              "      <td>Venue</td>\n",
              "      <td>5.0</td>\n",
              "      <td>0.6</td>\n",
              "      <td>0.8944</td>\n",
              "      <td>0.4</td>\n",
              "      <td>-0.5106</td>\n",
              "      <td>1.7106</td>\n",
              "    </tr>\n",
              "  </tbody>\n",
              "</table>\n",
              "</div>"
            ],
            "text/plain": [
              "  Variable    N  Mean      SD   SE  95% Conf.  Interval\n",
              "0    Venue  5.0   0.6  0.8944  0.4    -0.5106    1.7106"
            ]
          },
          "metadata": {
            "tags": []
          },
          "execution_count": 45
        }
      ]
    },
    {
      "cell_type": "code",
      "metadata": {
        "colab": {
          "base_uri": "https://localhost:8080/",
          "height": 351
        },
        "id": "JM3uCn21FVhF",
        "outputId": "9cb3ba6e-bb25-47e2-b17d-6f8fbce33f65"
      },
      "source": [
        "f, ax = plt.subplots(figsize=(8,5))\n",
        "plt.rcParams.update({'font.size': 15})\n",
        "\n",
        "plt.barh(cluster4_df.iloc[:,-2], cluster4_df.iloc[:,-1].values, color='tab:olive')\n",
        "plt.title('Pizza Places Across Cluster-4 Neighborhood', fontsize=15)\n",
        "plt.xlabel('No. Of Pizza Places', fontsize=10)\n",
        "plt.ylabel('Neighborhoods', fontsize=10)\n",
        "\n",
        "plt.show()"
      ],
      "execution_count": 46,
      "outputs": [
        {
          "output_type": "display_data",
          "data": {
            "image/png": "[encoded data removed]",
            "text/plain": [
              "<Figure size 576x360 with 1 Axes>"
            ]
          },
          "metadata": {
            "tags": [],
            "needs_background": "light"
          }
        }
      ]
    },
    {
      "cell_type": "markdown",
      "metadata": {
        "id": "i-P-sRpMA7Jy"
      },
      "source": [
        "### Plot Pizza Places On The City Map"
      ]
    },
    {
      "cell_type": "code",
      "metadata": {
        "colab": {
          "base_uri": "https://localhost:8080/",
          "height": 247
        },
        "id": "ZrezovaVBkIf",
        "outputId": "38997f43-1962-48dc-e3a3-082b3a460c76"
      },
      "source": [
        "cluster4_geo = ahmedabad_venues[ahmedabad_venues['Neighborhood'].isin(cluster4_df.loc[:,'Neighborhood'].tolist())]\n",
        "cluster4_geo"
      ],
      "execution_count": 47,
      "outputs": [
        {
          "output_type": "execute_result",
          "data": {
            "text/html": [
              "<div>\n",
              "<style scoped>\n",
              "    .dataframe tbody tr th:only-of-type {\n",
              "        vertical-align: middle;\n",
              "    }\n",
              "\n",
              "    .dataframe tbody tr th {\n",
              "        vertical-align: top;\n",
              "    }\n",
              "\n",
              "    .dataframe thead th {\n",
              "        text-align: right;\n",
              "    }\n",
              "</style>\n",
              "<table border=\"1\" class=\"dataframe\">\n",
              "  <thead>\n",
              "    <tr style=\"text-align: right;\">\n",
              "      <th></th>\n",
              "      <th>Neighborhood</th>\n",
              "      <th>Neighborhood Latitude</th>\n",
              "      <th>Neighborhood Longitude</th>\n",
              "      <th>Venue ID</th>\n",
              "      <th>Venue</th>\n",
              "      <th>Venue Latitude</th>\n",
              "      <th>Venue Longitude</th>\n",
              "      <th>Venue Category</th>\n",
              "      <th>Distance</th>\n",
              "    </tr>\n",
              "  </thead>\n",
              "  <tbody>\n",
              "    <tr>\n",
              "      <th>19</th>\n",
              "      <td>Ambawadi (Ahmedabad)</td>\n",
              "      <td>23.022612</td>\n",
              "      <td>72.549083</td>\n",
              "      <td>4bd6e542cfa7b7131e3928da</td>\n",
              "      <td>Jasuben Pizza</td>\n",
              "      <td>23.020767</td>\n",
              "      <td>72.553965</td>\n",
              "      <td>Pizza Place</td>\n",
              "      <td>540</td>\n",
              "    </tr>\n",
              "    <tr>\n",
              "      <th>16</th>\n",
              "      <td>Motera</td>\n",
              "      <td>23.091703</td>\n",
              "      <td>72.597481</td>\n",
              "      <td>500ec373e4b0daa6102afcb5</td>\n",
              "      <td>The Pizza Hub</td>\n",
              "      <td>23.098003</td>\n",
              "      <td>72.598401</td>\n",
              "      <td>Pizza Place</td>\n",
              "      <td>707</td>\n",
              "    </tr>\n",
              "    <tr>\n",
              "      <th>17</th>\n",
              "      <td>Ambawadi (Ahmedabad)</td>\n",
              "      <td>23.022612</td>\n",
              "      <td>72.549083</td>\n",
              "      <td>51892418498e9cfa3b39d1c4</td>\n",
              "      <td>Pizza Hut</td>\n",
              "      <td>23.021664</td>\n",
              "      <td>72.556783</td>\n",
              "      <td>Pizza Place</td>\n",
              "      <td>795</td>\n",
              "    </tr>\n",
              "  </tbody>\n",
              "</table>\n",
              "</div>"
            ],
            "text/plain": [
              "            Neighborhood  Neighborhood Latitude  ...  Venue Category Distance\n",
              "19  Ambawadi (Ahmedabad)              23.022612  ...     Pizza Place      540\n",
              "16                Motera              23.091703  ...     Pizza Place      707\n",
              "17  Ambawadi (Ahmedabad)              23.022612  ...     Pizza Place      795\n",
              "\n",
              "[3 rows x 9 columns]"
            ]
          },
          "metadata": {
            "tags": []
          },
          "execution_count": 47
        }
      ]
    },
    {
      "cell_type": "code",
      "metadata": {
        "colab": {
          "base_uri": "https://localhost:8080/",
          "height": 440
        },
        "id": "OKCW9qatnw6M",
        "outputId": "8d8612b1-243b-4c95-ed2d-cf32c49b79af"
      },
      "source": [
        "from folium import plugins\n",
        "abad_map = folium.Map(location = [latitude, longitude], zoom_start = 11.5)\n",
        "\n",
        "restaurants = plugins.MarkerCluster().add_to(abad_map)\n",
        "\n",
        "for lat, lng, label in zip(cluster4_geo['Venue Latitude'], cluster4_geo['Venue Longitude'], cluster4_geo['Venue'] + ',' + cluster4_geo['Neighborhood']):\n",
        "    folium.Marker(\n",
        "        location=[lat, lng],\n",
        "        icon=None,\n",
        "        popup=folium.Popup(label, parse_html=True)\n",
        "    ).add_to(restaurants)\n",
        "\n",
        "abad_map"
      ],
      "execution_count": 48,
      "outputs": [
        {
          "output_type": "execute_result",
          "data": {
            "text/html": [
              "<div style=\"width:100%;\"><div style=\"position:relative;width:100%;height:0;padding-bottom:60%;\"><span style=\"color:#565656\">Make this Notebook Trusted to load map: File -> Trust Notebook</span><iframe src=\"about:blank\" style=\"position:absolute;width:100%;height:100%;left:0;top:0;border:none !important;\" data-html=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 onload=\"this.contentDocument.open();this.contentDocument.write(atob(this.getAttribute('data-html')));this.contentDocument.close();\" allowfullscreen webkitallowfullscreen mozallowfullscreen></iframe></div></div>"
            ],
            "text/plain": [
              "<folium.folium.Map at 0x7f06ab5140f0>"
            ]
          },
          "metadata": {
            "tags": []
          },
          "execution_count": 48
        }
      ]
    },
    {
      "cell_type": "code",
      "metadata": {
        "colab": {
          "base_uri": "https://localhost:8080/",
          "height": 173
        },
        "id": "P4r2eHQiCJA9",
        "outputId": "3ad51ee4-7f28-4392-e6ce-5b76dae69ade"
      },
      "source": [
        "cols = ['Cluster', 'Avg']\n",
        "lst_places = [['Cluster 1', cluster1_df['Venue'].mean()],\n",
        "              ['Cluster 2', cluster2_df['Venue'].mean()],\n",
        "              ['Cluster 3', cluster3_df['Venue'].mean()],\n",
        "              ['Cluster 4', cluster4_df['Venue'].mean()]]\n",
        "avg_plc_df = pd.DataFrame(lst_places, columns=cols)\n",
        "avg_plc_df"
      ],
      "execution_count": 49,
      "outputs": [
        {
          "output_type": "execute_result",
          "data": {
            "text/html": [
              "<div>\n",
              "<style scoped>\n",
              "    .dataframe tbody tr th:only-of-type {\n",
              "        vertical-align: middle;\n",
              "    }\n",
              "\n",
              "    .dataframe tbody tr th {\n",
              "        vertical-align: top;\n",
              "    }\n",
              "\n",
              "    .dataframe thead th {\n",
              "        text-align: right;\n",
              "    }\n",
              "</style>\n",
              "<table border=\"1\" class=\"dataframe\">\n",
              "  <thead>\n",
              "    <tr style=\"text-align: right;\">\n",
              "      <th></th>\n",
              "      <th>Cluster</th>\n",
              "      <th>Avg</th>\n",
              "    </tr>\n",
              "  </thead>\n",
              "  <tbody>\n",
              "    <tr>\n",
              "      <th>0</th>\n",
              "      <td>Cluster 1</td>\n",
              "      <td>2.038462</td>\n",
              "    </tr>\n",
              "    <tr>\n",
              "      <th>1</th>\n",
              "      <td>Cluster 2</td>\n",
              "      <td>2.666667</td>\n",
              "    </tr>\n",
              "    <tr>\n",
              "      <th>2</th>\n",
              "      <td>Cluster 3</td>\n",
              "      <td>3.500000</td>\n",
              "    </tr>\n",
              "    <tr>\n",
              "      <th>3</th>\n",
              "      <td>Cluster 4</td>\n",
              "      <td>0.600000</td>\n",
              "    </tr>\n",
              "  </tbody>\n",
              "</table>\n",
              "</div>"
            ],
            "text/plain": [
              "     Cluster       Avg\n",
              "0  Cluster 1  2.038462\n",
              "1  Cluster 2  2.666667\n",
              "2  Cluster 3  3.500000\n",
              "3  Cluster 4  0.600000"
            ]
          },
          "metadata": {
            "tags": []
          },
          "execution_count": 49
        }
      ]
    },
    {
      "cell_type": "code",
      "metadata": {
        "colab": {
          "base_uri": "https://localhost:8080/",
          "height": 294
        },
        "id": "U0vIyDEdNkBn",
        "outputId": "5e2b5e1f-19d3-4d5d-ed2f-425c8c674882"
      },
      "source": [
        "f, ax = plt.subplots(figsize=(6,4))\n",
        "plt.rcParams.update({'font.size': 15})\n",
        "\n",
        "plt.bar(avg_plc_df.iloc[:,-2], avg_plc_df.iloc[:,-1].values, color=['red','darkviolet','cyan', 'tab:olive'])\n",
        "plt.title('Average Pizza Places In Each Cluster', fontsize=12)\n",
        "plt.xlabel('Cluster', fontsize=10)\n",
        "plt.ylabel('Avg. Pizza Places', fontsize=10)\n",
        "\n",
        "plt.show()"
      ],
      "execution_count": 50,
      "outputs": [
        {
          "output_type": "display_data",
          "data": {
            "image/png": "[encoded data removed]",
            "text/plain": [
              "<Figure size 432x288 with 1 Axes>"
            ]
          },
          "metadata": {
            "tags": [],
            "needs_background": "light"
          }
        }
      ]
    },
    {
      "cell_type": "code",
      "metadata": {
        "colab": {
          "base_uri": "https://localhost:8080/"
        },
        "id": "ra906EiHOsDv",
        "outputId": "9aacd485-5b8c-4e92-9521-b0872693df0d"
      },
      "source": [
        "import scipy.stats as stats\n",
        "\n",
        "print('C1 - C4',stats.f_oneway(cluster1_df['Venue'], cluster4_df['Venue']))\n",
        "print('C2 - C4',stats.f_oneway(cluster2_df['Venue'], cluster4_df['Venue']))\n",
        "print('C3 - C4',stats.f_oneway(cluster3_df['Venue'], cluster4_df['Venue']))\n",
        "print('C1..C4',stats.f_oneway(cluster1_df['Venue'], cluster2_df['Venue'],\n",
        "                              cluster3_df['Venue'], cluster4_df['Venue']))"
      ],
      "execution_count": 51,
      "outputs": [
        {
          "output_type": "stream",
          "text": [
            "C1 - C4 F_onewayResult(statistic=0.8327928383664105, pvalue=0.3689907246453171)\n",
            "C2 - C4 F_onewayResult(statistic=6.108050847457627, pvalue=0.04836272841112637)\n",
            "C3 - C4 F_onewayResult(statistic=3.1507443557133015, pvalue=0.0919151363402473)\n",
            "C1..C4 F_onewayResult(statistic=1.2089373788253346, pvalue=0.3171103994642223)\n"
          ],
          "name": "stdout"
        }
      ]
    },
    {
      "cell_type": "code",
      "metadata": {
        "colab": {
          "base_uri": "https://localhost:8080/",
          "height": 265
        },
        "id": "H7stHkHIFBKf",
        "outputId": "646d1482-f629-4607-86fc-49b9bf9192c0"
      },
      "source": [
        "#PCA\n",
        "from sklearn.decomposition import PCA\n",
        "all_clusters = geo_df[['Cluster Labels','Venue']]\n",
        "\n",
        "acp = PCA(n_components=2).fit_transform(all_clusters)\n",
        "\n",
        "for colour,k in zip(['red','darkviolet','cyan','tab:olive'],[0,1,2,3]):\n",
        "  plt.scatter(acp[kmeans.labels_==k,0],acp[kmeans.labels_==k,1],c=colour)\n",
        "plt.show() \n"
      ],
      "execution_count": 52,
      "outputs": [
        {
          "output_type": "display_data",
          "data": {
            "image/png": "[encoded data removed]",
            "text/plain": [
              "<Figure size 432x288 with 1 Axes>"
            ]
          },
          "metadata": {
            "tags": [],
            "needs_background": "light"
          }
        }
      ]
    },
    {
      "cell_type": "code",
      "metadata": {
        "colab": {
          "base_uri": "https://localhost:8080/",
          "height": 359
        },
        "id": "voNCFvUtCKh_",
        "outputId": "3720c272-091d-428b-fdb2-7babd9496fc6"
      },
      "source": [
        "high_density_nbr = geo_df.sort_values(by='Venue', ascending=False).head(10)\n",
        "high_density_nbr"
      ],
      "execution_count": 53,
      "outputs": [
        {
          "output_type": "execute_result",
          "data": {
            "text/html": [
              "<div>\n",
              "<style scoped>\n",
              "    .dataframe tbody tr th:only-of-type {\n",
              "        vertical-align: middle;\n",
              "    }\n",
              "\n",
              "    .dataframe tbody tr th {\n",
              "        vertical-align: top;\n",
              "    }\n",
              "\n",
              "    .dataframe thead th {\n",
              "        text-align: right;\n",
              "    }\n",
              "</style>\n",
              "<table border=\"1\" class=\"dataframe\">\n",
              "  <thead>\n",
              "    <tr style=\"text-align: right;\">\n",
              "      <th></th>\n",
              "      <th>V Lat</th>\n",
              "      <th>V Long</th>\n",
              "      <th>Neighborhood</th>\n",
              "      <th>Cluster Labels</th>\n",
              "      <th>Venue</th>\n",
              "    </tr>\n",
              "  </thead>\n",
              "  <tbody>\n",
              "    <tr>\n",
              "      <th>37</th>\n",
              "      <td>23.044227</td>\n",
              "      <td>72.517458</td>\n",
              "      <td>Bodakdev</td>\n",
              "      <td>0</td>\n",
              "      <td>14</td>\n",
              "    </tr>\n",
              "    <tr>\n",
              "      <th>10</th>\n",
              "      <td>23.016075</td>\n",
              "      <td>72.509295</td>\n",
              "      <td>Anandnagar (Ahmedabad)</td>\n",
              "      <td>2</td>\n",
              "      <td>13</td>\n",
              "    </tr>\n",
              "    <tr>\n",
              "      <th>35</th>\n",
              "      <td>23.053084</td>\n",
              "      <td>72.532931</td>\n",
              "      <td>Memnagar</td>\n",
              "      <td>0</td>\n",
              "      <td>12</td>\n",
              "    </tr>\n",
              "    <tr>\n",
              "      <th>18</th>\n",
              "      <td>23.036000</td>\n",
              "      <td>72.564343</td>\n",
              "      <td>Navrangpura</td>\n",
              "      <td>2</td>\n",
              "      <td>8</td>\n",
              "    </tr>\n",
              "    <tr>\n",
              "      <th>17</th>\n",
              "      <td>23.037307</td>\n",
              "      <td>72.544748</td>\n",
              "      <td>Gujarat University</td>\n",
              "      <td>2</td>\n",
              "      <td>6</td>\n",
              "    </tr>\n",
              "    <tr>\n",
              "      <th>16</th>\n",
              "      <td>23.046712</td>\n",
              "      <td>72.553567</td>\n",
              "      <td>Darpan Society</td>\n",
              "      <td>2</td>\n",
              "      <td>6</td>\n",
              "    </tr>\n",
              "    <tr>\n",
              "      <th>14</th>\n",
              "      <td>22.997713</td>\n",
              "      <td>72.606717</td>\n",
              "      <td>Maninagar</td>\n",
              "      <td>2</td>\n",
              "      <td>5</td>\n",
              "    </tr>\n",
              "    <tr>\n",
              "      <th>22</th>\n",
              "      <td>23.062423</td>\n",
              "      <td>72.553180</td>\n",
              "      <td>Shastrinagar (Ahmedabad)</td>\n",
              "      <td>2</td>\n",
              "      <td>5</td>\n",
              "    </tr>\n",
              "    <tr>\n",
              "      <th>1</th>\n",
              "      <td>23.023180</td>\n",
              "      <td>72.588952</td>\n",
              "      <td>Manek Chowk</td>\n",
              "      <td>1</td>\n",
              "      <td>4</td>\n",
              "    </tr>\n",
              "    <tr>\n",
              "      <th>29</th>\n",
              "      <td>23.029157</td>\n",
              "      <td>72.532752</td>\n",
              "      <td>Azad Society</td>\n",
              "      <td>0</td>\n",
              "      <td>3</td>\n",
              "    </tr>\n",
              "  </tbody>\n",
              "</table>\n",
              "</div>"
            ],
            "text/plain": [
              "        V Lat     V Long              Neighborhood  Cluster Labels  Venue\n",
              "37  23.044227  72.517458                  Bodakdev               0     14\n",
              "10  23.016075  72.509295    Anandnagar (Ahmedabad)               2     13\n",
              "35  23.053084  72.532931                  Memnagar               0     12\n",
              "18  23.036000  72.564343               Navrangpura               2      8\n",
              "17  23.037307  72.544748        Gujarat University               2      6\n",
              "16  23.046712  72.553567            Darpan Society               2      6\n",
              "14  22.997713  72.606717                 Maninagar               2      5\n",
              "22  23.062423  72.553180  Shastrinagar (Ahmedabad)               2      5\n",
              "1   23.023180  72.588952               Manek Chowk               1      4\n",
              "29  23.029157  72.532752              Azad Society               0      3"
            ]
          },
          "metadata": {
            "tags": []
          },
          "execution_count": 53
        }
      ]
    },
    {
      "cell_type": "markdown",
      "metadata": {
        "id": "zN2Pr3ujTXJp"
      },
      "source": [
        "#### Define Function To Explore Neighborhood"
      ]
    },
    {
      "cell_type": "code",
      "metadata": {
        "id": "4T4bkZGvSz6d"
      },
      "source": [
        "def getNearbyVenues(names, latitudes, longitudes, radius=1100):\n",
        "    \n",
        "    venues_list=[]\n",
        "    for name, lat, lng in zip(names, latitudes, longitudes):\n",
        "        print(name)\n",
        "            \n",
        "        # create the API request URL\n",
        "        url = 'https://api.foursquare.com/v2/venues/explore?&client_id={}&client_secret={}&v={}&ll={},{}&radius={}&limit={}'.format(\n",
        "            CLIENT_ID, \n",
        "            CLIENT_SECRET, \n",
        "            VERSION, \n",
        "            lat, \n",
        "            lng, \n",
        "            radius, \n",
        "            LIMIT)\n",
        "            \n",
        "        # make the GET request\n",
        "        results = requests.get(url).json()[\"response\"]['groups'][0]['items']\n",
        "        \n",
        "        # return only relevant information for each nearby venue\n",
        "        venues_list.append([(\n",
        "            name, \n",
        "            lat, \n",
        "            lng, \n",
        "            v['venue']['id'],\n",
        "            v['venue']['name'], \n",
        "            v['venue']['location']['lat'], \n",
        "            v['venue']['location']['lng'],  \n",
        "            v['venue']['categories'][0]['name']) for v in results])\n",
        "\n",
        "    nearby_venues = pd.DataFrame([item for venue_list in venues_list for item in venue_list])\n",
        "    nearby_venues.columns = ['Neighborhood', \n",
        "                  'Neighborhood Latitude', \n",
        "                  'Neighborhood Longitude', \n",
        "                  'Venue ID',           \n",
        "                  'Venue', \n",
        "                  'Venue Latitude', \n",
        "                  'Venue Longitude', \n",
        "                  'Venue Category']\n",
        "    \n",
        "    return(nearby_venues)"
      ],
      "execution_count": 54,
      "outputs": []
    },
    {
      "cell_type": "code",
      "metadata": {
        "colab": {
          "base_uri": "https://localhost:8080/",
          "height": 513
        },
        "id": "qZXaf_FGTkaD",
        "outputId": "f7554c43-11b3-4116-fc3e-6e4a6f1f539e"
      },
      "source": [
        "all_venues = getNearbyVenues(\n",
        "                                     names = high_density_nbr['Neighborhood'],\n",
        "                                     latitudes = high_density_nbr['V Lat'],\n",
        "                                     longitudes = high_density_nbr['V Long'],\n",
        "                                 )\n",
        "all_venues.head()"
      ],
      "execution_count": 55,
      "outputs": [
        {
          "output_type": "stream",
          "text": [
            "Bodakdev\n",
            "Anandnagar (Ahmedabad)\n",
            "Memnagar\n",
            "Navrangpura\n",
            "Gujarat University\n",
            "Darpan Society\n",
            "Maninagar\n",
            "Shastrinagar (Ahmedabad)\n",
            "Manek Chowk\n",
            "Azad Society\n"
          ],
          "name": "stdout"
        },
        {
          "output_type": "execute_result",
          "data": {
            "text/html": [
              "<div>\n",
              "<style scoped>\n",
              "    .dataframe tbody tr th:only-of-type {\n",
              "        vertical-align: middle;\n",
              "    }\n",
              "\n",
              "    .dataframe tbody tr th {\n",
              "        vertical-align: top;\n",
              "    }\n",
              "\n",
              "    .dataframe thead th {\n",
              "        text-align: right;\n",
              "    }\n",
              "</style>\n",
              "<table border=\"1\" class=\"dataframe\">\n",
              "  <thead>\n",
              "    <tr style=\"text-align: right;\">\n",
              "      <th></th>\n",
              "      <th>Neighborhood</th>\n",
              "      <th>Neighborhood Latitude</th>\n",
              "      <th>Neighborhood Longitude</th>\n",
              "      <th>Venue ID</th>\n",
              "      <th>Venue</th>\n",
              "      <th>Venue Latitude</th>\n",
              "      <th>Venue Longitude</th>\n",
              "      <th>Venue Category</th>\n",
              "    </tr>\n",
              "  </thead>\n",
              "  <tbody>\n",
              "    <tr>\n",
              "      <th>0</th>\n",
              "      <td>Bodakdev</td>\n",
              "      <td>23.044227</td>\n",
              "      <td>72.517458</td>\n",
              "      <td>4ee0f40e7ee54945fe4de077</td>\n",
              "      <td>Apna Adda</td>\n",
              "      <td>23.043714</td>\n",
              "      <td>72.514701</td>\n",
              "      <td>Coffee Shop</td>\n",
              "    </tr>\n",
              "    <tr>\n",
              "      <th>1</th>\n",
              "      <td>Bodakdev</td>\n",
              "      <td>23.044227</td>\n",
              "      <td>72.517458</td>\n",
              "      <td>4c9f09eed3c2b60cbe35d1bc</td>\n",
              "      <td>PVR Cinemas</td>\n",
              "      <td>23.048943</td>\n",
              "      <td>72.516024</td>\n",
              "      <td>Multiplex</td>\n",
              "    </tr>\n",
              "    <tr>\n",
              "      <th>2</th>\n",
              "      <td>Bodakdev</td>\n",
              "      <td>23.044227</td>\n",
              "      <td>72.517458</td>\n",
              "      <td>4fcba949e4b0e33fd4f0eca5</td>\n",
              "      <td>Cravingz</td>\n",
              "      <td>23.048866</td>\n",
              "      <td>72.516107</td>\n",
              "      <td>Ice Cream Shop</td>\n",
              "    </tr>\n",
              "    <tr>\n",
              "      <th>3</th>\n",
              "      <td>Bodakdev</td>\n",
              "      <td>23.044227</td>\n",
              "      <td>72.517458</td>\n",
              "      <td>5247073b498e70435ef93e1a</td>\n",
              "      <td>Souq - bistro &amp; grills</td>\n",
              "      <td>23.048991</td>\n",
              "      <td>72.515867</td>\n",
              "      <td>Mediterranean Restaurant</td>\n",
              "    </tr>\n",
              "    <tr>\n",
              "      <th>4</th>\n",
              "      <td>Bodakdev</td>\n",
              "      <td>23.044227</td>\n",
              "      <td>72.517458</td>\n",
              "      <td>4d4bddada22c224be8bdf393</td>\n",
              "      <td>Subway</td>\n",
              "      <td>23.048850</td>\n",
              "      <td>72.516126</td>\n",
              "      <td>Sandwich Place</td>\n",
              "    </tr>\n",
              "  </tbody>\n",
              "</table>\n",
              "</div>"
            ],
            "text/plain": [
              "  Neighborhood  ...            Venue Category\n",
              "0     Bodakdev  ...               Coffee Shop\n",
              "1     Bodakdev  ...                 Multiplex\n",
              "2     Bodakdev  ...            Ice Cream Shop\n",
              "3     Bodakdev  ...  Mediterranean Restaurant\n",
              "4     Bodakdev  ...            Sandwich Place\n",
              "\n",
              "[5 rows x 8 columns]"
            ]
          },
          "metadata": {
            "tags": []
          },
          "execution_count": 55
        }
      ]
    },
    {
      "cell_type": "code",
      "metadata": {
        "id": "T4h7zyNTUKBz"
      },
      "source": [
        "all_venues.drop_duplicates(subset=['Venue ID'], keep='first', inplace=True)"
      ],
      "execution_count": 56,
      "outputs": []
    },
    {
      "cell_type": "code",
      "metadata": {
        "colab": {
          "base_uri": "https://localhost:8080/",
          "height": 359
        },
        "id": "JTFxuB3CT40H",
        "outputId": "97aae9d7-a4dd-453b-8ac1-b3372d8f184d"
      },
      "source": [
        "top_venues = pd.DataFrame(all_venues.groupby('Venue Category').count()['Neighborhood']).sort_values(by='Neighborhood', ascending=False)\n",
        "top_venues.reset_index(inplace=True)\n",
        "top_venues = top_venues.head(10)\n",
        "top_venues.rename(columns={'Neighborhood':'Venue count'}, inplace=True)\n",
        "top_venues"
      ],
      "execution_count": 76,
      "outputs": [
        {
          "output_type": "execute_result",
          "data": {
            "text/html": [
              "<div>\n",
              "<style scoped>\n",
              "    .dataframe tbody tr th:only-of-type {\n",
              "        vertical-align: middle;\n",
              "    }\n",
              "\n",
              "    .dataframe tbody tr th {\n",
              "        vertical-align: top;\n",
              "    }\n",
              "\n",
              "    .dataframe thead th {\n",
              "        text-align: right;\n",
              "    }\n",
              "</style>\n",
              "<table border=\"1\" class=\"dataframe\">\n",
              "  <thead>\n",
              "    <tr style=\"text-align: right;\">\n",
              "      <th></th>\n",
              "      <th>Venue Category</th>\n",
              "      <th>Venue count</th>\n",
              "    </tr>\n",
              "  </thead>\n",
              "  <tbody>\n",
              "    <tr>\n",
              "      <th>0</th>\n",
              "      <td>Indian Restaurant</td>\n",
              "      <td>34</td>\n",
              "    </tr>\n",
              "    <tr>\n",
              "      <th>1</th>\n",
              "      <td>Café</td>\n",
              "      <td>33</td>\n",
              "    </tr>\n",
              "    <tr>\n",
              "      <th>2</th>\n",
              "      <td>Fast Food Restaurant</td>\n",
              "      <td>20</td>\n",
              "    </tr>\n",
              "    <tr>\n",
              "      <th>3</th>\n",
              "      <td>Pizza Place</td>\n",
              "      <td>13</td>\n",
              "    </tr>\n",
              "    <tr>\n",
              "      <th>4</th>\n",
              "      <td>Coffee Shop</td>\n",
              "      <td>12</td>\n",
              "    </tr>\n",
              "    <tr>\n",
              "      <th>5</th>\n",
              "      <td>Hotel</td>\n",
              "      <td>11</td>\n",
              "    </tr>\n",
              "    <tr>\n",
              "      <th>6</th>\n",
              "      <td>Sandwich Place</td>\n",
              "      <td>11</td>\n",
              "    </tr>\n",
              "    <tr>\n",
              "      <th>7</th>\n",
              "      <td>Restaurant</td>\n",
              "      <td>11</td>\n",
              "    </tr>\n",
              "    <tr>\n",
              "      <th>8</th>\n",
              "      <td>Vegetarian / Vegan Restaurant</td>\n",
              "      <td>8</td>\n",
              "    </tr>\n",
              "    <tr>\n",
              "      <th>9</th>\n",
              "      <td>Ice Cream Shop</td>\n",
              "      <td>8</td>\n",
              "    </tr>\n",
              "  </tbody>\n",
              "</table>\n",
              "</div>"
            ],
            "text/plain": [
              "                  Venue Category  Venue count\n",
              "0              Indian Restaurant           34\n",
              "1                           Café           33\n",
              "2           Fast Food Restaurant           20\n",
              "3                    Pizza Place           13\n",
              "4                    Coffee Shop           12\n",
              "5                          Hotel           11\n",
              "6                 Sandwich Place           11\n",
              "7                     Restaurant           11\n",
              "8  Vegetarian / Vegan Restaurant            8\n",
              "9                 Ice Cream Shop            8"
            ]
          },
          "metadata": {
            "tags": []
          },
          "execution_count": 76
        }
      ]
    },
    {
      "cell_type": "code",
      "metadata": {
        "colab": {
          "base_uri": "https://localhost:8080/",
          "height": 351
        },
        "id": "JRnT9N13VE4v",
        "outputId": "daabc7a0-02db-4a92-acd4-f62bc8bb6655"
      },
      "source": [
        "f, ax = plt.subplots(figsize=(8,5))\n",
        "plt.rcParams.update({'font.size': 15})\n",
        "\n",
        "plt.barh(top_venues.iloc[:,-2], top_venues.iloc[:,-1].values, color='cyan')\n",
        "plt.title('Top Venue Categories In Neighborhood Having More Pizza Joints', fontsize=15)\n",
        "plt.xlabel('Venue Count', fontsize=10)\n",
        "plt.ylabel('Venue Category', fontsize=10)\n",
        "\n",
        "plt.show()"
      ],
      "execution_count": 58,
      "outputs": [
        {
          "output_type": "display_data",
          "data": {
            "image/png": "[encoded data removed]",
            "text/plain": [
              "<Figure size 576x360 with 1 Axes>"
            ]
          },
          "metadata": {
            "tags": [],
            "needs_background": "light"
          }
        }
      ]
    },
    {
      "cell_type": "markdown",
      "metadata": {
        "id": "F4zlgSk7YTlT"
      },
      "source": [
        "#### Explore Cluster 4 Neighborhoods"
      ]
    },
    {
      "cell_type": "code",
      "metadata": {
        "colab": {
          "base_uri": "https://localhost:8080/",
          "height": 204
        },
        "id": "wQXK0FEKWjVK",
        "outputId": "308361a6-ef33-43b9-bf1e-3d7db37c8527"
      },
      "source": [
        "cluster4_nbr = geo_df[geo_df['Cluster Labels']==3]\n",
        "cluster4_nbr"
      ],
      "execution_count": 59,
      "outputs": [
        {
          "output_type": "execute_result",
          "data": {
            "text/html": [
              "<div>\n",
              "<style scoped>\n",
              "    .dataframe tbody tr th:only-of-type {\n",
              "        vertical-align: middle;\n",
              "    }\n",
              "\n",
              "    .dataframe tbody tr th {\n",
              "        vertical-align: top;\n",
              "    }\n",
              "\n",
              "    .dataframe thead th {\n",
              "        text-align: right;\n",
              "    }\n",
              "</style>\n",
              "<table border=\"1\" class=\"dataframe\">\n",
              "  <thead>\n",
              "    <tr style=\"text-align: right;\">\n",
              "      <th></th>\n",
              "      <th>V Lat</th>\n",
              "      <th>V Long</th>\n",
              "      <th>Neighborhood</th>\n",
              "      <th>Cluster Labels</th>\n",
              "      <th>Venue</th>\n",
              "    </tr>\n",
              "  </thead>\n",
              "  <tbody>\n",
              "    <tr>\n",
              "      <th>3</th>\n",
              "      <td>23.083993</td>\n",
              "      <td>72.587619</td>\n",
              "      <td>Sabarmati</td>\n",
              "      <td>3</td>\n",
              "      <td>0</td>\n",
              "    </tr>\n",
              "    <tr>\n",
              "      <th>4</th>\n",
              "      <td>23.087505</td>\n",
              "      <td>72.585701</td>\n",
              "      <td>Kabir Chowk</td>\n",
              "      <td>3</td>\n",
              "      <td>0</td>\n",
              "    </tr>\n",
              "    <tr>\n",
              "      <th>5</th>\n",
              "      <td>23.091703</td>\n",
              "      <td>72.597481</td>\n",
              "      <td>Motera</td>\n",
              "      <td>3</td>\n",
              "      <td>1</td>\n",
              "    </tr>\n",
              "    <tr>\n",
              "      <th>6</th>\n",
              "      <td>23.022612</td>\n",
              "      <td>72.549083</td>\n",
              "      <td>Ambawadi (Ahmedabad)</td>\n",
              "      <td>3</td>\n",
              "      <td>2</td>\n",
              "    </tr>\n",
              "    <tr>\n",
              "      <th>7</th>\n",
              "      <td>23.022886</td>\n",
              "      <td>72.571642</td>\n",
              "      <td>Ellisbridge</td>\n",
              "      <td>3</td>\n",
              "      <td>0</td>\n",
              "    </tr>\n",
              "  </tbody>\n",
              "</table>\n",
              "</div>"
            ],
            "text/plain": [
              "       V Lat     V Long          Neighborhood  Cluster Labels  Venue\n",
              "3  23.083993  72.587619             Sabarmati               3      0\n",
              "4  23.087505  72.585701           Kabir Chowk               3      0\n",
              "5  23.091703  72.597481                Motera               3      1\n",
              "6  23.022612  72.549083  Ambawadi (Ahmedabad)               3      2\n",
              "7  23.022886  72.571642           Ellisbridge               3      0"
            ]
          },
          "metadata": {
            "tags": []
          },
          "execution_count": 59
        }
      ]
    },
    {
      "cell_type": "code",
      "metadata": {
        "colab": {
          "base_uri": "https://localhost:8080/",
          "height": 445
        },
        "id": "dzyhGMetYjU6",
        "outputId": "c28a3377-32b6-4371-a001-c6d700792a32"
      },
      "source": [
        "c4_venues = getNearbyVenues(\n",
        "                                     names = cluster4_nbr['Neighborhood'],\n",
        "                                     latitudes = cluster4_nbr['V Lat'],\n",
        "                                     longitudes = cluster4_nbr['V Long'],\n",
        "                                 )\n",
        "c4_venues.head()"
      ],
      "execution_count": 60,
      "outputs": [
        {
          "output_type": "stream",
          "text": [
            "Sabarmati\n",
            "Kabir Chowk\n",
            "Motera\n",
            "Ambawadi (Ahmedabad)\n",
            "Ellisbridge\n"
          ],
          "name": "stdout"
        },
        {
          "output_type": "execute_result",
          "data": {
            "text/html": [
              "<div>\n",
              "<style scoped>\n",
              "    .dataframe tbody tr th:only-of-type {\n",
              "        vertical-align: middle;\n",
              "    }\n",
              "\n",
              "    .dataframe tbody tr th {\n",
              "        vertical-align: top;\n",
              "    }\n",
              "\n",
              "    .dataframe thead th {\n",
              "        text-align: right;\n",
              "    }\n",
              "</style>\n",
              "<table border=\"1\" class=\"dataframe\">\n",
              "  <thead>\n",
              "    <tr style=\"text-align: right;\">\n",
              "      <th></th>\n",
              "      <th>Neighborhood</th>\n",
              "      <th>Neighborhood Latitude</th>\n",
              "      <th>Neighborhood Longitude</th>\n",
              "      <th>Venue ID</th>\n",
              "      <th>Venue</th>\n",
              "      <th>Venue Latitude</th>\n",
              "      <th>Venue Longitude</th>\n",
              "      <th>Venue Category</th>\n",
              "    </tr>\n",
              "  </thead>\n",
              "  <tbody>\n",
              "    <tr>\n",
              "      <th>0</th>\n",
              "      <td>Sabarmati</td>\n",
              "      <td>23.083993</td>\n",
              "      <td>72.587619</td>\n",
              "      <td>4ead38a86c250091a225e2cc</td>\n",
              "      <td>Maharaj Snacks</td>\n",
              "      <td>23.083980</td>\n",
              "      <td>72.589414</td>\n",
              "      <td>Fast Food Restaurant</td>\n",
              "    </tr>\n",
              "    <tr>\n",
              "      <th>1</th>\n",
              "      <td>Sabarmati</td>\n",
              "      <td>23.083993</td>\n",
              "      <td>72.587619</td>\n",
              "      <td>53f85285498e1ef0fdedd5a9</td>\n",
              "      <td>Shakti The Sandwich Shop</td>\n",
              "      <td>23.086158</td>\n",
              "      <td>72.588658</td>\n",
              "      <td>Sandwich Place</td>\n",
              "    </tr>\n",
              "    <tr>\n",
              "      <th>2</th>\n",
              "      <td>Sabarmati</td>\n",
              "      <td>23.083993</td>\n",
              "      <td>72.587619</td>\n",
              "      <td>502d3df9e4b0f9a2dc4baa84</td>\n",
              "      <td>River Front</td>\n",
              "      <td>23.086647</td>\n",
              "      <td>72.587283</td>\n",
              "      <td>River</td>\n",
              "    </tr>\n",
              "    <tr>\n",
              "      <th>3</th>\n",
              "      <td>Sabarmati</td>\n",
              "      <td>23.083993</td>\n",
              "      <td>72.587619</td>\n",
              "      <td>4e070364d22d658532a3685f</td>\n",
              "      <td>City Gold</td>\n",
              "      <td>23.088546</td>\n",
              "      <td>72.590189</td>\n",
              "      <td>Multiplex</td>\n",
              "    </tr>\n",
              "    <tr>\n",
              "      <th>4</th>\n",
              "      <td>Sabarmati</td>\n",
              "      <td>23.083993</td>\n",
              "      <td>72.587619</td>\n",
              "      <td>4dbea46eced7ea5898dce582</td>\n",
              "      <td>Sabarmati Railway Station</td>\n",
              "      <td>23.077659</td>\n",
              "      <td>72.588537</td>\n",
              "      <td>Train Station</td>\n",
              "    </tr>\n",
              "  </tbody>\n",
              "</table>\n",
              "</div>"
            ],
            "text/plain": [
              "  Neighborhood  Neighborhood Latitude  ...  Venue Longitude        Venue Category\n",
              "0    Sabarmati              23.083993  ...        72.589414  Fast Food Restaurant\n",
              "1    Sabarmati              23.083993  ...        72.588658        Sandwich Place\n",
              "2    Sabarmati              23.083993  ...        72.587283                 River\n",
              "3    Sabarmati              23.083993  ...        72.590189             Multiplex\n",
              "4    Sabarmati              23.083993  ...        72.588537         Train Station\n",
              "\n",
              "[5 rows x 8 columns]"
            ]
          },
          "metadata": {
            "tags": []
          },
          "execution_count": 60
        }
      ]
    },
    {
      "cell_type": "code",
      "metadata": {
        "id": "vmgOeRedYxTe"
      },
      "source": [
        "c4_venues.drop_duplicates(subset=['Venue ID'], keep='first', inplace=True)"
      ],
      "execution_count": 61,
      "outputs": []
    },
    {
      "cell_type": "code",
      "metadata": {
        "colab": {
          "base_uri": "https://localhost:8080/",
          "height": 359
        },
        "id": "LxciVRn9Y7wv",
        "outputId": "f9188c20-85e2-4a4c-e4af-35a40137915b"
      },
      "source": [
        "c4_top_venues = pd.DataFrame(c4_venues.groupby('Venue Category').count()['Neighborhood']).sort_values(by='Neighborhood', ascending=False)\n",
        "c4_top_venues.reset_index(inplace=True)\n",
        "c4_top_venues = c4_top_venues.head(10)\n",
        "c4_top_venues"
      ],
      "execution_count": 62,
      "outputs": [
        {
          "output_type": "execute_result",
          "data": {
            "text/html": [
              "<div>\n",
              "<style scoped>\n",
              "    .dataframe tbody tr th:only-of-type {\n",
              "        vertical-align: middle;\n",
              "    }\n",
              "\n",
              "    .dataframe tbody tr th {\n",
              "        vertical-align: top;\n",
              "    }\n",
              "\n",
              "    .dataframe thead th {\n",
              "        text-align: right;\n",
              "    }\n",
              "</style>\n",
              "<table border=\"1\" class=\"dataframe\">\n",
              "  <thead>\n",
              "    <tr style=\"text-align: right;\">\n",
              "      <th></th>\n",
              "      <th>Venue Category</th>\n",
              "      <th>Neighborhood</th>\n",
              "    </tr>\n",
              "  </thead>\n",
              "  <tbody>\n",
              "    <tr>\n",
              "      <th>0</th>\n",
              "      <td>Café</td>\n",
              "      <td>13</td>\n",
              "    </tr>\n",
              "    <tr>\n",
              "      <th>1</th>\n",
              "      <td>Indian Restaurant</td>\n",
              "      <td>13</td>\n",
              "    </tr>\n",
              "    <tr>\n",
              "      <th>2</th>\n",
              "      <td>Fast Food Restaurant</td>\n",
              "      <td>9</td>\n",
              "    </tr>\n",
              "    <tr>\n",
              "      <th>3</th>\n",
              "      <td>Hotel</td>\n",
              "      <td>7</td>\n",
              "    </tr>\n",
              "    <tr>\n",
              "      <th>4</th>\n",
              "      <td>Shopping Mall</td>\n",
              "      <td>3</td>\n",
              "    </tr>\n",
              "    <tr>\n",
              "      <th>5</th>\n",
              "      <td>Sandwich Place</td>\n",
              "      <td>3</td>\n",
              "    </tr>\n",
              "    <tr>\n",
              "      <th>6</th>\n",
              "      <td>River</td>\n",
              "      <td>3</td>\n",
              "    </tr>\n",
              "    <tr>\n",
              "      <th>7</th>\n",
              "      <td>Restaurant</td>\n",
              "      <td>3</td>\n",
              "    </tr>\n",
              "    <tr>\n",
              "      <th>8</th>\n",
              "      <td>Pizza Place</td>\n",
              "      <td>3</td>\n",
              "    </tr>\n",
              "    <tr>\n",
              "      <th>9</th>\n",
              "      <td>Mexican Restaurant</td>\n",
              "      <td>3</td>\n",
              "    </tr>\n",
              "  </tbody>\n",
              "</table>\n",
              "</div>"
            ],
            "text/plain": [
              "         Venue Category  Neighborhood\n",
              "0                  Café            13\n",
              "1     Indian Restaurant            13\n",
              "2  Fast Food Restaurant             9\n",
              "3                 Hotel             7\n",
              "4         Shopping Mall             3\n",
              "5        Sandwich Place             3\n",
              "6                 River             3\n",
              "7            Restaurant             3\n",
              "8           Pizza Place             3\n",
              "9    Mexican Restaurant             3"
            ]
          },
          "metadata": {
            "tags": []
          },
          "execution_count": 62
        }
      ]
    },
    {
      "cell_type": "code",
      "metadata": {
        "colab": {
          "base_uri": "https://localhost:8080/",
          "height": 351
        },
        "id": "KzCXxSN-ZKbX",
        "outputId": "7c6bc5ae-e0ab-4f81-b687-67ac75226212"
      },
      "source": [
        "f, ax = plt.subplots(figsize=(8,5))\n",
        "plt.rcParams.update({'font.size': 15})\n",
        "\n",
        "plt.barh(c4_top_venues.iloc[:,-2], c4_top_venues.iloc[:,-1].values, color='cyan')\n",
        "plt.title('Top Venue Categories In Proposed Cluster', fontsize=15)\n",
        "plt.xlabel('Venue Count', fontsize=10)\n",
        "plt.ylabel('Venue Category', fontsize=10)\n",
        "\n",
        "plt.show()"
      ],
      "execution_count": 63,
      "outputs": [
        {
          "output_type": "display_data",
          "data": {
            "image/png": "[encoded data removed]",
            "text/plain": [
              "<Figure size 576x360 with 1 Axes>"
            ]
          },
          "metadata": {
            "tags": [],
            "needs_background": "light"
          }
        }
      ]
    },
    {
      "cell_type": "markdown",
      "metadata": {
        "id": "n3Rg1bBG_Gzl"
      },
      "source": [
        "#### Define Jaccard Similarity Score Function"
      ]
    },
    {
      "cell_type": "code",
      "metadata": {
        "id": "CrF5U8ZEwdtL"
      },
      "source": [
        "def jaccard_similarity(list1, list2):\n",
        "    intersection = len(list(set(list1).intersection(list2)))\n",
        "    union = (len(list1) + len(list2)) - intersection\n",
        "    return float(intersection) / union"
      ],
      "execution_count": 118,
      "outputs": []
    },
    {
      "cell_type": "markdown",
      "metadata": {
        "id": "5WdSagPIpYn8"
      },
      "source": [
        "#### Let's Check the Similarity of the Neighborhoods Having Most Pizza Places With the Proposed Cluster"
      ]
    },
    {
      "cell_type": "code",
      "metadata": {
        "colab": {
          "base_uri": "https://localhost:8080/"
        },
        "id": "Fh4jUiUEZWf7",
        "outputId": "3bda78a2-0470-421b-9d03-d6d89c8fb48a"
      },
      "source": [
        "from sklearn.metrics import jaccard_score\n",
        "# from sklearn.preprocessing import LabelEncoder\n",
        "\n",
        "X1 = top_venues.iloc[:,0].values.tolist()\n",
        "X2 = c4_top_venues.iloc[:,0].values.tolist()\n",
        "\n",
        "# le = LabelEncoder()\n",
        "# y = X1 + X2\n",
        "# z = pd.DataFrame(le.fit_transform(y))\n",
        "# y = pd.DataFrame(y)\n",
        "# y = pd.concat([y, z], axis=1, ignore_index=True)\n",
        "\n",
        "# print(y)\n",
        "# X1 = y.iloc[0:10, -1].values\n",
        "# print(X1)\n",
        "# X2 = y.iloc[10:20, -1].values\n",
        "# print(X2)\n",
        "# jscore = jaccard_score(X1, X2, average='weighted')\n",
        "jscore = jaccard_similarity(X1,X2)\n",
        "print('The Jaccard Similarity Score With Cluster-4 is', jscore)"
      ],
      "execution_count": 119,
      "outputs": [
        {
          "output_type": "stream",
          "text": [
            "The Jaccard Similarity Score With Cluster-4 is 0.5384615384615384\n"
          ],
          "name": "stdout"
        }
      ]
    },
    {
      "cell_type": "markdown",
      "metadata": {
        "id": "iPsMz0Rtv4yX"
      },
      "source": [
        "#### Explore Cluster 1 Neighborhoods"
      ]
    },
    {
      "cell_type": "code",
      "metadata": {
        "colab": {
          "base_uri": "https://localhost:8080/"
        },
        "id": "k3jcLasHv8Ck",
        "outputId": "dade5c90-9435-48b2-f1a0-3d1381841486"
      },
      "source": [
        "cluster1_nbr = geo_df[geo_df['Cluster Labels']==0]\n",
        "c1_venues = getNearbyVenues(\n",
        "                                     names = cluster1_nbr['Neighborhood'],\n",
        "                                     latitudes = cluster1_nbr['V Lat'],\n",
        "                                     longitudes = cluster1_nbr['V Long'],\n",
        "                                 )\n",
        "c1_venues.head()\n",
        "c1_venues.drop_duplicates(subset=['Venue ID'], keep='first', inplace=True)\n",
        "c1_top_venues = pd.DataFrame(c1_venues.groupby('Venue Category').count()['Neighborhood']).sort_values(by='Neighborhood', ascending=False)\n",
        "c1_top_venues.reset_index(inplace=True)"
      ],
      "execution_count": 65,
      "outputs": [
        {
          "output_type": "stream",
          "text": [
            "Navjivan\n",
            "Jodhpur Char Rasta\n",
            "I I M\n",
            "Manekbag\n",
            "Polytechnic (Ahmedabad)\n",
            "Azad Society\n",
            "Meghaningar\n",
            "Gita Mandir Road\n",
            "Civil Hospital\n",
            "Gandhi Ashram (Ahmedabad)\n",
            "Jivraj Park\n",
            "Memnagar\n",
            "Thaltej Road\n",
            "Bodakdev\n",
            "Juhapura\n",
            "Bopal\n",
            "Ghuma\n",
            "Ambli\n",
            "Shela\n",
            "Thaltej\n",
            "Shilaj\n",
            "Sola\n",
            "Bhadaj\n",
            "Ognaj\n",
            "Ghatlodia\n",
            "Sola H B C\n"
          ],
          "name": "stdout"
        }
      ]
    },
    {
      "cell_type": "code",
      "metadata": {
        "colab": {
          "base_uri": "https://localhost:8080/",
          "height": 359
        },
        "id": "0o8l99GYx-JI",
        "outputId": "bc29718c-abaa-4aa7-a241-75035b44b471"
      },
      "source": [
        "c1_top_venues = c1_top_venues.head(10)\n",
        "c1_top_venues"
      ],
      "execution_count": 66,
      "outputs": [
        {
          "output_type": "execute_result",
          "data": {
            "text/html": [
              "<div>\n",
              "<style scoped>\n",
              "    .dataframe tbody tr th:only-of-type {\n",
              "        vertical-align: middle;\n",
              "    }\n",
              "\n",
              "    .dataframe tbody tr th {\n",
              "        vertical-align: top;\n",
              "    }\n",
              "\n",
              "    .dataframe thead th {\n",
              "        text-align: right;\n",
              "    }\n",
              "</style>\n",
              "<table border=\"1\" class=\"dataframe\">\n",
              "  <thead>\n",
              "    <tr style=\"text-align: right;\">\n",
              "      <th></th>\n",
              "      <th>Venue Category</th>\n",
              "      <th>Neighborhood</th>\n",
              "    </tr>\n",
              "  </thead>\n",
              "  <tbody>\n",
              "    <tr>\n",
              "      <th>0</th>\n",
              "      <td>Indian Restaurant</td>\n",
              "      <td>36</td>\n",
              "    </tr>\n",
              "    <tr>\n",
              "      <th>1</th>\n",
              "      <td>Café</td>\n",
              "      <td>32</td>\n",
              "    </tr>\n",
              "    <tr>\n",
              "      <th>2</th>\n",
              "      <td>Fast Food Restaurant</td>\n",
              "      <td>22</td>\n",
              "    </tr>\n",
              "    <tr>\n",
              "      <th>3</th>\n",
              "      <td>Pizza Place</td>\n",
              "      <td>18</td>\n",
              "    </tr>\n",
              "    <tr>\n",
              "      <th>4</th>\n",
              "      <td>Hotel</td>\n",
              "      <td>11</td>\n",
              "    </tr>\n",
              "    <tr>\n",
              "      <th>5</th>\n",
              "      <td>Shopping Mall</td>\n",
              "      <td>11</td>\n",
              "    </tr>\n",
              "    <tr>\n",
              "      <th>6</th>\n",
              "      <td>Restaurant</td>\n",
              "      <td>11</td>\n",
              "    </tr>\n",
              "    <tr>\n",
              "      <th>7</th>\n",
              "      <td>Coffee Shop</td>\n",
              "      <td>10</td>\n",
              "    </tr>\n",
              "    <tr>\n",
              "      <th>8</th>\n",
              "      <td>Ice Cream Shop</td>\n",
              "      <td>9</td>\n",
              "    </tr>\n",
              "    <tr>\n",
              "      <th>9</th>\n",
              "      <td>Sandwich Place</td>\n",
              "      <td>8</td>\n",
              "    </tr>\n",
              "  </tbody>\n",
              "</table>\n",
              "</div>"
            ],
            "text/plain": [
              "         Venue Category  Neighborhood\n",
              "0     Indian Restaurant            36\n",
              "1                  Café            32\n",
              "2  Fast Food Restaurant            22\n",
              "3           Pizza Place            18\n",
              "4                 Hotel            11\n",
              "5         Shopping Mall            11\n",
              "6            Restaurant            11\n",
              "7           Coffee Shop            10\n",
              "8        Ice Cream Shop             9\n",
              "9        Sandwich Place             8"
            ]
          },
          "metadata": {
            "tags": []
          },
          "execution_count": 66
        }
      ]
    },
    {
      "cell_type": "markdown",
      "metadata": {
        "id": "ds8BdVqPw5-V"
      },
      "source": [
        "#### Calculate Jaccard Similarity Score For Neighborhoods With More Pizza Places and Cluster 1 Neighborhoods"
      ]
    },
    {
      "cell_type": "code",
      "metadata": {
        "colab": {
          "base_uri": "https://localhost:8080/"
        },
        "id": "QKL5qvVnwu93",
        "outputId": "9a30c295-9891-403f-9bdf-68aa2f1b39a3"
      },
      "source": [
        "from sklearn.metrics import jaccard_score\n",
        "\n",
        "X1 = top_venues.iloc[:,0].values.tolist()\n",
        "X2 = c1_top_venues.iloc[:,0].values.tolist()\n",
        "\n",
        "# jscore = jaccard_score(X1, X2, average='weighted')\n",
        "jscore = jaccard_similarity(X1,X2)\n",
        "print('The Jaccard Similarity Score With Cluster-1 is', jscore)"
      ],
      "execution_count": 120,
      "outputs": [
        {
          "output_type": "stream",
          "text": [
            "The Jaccard Similarity Score With Cluster-1 is 0.8181818181818182\n"
          ],
          "name": "stdout"
        }
      ]
    },
    {
      "cell_type": "markdown",
      "metadata": {
        "id": "q32LP4Duyb9C"
      },
      "source": [
        "#### Explore Cluster 2 Neighborhoods"
      ]
    },
    {
      "cell_type": "code",
      "metadata": {
        "colab": {
          "base_uri": "https://localhost:8080/"
        },
        "id": "3EyNQYMaxLZA",
        "outputId": "aab19e1a-41fc-490a-bb4c-65fb0385ceb1"
      },
      "source": [
        "cluster2_nbr = geo_df[geo_df['Cluster Labels']==1]\n",
        "c2_venues = getNearbyVenues(\n",
        "                                     names = cluster2_nbr['Neighborhood'],\n",
        "                                     latitudes = cluster2_nbr['V Lat'],\n",
        "                                     longitudes = cluster2_nbr['V Long'],\n",
        "                                 )\n",
        "c2_venues.head()\n",
        "c2_venues.drop_duplicates(subset=['Venue ID'], keep='first', inplace=True)\n",
        "c2_top_venues = pd.DataFrame(c2_venues.groupby('Venue Category').count()['Neighborhood']).sort_values(by='Neighborhood', ascending=False)\n",
        "c2_top_venues.reset_index(inplace=True)"
      ],
      "execution_count": 68,
      "outputs": [
        {
          "output_type": "stream",
          "text": [
            "Lal Darwaja\n",
            "Manek Chowk\n",
            "Shahibag\n"
          ],
          "name": "stdout"
        }
      ]
    },
    {
      "cell_type": "code",
      "metadata": {
        "colab": {
          "base_uri": "https://localhost:8080/",
          "height": 359
        },
        "id": "NOAwfS35y-Y1",
        "outputId": "b889a57e-850c-46d1-81ef-b04e02762d11"
      },
      "source": [
        "c2_top_venues = c2_top_venues.head(10)\n",
        "c2_top_venues"
      ],
      "execution_count": 69,
      "outputs": [
        {
          "output_type": "execute_result",
          "data": {
            "text/html": [
              "<div>\n",
              "<style scoped>\n",
              "    .dataframe tbody tr th:only-of-type {\n",
              "        vertical-align: middle;\n",
              "    }\n",
              "\n",
              "    .dataframe tbody tr th {\n",
              "        vertical-align: top;\n",
              "    }\n",
              "\n",
              "    .dataframe thead th {\n",
              "        text-align: right;\n",
              "    }\n",
              "</style>\n",
              "<table border=\"1\" class=\"dataframe\">\n",
              "  <thead>\n",
              "    <tr style=\"text-align: right;\">\n",
              "      <th></th>\n",
              "      <th>Venue Category</th>\n",
              "      <th>Neighborhood</th>\n",
              "    </tr>\n",
              "  </thead>\n",
              "  <tbody>\n",
              "    <tr>\n",
              "      <th>0</th>\n",
              "      <td>Indian Restaurant</td>\n",
              "      <td>8</td>\n",
              "    </tr>\n",
              "    <tr>\n",
              "      <th>1</th>\n",
              "      <td>Hotel</td>\n",
              "      <td>6</td>\n",
              "    </tr>\n",
              "    <tr>\n",
              "      <th>2</th>\n",
              "      <td>Historic Site</td>\n",
              "      <td>3</td>\n",
              "    </tr>\n",
              "    <tr>\n",
              "      <th>3</th>\n",
              "      <td>Tea Room</td>\n",
              "      <td>2</td>\n",
              "    </tr>\n",
              "    <tr>\n",
              "      <th>4</th>\n",
              "      <td>River</td>\n",
              "      <td>2</td>\n",
              "    </tr>\n",
              "    <tr>\n",
              "      <th>5</th>\n",
              "      <td>Bus Station</td>\n",
              "      <td>2</td>\n",
              "    </tr>\n",
              "    <tr>\n",
              "      <th>6</th>\n",
              "      <td>Museum</td>\n",
              "      <td>1</td>\n",
              "    </tr>\n",
              "    <tr>\n",
              "      <th>7</th>\n",
              "      <td>Track Stadium</td>\n",
              "      <td>1</td>\n",
              "    </tr>\n",
              "    <tr>\n",
              "      <th>8</th>\n",
              "      <td>Snack Place</td>\n",
              "      <td>1</td>\n",
              "    </tr>\n",
              "    <tr>\n",
              "      <th>9</th>\n",
              "      <td>Restaurant</td>\n",
              "      <td>1</td>\n",
              "    </tr>\n",
              "  </tbody>\n",
              "</table>\n",
              "</div>"
            ],
            "text/plain": [
              "      Venue Category  Neighborhood\n",
              "0  Indian Restaurant             8\n",
              "1              Hotel             6\n",
              "2      Historic Site             3\n",
              "3           Tea Room             2\n",
              "4              River             2\n",
              "5        Bus Station             2\n",
              "6             Museum             1\n",
              "7      Track Stadium             1\n",
              "8        Snack Place             1\n",
              "9         Restaurant             1"
            ]
          },
          "metadata": {
            "tags": []
          },
          "execution_count": 69
        }
      ]
    },
    {
      "cell_type": "markdown",
      "metadata": {
        "id": "KRLwnlDvzSLm"
      },
      "source": [
        "#### Calculate Jaccard Similarity Score For Neighborhoods With More Pizza Places and Cluster 2 Neighborhoods"
      ]
    },
    {
      "cell_type": "code",
      "metadata": {
        "colab": {
          "base_uri": "https://localhost:8080/"
        },
        "id": "po5OPIJLzCVi",
        "outputId": "2ca9bb2f-9e92-44c1-a946-cd2982581e18"
      },
      "source": [
        "from sklearn.metrics import jaccard_score\n",
        "\n",
        "X1 = top_venues.iloc[:,0].values.tolist()\n",
        "X2 = c2_top_venues.iloc[:,0].values.tolist()\n",
        "\n",
        "# jscore = jaccard_score(X1, X2, average='weighted')\n",
        "jscore = jaccard_similarity(X1,X2)\n",
        "print('The Jaccard Similarity Score With Cluster-2 is', jscore)"
      ],
      "execution_count": 121,
      "outputs": [
        {
          "output_type": "stream",
          "text": [
            "The Jaccard Similarity Score With Cluster-2 is 0.17647058823529413\n"
          ],
          "name": "stdout"
        }
      ]
    },
    {
      "cell_type": "markdown",
      "metadata": {
        "id": "HywO3RwaHdGY"
      },
      "source": [
        "#### Explore Cluster 3 Neighborhoods"
      ]
    },
    {
      "cell_type": "code",
      "metadata": {
        "colab": {
          "base_uri": "https://localhost:8080/"
        },
        "id": "gH-xFA9czZTI",
        "outputId": "abaafcad-3cf6-4a7e-a16f-5ecd3580c225"
      },
      "source": [
        "cluster3_nbr = geo_df[geo_df['Cluster Labels']==2]\n",
        "c3_venues = getNearbyVenues(\n",
        "                                     names = cluster3_nbr['Neighborhood'],\n",
        "                                     latitudes = cluster3_nbr['V Lat'],\n",
        "                                     longitudes = cluster3_nbr['V Long'],\n",
        "                                 )\n",
        "c3_venues.head()\n",
        "c3_venues.drop_duplicates(subset=['Venue ID'], keep='first', inplace=True)\n",
        "c3_top_venues = pd.DataFrame(c3_venues.groupby('Venue Category').count()['Neighborhood']).sort_values(by='Neighborhood', ascending=False)\n",
        "c3_top_venues.reset_index(inplace=True)"
      ],
      "execution_count": 71,
      "outputs": [
        {
          "output_type": "stream",
          "text": [
            "Paldi (Ahmedabad)\n",
            "Sarkhej Road\n",
            "Anandnagar (Ahmedabad)\n",
            "Shardanagar\n",
            "Narayannagar\n",
            "Jawahar Chowk\n",
            "Maninagar\n",
            "Ashram Road\n",
            "Darpan Society\n",
            "Gujarat University\n",
            "Navrangpura\n",
            "Stadium Marg\n",
            "Vadaj\n",
            "Naranpura Vistar\n",
            "Shastrinagar (Ahmedabad)\n",
            "Nava Vadaj\n"
          ],
          "name": "stdout"
        }
      ]
    },
    {
      "cell_type": "code",
      "metadata": {
        "colab": {
          "base_uri": "https://localhost:8080/",
          "height": 359
        },
        "id": "hUA2dOzwHumZ",
        "outputId": "457edd8a-5f90-40c4-ac54-fdd8d3e8e06b"
      },
      "source": [
        "c3_top_venues = c3_top_venues.head(10)\n",
        "c3_top_venues"
      ],
      "execution_count": 72,
      "outputs": [
        {
          "output_type": "execute_result",
          "data": {
            "text/html": [
              "<div>\n",
              "<style scoped>\n",
              "    .dataframe tbody tr th:only-of-type {\n",
              "        vertical-align: middle;\n",
              "    }\n",
              "\n",
              "    .dataframe tbody tr th {\n",
              "        vertical-align: top;\n",
              "    }\n",
              "\n",
              "    .dataframe thead th {\n",
              "        text-align: right;\n",
              "    }\n",
              "</style>\n",
              "<table border=\"1\" class=\"dataframe\">\n",
              "  <thead>\n",
              "    <tr style=\"text-align: right;\">\n",
              "      <th></th>\n",
              "      <th>Venue Category</th>\n",
              "      <th>Neighborhood</th>\n",
              "    </tr>\n",
              "  </thead>\n",
              "  <tbody>\n",
              "    <tr>\n",
              "      <th>0</th>\n",
              "      <td>Indian Restaurant</td>\n",
              "      <td>34</td>\n",
              "    </tr>\n",
              "    <tr>\n",
              "      <th>1</th>\n",
              "      <td>Café</td>\n",
              "      <td>27</td>\n",
              "    </tr>\n",
              "    <tr>\n",
              "      <th>2</th>\n",
              "      <td>Fast Food Restaurant</td>\n",
              "      <td>20</td>\n",
              "    </tr>\n",
              "    <tr>\n",
              "      <th>3</th>\n",
              "      <td>Hotel</td>\n",
              "      <td>18</td>\n",
              "    </tr>\n",
              "    <tr>\n",
              "      <th>4</th>\n",
              "      <td>Pizza Place</td>\n",
              "      <td>13</td>\n",
              "    </tr>\n",
              "    <tr>\n",
              "      <th>5</th>\n",
              "      <td>Coffee Shop</td>\n",
              "      <td>11</td>\n",
              "    </tr>\n",
              "    <tr>\n",
              "      <th>6</th>\n",
              "      <td>Sandwich Place</td>\n",
              "      <td>9</td>\n",
              "    </tr>\n",
              "    <tr>\n",
              "      <th>7</th>\n",
              "      <td>Ice Cream Shop</td>\n",
              "      <td>8</td>\n",
              "    </tr>\n",
              "    <tr>\n",
              "      <th>8</th>\n",
              "      <td>Tea Room</td>\n",
              "      <td>8</td>\n",
              "    </tr>\n",
              "    <tr>\n",
              "      <th>9</th>\n",
              "      <td>Vegetarian / Vegan Restaurant</td>\n",
              "      <td>7</td>\n",
              "    </tr>\n",
              "  </tbody>\n",
              "</table>\n",
              "</div>"
            ],
            "text/plain": [
              "                  Venue Category  Neighborhood\n",
              "0              Indian Restaurant            34\n",
              "1                           Café            27\n",
              "2           Fast Food Restaurant            20\n",
              "3                          Hotel            18\n",
              "4                    Pizza Place            13\n",
              "5                    Coffee Shop            11\n",
              "6                 Sandwich Place             9\n",
              "7                 Ice Cream Shop             8\n",
              "8                       Tea Room             8\n",
              "9  Vegetarian / Vegan Restaurant             7"
            ]
          },
          "metadata": {
            "tags": []
          },
          "execution_count": 72
        }
      ]
    },
    {
      "cell_type": "markdown",
      "metadata": {
        "id": "H1JHKDJNH0cH"
      },
      "source": [
        "#### Calculate Jaccard Similarity Score For Neighborhoods With More Pizza Places and Cluster 3 Neighborhoods"
      ]
    },
    {
      "cell_type": "code",
      "metadata": {
        "colab": {
          "base_uri": "https://localhost:8080/"
        },
        "id": "GUbo7jsRH3QM",
        "outputId": "acf4de59-be25-46a7-9869-192b03ecf714"
      },
      "source": [
        "from sklearn.metrics import jaccard_score\n",
        "\n",
        "X1 = top_venues.iloc[:,0].values.tolist()\n",
        "X2 = c3_top_venues.iloc[:,0].values.tolist()\n",
        "\n",
        "# jscore = jaccard_score(X1, X2, average='weighted')\n",
        "jscore = jaccard_similarity(X1,X2)\n",
        "jscore"
      ],
      "execution_count": 123,
      "outputs": [
        {
          "output_type": "execute_result",
          "data": {
            "text/plain": [
              "0.8181818181818182"
            ]
          },
          "metadata": {
            "tags": []
          },
          "execution_count": 123
        }
      ]
    },
    {
      "cell_type": "code",
      "metadata": {
        "id": "7AVSCu5gIBGC"
      },
      "source": [
        ""
      ],
      "execution_count": 73,
      "outputs": []
    }
  ]
}