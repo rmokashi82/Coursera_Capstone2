{
  "nbformat": 4,
  "nbformat_minor": 0,
  "metadata": {
    "colab": {
      "name": "IBM - Capstone Project.ipynb",
      "provenance": [],
      "collapsed_sections": [],
      "authorship_tag": "ABX9TyOAY1ndcWW0MmutnnLQWUFo",
      "include_colab_link": true
    },
    "kernelspec": {
      "name": "python3",
      "display_name": "Python 3"
    }
  },
  "cells": [
    {
      "cell_type": "markdown",
      "metadata": {
        "id": "view-in-github",
        "colab_type": "text"
      },
      "source": [
        "<a href=\"https://colab.research.google.com/github/rmokashi82/Coursera_Capstone2/blob/master/IBM_Capstone_Project.ipynb\" target=\"_parent\"><img src=\"https://colab.research.google.com/assets/colab-badge.svg\" alt=\"Open In Colab\"/></a>"
      ]
    },
    {
      "cell_type": "markdown",
      "metadata": {
        "id": "3yAfmMIfzuQM"
      },
      "source": [
        "<h1 style=\"color:blue\">IBM Data Science Capstone </h1>\n",
        "    <h3>This Notebook contains the Final Assignment of the IBM Capstone - The Battle of the Neighborhood.</h3>"
      ]
    },
    {
      "cell_type": "markdown",
      "metadata": {
        "id": "0294VNBo5FzW"
      },
      "source": [
        "## Import Libraries"
      ]
    },
    {
      "cell_type": "code",
      "metadata": {
        "colab": {
          "base_uri": "https://localhost:8080/"
        },
        "id": "oL9doQDszlkB",
        "outputId": "52ce3409-ec4b-4986-fdd2-3f662d26de94"
      },
      "source": [
        "import pandas as pd\n",
        "import numpy as np\n",
        "import requests\n",
        "import matplotlib\n",
        "import matplotlib.pyplot as plt\n",
        "import matplotlib.cm as cm\n",
        "from pandas.io.json import json_normalize\n",
        "import folium\n",
        "from geopy.geocoders import Nominatim\n",
        "from sklearn.cluster import KMeans\n",
        "from yellowbrick.cluster import KElbowVisualizer"
      ],
      "execution_count": 1,
      "outputs": [
        {
          "output_type": "stream",
          "text": [
            "/usr/local/lib/python3.6/dist-packages/sklearn/utils/deprecation.py:144: FutureWarning: The sklearn.metrics.classification module is  deprecated in version 0.22 and will be removed in version 0.24. The corresponding classes / functions should instead be imported from sklearn.metrics. Anything that cannot be imported from sklearn.metrics is now part of the private API.\n",
            "  warnings.warn(message, FutureWarning)\n"
          ],
          "name": "stderr"
        }
      ]
    },
    {
      "cell_type": "markdown",
      "metadata": {
        "id": "B1jT9whXC8dz"
      },
      "source": [
        "## Import Ahmedabad Geospatial Dataset"
      ]
    },
    {
      "cell_type": "code",
      "metadata": {
        "colab": {
          "base_uri": "https://localhost:8080/",
          "height": 419
        },
        "id": "cYnhr9WuC9I5",
        "outputId": "7605b7d1-92c6-4265-ca5a-70f08bda0961"
      },
      "source": [
        "vicinity_df = pd.read_csv('Abad_lat_lng_upd.csv')\n",
        "vicinity_df[vicinity_df.isnull().any(axis=1)]"
      ],
      "execution_count": 2,
      "outputs": [
        {
          "output_type": "execute_result",
          "data": {
            "text/html": [
              "<div>\n",
              "<style scoped>\n",
              "    .dataframe tbody tr th:only-of-type {\n",
              "        vertical-align: middle;\n",
              "    }\n",
              "\n",
              "    .dataframe tbody tr th {\n",
              "        vertical-align: top;\n",
              "    }\n",
              "\n",
              "    .dataframe thead th {\n",
              "        text-align: right;\n",
              "    }\n",
              "</style>\n",
              "<table border=\"1\" class=\"dataframe\">\n",
              "  <thead>\n",
              "    <tr style=\"text-align: right;\">\n",
              "      <th></th>\n",
              "      <th>Vicinity</th>\n",
              "      <th>V Lat</th>\n",
              "      <th>V Long</th>\n",
              "    </tr>\n",
              "  </thead>\n",
              "  <tbody>\n",
              "    <tr>\n",
              "      <th>46</th>\n",
              "      <td>Lapkaman</td>\n",
              "      <td>NaN</td>\n",
              "      <td>NaN</td>\n",
              "    </tr>\n",
              "    <tr>\n",
              "      <th>51</th>\n",
              "      <td>Goraj</td>\n",
              "      <td>NaN</td>\n",
              "      <td>NaN</td>\n",
              "    </tr>\n",
              "    <tr>\n",
              "      <th>52</th>\n",
              "      <td>Kundal</td>\n",
              "      <td>NaN</td>\n",
              "      <td>NaN</td>\n",
              "    </tr>\n",
              "    <tr>\n",
              "      <th>54</th>\n",
              "      <td>Fangadi</td>\n",
              "      <td>NaN</td>\n",
              "      <td>NaN</td>\n",
              "    </tr>\n",
              "    <tr>\n",
              "      <th>55</th>\n",
              "      <td>Vekaria</td>\n",
              "      <td>NaN</td>\n",
              "      <td>NaN</td>\n",
              "    </tr>\n",
              "    <tr>\n",
              "      <th>...</th>\n",
              "      <td>...</td>\n",
              "      <td>...</td>\n",
              "      <td>...</td>\n",
              "    </tr>\n",
              "    <tr>\n",
              "      <th>444</th>\n",
              "      <td>Fatepur</td>\n",
              "      <td>NaN</td>\n",
              "      <td>NaN</td>\n",
              "    </tr>\n",
              "    <tr>\n",
              "      <th>449</th>\n",
              "      <td>Panchham</td>\n",
              "      <td>NaN</td>\n",
              "      <td>NaN</td>\n",
              "    </tr>\n",
              "    <tr>\n",
              "      <th>450</th>\n",
              "      <td>Buranpur</td>\n",
              "      <td>NaN</td>\n",
              "      <td>NaN</td>\n",
              "    </tr>\n",
              "    <tr>\n",
              "      <th>455</th>\n",
              "      <td>Digvijaynagar</td>\n",
              "      <td>NaN</td>\n",
              "      <td>NaN</td>\n",
              "    </tr>\n",
              "    <tr>\n",
              "      <th>462</th>\n",
              "      <td>Ambalia</td>\n",
              "      <td>NaN</td>\n",
              "      <td>NaN</td>\n",
              "    </tr>\n",
              "  </tbody>\n",
              "</table>\n",
              "<p>293 rows × 3 columns</p>\n",
              "</div>"
            ],
            "text/plain": [
              "          Vicinity  V Lat  V Long\n",
              "46        Lapkaman    NaN     NaN\n",
              "51           Goraj    NaN     NaN\n",
              "52          Kundal    NaN     NaN\n",
              "54         Fangadi    NaN     NaN\n",
              "55         Vekaria    NaN     NaN\n",
              "..             ...    ...     ...\n",
              "444        Fatepur    NaN     NaN\n",
              "449       Panchham    NaN     NaN\n",
              "450       Buranpur    NaN     NaN\n",
              "455  Digvijaynagar    NaN     NaN\n",
              "462        Ambalia    NaN     NaN\n",
              "\n",
              "[293 rows x 3 columns]"
            ]
          },
          "metadata": {
            "tags": []
          },
          "execution_count": 2
        }
      ]
    },
    {
      "cell_type": "markdown",
      "metadata": {
        "id": "NgUgHOy4DS6x"
      },
      "source": [
        "#### Drop Records That Do Not Have Geo Data"
      ]
    },
    {
      "cell_type": "code",
      "metadata": {
        "colab": {
          "base_uri": "https://localhost:8080/",
          "height": 419
        },
        "id": "hUu6WvHfDODS",
        "outputId": "3c819552-6961-4ea9-d417-a5d942c6a1a7"
      },
      "source": [
        "#drop rows with NaN values\n",
        "vicinity_df.dropna(axis=0, inplace=True)\n",
        "vicinity_df"
      ],
      "execution_count": 3,
      "outputs": [
        {
          "output_type": "execute_result",
          "data": {
            "text/html": [
              "<div>\n",
              "<style scoped>\n",
              "    .dataframe tbody tr th:only-of-type {\n",
              "        vertical-align: middle;\n",
              "    }\n",
              "\n",
              "    .dataframe tbody tr th {\n",
              "        vertical-align: top;\n",
              "    }\n",
              "\n",
              "    .dataframe thead th {\n",
              "        text-align: right;\n",
              "    }\n",
              "</style>\n",
              "<table border=\"1\" class=\"dataframe\">\n",
              "  <thead>\n",
              "    <tr style=\"text-align: right;\">\n",
              "      <th></th>\n",
              "      <th>Vicinity</th>\n",
              "      <th>V Lat</th>\n",
              "      <th>V Long</th>\n",
              "    </tr>\n",
              "  </thead>\n",
              "  <tbody>\n",
              "    <tr>\n",
              "      <th>0</th>\n",
              "      <td>Lal Darwaja</td>\n",
              "      <td>23.024190</td>\n",
              "      <td>72.578556</td>\n",
              "    </tr>\n",
              "    <tr>\n",
              "      <th>1</th>\n",
              "      <td>Manek Chowk</td>\n",
              "      <td>23.023180</td>\n",
              "      <td>72.588952</td>\n",
              "    </tr>\n",
              "    <tr>\n",
              "      <th>2</th>\n",
              "      <td>Shahibag</td>\n",
              "      <td>23.055966</td>\n",
              "      <td>72.593869</td>\n",
              "    </tr>\n",
              "    <tr>\n",
              "      <th>3</th>\n",
              "      <td>Sabarmati</td>\n",
              "      <td>23.083993</td>\n",
              "      <td>72.587619</td>\n",
              "    </tr>\n",
              "    <tr>\n",
              "      <th>4</th>\n",
              "      <td>Kabir Chowk</td>\n",
              "      <td>23.087505</td>\n",
              "      <td>72.585701</td>\n",
              "    </tr>\n",
              "    <tr>\n",
              "      <th>...</th>\n",
              "      <td>...</td>\n",
              "      <td>...</td>\n",
              "      <td>...</td>\n",
              "    </tr>\n",
              "    <tr>\n",
              "      <th>457</th>\n",
              "      <td>Sardarnagar</td>\n",
              "      <td>23.083583</td>\n",
              "      <td>72.624861</td>\n",
              "    </tr>\n",
              "    <tr>\n",
              "      <th>458</th>\n",
              "      <td>Ranip</td>\n",
              "      <td>23.076623</td>\n",
              "      <td>72.576420</td>\n",
              "    </tr>\n",
              "    <tr>\n",
              "      <th>459</th>\n",
              "      <td>Gota</td>\n",
              "      <td>23.073910</td>\n",
              "      <td>72.557217</td>\n",
              "    </tr>\n",
              "    <tr>\n",
              "      <th>460</th>\n",
              "      <td>Chandlodia</td>\n",
              "      <td>23.084580</td>\n",
              "      <td>72.567884</td>\n",
              "    </tr>\n",
              "    <tr>\n",
              "      <th>461</th>\n",
              "      <td>Nirnaynagar</td>\n",
              "      <td>23.077191</td>\n",
              "      <td>72.558595</td>\n",
              "    </tr>\n",
              "  </tbody>\n",
              "</table>\n",
              "<p>170 rows × 3 columns</p>\n",
              "</div>"
            ],
            "text/plain": [
              "        Vicinity      V Lat     V Long\n",
              "0    Lal Darwaja  23.024190  72.578556\n",
              "1    Manek Chowk  23.023180  72.588952\n",
              "2       Shahibag  23.055966  72.593869\n",
              "3      Sabarmati  23.083993  72.587619\n",
              "4    Kabir Chowk  23.087505  72.585701\n",
              "..           ...        ...        ...\n",
              "457  Sardarnagar  23.083583  72.624861\n",
              "458        Ranip  23.076623  72.576420\n",
              "459         Gota  23.073910  72.557217\n",
              "460   Chandlodia  23.084580  72.567884\n",
              "461  Nirnaynagar  23.077191  72.558595\n",
              "\n",
              "[170 rows x 3 columns]"
            ]
          },
          "metadata": {
            "tags": []
          },
          "execution_count": 3
        }
      ]
    },
    {
      "cell_type": "markdown",
      "metadata": {
        "id": "oa1Y-WaSDcq4"
      },
      "source": [
        "#### Select First 50 Neighborhood"
      ]
    },
    {
      "cell_type": "code",
      "metadata": {
        "colab": {
          "base_uri": "https://localhost:8080/",
          "height": 1000
        },
        "id": "l17Qgn8jDXgu",
        "outputId": "c138d4fe-7c4d-44a8-dfe6-0dbf9026d582"
      },
      "source": [
        "vicinity_df = vicinity_df.head(50).reset_index()\n",
        "vicinity_df.drop(['index'], axis=1, inplace=True)\n",
        "vicinity_df"
      ],
      "execution_count": 4,
      "outputs": [
        {
          "output_type": "execute_result",
          "data": {
            "text/html": [
              "<div>\n",
              "<style scoped>\n",
              "    .dataframe tbody tr th:only-of-type {\n",
              "        vertical-align: middle;\n",
              "    }\n",
              "\n",
              "    .dataframe tbody tr th {\n",
              "        vertical-align: top;\n",
              "    }\n",
              "\n",
              "    .dataframe thead th {\n",
              "        text-align: right;\n",
              "    }\n",
              "</style>\n",
              "<table border=\"1\" class=\"dataframe\">\n",
              "  <thead>\n",
              "    <tr style=\"text-align: right;\">\n",
              "      <th></th>\n",
              "      <th>Vicinity</th>\n",
              "      <th>V Lat</th>\n",
              "      <th>V Long</th>\n",
              "    </tr>\n",
              "  </thead>\n",
              "  <tbody>\n",
              "    <tr>\n",
              "      <th>0</th>\n",
              "      <td>Lal Darwaja</td>\n",
              "      <td>23.024190</td>\n",
              "      <td>72.578556</td>\n",
              "    </tr>\n",
              "    <tr>\n",
              "      <th>1</th>\n",
              "      <td>Manek Chowk</td>\n",
              "      <td>23.023180</td>\n",
              "      <td>72.588952</td>\n",
              "    </tr>\n",
              "    <tr>\n",
              "      <th>2</th>\n",
              "      <td>Shahibag</td>\n",
              "      <td>23.055966</td>\n",
              "      <td>72.593869</td>\n",
              "    </tr>\n",
              "    <tr>\n",
              "      <th>3</th>\n",
              "      <td>Sabarmati</td>\n",
              "      <td>23.083993</td>\n",
              "      <td>72.587619</td>\n",
              "    </tr>\n",
              "    <tr>\n",
              "      <th>4</th>\n",
              "      <td>Kabir Chowk</td>\n",
              "      <td>23.087505</td>\n",
              "      <td>72.585701</td>\n",
              "    </tr>\n",
              "    <tr>\n",
              "      <th>5</th>\n",
              "      <td>Motera</td>\n",
              "      <td>23.091703</td>\n",
              "      <td>72.597481</td>\n",
              "    </tr>\n",
              "    <tr>\n",
              "      <th>6</th>\n",
              "      <td>Ambawadi (Ahmedabad)</td>\n",
              "      <td>23.022612</td>\n",
              "      <td>72.549083</td>\n",
              "    </tr>\n",
              "    <tr>\n",
              "      <th>7</th>\n",
              "      <td>Ellisbridge</td>\n",
              "      <td>23.022886</td>\n",
              "      <td>72.571642</td>\n",
              "    </tr>\n",
              "    <tr>\n",
              "      <th>8</th>\n",
              "      <td>Paldi (Ahmedabad)</td>\n",
              "      <td>23.014553</td>\n",
              "      <td>72.563543</td>\n",
              "    </tr>\n",
              "    <tr>\n",
              "      <th>9</th>\n",
              "      <td>Sarkhej Road</td>\n",
              "      <td>22.983483</td>\n",
              "      <td>72.500720</td>\n",
              "    </tr>\n",
              "    <tr>\n",
              "      <th>10</th>\n",
              "      <td>Anandnagar (Ahmedabad)</td>\n",
              "      <td>23.016075</td>\n",
              "      <td>72.509295</td>\n",
              "    </tr>\n",
              "    <tr>\n",
              "      <th>11</th>\n",
              "      <td>Shardanagar</td>\n",
              "      <td>23.011190</td>\n",
              "      <td>72.552575</td>\n",
              "    </tr>\n",
              "    <tr>\n",
              "      <th>12</th>\n",
              "      <td>Narayannagar</td>\n",
              "      <td>22.997826</td>\n",
              "      <td>72.560115</td>\n",
              "    </tr>\n",
              "    <tr>\n",
              "      <th>13</th>\n",
              "      <td>Jawahar Chowk</td>\n",
              "      <td>22.995137</td>\n",
              "      <td>72.605099</td>\n",
              "    </tr>\n",
              "    <tr>\n",
              "      <th>14</th>\n",
              "      <td>Maninagar</td>\n",
              "      <td>22.997713</td>\n",
              "      <td>72.606717</td>\n",
              "    </tr>\n",
              "    <tr>\n",
              "      <th>15</th>\n",
              "      <td>Ashram Road</td>\n",
              "      <td>23.026694</td>\n",
              "      <td>72.571078</td>\n",
              "    </tr>\n",
              "    <tr>\n",
              "      <th>16</th>\n",
              "      <td>Darpan Society</td>\n",
              "      <td>23.046712</td>\n",
              "      <td>72.553567</td>\n",
              "    </tr>\n",
              "    <tr>\n",
              "      <th>17</th>\n",
              "      <td>Gujarat University</td>\n",
              "      <td>23.037307</td>\n",
              "      <td>72.544748</td>\n",
              "    </tr>\n",
              "    <tr>\n",
              "      <th>18</th>\n",
              "      <td>Navrangpura</td>\n",
              "      <td>23.036000</td>\n",
              "      <td>72.564343</td>\n",
              "    </tr>\n",
              "    <tr>\n",
              "      <th>19</th>\n",
              "      <td>Stadium Marg</td>\n",
              "      <td>23.049768</td>\n",
              "      <td>72.561628</td>\n",
              "    </tr>\n",
              "    <tr>\n",
              "      <th>20</th>\n",
              "      <td>Vadaj</td>\n",
              "      <td>23.068224</td>\n",
              "      <td>72.564099</td>\n",
              "    </tr>\n",
              "    <tr>\n",
              "      <th>21</th>\n",
              "      <td>Naranpura Vistar</td>\n",
              "      <td>23.056861</td>\n",
              "      <td>72.550710</td>\n",
              "    </tr>\n",
              "    <tr>\n",
              "      <th>22</th>\n",
              "      <td>Shastrinagar (Ahmedabad)</td>\n",
              "      <td>23.062423</td>\n",
              "      <td>72.553180</td>\n",
              "    </tr>\n",
              "    <tr>\n",
              "      <th>23</th>\n",
              "      <td>Nava Vadaj</td>\n",
              "      <td>23.068224</td>\n",
              "      <td>72.564099</td>\n",
              "    </tr>\n",
              "    <tr>\n",
              "      <th>24</th>\n",
              "      <td>Navjivan</td>\n",
              "      <td>23.053692</td>\n",
              "      <td>72.642707</td>\n",
              "    </tr>\n",
              "    <tr>\n",
              "      <th>25</th>\n",
              "      <td>Jodhpur Char Rasta</td>\n",
              "      <td>23.025341</td>\n",
              "      <td>72.527761</td>\n",
              "    </tr>\n",
              "    <tr>\n",
              "      <th>26</th>\n",
              "      <td>I I M</td>\n",
              "      <td>23.031270</td>\n",
              "      <td>72.537133</td>\n",
              "    </tr>\n",
              "    <tr>\n",
              "      <th>27</th>\n",
              "      <td>Manekbag</td>\n",
              "      <td>23.019342</td>\n",
              "      <td>72.541232</td>\n",
              "    </tr>\n",
              "    <tr>\n",
              "      <th>28</th>\n",
              "      <td>Polytechnic (Ahmedabad)</td>\n",
              "      <td>23.026577</td>\n",
              "      <td>72.547506</td>\n",
              "    </tr>\n",
              "    <tr>\n",
              "      <th>29</th>\n",
              "      <td>Azad Society</td>\n",
              "      <td>23.029157</td>\n",
              "      <td>72.532752</td>\n",
              "    </tr>\n",
              "    <tr>\n",
              "      <th>30</th>\n",
              "      <td>Meghaningar</td>\n",
              "      <td>23.058283</td>\n",
              "      <td>72.616509</td>\n",
              "    </tr>\n",
              "    <tr>\n",
              "      <th>31</th>\n",
              "      <td>Gita Mandir Road</td>\n",
              "      <td>23.015200</td>\n",
              "      <td>72.593222</td>\n",
              "    </tr>\n",
              "    <tr>\n",
              "      <th>32</th>\n",
              "      <td>Civil Hospital</td>\n",
              "      <td>23.051438</td>\n",
              "      <td>72.605116</td>\n",
              "    </tr>\n",
              "    <tr>\n",
              "      <th>33</th>\n",
              "      <td>Gandhi Ashram (Ahmedabad)</td>\n",
              "      <td>23.060165</td>\n",
              "      <td>72.580638</td>\n",
              "    </tr>\n",
              "    <tr>\n",
              "      <th>34</th>\n",
              "      <td>Jivraj Park</td>\n",
              "      <td>23.006332</td>\n",
              "      <td>72.536517</td>\n",
              "    </tr>\n",
              "    <tr>\n",
              "      <th>35</th>\n",
              "      <td>Memnagar</td>\n",
              "      <td>23.053084</td>\n",
              "      <td>72.532931</td>\n",
              "    </tr>\n",
              "    <tr>\n",
              "      <th>36</th>\n",
              "      <td>Thaltej Road</td>\n",
              "      <td>23.050483</td>\n",
              "      <td>72.498859</td>\n",
              "    </tr>\n",
              "    <tr>\n",
              "      <th>37</th>\n",
              "      <td>Bodakdev</td>\n",
              "      <td>23.044227</td>\n",
              "      <td>72.517458</td>\n",
              "    </tr>\n",
              "    <tr>\n",
              "      <th>38</th>\n",
              "      <td>Juhapura</td>\n",
              "      <td>23.005630</td>\n",
              "      <td>72.523101</td>\n",
              "    </tr>\n",
              "    <tr>\n",
              "      <th>39</th>\n",
              "      <td>Bopal</td>\n",
              "      <td>23.029699</td>\n",
              "      <td>72.465579</td>\n",
              "    </tr>\n",
              "    <tr>\n",
              "      <th>40</th>\n",
              "      <td>Ghuma</td>\n",
              "      <td>23.029511</td>\n",
              "      <td>72.450601</td>\n",
              "    </tr>\n",
              "    <tr>\n",
              "      <th>41</th>\n",
              "      <td>Ambli</td>\n",
              "      <td>23.018494</td>\n",
              "      <td>72.495454</td>\n",
              "    </tr>\n",
              "    <tr>\n",
              "      <th>42</th>\n",
              "      <td>Shela</td>\n",
              "      <td>23.010030</td>\n",
              "      <td>72.444016</td>\n",
              "    </tr>\n",
              "    <tr>\n",
              "      <th>43</th>\n",
              "      <td>Thaltej</td>\n",
              "      <td>23.048539</td>\n",
              "      <td>72.511742</td>\n",
              "    </tr>\n",
              "    <tr>\n",
              "      <th>44</th>\n",
              "      <td>Shilaj</td>\n",
              "      <td>23.054437</td>\n",
              "      <td>72.472076</td>\n",
              "    </tr>\n",
              "    <tr>\n",
              "      <th>45</th>\n",
              "      <td>Sola</td>\n",
              "      <td>23.069237</td>\n",
              "      <td>72.511131</td>\n",
              "    </tr>\n",
              "    <tr>\n",
              "      <th>46</th>\n",
              "      <td>Bhadaj</td>\n",
              "      <td>23.086873</td>\n",
              "      <td>72.483504</td>\n",
              "    </tr>\n",
              "    <tr>\n",
              "      <th>47</th>\n",
              "      <td>Ognaj</td>\n",
              "      <td>23.108063</td>\n",
              "      <td>72.522650</td>\n",
              "    </tr>\n",
              "    <tr>\n",
              "      <th>48</th>\n",
              "      <td>Ghatlodia</td>\n",
              "      <td>23.068665</td>\n",
              "      <td>72.536822</td>\n",
              "    </tr>\n",
              "    <tr>\n",
              "      <th>49</th>\n",
              "      <td>Sola H B C</td>\n",
              "      <td>23.057801</td>\n",
              "      <td>72.549016</td>\n",
              "    </tr>\n",
              "  </tbody>\n",
              "</table>\n",
              "</div>"
            ],
            "text/plain": [
              "                     Vicinity      V Lat     V Long\n",
              "0                 Lal Darwaja  23.024190  72.578556\n",
              "1                 Manek Chowk  23.023180  72.588952\n",
              "2                    Shahibag  23.055966  72.593869\n",
              "3                   Sabarmati  23.083993  72.587619\n",
              "4                 Kabir Chowk  23.087505  72.585701\n",
              "5                      Motera  23.091703  72.597481\n",
              "6        Ambawadi (Ahmedabad)  23.022612  72.549083\n",
              "7                 Ellisbridge  23.022886  72.571642\n",
              "8           Paldi (Ahmedabad)  23.014553  72.563543\n",
              "9                Sarkhej Road  22.983483  72.500720\n",
              "10     Anandnagar (Ahmedabad)  23.016075  72.509295\n",
              "11                Shardanagar  23.011190  72.552575\n",
              "12               Narayannagar  22.997826  72.560115\n",
              "13              Jawahar Chowk  22.995137  72.605099\n",
              "14                  Maninagar  22.997713  72.606717\n",
              "15                Ashram Road  23.026694  72.571078\n",
              "16             Darpan Society  23.046712  72.553567\n",
              "17         Gujarat University  23.037307  72.544748\n",
              "18                Navrangpura  23.036000  72.564343\n",
              "19               Stadium Marg  23.049768  72.561628\n",
              "20                      Vadaj  23.068224  72.564099\n",
              "21           Naranpura Vistar  23.056861  72.550710\n",
              "22   Shastrinagar (Ahmedabad)  23.062423  72.553180\n",
              "23                 Nava Vadaj  23.068224  72.564099\n",
              "24                   Navjivan  23.053692  72.642707\n",
              "25         Jodhpur Char Rasta  23.025341  72.527761\n",
              "26                      I I M  23.031270  72.537133\n",
              "27                   Manekbag  23.019342  72.541232\n",
              "28    Polytechnic (Ahmedabad)  23.026577  72.547506\n",
              "29               Azad Society  23.029157  72.532752\n",
              "30                Meghaningar  23.058283  72.616509\n",
              "31           Gita Mandir Road  23.015200  72.593222\n",
              "32             Civil Hospital  23.051438  72.605116\n",
              "33  Gandhi Ashram (Ahmedabad)  23.060165  72.580638\n",
              "34                Jivraj Park  23.006332  72.536517\n",
              "35                   Memnagar  23.053084  72.532931\n",
              "36               Thaltej Road  23.050483  72.498859\n",
              "37                   Bodakdev  23.044227  72.517458\n",
              "38                   Juhapura  23.005630  72.523101\n",
              "39                      Bopal  23.029699  72.465579\n",
              "40                      Ghuma  23.029511  72.450601\n",
              "41                      Ambli  23.018494  72.495454\n",
              "42                      Shela  23.010030  72.444016\n",
              "43                    Thaltej  23.048539  72.511742\n",
              "44                     Shilaj  23.054437  72.472076\n",
              "45                       Sola  23.069237  72.511131\n",
              "46                     Bhadaj  23.086873  72.483504\n",
              "47                      Ognaj  23.108063  72.522650\n",
              "48                  Ghatlodia  23.068665  72.536822\n",
              "49                 Sola H B C  23.057801  72.549016"
            ]
          },
          "metadata": {
            "tags": []
          },
          "execution_count": 4
        }
      ]
    },
    {
      "cell_type": "markdown",
      "metadata": {
        "id": "_vkQlG7mDlX_"
      },
      "source": [
        "## Get Nearby Places Using Foursquare Location Services API"
      ]
    },
    {
      "cell_type": "markdown",
      "metadata": {
        "id": "CDh_GVJZDtwB"
      },
      "source": [
        "#### Define Foursquare Credentials"
      ]
    },
    {
      "cell_type": "code",
      "metadata": {
        "colab": {
          "base_uri": "https://localhost:8080/"
        },
        "id": "WwzQxMbY81zd",
        "outputId": "d51ec185-6ec6-449e-cada-ce8e5d24d3bd"
      },
      "source": [
        "creds_df = pd.read_csv('fsquare_creds.csv')\n",
        "CLIENT_ID = creds_df.iloc[0:1, -2].values[0]\n",
        "CLIENT_SECRET = creds_df.iloc[0:1, -1].values[0]\n",
        "VERSION = '20180605' # Foursquare API version\n",
        "LIMIT = 100 # A default Foursquare API limit value\n",
        "\n",
        "print('Credentails Defined:')"
      ],
      "execution_count": 15,
      "outputs": [
        {
          "output_type": "stream",
          "text": [
            "Credentails Defined:\n"
          ],
          "name": "stdout"
        }
      ]
    },
    {
      "cell_type": "markdown",
      "metadata": {
        "id": "pXOSEJDgD7d2"
      },
      "source": [
        "#### Define Function to Search The Neighborhood With Keyword 'Pizza'"
      ]
    },
    {
      "cell_type": "code",
      "metadata": {
        "id": "oL9K6-HfDx7D"
      },
      "source": [
        "def searchVenues(names, latitudes, longitudes, radius=1100):\n",
        "    \n",
        "    venues_list=[]\n",
        "    for name, lat, lng in zip(names, latitudes, longitudes):\n",
        "        print(name)\n",
        "            \n",
        "        # create the API request URL\n",
        "        url = 'https://api.foursquare.com/v2/venues/search?&client_id={}&client_secret={}&v={}&ll={},{}&radius={}&limit={}&query=pizza'.format(\n",
        "            CLIENT_ID, \n",
        "            CLIENT_SECRET, \n",
        "            VERSION, \n",
        "            lat, \n",
        "            lng, \n",
        "            radius, \n",
        "            LIMIT)\n",
        "            \n",
        "        # make the GET request\n",
        "        results = requests.get(url).json()[\"response\"]['venues']\n",
        "        \n",
        "        # return only relevant information for each nearby venue\n",
        "        for v in results:\n",
        "            try:\n",
        "              category = v['categories'][0]['name']\n",
        "            except:\n",
        "              category = 'Pizza Place'\n",
        "            venues_list.append([(\n",
        "                name, \n",
        "                lat, \n",
        "                lng, \n",
        "                v['id'],\n",
        "                v['name'], \n",
        "                v['location']['lat'], \n",
        "                v['location']['lng'],  \n",
        "                category,\n",
        "                v['location']['distance'])])\n",
        "\n",
        "    nearby_venues = pd.DataFrame([item for venue_list in venues_list for item in venue_list])\n",
        "    nearby_venues.columns = ['Neighborhood', \n",
        "                  'Neighborhood Latitude', \n",
        "                  'Neighborhood Longitude', \n",
        "                  'Venue ID',           \n",
        "                  'Venue', \n",
        "                  'Venue Latitude', \n",
        "                  'Venue Longitude', \n",
        "                  'Venue Category',\n",
        "                  'Distance']\n",
        "    \n",
        "    return(nearby_venues)"
      ],
      "execution_count": 16,
      "outputs": []
    },
    {
      "cell_type": "markdown",
      "metadata": {
        "id": "e4ginJ14EKYy"
      },
      "source": [
        "#### Get Venues for Each Neighborhood"
      ]
    },
    {
      "cell_type": "code",
      "metadata": {
        "colab": {
          "base_uri": "https://localhost:8080/",
          "height": 1000
        },
        "id": "rv5oQkZLELE-",
        "outputId": "b2c064b9-7794-4598-8138-b2b4ed0822b8"
      },
      "source": [
        "ahmedabad_venues = searchVenues(\n",
        "                                     names = vicinity_df['Vicinity'],\n",
        "                                     latitudes = vicinity_df['V Lat'],\n",
        "                                     longitudes = vicinity_df['V Long'],\n",
        "                                 )\n",
        "ahmedabad_venues.head()"
      ],
      "execution_count": 18,
      "outputs": [
        {
          "output_type": "stream",
          "text": [
            "Lal Darwaja\n",
            "Manek Chowk\n",
            "Shahibag\n",
            "Sabarmati\n",
            "Kabir Chowk\n",
            "Motera\n",
            "Ambawadi (Ahmedabad)\n",
            "Ellisbridge\n",
            "Paldi (Ahmedabad)\n",
            "Sarkhej Road\n",
            "Anandnagar (Ahmedabad)\n",
            "Shardanagar\n",
            "Narayannagar\n",
            "Jawahar Chowk\n",
            "Maninagar\n",
            "Ashram Road\n",
            "Darpan Society\n",
            "Gujarat University\n",
            "Navrangpura\n",
            "Stadium Marg\n",
            "Vadaj\n",
            "Naranpura Vistar\n",
            "Shastrinagar (Ahmedabad)\n",
            "Nava Vadaj\n",
            "Navjivan\n",
            "Jodhpur Char Rasta\n",
            "I I M\n",
            "Manekbag\n",
            "Polytechnic (Ahmedabad)\n",
            "Azad Society\n",
            "Meghaningar\n",
            "Gita Mandir Road\n",
            "Civil Hospital\n",
            "Gandhi Ashram (Ahmedabad)\n",
            "Jivraj Park\n",
            "Memnagar\n",
            "Thaltej Road\n",
            "Bodakdev\n",
            "Juhapura\n",
            "Bopal\n",
            "Ghuma\n",
            "Ambli\n",
            "Shela\n",
            "Thaltej\n",
            "Shilaj\n",
            "Sola\n",
            "Bhadaj\n",
            "Ognaj\n",
            "Ghatlodia\n",
            "Sola H B C\n"
          ],
          "name": "stdout"
        },
        {
          "output_type": "execute_result",
          "data": {
            "text/html": [
              "<div>\n",
              "<style scoped>\n",
              "    .dataframe tbody tr th:only-of-type {\n",
              "        vertical-align: middle;\n",
              "    }\n",
              "\n",
              "    .dataframe tbody tr th {\n",
              "        vertical-align: top;\n",
              "    }\n",
              "\n",
              "    .dataframe thead th {\n",
              "        text-align: right;\n",
              "    }\n",
              "</style>\n",
              "<table border=\"1\" class=\"dataframe\">\n",
              "  <thead>\n",
              "    <tr style=\"text-align: right;\">\n",
              "      <th></th>\n",
              "      <th>Neighborhood</th>\n",
              "      <th>Neighborhood Latitude</th>\n",
              "      <th>Neighborhood Longitude</th>\n",
              "      <th>Venue ID</th>\n",
              "      <th>Venue</th>\n",
              "      <th>Venue Latitude</th>\n",
              "      <th>Venue Longitude</th>\n",
              "      <th>Venue Category</th>\n",
              "      <th>Distance</th>\n",
              "    </tr>\n",
              "  </thead>\n",
              "  <tbody>\n",
              "    <tr>\n",
              "      <th>0</th>\n",
              "      <td>Lal Darwaja</td>\n",
              "      <td>23.02419</td>\n",
              "      <td>72.578556</td>\n",
              "      <td>56fcee27498eef4f589db68f</td>\n",
              "      <td>Pizza Hut</td>\n",
              "      <td>23.032067</td>\n",
              "      <td>72.570223</td>\n",
              "      <td>Pizza Place</td>\n",
              "      <td>1223</td>\n",
              "    </tr>\n",
              "    <tr>\n",
              "      <th>1</th>\n",
              "      <td>Lal Darwaja</td>\n",
              "      <td>23.02419</td>\n",
              "      <td>72.578556</td>\n",
              "      <td>510947c5e4b0c06b6e9fe820</td>\n",
              "      <td>Chef's Pizza</td>\n",
              "      <td>23.026209</td>\n",
              "      <td>72.580739</td>\n",
              "      <td>Pizza Place</td>\n",
              "      <td>317</td>\n",
              "    </tr>\n",
              "    <tr>\n",
              "      <th>2</th>\n",
              "      <td>Lal Darwaja</td>\n",
              "      <td>23.02419</td>\n",
              "      <td>72.578556</td>\n",
              "      <td>5300f3f9498efe1cdbdcc2e0</td>\n",
              "      <td>Pizza Hut Delivery Express</td>\n",
              "      <td>23.031657</td>\n",
              "      <td>72.570516</td>\n",
              "      <td>Pizza Place</td>\n",
              "      <td>1170</td>\n",
              "    </tr>\n",
              "    <tr>\n",
              "      <th>3</th>\n",
              "      <td>Lal Darwaja</td>\n",
              "      <td>23.02419</td>\n",
              "      <td>72.578556</td>\n",
              "      <td>51d31558498eab154179e566</td>\n",
              "      <td>Manek Pizza &amp; Sandwich</td>\n",
              "      <td>23.023835</td>\n",
              "      <td>72.588502</td>\n",
              "      <td>Fast Food Restaurant</td>\n",
              "      <td>1019</td>\n",
              "    </tr>\n",
              "    <tr>\n",
              "      <th>4</th>\n",
              "      <td>Lal Darwaja</td>\n",
              "      <td>23.02419</td>\n",
              "      <td>72.578556</td>\n",
              "      <td>4fd73e73e4b0ed2ec945faa6</td>\n",
              "      <td>Pinky Pizza</td>\n",
              "      <td>23.027697</td>\n",
              "      <td>72.589634</td>\n",
              "      <td>Fast Food Restaurant</td>\n",
              "      <td>1200</td>\n",
              "    </tr>\n",
              "  </tbody>\n",
              "</table>\n",
              "</div>"
            ],
            "text/plain": [
              "  Neighborhood  Neighborhood Latitude  ...        Venue Category Distance\n",
              "0  Lal Darwaja               23.02419  ...           Pizza Place     1223\n",
              "1  Lal Darwaja               23.02419  ...           Pizza Place      317\n",
              "2  Lal Darwaja               23.02419  ...           Pizza Place     1170\n",
              "3  Lal Darwaja               23.02419  ...  Fast Food Restaurant     1019\n",
              "4  Lal Darwaja               23.02419  ...  Fast Food Restaurant     1200\n",
              "\n",
              "[5 rows x 9 columns]"
            ]
          },
          "metadata": {
            "tags": []
          },
          "execution_count": 18
        }
      ]
    },
    {
      "cell_type": "code",
      "metadata": {
        "colab": {
          "base_uri": "https://localhost:8080/",
          "height": 343
        },
        "id": "evWwGXnYEXKh",
        "outputId": "574125c0-0e65-4218-ac53-35d004149cec"
      },
      "source": [
        "print(ahmedabad_venues.shape[0])\n",
        "ahmedabad_venues.sort_values(by=['Venue ID','Distance'], ascending=True, inplace=True)\n",
        "ahmedabad_venues.head()"
      ],
      "execution_count": 19,
      "outputs": [
        {
          "output_type": "stream",
          "text": [
            "256\n"
          ],
          "name": "stdout"
        },
        {
          "output_type": "execute_result",
          "data": {
            "text/html": [
              "<div>\n",
              "<style scoped>\n",
              "    .dataframe tbody tr th:only-of-type {\n",
              "        vertical-align: middle;\n",
              "    }\n",
              "\n",
              "    .dataframe tbody tr th {\n",
              "        vertical-align: top;\n",
              "    }\n",
              "\n",
              "    .dataframe thead th {\n",
              "        text-align: right;\n",
              "    }\n",
              "</style>\n",
              "<table border=\"1\" class=\"dataframe\">\n",
              "  <thead>\n",
              "    <tr style=\"text-align: right;\">\n",
              "      <th></th>\n",
              "      <th>Neighborhood</th>\n",
              "      <th>Neighborhood Latitude</th>\n",
              "      <th>Neighborhood Longitude</th>\n",
              "      <th>Venue ID</th>\n",
              "      <th>Venue</th>\n",
              "      <th>Venue Latitude</th>\n",
              "      <th>Venue Longitude</th>\n",
              "      <th>Venue Category</th>\n",
              "      <th>Distance</th>\n",
              "    </tr>\n",
              "  </thead>\n",
              "  <tbody>\n",
              "    <tr>\n",
              "      <th>153</th>\n",
              "      <td>Jodhpur Char Rasta</td>\n",
              "      <td>23.025341</td>\n",
              "      <td>72.527761</td>\n",
              "      <td>4bace359f964a52011163be3</td>\n",
              "      <td>Pizza hut</td>\n",
              "      <td>23.026240</td>\n",
              "      <td>72.529440</td>\n",
              "      <td>Italian Restaurant</td>\n",
              "      <td>199</td>\n",
              "    </tr>\n",
              "    <tr>\n",
              "      <th>183</th>\n",
              "      <td>Azad Society</td>\n",
              "      <td>23.029157</td>\n",
              "      <td>72.532752</td>\n",
              "      <td>4bace359f964a52011163be3</td>\n",
              "      <td>Pizza hut</td>\n",
              "      <td>23.026240</td>\n",
              "      <td>72.529440</td>\n",
              "      <td>Italian Restaurant</td>\n",
              "      <td>469</td>\n",
              "    </tr>\n",
              "    <tr>\n",
              "      <th>159</th>\n",
              "      <td>I I M</td>\n",
              "      <td>23.031270</td>\n",
              "      <td>72.537133</td>\n",
              "      <td>4bace359f964a52011163be3</td>\n",
              "      <td>Pizza hut</td>\n",
              "      <td>23.026240</td>\n",
              "      <td>72.529440</td>\n",
              "      <td>Italian Restaurant</td>\n",
              "      <td>966</td>\n",
              "    </tr>\n",
              "    <tr>\n",
              "      <th>53</th>\n",
              "      <td>Anandnagar (Ahmedabad)</td>\n",
              "      <td>23.016075</td>\n",
              "      <td>72.509295</td>\n",
              "      <td>4bc829dd14d79521b49c68e9</td>\n",
              "      <td>Domino's Pizza</td>\n",
              "      <td>23.024285</td>\n",
              "      <td>72.507111</td>\n",
              "      <td>Pizza Place</td>\n",
              "      <td>940</td>\n",
              "    </tr>\n",
              "    <tr>\n",
              "      <th>42</th>\n",
              "      <td>Anandnagar (Ahmedabad)</td>\n",
              "      <td>23.016075</td>\n",
              "      <td>72.509295</td>\n",
              "      <td>4bd6e2decfa7b7132e3428da</td>\n",
              "      <td>Jasuben pizza</td>\n",
              "      <td>23.015231</td>\n",
              "      <td>72.507146</td>\n",
              "      <td>Pizza Place</td>\n",
              "      <td>239</td>\n",
              "    </tr>\n",
              "  </tbody>\n",
              "</table>\n",
              "</div>"
            ],
            "text/plain": [
              "               Neighborhood  ...  Distance\n",
              "153      Jodhpur Char Rasta  ...       199\n",
              "183            Azad Society  ...       469\n",
              "159                   I I M  ...       966\n",
              "53   Anandnagar (Ahmedabad)  ...       940\n",
              "42   Anandnagar (Ahmedabad)  ...       239\n",
              "\n",
              "[5 rows x 9 columns]"
            ]
          },
          "metadata": {
            "tags": []
          },
          "execution_count": 19
        }
      ]
    },
    {
      "cell_type": "code",
      "metadata": {
        "colab": {
          "base_uri": "https://localhost:8080/",
          "height": 374
        },
        "id": "8S1DCcG1jl81",
        "outputId": "b554f230-3a36-433c-8c00-f3b7096fe53b"
      },
      "source": [
        "ahmedabad_venues[ahmedabad_venues['Venue']=='bon pizza']"
      ],
      "execution_count": 20,
      "outputs": [
        {
          "output_type": "execute_result",
          "data": {
            "text/html": [
              "<div>\n",
              "<style scoped>\n",
              "    .dataframe tbody tr th:only-of-type {\n",
              "        vertical-align: middle;\n",
              "    }\n",
              "\n",
              "    .dataframe tbody tr th {\n",
              "        vertical-align: top;\n",
              "    }\n",
              "\n",
              "    .dataframe thead th {\n",
              "        text-align: right;\n",
              "    }\n",
              "</style>\n",
              "<table border=\"1\" class=\"dataframe\">\n",
              "  <thead>\n",
              "    <tr style=\"text-align: right;\">\n",
              "      <th></th>\n",
              "      <th>Neighborhood</th>\n",
              "      <th>Neighborhood Latitude</th>\n",
              "      <th>Neighborhood Longitude</th>\n",
              "      <th>Venue ID</th>\n",
              "      <th>Venue</th>\n",
              "      <th>Venue Latitude</th>\n",
              "      <th>Venue Longitude</th>\n",
              "      <th>Venue Category</th>\n",
              "      <th>Distance</th>\n",
              "    </tr>\n",
              "  </thead>\n",
              "  <tbody>\n",
              "    <tr>\n",
              "      <th>157</th>\n",
              "      <td>I I M</td>\n",
              "      <td>23.031270</td>\n",
              "      <td>72.537133</td>\n",
              "      <td>541d99c5498e3fbc999faec7</td>\n",
              "      <td>bon pizza</td>\n",
              "      <td>23.030107</td>\n",
              "      <td>72.54184</td>\n",
              "      <td>Pizza Place</td>\n",
              "      <td>499</td>\n",
              "    </tr>\n",
              "    <tr>\n",
              "      <th>180</th>\n",
              "      <td>Polytechnic (Ahmedabad)</td>\n",
              "      <td>23.026577</td>\n",
              "      <td>72.547506</td>\n",
              "      <td>541d99c5498e3fbc999faec7</td>\n",
              "      <td>bon pizza</td>\n",
              "      <td>23.030107</td>\n",
              "      <td>72.54184</td>\n",
              "      <td>Pizza Place</td>\n",
              "      <td>701</td>\n",
              "    </tr>\n",
              "    <tr>\n",
              "      <th>113</th>\n",
              "      <td>Gujarat University</td>\n",
              "      <td>23.037307</td>\n",
              "      <td>72.544748</td>\n",
              "      <td>541d99c5498e3fbc999faec7</td>\n",
              "      <td>bon pizza</td>\n",
              "      <td>23.030107</td>\n",
              "      <td>72.54184</td>\n",
              "      <td>Pizza Place</td>\n",
              "      <td>855</td>\n",
              "    </tr>\n",
              "    <tr>\n",
              "      <th>189</th>\n",
              "      <td>Azad Society</td>\n",
              "      <td>23.029157</td>\n",
              "      <td>72.532752</td>\n",
              "      <td>541d99c5498e3fbc999faec7</td>\n",
              "      <td>bon pizza</td>\n",
              "      <td>23.030107</td>\n",
              "      <td>72.54184</td>\n",
              "      <td>Pizza Place</td>\n",
              "      <td>936</td>\n",
              "    </tr>\n",
              "    <tr>\n",
              "      <th>25</th>\n",
              "      <td>Ambawadi (Ahmedabad)</td>\n",
              "      <td>23.022612</td>\n",
              "      <td>72.549083</td>\n",
              "      <td>541d99c5498e3fbc999faec7</td>\n",
              "      <td>bon pizza</td>\n",
              "      <td>23.030107</td>\n",
              "      <td>72.54184</td>\n",
              "      <td>Pizza Place</td>\n",
              "      <td>1116</td>\n",
              "    </tr>\n",
              "    <tr>\n",
              "      <th>173</th>\n",
              "      <td>Manekbag</td>\n",
              "      <td>23.019342</td>\n",
              "      <td>72.541232</td>\n",
              "      <td>541d99c5498e3fbc999faec7</td>\n",
              "      <td>bon pizza</td>\n",
              "      <td>23.030107</td>\n",
              "      <td>72.54184</td>\n",
              "      <td>Pizza Place</td>\n",
              "      <td>1200</td>\n",
              "    </tr>\n",
              "  </tbody>\n",
              "</table>\n",
              "</div>"
            ],
            "text/plain": [
              "                Neighborhood  Neighborhood Latitude  ...  Venue Category Distance\n",
              "157                    I I M              23.031270  ...     Pizza Place      499\n",
              "180  Polytechnic (Ahmedabad)              23.026577  ...     Pizza Place      701\n",
              "113       Gujarat University              23.037307  ...     Pizza Place      855\n",
              "189             Azad Society              23.029157  ...     Pizza Place      936\n",
              "25      Ambawadi (Ahmedabad)              23.022612  ...     Pizza Place     1116\n",
              "173                 Manekbag              23.019342  ...     Pizza Place     1200\n",
              "\n",
              "[6 rows x 9 columns]"
            ]
          },
          "metadata": {
            "tags": []
          },
          "execution_count": 20
        }
      ]
    },
    {
      "cell_type": "markdown",
      "metadata": {
        "id": "p6YT98Z5FAu-"
      },
      "source": [
        "#### Remove Duplicate Pizza Places Intersecting the Radii of Neighborhoods"
      ]
    },
    {
      "cell_type": "code",
      "metadata": {
        "colab": {
          "base_uri": "https://localhost:8080/",
          "height": 235
        },
        "id": "3azmWdqME658",
        "outputId": "8a178223-8851-4f01-e2e0-9a63661fdb06"
      },
      "source": [
        "duplicates = pd.DataFrame(ahmedabad_venues.groupby(['Venue ID', 'Venue']).count()['Neighborhood']).sort_values(by='Neighborhood', ascending=False)\n",
        "duplicates.head()"
      ],
      "execution_count": 21,
      "outputs": [
        {
          "output_type": "execute_result",
          "data": {
            "text/html": [
              "<div>\n",
              "<style scoped>\n",
              "    .dataframe tbody tr th:only-of-type {\n",
              "        vertical-align: middle;\n",
              "    }\n",
              "\n",
              "    .dataframe tbody tr th {\n",
              "        vertical-align: top;\n",
              "    }\n",
              "\n",
              "    .dataframe thead th {\n",
              "        text-align: right;\n",
              "    }\n",
              "</style>\n",
              "<table border=\"1\" class=\"dataframe\">\n",
              "  <thead>\n",
              "    <tr style=\"text-align: right;\">\n",
              "      <th></th>\n",
              "      <th></th>\n",
              "      <th>Neighborhood</th>\n",
              "    </tr>\n",
              "    <tr>\n",
              "      <th>Venue ID</th>\n",
              "      <th>Venue</th>\n",
              "      <th></th>\n",
              "    </tr>\n",
              "  </thead>\n",
              "  <tbody>\n",
              "    <tr>\n",
              "      <th>4f5ccb33e4b05cfda5d7cbad</th>\n",
              "      <th>Domino's Pizza</th>\n",
              "      <td>6</td>\n",
              "    </tr>\n",
              "    <tr>\n",
              "      <th>561d52eb498ed81f498c4fbe</th>\n",
              "      <th>Domino's Pizza</th>\n",
              "      <td>6</td>\n",
              "    </tr>\n",
              "    <tr>\n",
              "      <th>541d99c5498e3fbc999faec7</th>\n",
              "      <th>bon pizza</th>\n",
              "      <td>6</td>\n",
              "    </tr>\n",
              "    <tr>\n",
              "      <th>5162ba38e4b03d1defd89f4f</th>\n",
              "      <th>Jasuben old pizza</th>\n",
              "      <td>5</td>\n",
              "    </tr>\n",
              "    <tr>\n",
              "      <th>56fcee25498ee94f64c5b967</th>\n",
              "      <th>Pizza Hut</th>\n",
              "      <td>5</td>\n",
              "    </tr>\n",
              "  </tbody>\n",
              "</table>\n",
              "</div>"
            ],
            "text/plain": [
              "                                            Neighborhood\n",
              "Venue ID                 Venue                          \n",
              "4f5ccb33e4b05cfda5d7cbad Domino's Pizza                6\n",
              "561d52eb498ed81f498c4fbe Domino's Pizza                6\n",
              "541d99c5498e3fbc999faec7 bon pizza                     6\n",
              "5162ba38e4b03d1defd89f4f Jasuben old pizza             5\n",
              "56fcee25498ee94f64c5b967 Pizza Hut                     5"
            ]
          },
          "metadata": {
            "tags": []
          },
          "execution_count": 21
        }
      ]
    },
    {
      "cell_type": "code",
      "metadata": {
        "colab": {
          "base_uri": "https://localhost:8080/",
          "height": 388
        },
        "id": "IimGzaiHFfwx",
        "outputId": "47d08778-0984-46ed-d290-a5ef2030c442"
      },
      "source": [
        "ahmedabad_venues.drop_duplicates(subset=['Venue ID'], keep='first', inplace=True)\n",
        "print(ahmedabad_venues.shape[0])\n",
        "print(ahmedabad_venues['Neighborhood'].unique())\n",
        "duplicates = pd.DataFrame(ahmedabad_venues.groupby(['Venue ID', 'Venue']).count()['Neighborhood']).sort_values(by='Neighborhood', ascending=False)\n",
        "duplicates.head()"
      ],
      "execution_count": 22,
      "outputs": [
        {
          "output_type": "stream",
          "text": [
            "120\n",
            "['Jodhpur Char Rasta' 'Anandnagar (Ahmedabad)' 'Ambawadi (Ahmedabad)'\n",
            " 'Memnagar' 'Navrangpura' 'Maninagar' 'Bodakdev'\n",
            " 'Shastrinagar (Ahmedabad)' 'Azad Society' 'Narayannagar'\n",
            " 'Gujarat University' 'Bopal' 'Shardanagar' 'Gandhi Ashram (Ahmedabad)'\n",
            " 'I I M' 'Darpan Society' 'Polytechnic (Ahmedabad)' 'Ghatlodia'\n",
            " 'Manek Chowk' 'Motera' 'Jawahar Chowk' 'Paldi (Ahmedabad)' 'Shahibag'\n",
            " 'Lal Darwaja' 'Ashram Road' 'Manekbag' 'Stadium Marg' 'Thaltej'\n",
            " 'Gita Mandir Road' 'Ghuma' 'Juhapura' 'Thaltej Road']\n"
          ],
          "name": "stdout"
        },
        {
          "output_type": "execute_result",
          "data": {
            "text/html": [
              "<div>\n",
              "<style scoped>\n",
              "    .dataframe tbody tr th:only-of-type {\n",
              "        vertical-align: middle;\n",
              "    }\n",
              "\n",
              "    .dataframe tbody tr th {\n",
              "        vertical-align: top;\n",
              "    }\n",
              "\n",
              "    .dataframe thead th {\n",
              "        text-align: right;\n",
              "    }\n",
              "</style>\n",
              "<table border=\"1\" class=\"dataframe\">\n",
              "  <thead>\n",
              "    <tr style=\"text-align: right;\">\n",
              "      <th></th>\n",
              "      <th></th>\n",
              "      <th>Neighborhood</th>\n",
              "    </tr>\n",
              "    <tr>\n",
              "      <th>Venue ID</th>\n",
              "      <th>Venue</th>\n",
              "      <th></th>\n",
              "    </tr>\n",
              "  </thead>\n",
              "  <tbody>\n",
              "    <tr>\n",
              "      <th>4bace359f964a52011163be3</th>\n",
              "      <th>Pizza hut</th>\n",
              "      <td>1</td>\n",
              "    </tr>\n",
              "    <tr>\n",
              "      <th>4bc829dd14d79521b49c68e9</th>\n",
              "      <th>Domino's Pizza</th>\n",
              "      <td>1</td>\n",
              "    </tr>\n",
              "    <tr>\n",
              "      <th>5319778a498e2932f30def4b</th>\n",
              "      <th>Neopolitan Pizza</th>\n",
              "      <td>1</td>\n",
              "    </tr>\n",
              "    <tr>\n",
              "      <th>530e081011d20a35828c5200</th>\n",
              "      <th>Pizza Hut</th>\n",
              "      <td>1</td>\n",
              "    </tr>\n",
              "    <tr>\n",
              "      <th>5300f3f9498efe1cdbdcc2e0</th>\n",
              "      <th>Pizza Hut Delivery Express</th>\n",
              "      <td>1</td>\n",
              "    </tr>\n",
              "  </tbody>\n",
              "</table>\n",
              "</div>"
            ],
            "text/plain": [
              "                                                     Neighborhood\n",
              "Venue ID                 Venue                                   \n",
              "4bace359f964a52011163be3 Pizza hut                              1\n",
              "4bc829dd14d79521b49c68e9 Domino's Pizza                         1\n",
              "5319778a498e2932f30def4b Neopolitan Pizza                       1\n",
              "530e081011d20a35828c5200 Pizza Hut                              1\n",
              "5300f3f9498efe1cdbdcc2e0 Pizza Hut Delivery Express             1"
            ]
          },
          "metadata": {
            "tags": []
          },
          "execution_count": 22
        }
      ]
    },
    {
      "cell_type": "markdown",
      "metadata": {
        "id": "est_Hqr2HTZQ"
      },
      "source": [
        "### Check if Multiple Branches Are Classified Into Different Venue Categories"
      ]
    },
    {
      "cell_type": "code",
      "metadata": {
        "colab": {
          "base_uri": "https://localhost:8080/",
          "height": 514
        },
        "id": "CJ7nzi2SG2bw",
        "outputId": "a8df988e-32ae-4d38-c3b6-e5828bf082d4"
      },
      "source": [
        "branches_df = pd.DataFrame(ahmedabad_venues.groupby(['Venue']).count().sort_values(by='Neighborhood', ascending=False)['Neighborhood'])\n",
        "branches_df.reset_index(inplace=True)\n",
        "branches_df.rename(columns={'Neighborhood':'Count'}, inplace=True)\n",
        "branches_df.head(15)"
      ],
      "execution_count": 23,
      "outputs": [
        {
          "output_type": "execute_result",
          "data": {
            "text/html": [
              "<div>\n",
              "<style scoped>\n",
              "    .dataframe tbody tr th:only-of-type {\n",
              "        vertical-align: middle;\n",
              "    }\n",
              "\n",
              "    .dataframe tbody tr th {\n",
              "        vertical-align: top;\n",
              "    }\n",
              "\n",
              "    .dataframe thead th {\n",
              "        text-align: right;\n",
              "    }\n",
              "</style>\n",
              "<table border=\"1\" class=\"dataframe\">\n",
              "  <thead>\n",
              "    <tr style=\"text-align: right;\">\n",
              "      <th></th>\n",
              "      <th>Venue</th>\n",
              "      <th>Count</th>\n",
              "    </tr>\n",
              "  </thead>\n",
              "  <tbody>\n",
              "    <tr>\n",
              "      <th>0</th>\n",
              "      <td>Domino's Pizza</td>\n",
              "      <td>18</td>\n",
              "    </tr>\n",
              "    <tr>\n",
              "      <th>1</th>\n",
              "      <td>Pizza Hut</td>\n",
              "      <td>9</td>\n",
              "    </tr>\n",
              "    <tr>\n",
              "      <th>2</th>\n",
              "      <td>U S Pizza</td>\n",
              "      <td>6</td>\n",
              "    </tr>\n",
              "    <tr>\n",
              "      <th>3</th>\n",
              "      <td>Pizza Zone</td>\n",
              "      <td>3</td>\n",
              "    </tr>\n",
              "    <tr>\n",
              "      <th>4</th>\n",
              "      <td>La Pino's Pizza</td>\n",
              "      <td>2</td>\n",
              "    </tr>\n",
              "    <tr>\n",
              "      <th>5</th>\n",
              "      <td>Pizza World</td>\n",
              "      <td>2</td>\n",
              "    </tr>\n",
              "    <tr>\n",
              "      <th>6</th>\n",
              "      <td>Enjoy Pizza</td>\n",
              "      <td>2</td>\n",
              "    </tr>\n",
              "    <tr>\n",
              "      <th>7</th>\n",
              "      <td>Sam's Pizza</td>\n",
              "      <td>2</td>\n",
              "    </tr>\n",
              "    <tr>\n",
              "      <th>8</th>\n",
              "      <td>Pizza Americano</td>\n",
              "      <td>2</td>\n",
              "    </tr>\n",
              "    <tr>\n",
              "      <th>9</th>\n",
              "      <td>Pomos Pizza</td>\n",
              "      <td>1</td>\n",
              "    </tr>\n",
              "    <tr>\n",
              "      <th>10</th>\n",
              "      <td>The Pizza Hub</td>\n",
              "      <td>1</td>\n",
              "    </tr>\n",
              "    <tr>\n",
              "      <th>11</th>\n",
              "      <td>Shree Shankar Pizza</td>\n",
              "      <td>1</td>\n",
              "    </tr>\n",
              "    <tr>\n",
              "      <th>12</th>\n",
              "      <td>Shakti Parlour</td>\n",
              "      <td>1</td>\n",
              "    </tr>\n",
              "    <tr>\n",
              "      <th>13</th>\n",
              "      <td>Red Chili Pizza</td>\n",
              "      <td>1</td>\n",
              "    </tr>\n",
              "    <tr>\n",
              "      <th>14</th>\n",
              "      <td>Quick Pick  Sam Pizza</td>\n",
              "      <td>1</td>\n",
              "    </tr>\n",
              "  </tbody>\n",
              "</table>\n",
              "</div>"
            ],
            "text/plain": [
              "                    Venue  Count\n",
              "0          Domino's Pizza     18\n",
              "1               Pizza Hut      9\n",
              "2               U S Pizza      6\n",
              "3              Pizza Zone      3\n",
              "4         La Pino's Pizza      2\n",
              "5             Pizza World      2\n",
              "6             Enjoy Pizza      2\n",
              "7             Sam's Pizza      2\n",
              "8         Pizza Americano      2\n",
              "9             Pomos Pizza      1\n",
              "10          The Pizza Hub      1\n",
              "11    Shree Shankar Pizza      1\n",
              "12         Shakti Parlour      1\n",
              "13        Red Chili Pizza      1\n",
              "14  Quick Pick  Sam Pizza      1"
            ]
          },
          "metadata": {
            "tags": []
          },
          "execution_count": 23
        }
      ]
    },
    {
      "cell_type": "code",
      "metadata": {
        "id": "u-v4ngViHXnF"
      },
      "source": [
        "temp_df = ahmedabad_venues.groupby(['Venue', 'Venue Category']).count()\n",
        "temp_df.reset_index(inplace=True)\n",
        "cols = ['Venue','Category List']\n",
        "\n",
        "multi_cat = []\n",
        "for branch in range(len(branches_df)): \n",
        "    lst = []\n",
        "    lst = temp_df.loc[temp_df['Venue'].str.contains(temp_df.loc[branch]['Venue'], case=False)]['Venue Category'].unique()\n",
        "    if len(lst) > 1:\n",
        "        multi_cat.append([temp_df.loc[branch]['Venue'], lst])\n",
        "multi_cat = pd.DataFrame(multi_cat, columns=cols)\n",
        "multi_cat.drop_duplicates(subset=['Venue'], keep='last', inplace=True)\n",
        "multi_cat.reset_index(inplace=True)\n",
        "multi_cat.drop('index', inplace=True, axis=1)"
      ],
      "execution_count": 24,
      "outputs": []
    },
    {
      "cell_type": "code",
      "metadata": {
        "colab": {
          "base_uri": "https://localhost:8080/",
          "height": 297
        },
        "id": "5aFpeiq8Mc2I",
        "outputId": "122ccdfc-9ed9-40fb-bac7-20cb1efa4866"
      },
      "source": [
        "multi_cat"
      ],
      "execution_count": 25,
      "outputs": [
        {
          "output_type": "execute_result",
          "data": {
            "text/html": [
              "<div>\n",
              "<style scoped>\n",
              "    .dataframe tbody tr th:only-of-type {\n",
              "        vertical-align: middle;\n",
              "    }\n",
              "\n",
              "    .dataframe tbody tr th {\n",
              "        vertical-align: top;\n",
              "    }\n",
              "\n",
              "    .dataframe thead th {\n",
              "        text-align: right;\n",
              "    }\n",
              "</style>\n",
              "<table border=\"1\" class=\"dataframe\">\n",
              "  <thead>\n",
              "    <tr style=\"text-align: right;\">\n",
              "      <th></th>\n",
              "      <th>Venue</th>\n",
              "      <th>Category List</th>\n",
              "    </tr>\n",
              "  </thead>\n",
              "  <tbody>\n",
              "    <tr>\n",
              "      <th>0</th>\n",
              "      <td>Bon pizza</td>\n",
              "      <td>[Food Truck, Pizza Place]</td>\n",
              "    </tr>\n",
              "    <tr>\n",
              "      <th>1</th>\n",
              "      <td>Enjoy Pizza</td>\n",
              "      <td>[Italian Restaurant, Pizza Place]</td>\n",
              "    </tr>\n",
              "    <tr>\n",
              "      <th>2</th>\n",
              "      <td>Pizza Hut</td>\n",
              "      <td>[Pizza Place, Italian Restaurant]</td>\n",
              "    </tr>\n",
              "    <tr>\n",
              "      <th>3</th>\n",
              "      <td>Pizza hut</td>\n",
              "      <td>[Pizza Place, Italian Restaurant]</td>\n",
              "    </tr>\n",
              "    <tr>\n",
              "      <th>4</th>\n",
              "      <td>U S Pizza</td>\n",
              "      <td>[Italian Restaurant, Pizza Place]</td>\n",
              "    </tr>\n",
              "    <tr>\n",
              "      <th>5</th>\n",
              "      <td>U.S Pizza</td>\n",
              "      <td>[Italian Restaurant, Pizza Place]</td>\n",
              "    </tr>\n",
              "    <tr>\n",
              "      <th>6</th>\n",
              "      <td>U.S.Pizza</td>\n",
              "      <td>[Italian Restaurant, Pizza Place]</td>\n",
              "    </tr>\n",
              "    <tr>\n",
              "      <th>7</th>\n",
              "      <td>bon pizza</td>\n",
              "      <td>[Food Truck, Pizza Place]</td>\n",
              "    </tr>\n",
              "  </tbody>\n",
              "</table>\n",
              "</div>"
            ],
            "text/plain": [
              "         Venue                      Category List\n",
              "0    Bon pizza          [Food Truck, Pizza Place]\n",
              "1  Enjoy Pizza  [Italian Restaurant, Pizza Place]\n",
              "2    Pizza Hut  [Pizza Place, Italian Restaurant]\n",
              "3    Pizza hut  [Pizza Place, Italian Restaurant]\n",
              "4    U S Pizza  [Italian Restaurant, Pizza Place]\n",
              "5    U.S Pizza  [Italian Restaurant, Pizza Place]\n",
              "6    U.S.Pizza  [Italian Restaurant, Pizza Place]\n",
              "7    bon pizza          [Food Truck, Pizza Place]"
            ]
          },
          "metadata": {
            "tags": []
          },
          "execution_count": 25
        }
      ]
    },
    {
      "cell_type": "markdown",
      "metadata": {
        "id": "EeiUGyz0ICD3"
      },
      "source": [
        "#### Classify Each of the Branches Identified Above Into Uniform Category"
      ]
    },
    {
      "cell_type": "code",
      "metadata": {
        "id": "KLvlyCHrHi3s"
      },
      "source": [
        "for v in range(len(multi_cat)):\n",
        "  ahmedabad_venues.loc[ahmedabad_venues['Venue'].str.contains(multi_cat.loc[v, 'Venue'], case=False), 'Venue Category'] = 'Pizza Place'"
      ],
      "execution_count": 26,
      "outputs": []
    },
    {
      "cell_type": "markdown",
      "metadata": {
        "id": "ttYbDSGSOSBK"
      },
      "source": [
        "#### Check various other categories that also serves pizzas"
      ]
    },
    {
      "cell_type": "code",
      "metadata": {
        "colab": {
          "base_uri": "https://localhost:8080/"
        },
        "id": "7jjqi0JvOZbg",
        "outputId": "e7364267-abea-43b4-dd6e-1bc263063fb8"
      },
      "source": [
        "ahmedabad_venues['Venue Category'].unique()"
      ],
      "execution_count": 27,
      "outputs": [
        {
          "output_type": "execute_result",
          "data": {
            "text/plain": [
              "array(['Pizza Place', 'Arcade', 'Asian Restaurant', 'Sandwich Place',\n",
              "       'Fast Food Restaurant', 'Italian Restaurant', 'Food Truck'],\n",
              "      dtype=object)"
            ]
          },
          "metadata": {
            "tags": []
          },
          "execution_count": 27
        }
      ]
    },
    {
      "cell_type": "markdown",
      "metadata": {
        "id": "Q6t0usHuOgdl"
      },
      "source": [
        "#### Check out the places classified as Italian Restaurant"
      ]
    },
    {
      "cell_type": "code",
      "metadata": {
        "colab": {
          "base_uri": "https://localhost:8080/",
          "height": 247
        },
        "id": "gIzcyX9AJB1B",
        "outputId": "5b208de0-fcc9-44da-883b-012b24687c7b"
      },
      "source": [
        "ahmedabad_venues[ahmedabad_venues['Venue Category']== 'Italian Restaurant']"
      ],
      "execution_count": 28,
      "outputs": [
        {
          "output_type": "execute_result",
          "data": {
            "text/html": [
              "<div>\n",
              "<style scoped>\n",
              "    .dataframe tbody tr th:only-of-type {\n",
              "        vertical-align: middle;\n",
              "    }\n",
              "\n",
              "    .dataframe tbody tr th {\n",
              "        vertical-align: top;\n",
              "    }\n",
              "\n",
              "    .dataframe thead th {\n",
              "        text-align: right;\n",
              "    }\n",
              "</style>\n",
              "<table border=\"1\" class=\"dataframe\">\n",
              "  <thead>\n",
              "    <tr style=\"text-align: right;\">\n",
              "      <th></th>\n",
              "      <th>Neighborhood</th>\n",
              "      <th>Neighborhood Latitude</th>\n",
              "      <th>Neighborhood Longitude</th>\n",
              "      <th>Venue ID</th>\n",
              "      <th>Venue</th>\n",
              "      <th>Venue Latitude</th>\n",
              "      <th>Venue Longitude</th>\n",
              "      <th>Venue Category</th>\n",
              "      <th>Distance</th>\n",
              "    </tr>\n",
              "  </thead>\n",
              "  <tbody>\n",
              "    <tr>\n",
              "      <th>78</th>\n",
              "      <td>Maninagar</td>\n",
              "      <td>22.997713</td>\n",
              "      <td>72.606717</td>\n",
              "      <td>5219ce4111d27a09b610db33</td>\n",
              "      <td>Italiano Pizza</td>\n",
              "      <td>23.001574</td>\n",
              "      <td>72.603958</td>\n",
              "      <td>Italian Restaurant</td>\n",
              "      <td>514</td>\n",
              "    </tr>\n",
              "    <tr>\n",
              "      <th>50</th>\n",
              "      <td>Anandnagar (Ahmedabad)</td>\n",
              "      <td>23.016075</td>\n",
              "      <td>72.509295</td>\n",
              "      <td>55a7464b498e5be6be14f99c</td>\n",
              "      <td>Pizza shop test</td>\n",
              "      <td>23.006515</td>\n",
              "      <td>72.506740</td>\n",
              "      <td>Italian Restaurant</td>\n",
              "      <td>1095</td>\n",
              "    </tr>\n",
              "    <tr>\n",
              "      <th>93</th>\n",
              "      <td>Darpan Society</td>\n",
              "      <td>23.046712</td>\n",
              "      <td>72.553567</td>\n",
              "      <td>58e11ad50acb6a21e3503442</td>\n",
              "      <td>Madro's Pizza</td>\n",
              "      <td>23.043184</td>\n",
              "      <td>72.550020</td>\n",
              "      <td>Italian Restaurant</td>\n",
              "      <td>535</td>\n",
              "    </tr>\n",
              "  </tbody>\n",
              "</table>\n",
              "</div>"
            ],
            "text/plain": [
              "              Neighborhood  Neighborhood Latitude  ...      Venue Category Distance\n",
              "78               Maninagar              22.997713  ...  Italian Restaurant      514\n",
              "50  Anandnagar (Ahmedabad)              23.016075  ...  Italian Restaurant     1095\n",
              "93          Darpan Society              23.046712  ...  Italian Restaurant      535\n",
              "\n",
              "[3 rows x 9 columns]"
            ]
          },
          "metadata": {
            "tags": []
          },
          "execution_count": 28
        }
      ]
    },
    {
      "cell_type": "markdown",
      "metadata": {
        "id": "XiL18b1cOr6C"
      },
      "source": [
        "The above places classified as Italian Restaurants can be classified as a Pizza Place"
      ]
    },
    {
      "cell_type": "code",
      "metadata": {
        "colab": {
          "base_uri": "https://localhost:8080/"
        },
        "id": "bUoeGWTYNn9E",
        "outputId": "2c4f321b-5915-4bde-c968-8d9e0f7d18db"
      },
      "source": [
        "ahmedabad_venues['Venue Category'] = ahmedabad_venues['Venue Category'].replace(['Italian Restaurant'],['Pizza Place'])\n",
        "ahmedabad_venues['Venue Category'].unique()"
      ],
      "execution_count": 29,
      "outputs": [
        {
          "output_type": "execute_result",
          "data": {
            "text/plain": [
              "array(['Pizza Place', 'Arcade', 'Asian Restaurant', 'Sandwich Place',\n",
              "       'Fast Food Restaurant', 'Food Truck'], dtype=object)"
            ]
          },
          "metadata": {
            "tags": []
          },
          "execution_count": 29
        }
      ]
    },
    {
      "cell_type": "markdown",
      "metadata": {
        "id": "RjLKkbCPPkMM"
      },
      "source": [
        "#### Check out the places classified as Asian Restaurant"
      ]
    },
    {
      "cell_type": "code",
      "metadata": {
        "colab": {
          "base_uri": "https://localhost:8080/",
          "height": 134
        },
        "id": "zY1l04iUPZzi",
        "outputId": "ddce5ca7-4077-4748-eae8-ca369166b69c"
      },
      "source": [
        "ahmedabad_venues[ahmedabad_venues['Venue Category']== 'Asian Restaurant']"
      ],
      "execution_count": 30,
      "outputs": [
        {
          "output_type": "execute_result",
          "data": {
            "text/html": [
              "<div>\n",
              "<style scoped>\n",
              "    .dataframe tbody tr th:only-of-type {\n",
              "        vertical-align: middle;\n",
              "    }\n",
              "\n",
              "    .dataframe tbody tr th {\n",
              "        vertical-align: top;\n",
              "    }\n",
              "\n",
              "    .dataframe thead th {\n",
              "        text-align: right;\n",
              "    }\n",
              "</style>\n",
              "<table border=\"1\" class=\"dataframe\">\n",
              "  <thead>\n",
              "    <tr style=\"text-align: right;\">\n",
              "      <th></th>\n",
              "      <th>Neighborhood</th>\n",
              "      <th>Neighborhood Latitude</th>\n",
              "      <th>Neighborhood Longitude</th>\n",
              "      <th>Venue ID</th>\n",
              "      <th>Venue</th>\n",
              "      <th>Venue Latitude</th>\n",
              "      <th>Venue Longitude</th>\n",
              "      <th>Venue Category</th>\n",
              "      <th>Distance</th>\n",
              "    </tr>\n",
              "  </thead>\n",
              "  <tbody>\n",
              "    <tr>\n",
              "      <th>67</th>\n",
              "      <td>Narayannagar</td>\n",
              "      <td>22.997826</td>\n",
              "      <td>72.560115</td>\n",
              "      <td>4e0f3266d4c0f6d6b4014bfa</td>\n",
              "      <td>Pizzaiolo</td>\n",
              "      <td>23.003846</td>\n",
              "      <td>72.558785</td>\n",
              "      <td>Asian Restaurant</td>\n",
              "      <td>683</td>\n",
              "    </tr>\n",
              "  </tbody>\n",
              "</table>\n",
              "</div>"
            ],
            "text/plain": [
              "    Neighborhood  Neighborhood Latitude  ...    Venue Category Distance\n",
              "67  Narayannagar              22.997826  ...  Asian Restaurant      683\n",
              "\n",
              "[1 rows x 9 columns]"
            ]
          },
          "metadata": {
            "tags": []
          },
          "execution_count": 30
        }
      ]
    },
    {
      "cell_type": "markdown",
      "metadata": {
        "id": "FgaHhFELP3X4"
      },
      "source": [
        "The above place classified as Asian Restaurant can be classified as a Pizza Place"
      ]
    },
    {
      "cell_type": "code",
      "metadata": {
        "colab": {
          "base_uri": "https://localhost:8080/"
        },
        "id": "IpIeG_FZPtTz",
        "outputId": "ba7b18a9-a9eb-45bf-c31b-9eac24e189bf"
      },
      "source": [
        "ahmedabad_venues['Venue Category'] = ahmedabad_venues['Venue Category'].replace(['Asian Restaurant'],['Pizza Place'])\n",
        "ahmedabad_venues['Venue Category'].unique()"
      ],
      "execution_count": 31,
      "outputs": [
        {
          "output_type": "execute_result",
          "data": {
            "text/plain": [
              "array(['Pizza Place', 'Arcade', 'Sandwich Place', 'Fast Food Restaurant',\n",
              "       'Food Truck'], dtype=object)"
            ]
          },
          "metadata": {
            "tags": []
          },
          "execution_count": 31
        }
      ]
    },
    {
      "cell_type": "markdown",
      "metadata": {
        "id": "fGubYx5nRb2V"
      },
      "source": [
        "#### Check the Rest of The Categories"
      ]
    },
    {
      "cell_type": "code",
      "metadata": {
        "colab": {
          "base_uri": "https://localhost:8080/",
          "height": 832
        },
        "id": "fIuKp2gLQJU1",
        "outputId": "753019f9-60ed-412f-8e33-6e6f494ee516"
      },
      "source": [
        "ahmedabad_venues[ahmedabad_venues['Venue Category'].isin(['Fast Food Restaurant', 'Sandwich Place', 'Food Truck', 'Arcade'])]"
      ],
      "execution_count": 32,
      "outputs": [
        {
          "output_type": "execute_result",
          "data": {
            "text/html": [
              "<div>\n",
              "<style scoped>\n",
              "    .dataframe tbody tr th:only-of-type {\n",
              "        vertical-align: middle;\n",
              "    }\n",
              "\n",
              "    .dataframe tbody tr th {\n",
              "        vertical-align: top;\n",
              "    }\n",
              "\n",
              "    .dataframe thead th {\n",
              "        text-align: right;\n",
              "    }\n",
              "</style>\n",
              "<table border=\"1\" class=\"dataframe\">\n",
              "  <thead>\n",
              "    <tr style=\"text-align: right;\">\n",
              "      <th></th>\n",
              "      <th>Neighborhood</th>\n",
              "      <th>Neighborhood Latitude</th>\n",
              "      <th>Neighborhood Longitude</th>\n",
              "      <th>Venue ID</th>\n",
              "      <th>Venue</th>\n",
              "      <th>Venue Latitude</th>\n",
              "      <th>Venue Longitude</th>\n",
              "      <th>Venue Category</th>\n",
              "      <th>Distance</th>\n",
              "    </tr>\n",
              "  </thead>\n",
              "  <tbody>\n",
              "    <tr>\n",
              "      <th>147</th>\n",
              "      <td>Shastrinagar (Ahmedabad)</td>\n",
              "      <td>23.062423</td>\n",
              "      <td>72.553180</td>\n",
              "      <td>4d033bf0e8d85941b2dc2ca6</td>\n",
              "      <td>pizza , 36 types of salad</td>\n",
              "      <td>23.061747</td>\n",
              "      <td>72.553174</td>\n",
              "      <td>Arcade</td>\n",
              "      <td>75</td>\n",
              "    </tr>\n",
              "    <tr>\n",
              "      <th>237</th>\n",
              "      <td>Bopal</td>\n",
              "      <td>23.029699</td>\n",
              "      <td>72.465579</td>\n",
              "      <td>4f770248e4b042108253cc98</td>\n",
              "      <td>Amul Sandwich &amp; Pizza</td>\n",
              "      <td>23.029089</td>\n",
              "      <td>72.477398</td>\n",
              "      <td>Sandwich Place</td>\n",
              "      <td>1212</td>\n",
              "    </tr>\n",
              "    <tr>\n",
              "      <th>9</th>\n",
              "      <td>Manek Chowk</td>\n",
              "      <td>23.023180</td>\n",
              "      <td>72.588952</td>\n",
              "      <td>4fd73e73e4b0ed2ec945faa6</td>\n",
              "      <td>Pinky Pizza</td>\n",
              "      <td>23.027697</td>\n",
              "      <td>72.589634</td>\n",
              "      <td>Fast Food Restaurant</td>\n",
              "      <td>507</td>\n",
              "    </tr>\n",
              "    <tr>\n",
              "      <th>207</th>\n",
              "      <td>Memnagar</td>\n",
              "      <td>23.053084</td>\n",
              "      <td>72.532931</td>\n",
              "      <td>50e5b0b9e4b08bda3081f822</td>\n",
              "      <td>Amul Sandwich And Pizza</td>\n",
              "      <td>23.046270</td>\n",
              "      <td>72.530069</td>\n",
              "      <td>Sandwich Place</td>\n",
              "      <td>813</td>\n",
              "    </tr>\n",
              "    <tr>\n",
              "      <th>57</th>\n",
              "      <td>Shardanagar</td>\n",
              "      <td>23.011190</td>\n",
              "      <td>72.552575</td>\n",
              "      <td>513a0b59e4b0a4dac98fd3fb</td>\n",
              "      <td>Modi Sandwich &amp; Pizza</td>\n",
              "      <td>23.006339</td>\n",
              "      <td>72.556463</td>\n",
              "      <td>Fast Food Restaurant</td>\n",
              "      <td>670</td>\n",
              "    </tr>\n",
              "    <tr>\n",
              "      <th>84</th>\n",
              "      <td>Ashram Road</td>\n",
              "      <td>23.026694</td>\n",
              "      <td>72.571078</td>\n",
              "      <td>5162ba38e4b03d1defd89f4f</td>\n",
              "      <td>Jasuben old pizza</td>\n",
              "      <td>23.025290</td>\n",
              "      <td>72.560610</td>\n",
              "      <td>Fast Food Restaurant</td>\n",
              "      <td>1083</td>\n",
              "    </tr>\n",
              "    <tr>\n",
              "      <th>12</th>\n",
              "      <td>Manek Chowk</td>\n",
              "      <td>23.023180</td>\n",
              "      <td>72.588952</td>\n",
              "      <td>51b22415498efb02c2f3e348</td>\n",
              "      <td>Shakti Parlour</td>\n",
              "      <td>23.026856</td>\n",
              "      <td>72.588710</td>\n",
              "      <td>Sandwich Place</td>\n",
              "      <td>410</td>\n",
              "    </tr>\n",
              "    <tr>\n",
              "      <th>8</th>\n",
              "      <td>Manek Chowk</td>\n",
              "      <td>23.023180</td>\n",
              "      <td>72.588952</td>\n",
              "      <td>51c43efd498ec4d1ef2a0422</td>\n",
              "      <td>Amrut Sandwich &amp; Pizza</td>\n",
              "      <td>23.021963</td>\n",
              "      <td>72.589807</td>\n",
              "      <td>Sandwich Place</td>\n",
              "      <td>161</td>\n",
              "    </tr>\n",
              "    <tr>\n",
              "      <th>7</th>\n",
              "      <td>Manek Chowk</td>\n",
              "      <td>23.023180</td>\n",
              "      <td>72.588952</td>\n",
              "      <td>51d31558498eab154179e566</td>\n",
              "      <td>Manek Pizza &amp; Sandwich</td>\n",
              "      <td>23.023835</td>\n",
              "      <td>72.588502</td>\n",
              "      <td>Fast Food Restaurant</td>\n",
              "      <td>86</td>\n",
              "    </tr>\n",
              "    <tr>\n",
              "      <th>58</th>\n",
              "      <td>Shardanagar</td>\n",
              "      <td>23.011190</td>\n",
              "      <td>72.552575</td>\n",
              "      <td>52adbc8511d283579275dcec</td>\n",
              "      <td>Aman Pizza and Sandwich</td>\n",
              "      <td>23.005728</td>\n",
              "      <td>72.555486</td>\n",
              "      <td>Sandwich Place</td>\n",
              "      <td>677</td>\n",
              "    </tr>\n",
              "    <tr>\n",
              "      <th>100</th>\n",
              "      <td>Darpan Society</td>\n",
              "      <td>23.046712</td>\n",
              "      <td>72.553567</td>\n",
              "      <td>52d3fede11d2c208340494c0</td>\n",
              "      <td>Fresco Pizza</td>\n",
              "      <td>23.038984</td>\n",
              "      <td>72.553494</td>\n",
              "      <td>Food Truck</td>\n",
              "      <td>860</td>\n",
              "    </tr>\n",
              "    <tr>\n",
              "      <th>81</th>\n",
              "      <td>Maninagar</td>\n",
              "      <td>22.997713</td>\n",
              "      <td>72.606717</td>\n",
              "      <td>5df8e273e2044300084fe49d</td>\n",
              "      <td>Woody Jhone’s Pizza</td>\n",
              "      <td>23.002246</td>\n",
              "      <td>72.599542</td>\n",
              "      <td>Fast Food Restaurant</td>\n",
              "      <td>891</td>\n",
              "    </tr>\n",
              "  </tbody>\n",
              "</table>\n",
              "</div>"
            ],
            "text/plain": [
              "                 Neighborhood  ...  Distance\n",
              "147  Shastrinagar (Ahmedabad)  ...        75\n",
              "237                     Bopal  ...      1212\n",
              "9                 Manek Chowk  ...       507\n",
              "207                  Memnagar  ...       813\n",
              "57                Shardanagar  ...       670\n",
              "84                Ashram Road  ...      1083\n",
              "12                Manek Chowk  ...       410\n",
              "8                 Manek Chowk  ...       161\n",
              "7                 Manek Chowk  ...        86\n",
              "58                Shardanagar  ...       677\n",
              "100            Darpan Society  ...       860\n",
              "81                  Maninagar  ...       891\n",
              "\n",
              "[12 rows x 9 columns]"
            ]
          },
          "metadata": {
            "tags": []
          },
          "execution_count": 32
        }
      ]
    },
    {
      "cell_type": "markdown",
      "metadata": {
        "id": "AzBMO43XRstZ"
      },
      "source": [
        "Classify the rest of the categories into Pizza Place"
      ]
    },
    {
      "cell_type": "code",
      "metadata": {
        "colab": {
          "base_uri": "https://localhost:8080/"
        },
        "id": "jlrgCmVWQeZn",
        "outputId": "a7e3b9f0-1c50-4395-dc52-0a350a2970da"
      },
      "source": [
        "ahmedabad_venues['Venue Category'] = ahmedabad_venues['Venue Category'].replace(['Fast Food Restaurant', 'Sandwich Place', 'Food Truck', 'Arcade'],'Pizza Place')\n",
        "ahmedabad_venues['Venue Category'].unique()"
      ],
      "execution_count": 33,
      "outputs": [
        {
          "output_type": "execute_result",
          "data": {
            "text/plain": [
              "array(['Pizza Place'], dtype=object)"
            ]
          },
          "metadata": {
            "tags": []
          },
          "execution_count": 33
        }
      ]
    },
    {
      "cell_type": "markdown",
      "metadata": {
        "id": "E8s_hJ9uTO7o"
      },
      "source": [
        "### Plot Neighborhood Wise Count Of Pizza Places That Serve Some Kind Of Pizza"
      ]
    },
    {
      "cell_type": "code",
      "metadata": {
        "colab": {
          "base_uri": "https://localhost:8080/",
          "height": 1000
        },
        "id": "sSsnWLjRR2yh",
        "outputId": "c8992f77-0e09-4c0b-ea77-ef59fc664b82"
      },
      "source": [
        "neighborhood_count = pd.DataFrame(ahmedabad_venues.groupby('Neighborhood').count()['Venue'])\n",
        "neighborhood_count.sort_values(by='Venue', ascending=False, inplace=True)\n",
        "neighborhood_count.reset_index(inplace=True)\n",
        "neighborhood_count"
      ],
      "execution_count": 34,
      "outputs": [
        {
          "output_type": "execute_result",
          "data": {
            "text/html": [
              "<div>\n",
              "<style scoped>\n",
              "    .dataframe tbody tr th:only-of-type {\n",
              "        vertical-align: middle;\n",
              "    }\n",
              "\n",
              "    .dataframe tbody tr th {\n",
              "        vertical-align: top;\n",
              "    }\n",
              "\n",
              "    .dataframe thead th {\n",
              "        text-align: right;\n",
              "    }\n",
              "</style>\n",
              "<table border=\"1\" class=\"dataframe\">\n",
              "  <thead>\n",
              "    <tr style=\"text-align: right;\">\n",
              "      <th></th>\n",
              "      <th>Neighborhood</th>\n",
              "      <th>Venue</th>\n",
              "    </tr>\n",
              "  </thead>\n",
              "  <tbody>\n",
              "    <tr>\n",
              "      <th>0</th>\n",
              "      <td>Bodakdev</td>\n",
              "      <td>14</td>\n",
              "    </tr>\n",
              "    <tr>\n",
              "      <th>1</th>\n",
              "      <td>Anandnagar (Ahmedabad)</td>\n",
              "      <td>13</td>\n",
              "    </tr>\n",
              "    <tr>\n",
              "      <th>2</th>\n",
              "      <td>Memnagar</td>\n",
              "      <td>12</td>\n",
              "    </tr>\n",
              "    <tr>\n",
              "      <th>3</th>\n",
              "      <td>Navrangpura</td>\n",
              "      <td>8</td>\n",
              "    </tr>\n",
              "    <tr>\n",
              "      <th>4</th>\n",
              "      <td>Darpan Society</td>\n",
              "      <td>6</td>\n",
              "    </tr>\n",
              "    <tr>\n",
              "      <th>5</th>\n",
              "      <td>Gujarat University</td>\n",
              "      <td>6</td>\n",
              "    </tr>\n",
              "    <tr>\n",
              "      <th>6</th>\n",
              "      <td>Maninagar</td>\n",
              "      <td>5</td>\n",
              "    </tr>\n",
              "    <tr>\n",
              "      <th>7</th>\n",
              "      <td>Shastrinagar (Ahmedabad)</td>\n",
              "      <td>5</td>\n",
              "    </tr>\n",
              "    <tr>\n",
              "      <th>8</th>\n",
              "      <td>Manek Chowk</td>\n",
              "      <td>4</td>\n",
              "    </tr>\n",
              "    <tr>\n",
              "      <th>9</th>\n",
              "      <td>Shahibag</td>\n",
              "      <td>3</td>\n",
              "    </tr>\n",
              "    <tr>\n",
              "      <th>10</th>\n",
              "      <td>Shardanagar</td>\n",
              "      <td>3</td>\n",
              "    </tr>\n",
              "    <tr>\n",
              "      <th>11</th>\n",
              "      <td>Jodhpur Char Rasta</td>\n",
              "      <td>3</td>\n",
              "    </tr>\n",
              "    <tr>\n",
              "      <th>12</th>\n",
              "      <td>Polytechnic (Ahmedabad)</td>\n",
              "      <td>3</td>\n",
              "    </tr>\n",
              "    <tr>\n",
              "      <th>13</th>\n",
              "      <td>I I M</td>\n",
              "      <td>3</td>\n",
              "    </tr>\n",
              "    <tr>\n",
              "      <th>14</th>\n",
              "      <td>Ghatlodia</td>\n",
              "      <td>3</td>\n",
              "    </tr>\n",
              "    <tr>\n",
              "      <th>15</th>\n",
              "      <td>Bopal</td>\n",
              "      <td>3</td>\n",
              "    </tr>\n",
              "    <tr>\n",
              "      <th>16</th>\n",
              "      <td>Azad Society</td>\n",
              "      <td>3</td>\n",
              "    </tr>\n",
              "    <tr>\n",
              "      <th>17</th>\n",
              "      <td>Ashram Road</td>\n",
              "      <td>3</td>\n",
              "    </tr>\n",
              "    <tr>\n",
              "      <th>18</th>\n",
              "      <td>Paldi (Ahmedabad)</td>\n",
              "      <td>2</td>\n",
              "    </tr>\n",
              "    <tr>\n",
              "      <th>19</th>\n",
              "      <td>Narayannagar</td>\n",
              "      <td>2</td>\n",
              "    </tr>\n",
              "    <tr>\n",
              "      <th>20</th>\n",
              "      <td>Ambawadi (Ahmedabad)</td>\n",
              "      <td>2</td>\n",
              "    </tr>\n",
              "    <tr>\n",
              "      <th>21</th>\n",
              "      <td>Manekbag</td>\n",
              "      <td>2</td>\n",
              "    </tr>\n",
              "    <tr>\n",
              "      <th>22</th>\n",
              "      <td>Gandhi Ashram (Ahmedabad)</td>\n",
              "      <td>2</td>\n",
              "    </tr>\n",
              "    <tr>\n",
              "      <th>23</th>\n",
              "      <td>Jawahar Chowk</td>\n",
              "      <td>2</td>\n",
              "    </tr>\n",
              "    <tr>\n",
              "      <th>24</th>\n",
              "      <td>Stadium Marg</td>\n",
              "      <td>1</td>\n",
              "    </tr>\n",
              "    <tr>\n",
              "      <th>25</th>\n",
              "      <td>Thaltej</td>\n",
              "      <td>1</td>\n",
              "    </tr>\n",
              "    <tr>\n",
              "      <th>26</th>\n",
              "      <td>Lal Darwaja</td>\n",
              "      <td>1</td>\n",
              "    </tr>\n",
              "    <tr>\n",
              "      <th>27</th>\n",
              "      <td>Motera</td>\n",
              "      <td>1</td>\n",
              "    </tr>\n",
              "    <tr>\n",
              "      <th>28</th>\n",
              "      <td>Juhapura</td>\n",
              "      <td>1</td>\n",
              "    </tr>\n",
              "    <tr>\n",
              "      <th>29</th>\n",
              "      <td>Gita Mandir Road</td>\n",
              "      <td>1</td>\n",
              "    </tr>\n",
              "    <tr>\n",
              "      <th>30</th>\n",
              "      <td>Ghuma</td>\n",
              "      <td>1</td>\n",
              "    </tr>\n",
              "    <tr>\n",
              "      <th>31</th>\n",
              "      <td>Thaltej Road</td>\n",
              "      <td>1</td>\n",
              "    </tr>\n",
              "  </tbody>\n",
              "</table>\n",
              "</div>"
            ],
            "text/plain": [
              "                 Neighborhood  Venue\n",
              "0                    Bodakdev     14\n",
              "1      Anandnagar (Ahmedabad)     13\n",
              "2                    Memnagar     12\n",
              "3                 Navrangpura      8\n",
              "4              Darpan Society      6\n",
              "5          Gujarat University      6\n",
              "6                   Maninagar      5\n",
              "7    Shastrinagar (Ahmedabad)      5\n",
              "8                 Manek Chowk      4\n",
              "9                    Shahibag      3\n",
              "10                Shardanagar      3\n",
              "11         Jodhpur Char Rasta      3\n",
              "12    Polytechnic (Ahmedabad)      3\n",
              "13                      I I M      3\n",
              "14                  Ghatlodia      3\n",
              "15                      Bopal      3\n",
              "16               Azad Society      3\n",
              "17                Ashram Road      3\n",
              "18          Paldi (Ahmedabad)      2\n",
              "19               Narayannagar      2\n",
              "20       Ambawadi (Ahmedabad)      2\n",
              "21                   Manekbag      2\n",
              "22  Gandhi Ashram (Ahmedabad)      2\n",
              "23              Jawahar Chowk      2\n",
              "24               Stadium Marg      1\n",
              "25                    Thaltej      1\n",
              "26                Lal Darwaja      1\n",
              "27                     Motera      1\n",
              "28                   Juhapura      1\n",
              "29           Gita Mandir Road      1\n",
              "30                      Ghuma      1\n",
              "31               Thaltej Road      1"
            ]
          },
          "metadata": {
            "tags": []
          },
          "execution_count": 34
        }
      ]
    },
    {
      "cell_type": "code",
      "metadata": {
        "colab": {
          "base_uri": "https://localhost:8080/",
          "height": 520
        },
        "id": "xGV_oroBTwGr",
        "outputId": "63dc1905-93fa-4daf-e487-37b2c5233d96"
      },
      "source": [
        "y_pos = [i for i, _ in enumerate(neighborhood_count.iloc[:,0].values)]\n",
        "x_pos = [i for i, _ in enumerate(neighborhood_count.iloc[:,-1].values)]\n",
        "\n",
        "maxval = neighborhood_count['Venue'].max()\n",
        "\n",
        "colors = []\n",
        "for value in neighborhood_count.iloc[:,-1].values:\n",
        "    if value == maxval:\n",
        "        colors.append('red')\n",
        "    else:\n",
        "        colors.append('blue')\n",
        "\n",
        "plt.rcParams.update({'font.size': 10})\n",
        "f, ax = plt.subplots(figsize=(8,8))\n",
        "plt.barh(y_pos, neighborhood_count.iloc[:,-1].values, color=colors)\n",
        "plt.title('Pizza Places Across Neighborhoods', fontsize=18)\n",
        "plt.xlabel('Number of Venues', fontsize=15)\n",
        "plt.ylabel('Neighborhood', fontsize=15)\n",
        "plt.yticks(y_pos, neighborhood_count.iloc[:,0].values, fontsize=10)\n",
        "plt.xticks(x_pos, fontsize=10)\n",
        "plt.grid(b=None)\n",
        "\n",
        "for i, v in enumerate(neighborhood_count.iloc[:,-1].values):\n",
        "  ax.text(v, i, str(v), color='black', fontweight='bold')\n",
        "\n",
        "plt.show()"
      ],
      "execution_count": 35,
      "outputs": [
        {
          "output_type": "display_data",
          "data": {
            "image/png": "[encoded data removed]",
            "text/plain": [
              "<Figure size 576x576 with 1 Axes>"
            ]
          },
          "metadata": {
            "tags": [],
            "needs_background": "light"
          }
        }
      ]
    },
    {
      "cell_type": "code",
      "metadata": {
        "id": "IZOL2SaFV3mw"
      },
      "source": [
        "# ahmedabad_df = vicinity_df.merge(ahmedabad_venues, how='outer', left_on='Vicinity', right_on='Neighborhood')\n",
        "# ahmedabad_df.drop(['Neighborhood', 'Neighborhood Latitude', 'Neighborhood Longitude'], axis=1, inplace=True)\n",
        "# ahmedabad_df.rename(columns={'Vicinity':'Neighborhood', 'V Lat':'Neighborhood Latitude', 'V Long':'Neighborhood Longitude'}, inplace=True)\n",
        "# ahmedabad_df.fillna(0)"
      ],
      "execution_count": 36,
      "outputs": []
    },
    {
      "cell_type": "markdown",
      "metadata": {
        "id": "LHi_Le6eYjdo"
      },
      "source": [
        "### Combine Data For All the Neighborhoods"
      ]
    },
    {
      "cell_type": "code",
      "metadata": {
        "colab": {
          "base_uri": "https://localhost:8080/",
          "height": 1000
        },
        "id": "d9XH2a78Ydem",
        "outputId": "f6d3ff4f-c474-4a17-d99b-bb715f2c041b"
      },
      "source": [
        "no_pizzapl = []\n",
        "cols = ['Neighborhood','Venue']\n",
        "for v in range(len(vicinity_df)):\n",
        "  # print(vicinity_df.loc[v, 'Vicinity'])\n",
        "  if neighborhood_count[neighborhood_count['Neighborhood']==vicinity_df.loc[v, 'Vicinity']]['Venue'].any() == False:\n",
        "    no_pizzapl.append([vicinity_df.loc[v, 'Vicinity'],0])\n",
        "no_pizzapl_df = pd.DataFrame(no_pizzapl, columns=cols)\n",
        "all_neighbors_df = neighborhood_count.append(no_pizzapl_df, ignore_index=True)\n",
        "all_neighbors_df"
      ],
      "execution_count": 37,
      "outputs": [
        {
          "output_type": "execute_result",
          "data": {
            "text/html": [
              "<div>\n",
              "<style scoped>\n",
              "    .dataframe tbody tr th:only-of-type {\n",
              "        vertical-align: middle;\n",
              "    }\n",
              "\n",
              "    .dataframe tbody tr th {\n",
              "        vertical-align: top;\n",
              "    }\n",
              "\n",
              "    .dataframe thead th {\n",
              "        text-align: right;\n",
              "    }\n",
              "</style>\n",
              "<table border=\"1\" class=\"dataframe\">\n",
              "  <thead>\n",
              "    <tr style=\"text-align: right;\">\n",
              "      <th></th>\n",
              "      <th>Neighborhood</th>\n",
              "      <th>Venue</th>\n",
              "    </tr>\n",
              "  </thead>\n",
              "  <tbody>\n",
              "    <tr>\n",
              "      <th>0</th>\n",
              "      <td>Bodakdev</td>\n",
              "      <td>14</td>\n",
              "    </tr>\n",
              "    <tr>\n",
              "      <th>1</th>\n",
              "      <td>Anandnagar (Ahmedabad)</td>\n",
              "      <td>13</td>\n",
              "    </tr>\n",
              "    <tr>\n",
              "      <th>2</th>\n",
              "      <td>Memnagar</td>\n",
              "      <td>12</td>\n",
              "    </tr>\n",
              "    <tr>\n",
              "      <th>3</th>\n",
              "      <td>Navrangpura</td>\n",
              "      <td>8</td>\n",
              "    </tr>\n",
              "    <tr>\n",
              "      <th>4</th>\n",
              "      <td>Darpan Society</td>\n",
              "      <td>6</td>\n",
              "    </tr>\n",
              "    <tr>\n",
              "      <th>5</th>\n",
              "      <td>Gujarat University</td>\n",
              "      <td>6</td>\n",
              "    </tr>\n",
              "    <tr>\n",
              "      <th>6</th>\n",
              "      <td>Maninagar</td>\n",
              "      <td>5</td>\n",
              "    </tr>\n",
              "    <tr>\n",
              "      <th>7</th>\n",
              "      <td>Shastrinagar (Ahmedabad)</td>\n",
              "      <td>5</td>\n",
              "    </tr>\n",
              "    <tr>\n",
              "      <th>8</th>\n",
              "      <td>Manek Chowk</td>\n",
              "      <td>4</td>\n",
              "    </tr>\n",
              "    <tr>\n",
              "      <th>9</th>\n",
              "      <td>Shahibag</td>\n",
              "      <td>3</td>\n",
              "    </tr>\n",
              "    <tr>\n",
              "      <th>10</th>\n",
              "      <td>Shardanagar</td>\n",
              "      <td>3</td>\n",
              "    </tr>\n",
              "    <tr>\n",
              "      <th>11</th>\n",
              "      <td>Jodhpur Char Rasta</td>\n",
              "      <td>3</td>\n",
              "    </tr>\n",
              "    <tr>\n",
              "      <th>12</th>\n",
              "      <td>Polytechnic (Ahmedabad)</td>\n",
              "      <td>3</td>\n",
              "    </tr>\n",
              "    <tr>\n",
              "      <th>13</th>\n",
              "      <td>I I M</td>\n",
              "      <td>3</td>\n",
              "    </tr>\n",
              "    <tr>\n",
              "      <th>14</th>\n",
              "      <td>Ghatlodia</td>\n",
              "      <td>3</td>\n",
              "    </tr>\n",
              "    <tr>\n",
              "      <th>15</th>\n",
              "      <td>Bopal</td>\n",
              "      <td>3</td>\n",
              "    </tr>\n",
              "    <tr>\n",
              "      <th>16</th>\n",
              "      <td>Azad Society</td>\n",
              "      <td>3</td>\n",
              "    </tr>\n",
              "    <tr>\n",
              "      <th>17</th>\n",
              "      <td>Ashram Road</td>\n",
              "      <td>3</td>\n",
              "    </tr>\n",
              "    <tr>\n",
              "      <th>18</th>\n",
              "      <td>Paldi (Ahmedabad)</td>\n",
              "      <td>2</td>\n",
              "    </tr>\n",
              "    <tr>\n",
              "      <th>19</th>\n",
              "      <td>Narayannagar</td>\n",
              "      <td>2</td>\n",
              "    </tr>\n",
              "    <tr>\n",
              "      <th>20</th>\n",
              "      <td>Ambawadi (Ahmedabad)</td>\n",
              "      <td>2</td>\n",
              "    </tr>\n",
              "    <tr>\n",
              "      <th>21</th>\n",
              "      <td>Manekbag</td>\n",
              "      <td>2</td>\n",
              "    </tr>\n",
              "    <tr>\n",
              "      <th>22</th>\n",
              "      <td>Gandhi Ashram (Ahmedabad)</td>\n",
              "      <td>2</td>\n",
              "    </tr>\n",
              "    <tr>\n",
              "      <th>23</th>\n",
              "      <td>Jawahar Chowk</td>\n",
              "      <td>2</td>\n",
              "    </tr>\n",
              "    <tr>\n",
              "      <th>24</th>\n",
              "      <td>Stadium Marg</td>\n",
              "      <td>1</td>\n",
              "    </tr>\n",
              "    <tr>\n",
              "      <th>25</th>\n",
              "      <td>Thaltej</td>\n",
              "      <td>1</td>\n",
              "    </tr>\n",
              "    <tr>\n",
              "      <th>26</th>\n",
              "      <td>Lal Darwaja</td>\n",
              "      <td>1</td>\n",
              "    </tr>\n",
              "    <tr>\n",
              "      <th>27</th>\n",
              "      <td>Motera</td>\n",
              "      <td>1</td>\n",
              "    </tr>\n",
              "    <tr>\n",
              "      <th>28</th>\n",
              "      <td>Juhapura</td>\n",
              "      <td>1</td>\n",
              "    </tr>\n",
              "    <tr>\n",
              "      <th>29</th>\n",
              "      <td>Gita Mandir Road</td>\n",
              "      <td>1</td>\n",
              "    </tr>\n",
              "    <tr>\n",
              "      <th>30</th>\n",
              "      <td>Ghuma</td>\n",
              "      <td>1</td>\n",
              "    </tr>\n",
              "    <tr>\n",
              "      <th>31</th>\n",
              "      <td>Thaltej Road</td>\n",
              "      <td>1</td>\n",
              "    </tr>\n",
              "    <tr>\n",
              "      <th>32</th>\n",
              "      <td>Sabarmati</td>\n",
              "      <td>0</td>\n",
              "    </tr>\n",
              "    <tr>\n",
              "      <th>33</th>\n",
              "      <td>Kabir Chowk</td>\n",
              "      <td>0</td>\n",
              "    </tr>\n",
              "    <tr>\n",
              "      <th>34</th>\n",
              "      <td>Ellisbridge</td>\n",
              "      <td>0</td>\n",
              "    </tr>\n",
              "    <tr>\n",
              "      <th>35</th>\n",
              "      <td>Sarkhej Road</td>\n",
              "      <td>0</td>\n",
              "    </tr>\n",
              "    <tr>\n",
              "      <th>36</th>\n",
              "      <td>Vadaj</td>\n",
              "      <td>0</td>\n",
              "    </tr>\n",
              "    <tr>\n",
              "      <th>37</th>\n",
              "      <td>Naranpura Vistar</td>\n",
              "      <td>0</td>\n",
              "    </tr>\n",
              "    <tr>\n",
              "      <th>38</th>\n",
              "      <td>Nava Vadaj</td>\n",
              "      <td>0</td>\n",
              "    </tr>\n",
              "    <tr>\n",
              "      <th>39</th>\n",
              "      <td>Navjivan</td>\n",
              "      <td>0</td>\n",
              "    </tr>\n",
              "    <tr>\n",
              "      <th>40</th>\n",
              "      <td>Meghaningar</td>\n",
              "      <td>0</td>\n",
              "    </tr>\n",
              "    <tr>\n",
              "      <th>41</th>\n",
              "      <td>Civil Hospital</td>\n",
              "      <td>0</td>\n",
              "    </tr>\n",
              "    <tr>\n",
              "      <th>42</th>\n",
              "      <td>Jivraj Park</td>\n",
              "      <td>0</td>\n",
              "    </tr>\n",
              "    <tr>\n",
              "      <th>43</th>\n",
              "      <td>Ambli</td>\n",
              "      <td>0</td>\n",
              "    </tr>\n",
              "    <tr>\n",
              "      <th>44</th>\n",
              "      <td>Shela</td>\n",
              "      <td>0</td>\n",
              "    </tr>\n",
              "    <tr>\n",
              "      <th>45</th>\n",
              "      <td>Shilaj</td>\n",
              "      <td>0</td>\n",
              "    </tr>\n",
              "    <tr>\n",
              "      <th>46</th>\n",
              "      <td>Sola</td>\n",
              "      <td>0</td>\n",
              "    </tr>\n",
              "    <tr>\n",
              "      <th>47</th>\n",
              "      <td>Bhadaj</td>\n",
              "      <td>0</td>\n",
              "    </tr>\n",
              "    <tr>\n",
              "      <th>48</th>\n",
              "      <td>Ognaj</td>\n",
              "      <td>0</td>\n",
              "    </tr>\n",
              "    <tr>\n",
              "      <th>49</th>\n",
              "      <td>Sola H B C</td>\n",
              "      <td>0</td>\n",
              "    </tr>\n",
              "  </tbody>\n",
              "</table>\n",
              "</div>"
            ],
            "text/plain": [
              "                 Neighborhood  Venue\n",
              "0                    Bodakdev     14\n",
              "1      Anandnagar (Ahmedabad)     13\n",
              "2                    Memnagar     12\n",
              "3                 Navrangpura      8\n",
              "4              Darpan Society      6\n",
              "5          Gujarat University      6\n",
              "6                   Maninagar      5\n",
              "7    Shastrinagar (Ahmedabad)      5\n",
              "8                 Manek Chowk      4\n",
              "9                    Shahibag      3\n",
              "10                Shardanagar      3\n",
              "11         Jodhpur Char Rasta      3\n",
              "12    Polytechnic (Ahmedabad)      3\n",
              "13                      I I M      3\n",
              "14                  Ghatlodia      3\n",
              "15                      Bopal      3\n",
              "16               Azad Society      3\n",
              "17                Ashram Road      3\n",
              "18          Paldi (Ahmedabad)      2\n",
              "19               Narayannagar      2\n",
              "20       Ambawadi (Ahmedabad)      2\n",
              "21                   Manekbag      2\n",
              "22  Gandhi Ashram (Ahmedabad)      2\n",
              "23              Jawahar Chowk      2\n",
              "24               Stadium Marg      1\n",
              "25                    Thaltej      1\n",
              "26                Lal Darwaja      1\n",
              "27                     Motera      1\n",
              "28                   Juhapura      1\n",
              "29           Gita Mandir Road      1\n",
              "30                      Ghuma      1\n",
              "31               Thaltej Road      1\n",
              "32                  Sabarmati      0\n",
              "33                Kabir Chowk      0\n",
              "34                Ellisbridge      0\n",
              "35               Sarkhej Road      0\n",
              "36                      Vadaj      0\n",
              "37           Naranpura Vistar      0\n",
              "38                 Nava Vadaj      0\n",
              "39                   Navjivan      0\n",
              "40                Meghaningar      0\n",
              "41             Civil Hospital      0\n",
              "42                Jivraj Park      0\n",
              "43                      Ambli      0\n",
              "44                      Shela      0\n",
              "45                     Shilaj      0\n",
              "46                       Sola      0\n",
              "47                     Bhadaj      0\n",
              "48                      Ognaj      0\n",
              "49                 Sola H B C      0"
            ]
          },
          "metadata": {
            "tags": []
          },
          "execution_count": 37
        }
      ]
    },
    {
      "cell_type": "markdown",
      "metadata": {
        "id": "Eqr7EKRNZ9qs"
      },
      "source": [
        "### Clustering Neighborhoods Using K-Means Method"
      ]
    },
    {
      "cell_type": "markdown",
      "metadata": {
        "id": "so7mc6oraJ4Z"
      },
      "source": [
        "#### Finding The Correct Value of K"
      ]
    },
    {
      "cell_type": "code",
      "metadata": {
        "colab": {
          "base_uri": "https://localhost:8080/",
          "height": 800
        },
        "id": "jlwtm_naTd1y",
        "outputId": "9808528d-2332-441b-a6fc-241e08e8dbca"
      },
      "source": [
        "from sklearn.cluster import KMeans\n",
        "from sklearn.preprocessing import StandardScaler\n",
        "\n",
        "wcss = []\n",
        "X = all_neighbors_df.drop('Neighborhood', axis=1)\n",
        "\n",
        "# Apply Feature Scaling\n",
        "scaler = StandardScaler()\n",
        "X = scaler.fit_transform(X)\n",
        "\n",
        "# Select clusters ranging from 1-10\n",
        "for i in range(1, 11):\n",
        "    kmeans = KMeans(n_clusters=i, init='k-means++', random_state=4)\n",
        "    kmeans.fit(X)\n",
        "    print(kmeans.inertia_)\n",
        "    wcss.append(kmeans.inertia_)\n",
        "# End of for loop and start of plotting\n",
        "plt.plot(range(1, 11), wcss)\n",
        "plt.title('The Elbow Graph')\n",
        "plt.xlabel('No. of Clusters')\n",
        "plt.ylabel('WCSS')\n",
        "plt.show()\n",
        "\n",
        "# Instantiate the clustering model and visualizer\n",
        "model = KMeans(random_state=4)\n",
        "visualizer = KElbowVisualizer(model, k=(1,12), metric='distortion', locate_elbow=True)\n",
        "\n",
        "visualizer.fit(X)        # Fit the data to the visualizer\n",
        "visualizer\n"
      ],
      "execution_count": 38,
      "outputs": [
        {
          "output_type": "stream",
          "text": [
            "49.999999999999986\n",
            "14.543113238157039\n",
            "5.264303482587064\n",
            "1.7701456659012622\n",
            "1.1500533049040509\n",
            "0.6836353944562898\n",
            "0.36380597014925375\n",
            "0.22388059701492533\n",
            "0.10883084577114428\n",
            "0.04664179104477613\n"
          ],
          "name": "stdout"
        },
        {
          "output_type": "display_data",
          "data": {
            "image/png": "[encoded data removed]",
            "text/plain": [
              "<Figure size 432x288 with 1 Axes>"
            ]
          },
          "metadata": {
            "tags": [],
            "needs_background": "light"
          }
        },
        {
          "output_type": "stream",
          "text": [
            "/usr/local/lib/python3.6/dist-packages/sklearn/base.py:197: FutureWarning: From version 0.24, get_params will raise an AttributeError if a parameter cannot be retrieved as an instance attribute. Previously it would return None.\n",
            "  FutureWarning)\n"
          ],
          "name": "stderr"
        },
        {
          "output_type": "execute_result",
          "data": {
            "text/plain": [
              "KElbowVisualizer(ax=<matplotlib.axes._subplots.AxesSubplot object at 0x7f81dc6bd630>,\n",
              "                 k=None, metric=None, model=None, timings=True)"
            ]
          },
          "metadata": {
            "tags": []
          },
          "execution_count": 38
        },
        {
          "output_type": "display_data",
          "data": {
            "image/png": "[encoded data removed]",
            "text/plain": [
              "<Figure size 432x288 with 2 Axes>"
            ]
          },
          "metadata": {
            "tags": [],
            "needs_background": "light"
          }
        }
      ]
    },
    {
      "cell_type": "markdown",
      "metadata": {
        "id": "lVAJIUmkceHD"
      },
      "source": [
        "#### Based On The Above Elbow Graph, Let's Select K=4"
      ]
    },
    {
      "cell_type": "code",
      "metadata": {
        "colab": {
          "base_uri": "https://localhost:8080/"
        },
        "id": "H_08jalIayeD",
        "outputId": "7ff13021-c949-4ceb-c88f-6157c8e4e91b"
      },
      "source": [
        "# set number of clusters\n",
        "kclusters = 4\n",
        "\n",
        "# run k-means clustering\n",
        "kmeans = KMeans(n_clusters=kclusters, random_state=0).fit(X)\n",
        "\n",
        "# check cluster labels generated for each row in the dataframe\n",
        "kmeans.labels_[0:] "
      ],
      "execution_count": 39,
      "outputs": [
        {
          "output_type": "execute_result",
          "data": {
            "text/plain": [
              "array([1, 1, 1, 3, 3, 3, 3, 3, 2, 2, 2, 2, 2, 2, 2, 2, 2, 2, 2, 2, 2, 2,\n",
              "       2, 2, 0, 0, 0, 0, 0, 0, 0, 0, 0, 0, 0, 0, 0, 0, 0, 0, 0, 0, 0, 0,\n",
              "       0, 0, 0, 0, 0, 0], dtype=int32)"
            ]
          },
          "metadata": {
            "tags": []
          },
          "execution_count": 39
        }
      ]
    },
    {
      "cell_type": "markdown",
      "metadata": {
        "id": "WBNCLx7vioQJ"
      },
      "source": [
        "#### Add Cluster Labels To Neighborhood Location Data"
      ]
    },
    {
      "cell_type": "code",
      "metadata": {
        "colab": {
          "base_uri": "https://localhost:8080/",
          "height": 1000
        },
        "id": "XkKCsHqecxcB",
        "outputId": "eb29254d-d740-468c-adbb-e9ea6fb6a410"
      },
      "source": [
        "geo_df = vicinity_df.merge(all_neighbors_df, how='inner', left_on='Vicinity', right_on='Neighborhood')\n",
        "geo_df.drop('Vicinity', axis=1, inplace=True)\n",
        "\n",
        "# add clustering labels\n",
        "geo_df.insert(3, 'Cluster Labels', kmeans.labels_)\n",
        "geo_df\n"
      ],
      "execution_count": 40,
      "outputs": [
        {
          "output_type": "execute_result",
          "data": {
            "text/html": [
              "<div>\n",
              "<style scoped>\n",
              "    .dataframe tbody tr th:only-of-type {\n",
              "        vertical-align: middle;\n",
              "    }\n",
              "\n",
              "    .dataframe tbody tr th {\n",
              "        vertical-align: top;\n",
              "    }\n",
              "\n",
              "    .dataframe thead th {\n",
              "        text-align: right;\n",
              "    }\n",
              "</style>\n",
              "<table border=\"1\" class=\"dataframe\">\n",
              "  <thead>\n",
              "    <tr style=\"text-align: right;\">\n",
              "      <th></th>\n",
              "      <th>V Lat</th>\n",
              "      <th>V Long</th>\n",
              "      <th>Neighborhood</th>\n",
              "      <th>Cluster Labels</th>\n",
              "      <th>Venue</th>\n",
              "    </tr>\n",
              "  </thead>\n",
              "  <tbody>\n",
              "    <tr>\n",
              "      <th>0</th>\n",
              "      <td>23.024190</td>\n",
              "      <td>72.578556</td>\n",
              "      <td>Lal Darwaja</td>\n",
              "      <td>1</td>\n",
              "      <td>1</td>\n",
              "    </tr>\n",
              "    <tr>\n",
              "      <th>1</th>\n",
              "      <td>23.023180</td>\n",
              "      <td>72.588952</td>\n",
              "      <td>Manek Chowk</td>\n",
              "      <td>1</td>\n",
              "      <td>4</td>\n",
              "    </tr>\n",
              "    <tr>\n",
              "      <th>2</th>\n",
              "      <td>23.055966</td>\n",
              "      <td>72.593869</td>\n",
              "      <td>Shahibag</td>\n",
              "      <td>1</td>\n",
              "      <td>3</td>\n",
              "    </tr>\n",
              "    <tr>\n",
              "      <th>3</th>\n",
              "      <td>23.083993</td>\n",
              "      <td>72.587619</td>\n",
              "      <td>Sabarmati</td>\n",
              "      <td>3</td>\n",
              "      <td>0</td>\n",
              "    </tr>\n",
              "    <tr>\n",
              "      <th>4</th>\n",
              "      <td>23.087505</td>\n",
              "      <td>72.585701</td>\n",
              "      <td>Kabir Chowk</td>\n",
              "      <td>3</td>\n",
              "      <td>0</td>\n",
              "    </tr>\n",
              "    <tr>\n",
              "      <th>5</th>\n",
              "      <td>23.091703</td>\n",
              "      <td>72.597481</td>\n",
              "      <td>Motera</td>\n",
              "      <td>3</td>\n",
              "      <td>1</td>\n",
              "    </tr>\n",
              "    <tr>\n",
              "      <th>6</th>\n",
              "      <td>23.022612</td>\n",
              "      <td>72.549083</td>\n",
              "      <td>Ambawadi (Ahmedabad)</td>\n",
              "      <td>3</td>\n",
              "      <td>2</td>\n",
              "    </tr>\n",
              "    <tr>\n",
              "      <th>7</th>\n",
              "      <td>23.022886</td>\n",
              "      <td>72.571642</td>\n",
              "      <td>Ellisbridge</td>\n",
              "      <td>3</td>\n",
              "      <td>0</td>\n",
              "    </tr>\n",
              "    <tr>\n",
              "      <th>8</th>\n",
              "      <td>23.014553</td>\n",
              "      <td>72.563543</td>\n",
              "      <td>Paldi (Ahmedabad)</td>\n",
              "      <td>2</td>\n",
              "      <td>2</td>\n",
              "    </tr>\n",
              "    <tr>\n",
              "      <th>9</th>\n",
              "      <td>22.983483</td>\n",
              "      <td>72.500720</td>\n",
              "      <td>Sarkhej Road</td>\n",
              "      <td>2</td>\n",
              "      <td>0</td>\n",
              "    </tr>\n",
              "    <tr>\n",
              "      <th>10</th>\n",
              "      <td>23.016075</td>\n",
              "      <td>72.509295</td>\n",
              "      <td>Anandnagar (Ahmedabad)</td>\n",
              "      <td>2</td>\n",
              "      <td>13</td>\n",
              "    </tr>\n",
              "    <tr>\n",
              "      <th>11</th>\n",
              "      <td>23.011190</td>\n",
              "      <td>72.552575</td>\n",
              "      <td>Shardanagar</td>\n",
              "      <td>2</td>\n",
              "      <td>3</td>\n",
              "    </tr>\n",
              "    <tr>\n",
              "      <th>12</th>\n",
              "      <td>22.997826</td>\n",
              "      <td>72.560115</td>\n",
              "      <td>Narayannagar</td>\n",
              "      <td>2</td>\n",
              "      <td>2</td>\n",
              "    </tr>\n",
              "    <tr>\n",
              "      <th>13</th>\n",
              "      <td>22.995137</td>\n",
              "      <td>72.605099</td>\n",
              "      <td>Jawahar Chowk</td>\n",
              "      <td>2</td>\n",
              "      <td>2</td>\n",
              "    </tr>\n",
              "    <tr>\n",
              "      <th>14</th>\n",
              "      <td>22.997713</td>\n",
              "      <td>72.606717</td>\n",
              "      <td>Maninagar</td>\n",
              "      <td>2</td>\n",
              "      <td>5</td>\n",
              "    </tr>\n",
              "    <tr>\n",
              "      <th>15</th>\n",
              "      <td>23.026694</td>\n",
              "      <td>72.571078</td>\n",
              "      <td>Ashram Road</td>\n",
              "      <td>2</td>\n",
              "      <td>3</td>\n",
              "    </tr>\n",
              "    <tr>\n",
              "      <th>16</th>\n",
              "      <td>23.046712</td>\n",
              "      <td>72.553567</td>\n",
              "      <td>Darpan Society</td>\n",
              "      <td>2</td>\n",
              "      <td>6</td>\n",
              "    </tr>\n",
              "    <tr>\n",
              "      <th>17</th>\n",
              "      <td>23.037307</td>\n",
              "      <td>72.544748</td>\n",
              "      <td>Gujarat University</td>\n",
              "      <td>2</td>\n",
              "      <td>6</td>\n",
              "    </tr>\n",
              "    <tr>\n",
              "      <th>18</th>\n",
              "      <td>23.036000</td>\n",
              "      <td>72.564343</td>\n",
              "      <td>Navrangpura</td>\n",
              "      <td>2</td>\n",
              "      <td>8</td>\n",
              "    </tr>\n",
              "    <tr>\n",
              "      <th>19</th>\n",
              "      <td>23.049768</td>\n",
              "      <td>72.561628</td>\n",
              "      <td>Stadium Marg</td>\n",
              "      <td>2</td>\n",
              "      <td>1</td>\n",
              "    </tr>\n",
              "    <tr>\n",
              "      <th>20</th>\n",
              "      <td>23.068224</td>\n",
              "      <td>72.564099</td>\n",
              "      <td>Vadaj</td>\n",
              "      <td>2</td>\n",
              "      <td>0</td>\n",
              "    </tr>\n",
              "    <tr>\n",
              "      <th>21</th>\n",
              "      <td>23.056861</td>\n",
              "      <td>72.550710</td>\n",
              "      <td>Naranpura Vistar</td>\n",
              "      <td>2</td>\n",
              "      <td>0</td>\n",
              "    </tr>\n",
              "    <tr>\n",
              "      <th>22</th>\n",
              "      <td>23.062423</td>\n",
              "      <td>72.553180</td>\n",
              "      <td>Shastrinagar (Ahmedabad)</td>\n",
              "      <td>2</td>\n",
              "      <td>5</td>\n",
              "    </tr>\n",
              "    <tr>\n",
              "      <th>23</th>\n",
              "      <td>23.068224</td>\n",
              "      <td>72.564099</td>\n",
              "      <td>Nava Vadaj</td>\n",
              "      <td>2</td>\n",
              "      <td>0</td>\n",
              "    </tr>\n",
              "    <tr>\n",
              "      <th>24</th>\n",
              "      <td>23.053692</td>\n",
              "      <td>72.642707</td>\n",
              "      <td>Navjivan</td>\n",
              "      <td>0</td>\n",
              "      <td>0</td>\n",
              "    </tr>\n",
              "    <tr>\n",
              "      <th>25</th>\n",
              "      <td>23.025341</td>\n",
              "      <td>72.527761</td>\n",
              "      <td>Jodhpur Char Rasta</td>\n",
              "      <td>0</td>\n",
              "      <td>3</td>\n",
              "    </tr>\n",
              "    <tr>\n",
              "      <th>26</th>\n",
              "      <td>23.031270</td>\n",
              "      <td>72.537133</td>\n",
              "      <td>I I M</td>\n",
              "      <td>0</td>\n",
              "      <td>3</td>\n",
              "    </tr>\n",
              "    <tr>\n",
              "      <th>27</th>\n",
              "      <td>23.019342</td>\n",
              "      <td>72.541232</td>\n",
              "      <td>Manekbag</td>\n",
              "      <td>0</td>\n",
              "      <td>2</td>\n",
              "    </tr>\n",
              "    <tr>\n",
              "      <th>28</th>\n",
              "      <td>23.026577</td>\n",
              "      <td>72.547506</td>\n",
              "      <td>Polytechnic (Ahmedabad)</td>\n",
              "      <td>0</td>\n",
              "      <td>3</td>\n",
              "    </tr>\n",
              "    <tr>\n",
              "      <th>29</th>\n",
              "      <td>23.029157</td>\n",
              "      <td>72.532752</td>\n",
              "      <td>Azad Society</td>\n",
              "      <td>0</td>\n",
              "      <td>3</td>\n",
              "    </tr>\n",
              "    <tr>\n",
              "      <th>30</th>\n",
              "      <td>23.058283</td>\n",
              "      <td>72.616509</td>\n",
              "      <td>Meghaningar</td>\n",
              "      <td>0</td>\n",
              "      <td>0</td>\n",
              "    </tr>\n",
              "    <tr>\n",
              "      <th>31</th>\n",
              "      <td>23.015200</td>\n",
              "      <td>72.593222</td>\n",
              "      <td>Gita Mandir Road</td>\n",
              "      <td>0</td>\n",
              "      <td>1</td>\n",
              "    </tr>\n",
              "    <tr>\n",
              "      <th>32</th>\n",
              "      <td>23.051438</td>\n",
              "      <td>72.605116</td>\n",
              "      <td>Civil Hospital</td>\n",
              "      <td>0</td>\n",
              "      <td>0</td>\n",
              "    </tr>\n",
              "    <tr>\n",
              "      <th>33</th>\n",
              "      <td>23.060165</td>\n",
              "      <td>72.580638</td>\n",
              "      <td>Gandhi Ashram (Ahmedabad)</td>\n",
              "      <td>0</td>\n",
              "      <td>2</td>\n",
              "    </tr>\n",
              "    <tr>\n",
              "      <th>34</th>\n",
              "      <td>23.006332</td>\n",
              "      <td>72.536517</td>\n",
              "      <td>Jivraj Park</td>\n",
              "      <td>0</td>\n",
              "      <td>0</td>\n",
              "    </tr>\n",
              "    <tr>\n",
              "      <th>35</th>\n",
              "      <td>23.053084</td>\n",
              "      <td>72.532931</td>\n",
              "      <td>Memnagar</td>\n",
              "      <td>0</td>\n",
              "      <td>12</td>\n",
              "    </tr>\n",
              "    <tr>\n",
              "      <th>36</th>\n",
              "      <td>23.050483</td>\n",
              "      <td>72.498859</td>\n",
              "      <td>Thaltej Road</td>\n",
              "      <td>0</td>\n",
              "      <td>1</td>\n",
              "    </tr>\n",
              "    <tr>\n",
              "      <th>37</th>\n",
              "      <td>23.044227</td>\n",
              "      <td>72.517458</td>\n",
              "      <td>Bodakdev</td>\n",
              "      <td>0</td>\n",
              "      <td>14</td>\n",
              "    </tr>\n",
              "    <tr>\n",
              "      <th>38</th>\n",
              "      <td>23.005630</td>\n",
              "      <td>72.523101</td>\n",
              "      <td>Juhapura</td>\n",
              "      <td>0</td>\n",
              "      <td>1</td>\n",
              "    </tr>\n",
              "    <tr>\n",
              "      <th>39</th>\n",
              "      <td>23.029699</td>\n",
              "      <td>72.465579</td>\n",
              "      <td>Bopal</td>\n",
              "      <td>0</td>\n",
              "      <td>3</td>\n",
              "    </tr>\n",
              "    <tr>\n",
              "      <th>40</th>\n",
              "      <td>23.029511</td>\n",
              "      <td>72.450601</td>\n",
              "      <td>Ghuma</td>\n",
              "      <td>0</td>\n",
              "      <td>1</td>\n",
              "    </tr>\n",
              "    <tr>\n",
              "      <th>41</th>\n",
              "      <td>23.018494</td>\n",
              "      <td>72.495454</td>\n",
              "      <td>Ambli</td>\n",
              "      <td>0</td>\n",
              "      <td>0</td>\n",
              "    </tr>\n",
              "    <tr>\n",
              "      <th>42</th>\n",
              "      <td>23.010030</td>\n",
              "      <td>72.444016</td>\n",
              "      <td>Shela</td>\n",
              "      <td>0</td>\n",
              "      <td>0</td>\n",
              "    </tr>\n",
              "    <tr>\n",
              "      <th>43</th>\n",
              "      <td>23.048539</td>\n",
              "      <td>72.511742</td>\n",
              "      <td>Thaltej</td>\n",
              "      <td>0</td>\n",
              "      <td>1</td>\n",
              "    </tr>\n",
              "    <tr>\n",
              "      <th>44</th>\n",
              "      <td>23.054437</td>\n",
              "      <td>72.472076</td>\n",
              "      <td>Shilaj</td>\n",
              "      <td>0</td>\n",
              "      <td>0</td>\n",
              "    </tr>\n",
              "    <tr>\n",
              "      <th>45</th>\n",
              "      <td>23.069237</td>\n",
              "      <td>72.511131</td>\n",
              "      <td>Sola</td>\n",
              "      <td>0</td>\n",
              "      <td>0</td>\n",
              "    </tr>\n",
              "    <tr>\n",
              "      <th>46</th>\n",
              "      <td>23.086873</td>\n",
              "      <td>72.483504</td>\n",
              "      <td>Bhadaj</td>\n",
              "      <td>0</td>\n",
              "      <td>0</td>\n",
              "    </tr>\n",
              "    <tr>\n",
              "      <th>47</th>\n",
              "      <td>23.108063</td>\n",
              "      <td>72.522650</td>\n",
              "      <td>Ognaj</td>\n",
              "      <td>0</td>\n",
              "      <td>0</td>\n",
              "    </tr>\n",
              "    <tr>\n",
              "      <th>48</th>\n",
              "      <td>23.068665</td>\n",
              "      <td>72.536822</td>\n",
              "      <td>Ghatlodia</td>\n",
              "      <td>0</td>\n",
              "      <td>3</td>\n",
              "    </tr>\n",
              "    <tr>\n",
              "      <th>49</th>\n",
              "      <td>23.057801</td>\n",
              "      <td>72.549016</td>\n",
              "      <td>Sola H B C</td>\n",
              "      <td>0</td>\n",
              "      <td>0</td>\n",
              "    </tr>\n",
              "  </tbody>\n",
              "</table>\n",
              "</div>"
            ],
            "text/plain": [
              "        V Lat     V Long               Neighborhood  Cluster Labels  Venue\n",
              "0   23.024190  72.578556                Lal Darwaja               1      1\n",
              "1   23.023180  72.588952                Manek Chowk               1      4\n",
              "2   23.055966  72.593869                   Shahibag               1      3\n",
              "3   23.083993  72.587619                  Sabarmati               3      0\n",
              "4   23.087505  72.585701                Kabir Chowk               3      0\n",
              "5   23.091703  72.597481                     Motera               3      1\n",
              "6   23.022612  72.549083       Ambawadi (Ahmedabad)               3      2\n",
              "7   23.022886  72.571642                Ellisbridge               3      0\n",
              "8   23.014553  72.563543          Paldi (Ahmedabad)               2      2\n",
              "9   22.983483  72.500720               Sarkhej Road               2      0\n",
              "10  23.016075  72.509295     Anandnagar (Ahmedabad)               2     13\n",
              "11  23.011190  72.552575                Shardanagar               2      3\n",
              "12  22.997826  72.560115               Narayannagar               2      2\n",
              "13  22.995137  72.605099              Jawahar Chowk               2      2\n",
              "14  22.997713  72.606717                  Maninagar               2      5\n",
              "15  23.026694  72.571078                Ashram Road               2      3\n",
              "16  23.046712  72.553567             Darpan Society               2      6\n",
              "17  23.037307  72.544748         Gujarat University               2      6\n",
              "18  23.036000  72.564343                Navrangpura               2      8\n",
              "19  23.049768  72.561628               Stadium Marg               2      1\n",
              "20  23.068224  72.564099                      Vadaj               2      0\n",
              "21  23.056861  72.550710           Naranpura Vistar               2      0\n",
              "22  23.062423  72.553180   Shastrinagar (Ahmedabad)               2      5\n",
              "23  23.068224  72.564099                 Nava Vadaj               2      0\n",
              "24  23.053692  72.642707                   Navjivan               0      0\n",
              "25  23.025341  72.527761         Jodhpur Char Rasta               0      3\n",
              "26  23.031270  72.537133                      I I M               0      3\n",
              "27  23.019342  72.541232                   Manekbag               0      2\n",
              "28  23.026577  72.547506    Polytechnic (Ahmedabad)               0      3\n",
              "29  23.029157  72.532752               Azad Society               0      3\n",
              "30  23.058283  72.616509                Meghaningar               0      0\n",
              "31  23.015200  72.593222           Gita Mandir Road               0      1\n",
              "32  23.051438  72.605116             Civil Hospital               0      0\n",
              "33  23.060165  72.580638  Gandhi Ashram (Ahmedabad)               0      2\n",
              "34  23.006332  72.536517                Jivraj Park               0      0\n",
              "35  23.053084  72.532931                   Memnagar               0     12\n",
              "36  23.050483  72.498859               Thaltej Road               0      1\n",
              "37  23.044227  72.517458                   Bodakdev               0     14\n",
              "38  23.005630  72.523101                   Juhapura               0      1\n",
              "39  23.029699  72.465579                      Bopal               0      3\n",
              "40  23.029511  72.450601                      Ghuma               0      1\n",
              "41  23.018494  72.495454                      Ambli               0      0\n",
              "42  23.010030  72.444016                      Shela               0      0\n",
              "43  23.048539  72.511742                    Thaltej               0      1\n",
              "44  23.054437  72.472076                     Shilaj               0      0\n",
              "45  23.069237  72.511131                       Sola               0      0\n",
              "46  23.086873  72.483504                     Bhadaj               0      0\n",
              "47  23.108063  72.522650                      Ognaj               0      0\n",
              "48  23.068665  72.536822                  Ghatlodia               0      3\n",
              "49  23.057801  72.549016                 Sola H B C               0      0"
            ]
          },
          "metadata": {
            "tags": []
          },
          "execution_count": 40
        }
      ]
    },
    {
      "cell_type": "markdown",
      "metadata": {
        "id": "KKPkbWKJi-kv"
      },
      "source": [
        "### Map The Clusters"
      ]
    },
    {
      "cell_type": "code",
      "metadata": {
        "colab": {
          "base_uri": "https://localhost:8080/",
          "height": 440
        },
        "id": "4Hesxk8jg9ho",
        "outputId": "aaf20bd4-c553-485a-f4c6-691a2731a7c8"
      },
      "source": [
        "import matplotlib.colors as colors\n",
        "\n",
        "#Co-ordinates for the city of Ahmedabad\n",
        "latitude = 23.0225\n",
        "longitude = 72.5714\n",
        "\n",
        "# create map\n",
        "map_clusters = folium.Map(location=[latitude, longitude], zoom_start=11)\n",
        "\n",
        "# set color scheme for the clusters\n",
        "x = np.arange(kclusters)\n",
        "ys = [i + x + (i*x)**2 for i in range(kclusters)]\n",
        "colors_array = cm.rainbow(np.linspace(0, 1, len(ys)))\n",
        "rainbow = [colors.rgb2hex(i) for i in colors_array]\n",
        "\n",
        "# add markers to the map\n",
        "markers_colors = []\n",
        "for lat, lon, poi, cluster in zip(geo_df['V Lat'], geo_df['V Long'], geo_df['Neighborhood'], geo_df['Cluster Labels']):\n",
        "    label = folium.Popup(str(poi) + ' Cluster ' + str(cluster), parse_html=True)\n",
        "    folium.CircleMarker(\n",
        "        [lat, lon],\n",
        "        radius=5,\n",
        "        popup=label,\n",
        "        color=rainbow[cluster-1],\n",
        "        fill=True,\n",
        "        fill_color=rainbow[cluster-1],\n",
        "        fill_opacity=0.7).add_to(map_clusters)\n",
        "       \n",
        "map_clusters"
      ],
      "execution_count": 41,
      "outputs": [
        {
          "output_type": "execute_result",
          "data": {
            "text/html": [
              "<div style=\"width:100%;\"><div style=\"position:relative;width:100%;height:0;padding-bottom:60%;\"><span style=\"color:#565656\">Make this Notebook Trusted to load map: File -> Trust Notebook</span><iframe src=\"about:blank\" style=\"position:absolute;width:100%;height:100%;left:0;top:0;border:none !important;\" data-html=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 onload=\"this.contentDocument.open();this.contentDocument.write(atob(this.getAttribute('data-html')));this.contentDocument.close();\" allowfullscreen webkitallowfullscreen mozallowfullscreen></iframe></div></div>"
            ],
            "text/plain": [
              "<folium.folium.Map at 0x7f81dd18c7f0>"
            ]
          },
          "metadata": {
            "tags": []
          },
          "execution_count": 41
        }
      ]
    },
    {
      "cell_type": "markdown",
      "metadata": {
        "id": "IDseRFDZkxo0"
      },
      "source": [
        "#### Cluster1"
      ]
    },
    {
      "cell_type": "code",
      "metadata": {
        "id": "ZczC_y43kDMe"
      },
      "source": [
        "cluster1_df = geo_df.loc[geo_df['Cluster Labels']==0, geo_df.columns[[2] + list(range(4, geo_df.shape[1]))]]"
      ],
      "execution_count": 42,
      "outputs": []
    },
    {
      "cell_type": "code",
      "metadata": {
        "colab": {
          "base_uri": "https://localhost:8080/",
          "height": 331
        },
        "id": "bfSIl3fNHcY-",
        "outputId": "55aa32c4-4c46-48f2-8189-907b6a040b10"
      },
      "source": [
        "print('Total Neighborhoods in Cluster-1:', cluster1_df.shape[0])\n",
        "print(cluster1_df['Venue'].mean())\n",
        "cluster1_df.describe()"
      ],
      "execution_count": 43,
      "outputs": [
        {
          "output_type": "stream",
          "text": [
            "Total Neighborhoods in Cluster-1: 26\n",
            "2.0384615384615383\n"
          ],
          "name": "stdout"
        },
        {
          "output_type": "execute_result",
          "data": {
            "text/html": [
              "<div>\n",
              "<style scoped>\n",
              "    .dataframe tbody tr th:only-of-type {\n",
              "        vertical-align: middle;\n",
              "    }\n",
              "\n",
              "    .dataframe tbody tr th {\n",
              "        vertical-align: top;\n",
              "    }\n",
              "\n",
              "    .dataframe thead th {\n",
              "        text-align: right;\n",
              "    }\n",
              "</style>\n",
              "<table border=\"1\" class=\"dataframe\">\n",
              "  <thead>\n",
              "    <tr style=\"text-align: right;\">\n",
              "      <th></th>\n",
              "      <th>Venue</th>\n",
              "    </tr>\n",
              "  </thead>\n",
              "  <tbody>\n",
              "    <tr>\n",
              "      <th>count</th>\n",
              "      <td>26.000000</td>\n",
              "    </tr>\n",
              "    <tr>\n",
              "      <th>mean</th>\n",
              "      <td>2.038462</td>\n",
              "    </tr>\n",
              "    <tr>\n",
              "      <th>std</th>\n",
              "      <td>3.458101</td>\n",
              "    </tr>\n",
              "    <tr>\n",
              "      <th>min</th>\n",
              "      <td>0.000000</td>\n",
              "    </tr>\n",
              "    <tr>\n",
              "      <th>25%</th>\n",
              "      <td>0.000000</td>\n",
              "    </tr>\n",
              "    <tr>\n",
              "      <th>50%</th>\n",
              "      <td>1.000000</td>\n",
              "    </tr>\n",
              "    <tr>\n",
              "      <th>75%</th>\n",
              "      <td>3.000000</td>\n",
              "    </tr>\n",
              "    <tr>\n",
              "      <th>max</th>\n",
              "      <td>14.000000</td>\n",
              "    </tr>\n",
              "  </tbody>\n",
              "</table>\n",
              "</div>"
            ],
            "text/plain": [
              "           Venue\n",
              "count  26.000000\n",
              "mean    2.038462\n",
              "std     3.458101\n",
              "min     0.000000\n",
              "25%     0.000000\n",
              "50%     1.000000\n",
              "75%     3.000000\n",
              "max    14.000000"
            ]
          },
          "metadata": {
            "tags": []
          },
          "execution_count": 43
        }
      ]
    },
    {
      "cell_type": "code",
      "metadata": {
        "colab": {
          "base_uri": "https://localhost:8080/",
          "height": 372
        },
        "id": "hSppd7fPnWUC",
        "outputId": "6ad45acf-0a6a-462f-8b16-581c20a1e501"
      },
      "source": [
        "!pip install researchpy\n",
        "import researchpy as rp\n",
        "\n",
        "rp.summary_cont(cluster1_df['Venue'])"
      ],
      "execution_count": 44,
      "outputs": [
        {
          "output_type": "stream",
          "text": [
            "Collecting researchpy\n",
            "  Downloading https://files.pythonhosted.org/packages/4b/a3/b16ea25a5416f7c35824b2fc3ee1cdc9f9d8ab6d9fc4119679504d43b8a8/researchpy-0.2.3-py3-none-any.whl\n",
            "Requirement already satisfied: pandas in /usr/local/lib/python3.6/dist-packages (from researchpy) (1.1.4)\n",
            "Requirement already satisfied: statsmodels in /usr/local/lib/python3.6/dist-packages (from researchpy) (0.10.2)\n",
            "Requirement already satisfied: numpy in /usr/local/lib/python3.6/dist-packages (from researchpy) (1.18.5)\n",
            "Requirement already satisfied: scipy in /usr/local/lib/python3.6/dist-packages (from researchpy) (1.4.1)\n",
            "Requirement already satisfied: python-dateutil>=2.7.3 in /usr/local/lib/python3.6/dist-packages (from pandas->researchpy) (2.8.1)\n",
            "Requirement already satisfied: pytz>=2017.2 in /usr/local/lib/python3.6/dist-packages (from pandas->researchpy) (2018.9)\n",
            "Requirement already satisfied: patsy>=0.4.0 in /usr/local/lib/python3.6/dist-packages (from statsmodels->researchpy) (0.5.1)\n",
            "Requirement already satisfied: six>=1.5 in /usr/local/lib/python3.6/dist-packages (from python-dateutil>=2.7.3->pandas->researchpy) (1.15.0)\n",
            "Installing collected packages: researchpy\n",
            "Successfully installed researchpy-0.2.3\n",
            "\n",
            "\n"
          ],
          "name": "stdout"
        },
        {
          "output_type": "stream",
          "text": [
            "/usr/local/lib/python3.6/dist-packages/statsmodels/tools/_testing.py:19: FutureWarning: pandas.util.testing is deprecated. Use the functions in the public API at pandas.testing instead.\n",
            "  import pandas.util.testing as tm\n"
          ],
          "name": "stderr"
        },
        {
          "output_type": "execute_result",
          "data": {
            "text/html": [
              "<div>\n",
              "<style scoped>\n",
              "    .dataframe tbody tr th:only-of-type {\n",
              "        vertical-align: middle;\n",
              "    }\n",
              "\n",
              "    .dataframe tbody tr th {\n",
              "        vertical-align: top;\n",
              "    }\n",
              "\n",
              "    .dataframe thead th {\n",
              "        text-align: right;\n",
              "    }\n",
              "</style>\n",
              "<table border=\"1\" class=\"dataframe\">\n",
              "  <thead>\n",
              "    <tr style=\"text-align: right;\">\n",
              "      <th></th>\n",
              "      <th>Variable</th>\n",
              "      <th>N</th>\n",
              "      <th>Mean</th>\n",
              "      <th>SD</th>\n",
              "      <th>SE</th>\n",
              "      <th>95% Conf.</th>\n",
              "      <th>Interval</th>\n",
              "    </tr>\n",
              "  </thead>\n",
              "  <tbody>\n",
              "    <tr>\n",
              "      <th>0</th>\n",
              "      <td>Venue</td>\n",
              "      <td>26.0</td>\n",
              "      <td>2.0385</td>\n",
              "      <td>3.4581</td>\n",
              "      <td>0.6782</td>\n",
              "      <td>0.6417</td>\n",
              "      <td>3.4352</td>\n",
              "    </tr>\n",
              "  </tbody>\n",
              "</table>\n",
              "</div>"
            ],
            "text/plain": [
              "  Variable     N    Mean      SD      SE  95% Conf.  Interval\n",
              "0    Venue  26.0  2.0385  3.4581  0.6782     0.6417    3.4352"
            ]
          },
          "metadata": {
            "tags": []
          },
          "execution_count": 44
        }
      ]
    },
    {
      "cell_type": "code",
      "metadata": {
        "colab": {
          "base_uri": "https://localhost:8080/",
          "height": 606
        },
        "id": "yZc_Ir8Tk5cK",
        "outputId": "4cb5c5a6-39b4-471d-9d88-5164a237ff24"
      },
      "source": [
        "f, ax = plt.subplots(figsize=(10,10))\n",
        "plt.rcParams.update({'font.size': 15})\n",
        "\n",
        "plt.barh(cluster1_df.iloc[:,-2], cluster1_df.iloc[:,-1].values, color='red')\n",
        "plt.title('Pizza Places Across Cluster-1 Neighborhood', fontsize=15)\n",
        "plt.xlabel('No. Of Pizza Places', fontsize=10)\n",
        "plt.ylabel('Neighborhoods', fontsize=10)\n",
        "\n",
        "plt.show()"
      ],
      "execution_count": 45,
      "outputs": [
        {
          "output_type": "display_data",
          "data": {
            "image/png": "[encoded data removed]",
            "text/plain": [
              "<Figure size 720x720 with 1 Axes>"
            ]
          },
          "metadata": {
            "tags": [],
            "needs_background": "light"
          }
        }
      ]
    },
    {
      "cell_type": "markdown",
      "metadata": {
        "id": "DdBhLmPsm6dr"
      },
      "source": [
        "#### Cluster 2"
      ]
    },
    {
      "cell_type": "code",
      "metadata": {
        "colab": {
          "base_uri": "https://localhost:8080/",
          "height": 142
        },
        "id": "sko_8pW0lYlE",
        "outputId": "362d6e0d-a9ff-4637-fab7-514304e52dd1"
      },
      "source": [
        "cluster2_df = geo_df.loc[geo_df['Cluster Labels']==1, geo_df.columns[[2] + list(range(4, geo_df.shape[1]))]]\n",
        "cluster2_df"
      ],
      "execution_count": 46,
      "outputs": [
        {
          "output_type": "execute_result",
          "data": {
            "text/html": [
              "<div>\n",
              "<style scoped>\n",
              "    .dataframe tbody tr th:only-of-type {\n",
              "        vertical-align: middle;\n",
              "    }\n",
              "\n",
              "    .dataframe tbody tr th {\n",
              "        vertical-align: top;\n",
              "    }\n",
              "\n",
              "    .dataframe thead th {\n",
              "        text-align: right;\n",
              "    }\n",
              "</style>\n",
              "<table border=\"1\" class=\"dataframe\">\n",
              "  <thead>\n",
              "    <tr style=\"text-align: right;\">\n",
              "      <th></th>\n",
              "      <th>Neighborhood</th>\n",
              "      <th>Venue</th>\n",
              "    </tr>\n",
              "  </thead>\n",
              "  <tbody>\n",
              "    <tr>\n",
              "      <th>0</th>\n",
              "      <td>Lal Darwaja</td>\n",
              "      <td>1</td>\n",
              "    </tr>\n",
              "    <tr>\n",
              "      <th>1</th>\n",
              "      <td>Manek Chowk</td>\n",
              "      <td>4</td>\n",
              "    </tr>\n",
              "    <tr>\n",
              "      <th>2</th>\n",
              "      <td>Shahibag</td>\n",
              "      <td>3</td>\n",
              "    </tr>\n",
              "  </tbody>\n",
              "</table>\n",
              "</div>"
            ],
            "text/plain": [
              "  Neighborhood  Venue\n",
              "0  Lal Darwaja      1\n",
              "1  Manek Chowk      4\n",
              "2     Shahibag      3"
            ]
          },
          "metadata": {
            "tags": []
          },
          "execution_count": 46
        }
      ]
    },
    {
      "cell_type": "code",
      "metadata": {
        "colab": {
          "base_uri": "https://localhost:8080/"
        },
        "id": "u8qNnzuyIFPT",
        "outputId": "37259d83-3d1c-4b6b-9c24-6de6216c0752"
      },
      "source": [
        "print('Total Neighborhoods in Cluster-2:', cluster2_df.shape[0])\n",
        "cluster2_df['Venue'].mean()"
      ],
      "execution_count": 47,
      "outputs": [
        {
          "output_type": "stream",
          "text": [
            "Total Neighborhoods in Cluster-2: 3\n"
          ],
          "name": "stdout"
        },
        {
          "output_type": "execute_result",
          "data": {
            "text/plain": [
              "2.6666666666666665"
            ]
          },
          "metadata": {
            "tags": []
          },
          "execution_count": 47
        }
      ]
    },
    {
      "cell_type": "code",
      "metadata": {
        "colab": {
          "base_uri": "https://localhost:8080/",
          "height": 114
        },
        "id": "THU6jFtksLaD",
        "outputId": "8982a313-e448-4ad7-8ff7-c19789da2f2a"
      },
      "source": [
        "rp.summary_cont(cluster2_df['Venue'])"
      ],
      "execution_count": 48,
      "outputs": [
        {
          "output_type": "stream",
          "text": [
            "\n",
            "\n"
          ],
          "name": "stdout"
        },
        {
          "output_type": "execute_result",
          "data": {
            "text/html": [
              "<div>\n",
              "<style scoped>\n",
              "    .dataframe tbody tr th:only-of-type {\n",
              "        vertical-align: middle;\n",
              "    }\n",
              "\n",
              "    .dataframe tbody tr th {\n",
              "        vertical-align: top;\n",
              "    }\n",
              "\n",
              "    .dataframe thead th {\n",
              "        text-align: right;\n",
              "    }\n",
              "</style>\n",
              "<table border=\"1\" class=\"dataframe\">\n",
              "  <thead>\n",
              "    <tr style=\"text-align: right;\">\n",
              "      <th></th>\n",
              "      <th>Variable</th>\n",
              "      <th>N</th>\n",
              "      <th>Mean</th>\n",
              "      <th>SD</th>\n",
              "      <th>SE</th>\n",
              "      <th>95% Conf.</th>\n",
              "      <th>Interval</th>\n",
              "    </tr>\n",
              "  </thead>\n",
              "  <tbody>\n",
              "    <tr>\n",
              "      <th>0</th>\n",
              "      <td>Venue</td>\n",
              "      <td>3.0</td>\n",
              "      <td>2.6667</td>\n",
              "      <td>1.5275</td>\n",
              "      <td>0.8819</td>\n",
              "      <td>-1.1279</td>\n",
              "      <td>6.4612</td>\n",
              "    </tr>\n",
              "  </tbody>\n",
              "</table>\n",
              "</div>"
            ],
            "text/plain": [
              "  Variable    N    Mean      SD      SE  95% Conf.  Interval\n",
              "0    Venue  3.0  2.6667  1.5275  0.8819    -1.1279    6.4612"
            ]
          },
          "metadata": {
            "tags": []
          },
          "execution_count": 48
        }
      ]
    },
    {
      "cell_type": "code",
      "metadata": {
        "colab": {
          "base_uri": "https://localhost:8080/",
          "height": 351
        },
        "id": "cfpUVDppnKb3",
        "outputId": "938313a6-117e-4c6d-e51f-3e8f9cb149a7"
      },
      "source": [
        "f, ax = plt.subplots(figsize=(8,5))\n",
        "plt.rcParams.update({'font.size': 15})\n",
        "\n",
        "plt.barh(cluster2_df.iloc[:,-2], cluster2_df.iloc[:,-1].values, color='darkviolet')\n",
        "plt.title('Pizza Places Across Cluster-2 Neighborhood', fontsize=15)\n",
        "plt.xlabel('No. Of Pizza Places', fontsize=10)\n",
        "plt.ylabel('Neighborhoods', fontsize=10)\n",
        "\n",
        "plt.show()"
      ],
      "execution_count": 49,
      "outputs": [
        {
          "output_type": "display_data",
          "data": {
            "image/png": "[encoded data removed]",
            "text/plain": [
              "<Figure size 576x360 with 1 Axes>"
            ]
          },
          "metadata": {
            "tags": [],
            "needs_background": "light"
          }
        }
      ]
    },
    {
      "cell_type": "markdown",
      "metadata": {
        "id": "fZZvGUkLEf03"
      },
      "source": [
        "#### Cluster 3"
      ]
    },
    {
      "cell_type": "code",
      "metadata": {
        "colab": {
          "base_uri": "https://localhost:8080/",
          "height": 545
        },
        "id": "6cKweJhcEhf0",
        "outputId": "0caa3c42-7874-4b99-b3ad-6f1559b5bb74"
      },
      "source": [
        "cluster3_df = geo_df.loc[geo_df['Cluster Labels']==2, geo_df.columns[[2] + list(range(4, geo_df.shape[1]))]]\n",
        "cluster3_df"
      ],
      "execution_count": 50,
      "outputs": [
        {
          "output_type": "execute_result",
          "data": {
            "text/html": [
              "<div>\n",
              "<style scoped>\n",
              "    .dataframe tbody tr th:only-of-type {\n",
              "        vertical-align: middle;\n",
              "    }\n",
              "\n",
              "    .dataframe tbody tr th {\n",
              "        vertical-align: top;\n",
              "    }\n",
              "\n",
              "    .dataframe thead th {\n",
              "        text-align: right;\n",
              "    }\n",
              "</style>\n",
              "<table border=\"1\" class=\"dataframe\">\n",
              "  <thead>\n",
              "    <tr style=\"text-align: right;\">\n",
              "      <th></th>\n",
              "      <th>Neighborhood</th>\n",
              "      <th>Venue</th>\n",
              "    </tr>\n",
              "  </thead>\n",
              "  <tbody>\n",
              "    <tr>\n",
              "      <th>8</th>\n",
              "      <td>Paldi (Ahmedabad)</td>\n",
              "      <td>2</td>\n",
              "    </tr>\n",
              "    <tr>\n",
              "      <th>9</th>\n",
              "      <td>Sarkhej Road</td>\n",
              "      <td>0</td>\n",
              "    </tr>\n",
              "    <tr>\n",
              "      <th>10</th>\n",
              "      <td>Anandnagar (Ahmedabad)</td>\n",
              "      <td>13</td>\n",
              "    </tr>\n",
              "    <tr>\n",
              "      <th>11</th>\n",
              "      <td>Shardanagar</td>\n",
              "      <td>3</td>\n",
              "    </tr>\n",
              "    <tr>\n",
              "      <th>12</th>\n",
              "      <td>Narayannagar</td>\n",
              "      <td>2</td>\n",
              "    </tr>\n",
              "    <tr>\n",
              "      <th>13</th>\n",
              "      <td>Jawahar Chowk</td>\n",
              "      <td>2</td>\n",
              "    </tr>\n",
              "    <tr>\n",
              "      <th>14</th>\n",
              "      <td>Maninagar</td>\n",
              "      <td>5</td>\n",
              "    </tr>\n",
              "    <tr>\n",
              "      <th>15</th>\n",
              "      <td>Ashram Road</td>\n",
              "      <td>3</td>\n",
              "    </tr>\n",
              "    <tr>\n",
              "      <th>16</th>\n",
              "      <td>Darpan Society</td>\n",
              "      <td>6</td>\n",
              "    </tr>\n",
              "    <tr>\n",
              "      <th>17</th>\n",
              "      <td>Gujarat University</td>\n",
              "      <td>6</td>\n",
              "    </tr>\n",
              "    <tr>\n",
              "      <th>18</th>\n",
              "      <td>Navrangpura</td>\n",
              "      <td>8</td>\n",
              "    </tr>\n",
              "    <tr>\n",
              "      <th>19</th>\n",
              "      <td>Stadium Marg</td>\n",
              "      <td>1</td>\n",
              "    </tr>\n",
              "    <tr>\n",
              "      <th>20</th>\n",
              "      <td>Vadaj</td>\n",
              "      <td>0</td>\n",
              "    </tr>\n",
              "    <tr>\n",
              "      <th>21</th>\n",
              "      <td>Naranpura Vistar</td>\n",
              "      <td>0</td>\n",
              "    </tr>\n",
              "    <tr>\n",
              "      <th>22</th>\n",
              "      <td>Shastrinagar (Ahmedabad)</td>\n",
              "      <td>5</td>\n",
              "    </tr>\n",
              "    <tr>\n",
              "      <th>23</th>\n",
              "      <td>Nava Vadaj</td>\n",
              "      <td>0</td>\n",
              "    </tr>\n",
              "  </tbody>\n",
              "</table>\n",
              "</div>"
            ],
            "text/plain": [
              "                Neighborhood  Venue\n",
              "8          Paldi (Ahmedabad)      2\n",
              "9               Sarkhej Road      0\n",
              "10    Anandnagar (Ahmedabad)     13\n",
              "11               Shardanagar      3\n",
              "12              Narayannagar      2\n",
              "13             Jawahar Chowk      2\n",
              "14                 Maninagar      5\n",
              "15               Ashram Road      3\n",
              "16            Darpan Society      6\n",
              "17        Gujarat University      6\n",
              "18               Navrangpura      8\n",
              "19              Stadium Marg      1\n",
              "20                     Vadaj      0\n",
              "21          Naranpura Vistar      0\n",
              "22  Shastrinagar (Ahmedabad)      5\n",
              "23                Nava Vadaj      0"
            ]
          },
          "metadata": {
            "tags": []
          },
          "execution_count": 50
        }
      ]
    },
    {
      "cell_type": "code",
      "metadata": {
        "colab": {
          "base_uri": "https://localhost:8080/"
        },
        "id": "91bfMrceErK0",
        "outputId": "be6b11ed-04f0-4159-90db-c8ff9803ab23"
      },
      "source": [
        "print('Total Neighborhoods in Cluster-3:', cluster3_df.shape[0])\n",
        "cluster3_df['Venue'].mean()"
      ],
      "execution_count": 51,
      "outputs": [
        {
          "output_type": "stream",
          "text": [
            "Total Neighborhoods in Cluster-3: 16\n"
          ],
          "name": "stdout"
        },
        {
          "output_type": "execute_result",
          "data": {
            "text/plain": [
              "3.5"
            ]
          },
          "metadata": {
            "tags": []
          },
          "execution_count": 51
        }
      ]
    },
    {
      "cell_type": "code",
      "metadata": {
        "colab": {
          "base_uri": "https://localhost:8080/",
          "height": 114
        },
        "id": "67yySlmhsdgI",
        "outputId": "d4a0dcbd-e9f7-4e20-d052-418e9e1102f7"
      },
      "source": [
        "rp.summary_cont(cluster3_df['Venue'])"
      ],
      "execution_count": 52,
      "outputs": [
        {
          "output_type": "stream",
          "text": [
            "\n",
            "\n"
          ],
          "name": "stdout"
        },
        {
          "output_type": "execute_result",
          "data": {
            "text/html": [
              "<div>\n",
              "<style scoped>\n",
              "    .dataframe tbody tr th:only-of-type {\n",
              "        vertical-align: middle;\n",
              "    }\n",
              "\n",
              "    .dataframe tbody tr th {\n",
              "        vertical-align: top;\n",
              "    }\n",
              "\n",
              "    .dataframe thead th {\n",
              "        text-align: right;\n",
              "    }\n",
              "</style>\n",
              "<table border=\"1\" class=\"dataframe\">\n",
              "  <thead>\n",
              "    <tr style=\"text-align: right;\">\n",
              "      <th></th>\n",
              "      <th>Variable</th>\n",
              "      <th>N</th>\n",
              "      <th>Mean</th>\n",
              "      <th>SD</th>\n",
              "      <th>SE</th>\n",
              "      <th>95% Conf.</th>\n",
              "      <th>Interval</th>\n",
              "    </tr>\n",
              "  </thead>\n",
              "  <tbody>\n",
              "    <tr>\n",
              "      <th>0</th>\n",
              "      <td>Venue</td>\n",
              "      <td>16.0</td>\n",
              "      <td>3.5</td>\n",
              "      <td>3.559</td>\n",
              "      <td>0.8898</td>\n",
              "      <td>1.6035</td>\n",
              "      <td>5.3965</td>\n",
              "    </tr>\n",
              "  </tbody>\n",
              "</table>\n",
              "</div>"
            ],
            "text/plain": [
              "  Variable     N  Mean     SD      SE  95% Conf.  Interval\n",
              "0    Venue  16.0   3.5  3.559  0.8898     1.6035    5.3965"
            ]
          },
          "metadata": {
            "tags": []
          },
          "execution_count": 52
        }
      ]
    },
    {
      "cell_type": "code",
      "metadata": {
        "colab": {
          "base_uri": "https://localhost:8080/",
          "height": 351
        },
        "id": "v2wD2oIQEz_e",
        "outputId": "498ef60f-61c4-448a-b403-ad8f003d7c44"
      },
      "source": [
        "f, ax = plt.subplots(figsize=(8,5))\n",
        "plt.rcParams.update({'font.size': 15})\n",
        "\n",
        "plt.barh(cluster3_df.iloc[:,-2], cluster3_df.iloc[:,-1].values, color='cyan')\n",
        "plt.title('Pizza Places Across Cluster-3 Neighborhood', fontsize=15)\n",
        "plt.xlabel('No. Of Pizza Places', fontsize=10)\n",
        "plt.ylabel('Neighborhoods', fontsize=10)\n",
        "\n",
        "plt.show()"
      ],
      "execution_count": 53,
      "outputs": [
        {
          "output_type": "display_data",
          "data": {
            "image/png": "[encoded data removed]",
            "text/plain": [
              "<Figure size 576x360 with 1 Axes>"
            ]
          },
          "metadata": {
            "tags": [],
            "needs_background": "light"
          }
        }
      ]
    },
    {
      "cell_type": "markdown",
      "metadata": {
        "id": "5Xqp63bpFBLO"
      },
      "source": [
        "#### Cluster 4"
      ]
    },
    {
      "cell_type": "code",
      "metadata": {
        "colab": {
          "base_uri": "https://localhost:8080/",
          "height": 204
        },
        "id": "C4Gbtf20FGk7",
        "outputId": "e1bdad04-8e7c-4f45-fa4a-f86ac6b39289"
      },
      "source": [
        "cluster4_df = geo_df.loc[geo_df['Cluster Labels']==3, geo_df.columns[[2] + list(range(4, geo_df.shape[1]))]]\n",
        "cluster4_df"
      ],
      "execution_count": 54,
      "outputs": [
        {
          "output_type": "execute_result",
          "data": {
            "text/html": [
              "<div>\n",
              "<style scoped>\n",
              "    .dataframe tbody tr th:only-of-type {\n",
              "        vertical-align: middle;\n",
              "    }\n",
              "\n",
              "    .dataframe tbody tr th {\n",
              "        vertical-align: top;\n",
              "    }\n",
              "\n",
              "    .dataframe thead th {\n",
              "        text-align: right;\n",
              "    }\n",
              "</style>\n",
              "<table border=\"1\" class=\"dataframe\">\n",
              "  <thead>\n",
              "    <tr style=\"text-align: right;\">\n",
              "      <th></th>\n",
              "      <th>Neighborhood</th>\n",
              "      <th>Venue</th>\n",
              "    </tr>\n",
              "  </thead>\n",
              "  <tbody>\n",
              "    <tr>\n",
              "      <th>3</th>\n",
              "      <td>Sabarmati</td>\n",
              "      <td>0</td>\n",
              "    </tr>\n",
              "    <tr>\n",
              "      <th>4</th>\n",
              "      <td>Kabir Chowk</td>\n",
              "      <td>0</td>\n",
              "    </tr>\n",
              "    <tr>\n",
              "      <th>5</th>\n",
              "      <td>Motera</td>\n",
              "      <td>1</td>\n",
              "    </tr>\n",
              "    <tr>\n",
              "      <th>6</th>\n",
              "      <td>Ambawadi (Ahmedabad)</td>\n",
              "      <td>2</td>\n",
              "    </tr>\n",
              "    <tr>\n",
              "      <th>7</th>\n",
              "      <td>Ellisbridge</td>\n",
              "      <td>0</td>\n",
              "    </tr>\n",
              "  </tbody>\n",
              "</table>\n",
              "</div>"
            ],
            "text/plain": [
              "           Neighborhood  Venue\n",
              "3             Sabarmati      0\n",
              "4           Kabir Chowk      0\n",
              "5                Motera      1\n",
              "6  Ambawadi (Ahmedabad)      2\n",
              "7           Ellisbridge      0"
            ]
          },
          "metadata": {
            "tags": []
          },
          "execution_count": 54
        }
      ]
    },
    {
      "cell_type": "code",
      "metadata": {
        "colab": {
          "base_uri": "https://localhost:8080/"
        },
        "id": "jHf9IfapFMiF",
        "outputId": "7aab7ed3-ac27-4bac-e365-bc2d0979a0d7"
      },
      "source": [
        "print('Total Neighborhoods in Cluster-4:', cluster4_df.shape[0])\n",
        "cluster4_df['Venue'].mean()"
      ],
      "execution_count": 55,
      "outputs": [
        {
          "output_type": "stream",
          "text": [
            "Total Neighborhoods in Cluster-4: 5\n"
          ],
          "name": "stdout"
        },
        {
          "output_type": "execute_result",
          "data": {
            "text/plain": [
              "0.6"
            ]
          },
          "metadata": {
            "tags": []
          },
          "execution_count": 55
        }
      ]
    },
    {
      "cell_type": "code",
      "metadata": {
        "colab": {
          "base_uri": "https://localhost:8080/",
          "height": 114
        },
        "id": "PpNh4l2ssiKc",
        "outputId": "84ac0947-ef2b-491c-9f3e-b203a558d698"
      },
      "source": [
        "rp.summary_cont(cluster4_df['Venue'])"
      ],
      "execution_count": 56,
      "outputs": [
        {
          "output_type": "stream",
          "text": [
            "\n",
            "\n"
          ],
          "name": "stdout"
        },
        {
          "output_type": "execute_result",
          "data": {
            "text/html": [
              "<div>\n",
              "<style scoped>\n",
              "    .dataframe tbody tr th:only-of-type {\n",
              "        vertical-align: middle;\n",
              "    }\n",
              "\n",
              "    .dataframe tbody tr th {\n",
              "        vertical-align: top;\n",
              "    }\n",
              "\n",
              "    .dataframe thead th {\n",
              "        text-align: right;\n",
              "    }\n",
              "</style>\n",
              "<table border=\"1\" class=\"dataframe\">\n",
              "  <thead>\n",
              "    <tr style=\"text-align: right;\">\n",
              "      <th></th>\n",
              "      <th>Variable</th>\n",
              "      <th>N</th>\n",
              "      <th>Mean</th>\n",
              "      <th>SD</th>\n",
              "      <th>SE</th>\n",
              "      <th>95% Conf.</th>\n",
              "      <th>Interval</th>\n",
              "    </tr>\n",
              "  </thead>\n",
              "  <tbody>\n",
              "    <tr>\n",
              "      <th>0</th>\n",
              "      <td>Venue</td>\n",
              "      <td>5.0</td>\n",
              "      <td>0.6</td>\n",
              "      <td>0.8944</td>\n",
              "      <td>0.4</td>\n",
              "      <td>-0.5106</td>\n",
              "      <td>1.7106</td>\n",
              "    </tr>\n",
              "  </tbody>\n",
              "</table>\n",
              "</div>"
            ],
            "text/plain": [
              "  Variable    N  Mean      SD   SE  95% Conf.  Interval\n",
              "0    Venue  5.0   0.6  0.8944  0.4    -0.5106    1.7106"
            ]
          },
          "metadata": {
            "tags": []
          },
          "execution_count": 56
        }
      ]
    },
    {
      "cell_type": "code",
      "metadata": {
        "colab": {
          "base_uri": "https://localhost:8080/",
          "height": 351
        },
        "id": "JM3uCn21FVhF",
        "outputId": "1c5b2b4d-d6b4-4232-f944-c9d4b7e674c3"
      },
      "source": [
        "f, ax = plt.subplots(figsize=(8,5))\n",
        "plt.rcParams.update({'font.size': 15})\n",
        "\n",
        "plt.barh(cluster4_df.iloc[:,-2], cluster4_df.iloc[:,-1].values, color='tab:olive')\n",
        "plt.title('Pizza Places Across Cluster-4 Neighborhood', fontsize=15)\n",
        "plt.xlabel('No. Of Pizza Places', fontsize=10)\n",
        "plt.ylabel('Neighborhoods', fontsize=10)\n",
        "\n",
        "plt.show()"
      ],
      "execution_count": 57,
      "outputs": [
        {
          "output_type": "display_data",
          "data": {
            "image/png": "[encoded data removed]",
            "text/plain": [
              "<Figure size 576x360 with 1 Axes>"
            ]
          },
          "metadata": {
            "tags": [],
            "needs_background": "light"
          }
        }
      ]
    },
    {
      "cell_type": "markdown",
      "metadata": {
        "id": "i-P-sRpMA7Jy"
      },
      "source": [
        "### Plot Pizza Places On The City Map"
      ]
    },
    {
      "cell_type": "code",
      "metadata": {
        "colab": {
          "base_uri": "https://localhost:8080/",
          "height": 247
        },
        "id": "ZrezovaVBkIf",
        "outputId": "e01c00e0-ae83-4727-c5f3-cc33b9d90d82"
      },
      "source": [
        "cluster4_geo = ahmedabad_venues[ahmedabad_venues['Neighborhood'].isin(cluster4_df.loc[:,'Neighborhood'].tolist())]\n",
        "cluster4_geo"
      ],
      "execution_count": 58,
      "outputs": [
        {
          "output_type": "execute_result",
          "data": {
            "text/html": [
              "<div>\n",
              "<style scoped>\n",
              "    .dataframe tbody tr th:only-of-type {\n",
              "        vertical-align: middle;\n",
              "    }\n",
              "\n",
              "    .dataframe tbody tr th {\n",
              "        vertical-align: top;\n",
              "    }\n",
              "\n",
              "    .dataframe thead th {\n",
              "        text-align: right;\n",
              "    }\n",
              "</style>\n",
              "<table border=\"1\" class=\"dataframe\">\n",
              "  <thead>\n",
              "    <tr style=\"text-align: right;\">\n",
              "      <th></th>\n",
              "      <th>Neighborhood</th>\n",
              "      <th>Neighborhood Latitude</th>\n",
              "      <th>Neighborhood Longitude</th>\n",
              "      <th>Venue ID</th>\n",
              "      <th>Venue</th>\n",
              "      <th>Venue Latitude</th>\n",
              "      <th>Venue Longitude</th>\n",
              "      <th>Venue Category</th>\n",
              "      <th>Distance</th>\n",
              "    </tr>\n",
              "  </thead>\n",
              "  <tbody>\n",
              "    <tr>\n",
              "      <th>21</th>\n",
              "      <td>Ambawadi (Ahmedabad)</td>\n",
              "      <td>23.022612</td>\n",
              "      <td>72.549083</td>\n",
              "      <td>4bd6e542cfa7b7131e3928da</td>\n",
              "      <td>Jasuben Pizza</td>\n",
              "      <td>23.020767</td>\n",
              "      <td>72.553965</td>\n",
              "      <td>Pizza Place</td>\n",
              "      <td>540</td>\n",
              "    </tr>\n",
              "    <tr>\n",
              "      <th>16</th>\n",
              "      <td>Motera</td>\n",
              "      <td>23.091703</td>\n",
              "      <td>72.597481</td>\n",
              "      <td>500ec373e4b0daa6102afcb5</td>\n",
              "      <td>The Pizza Hub</td>\n",
              "      <td>23.098003</td>\n",
              "      <td>72.598401</td>\n",
              "      <td>Pizza Place</td>\n",
              "      <td>707</td>\n",
              "    </tr>\n",
              "    <tr>\n",
              "      <th>17</th>\n",
              "      <td>Ambawadi (Ahmedabad)</td>\n",
              "      <td>23.022612</td>\n",
              "      <td>72.549083</td>\n",
              "      <td>51892418498e9cfa3b39d1c4</td>\n",
              "      <td>Pizza Hut</td>\n",
              "      <td>23.021664</td>\n",
              "      <td>72.556783</td>\n",
              "      <td>Pizza Place</td>\n",
              "      <td>795</td>\n",
              "    </tr>\n",
              "  </tbody>\n",
              "</table>\n",
              "</div>"
            ],
            "text/plain": [
              "            Neighborhood  Neighborhood Latitude  ...  Venue Category Distance\n",
              "21  Ambawadi (Ahmedabad)              23.022612  ...     Pizza Place      540\n",
              "16                Motera              23.091703  ...     Pizza Place      707\n",
              "17  Ambawadi (Ahmedabad)              23.022612  ...     Pizza Place      795\n",
              "\n",
              "[3 rows x 9 columns]"
            ]
          },
          "metadata": {
            "tags": []
          },
          "execution_count": 58
        }
      ]
    },
    {
      "cell_type": "code",
      "metadata": {
        "colab": {
          "base_uri": "https://localhost:8080/",
          "height": 440
        },
        "id": "OKCW9qatnw6M",
        "outputId": "278d7692-648e-4dbd-a782-9b9e7bfd2333"
      },
      "source": [
        "from folium import plugins\n",
        "abad_map = folium.Map(location = [latitude, longitude], zoom_start = 11.5)\n",
        "\n",
        "restaurants = plugins.MarkerCluster().add_to(abad_map)\n",
        "\n",
        "for lat, lng, label in zip(cluster4_geo['Venue Latitude'], cluster4_geo['Venue Longitude'], cluster4_geo['Venue'] + ',' + cluster4_geo['Neighborhood']):\n",
        "    folium.Marker(\n",
        "        location=[lat, lng],\n",
        "        icon=None,\n",
        "        popup=folium.Popup(label, parse_html=True)\n",
        "    ).add_to(restaurants)\n",
        "\n",
        "abad_map"
      ],
      "execution_count": 59,
      "outputs": [
        {
          "output_type": "execute_result",
          "data": {
            "text/html": [
              "<div style=\"width:100%;\"><div style=\"position:relative;width:100%;height:0;padding-bottom:60%;\"><span style=\"color:#565656\">Make this Notebook Trusted to load map: File -> Trust Notebook</span><iframe src=\"about:blank\" style=\"position:absolute;width:100%;height:100%;left:0;top:0;border:none !important;\" data-html=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 onload=\"this.contentDocument.open();this.contentDocument.write(atob(this.getAttribute('data-html')));this.contentDocument.close();\" allowfullscreen webkitallowfullscreen mozallowfullscreen></iframe></div></div>"
            ],
            "text/plain": [
              "<folium.folium.Map at 0x7f81da6ca550>"
            ]
          },
          "metadata": {
            "tags": []
          },
          "execution_count": 59
        }
      ]
    },
    {
      "cell_type": "code",
      "metadata": {
        "colab": {
          "base_uri": "https://localhost:8080/",
          "height": 173
        },
        "id": "P4r2eHQiCJA9",
        "outputId": "4285fac5-f539-4dc9-a9bb-996467f93f27"
      },
      "source": [
        "cols = ['Cluster', 'Avg']\n",
        "lst_places = [['Cluster 1', cluster1_df['Venue'].mean()],\n",
        "              ['Cluster 2', cluster2_df['Venue'].mean()],\n",
        "              ['Cluster 3', cluster3_df['Venue'].mean()],\n",
        "              ['Cluster 4', cluster4_df['Venue'].mean()]]\n",
        "avg_plc_df = pd.DataFrame(lst_places, columns=cols)\n",
        "avg_plc_df"
      ],
      "execution_count": 60,
      "outputs": [
        {
          "output_type": "execute_result",
          "data": {
            "text/html": [
              "<div>\n",
              "<style scoped>\n",
              "    .dataframe tbody tr th:only-of-type {\n",
              "        vertical-align: middle;\n",
              "    }\n",
              "\n",
              "    .dataframe tbody tr th {\n",
              "        vertical-align: top;\n",
              "    }\n",
              "\n",
              "    .dataframe thead th {\n",
              "        text-align: right;\n",
              "    }\n",
              "</style>\n",
              "<table border=\"1\" class=\"dataframe\">\n",
              "  <thead>\n",
              "    <tr style=\"text-align: right;\">\n",
              "      <th></th>\n",
              "      <th>Cluster</th>\n",
              "      <th>Avg</th>\n",
              "    </tr>\n",
              "  </thead>\n",
              "  <tbody>\n",
              "    <tr>\n",
              "      <th>0</th>\n",
              "      <td>Cluster 1</td>\n",
              "      <td>2.038462</td>\n",
              "    </tr>\n",
              "    <tr>\n",
              "      <th>1</th>\n",
              "      <td>Cluster 2</td>\n",
              "      <td>2.666667</td>\n",
              "    </tr>\n",
              "    <tr>\n",
              "      <th>2</th>\n",
              "      <td>Cluster 3</td>\n",
              "      <td>3.500000</td>\n",
              "    </tr>\n",
              "    <tr>\n",
              "      <th>3</th>\n",
              "      <td>Cluster 4</td>\n",
              "      <td>0.600000</td>\n",
              "    </tr>\n",
              "  </tbody>\n",
              "</table>\n",
              "</div>"
            ],
            "text/plain": [
              "     Cluster       Avg\n",
              "0  Cluster 1  2.038462\n",
              "1  Cluster 2  2.666667\n",
              "2  Cluster 3  3.500000\n",
              "3  Cluster 4  0.600000"
            ]
          },
          "metadata": {
            "tags": []
          },
          "execution_count": 60
        }
      ]
    },
    {
      "cell_type": "code",
      "metadata": {
        "colab": {
          "base_uri": "https://localhost:8080/",
          "height": 294
        },
        "id": "U0vIyDEdNkBn",
        "outputId": "8574cbfe-fa29-413d-d66e-aac8e7162249"
      },
      "source": [
        "f, ax = plt.subplots(figsize=(6,4))\n",
        "plt.rcParams.update({'font.size': 15})\n",
        "\n",
        "plt.bar(avg_plc_df.iloc[:,-2], avg_plc_df.iloc[:,-1].values, color=['red','darkviolet','cyan', 'tab:olive'])\n",
        "plt.title('Average Pizza Places In Each Cluster', fontsize=12)\n",
        "plt.xlabel('Cluster', fontsize=10)\n",
        "plt.ylabel('Avg. Pizza Places', fontsize=10)\n",
        "\n",
        "plt.show()"
      ],
      "execution_count": 61,
      "outputs": [
        {
          "output_type": "display_data",
          "data": {
            "image/png": "[encoded data removed]",
            "text/plain": [
              "<Figure size 432x288 with 1 Axes>"
            ]
          },
          "metadata": {
            "tags": [],
            "needs_background": "light"
          }
        }
      ]
    },
    {
      "cell_type": "code",
      "metadata": {
        "colab": {
          "base_uri": "https://localhost:8080/"
        },
        "id": "ra906EiHOsDv",
        "outputId": "153f63ec-1237-438e-e790-47285f353956"
      },
      "source": [
        "import scipy.stats as stats\n",
        "\n",
        "print('C1 - C4',stats.f_oneway(cluster1_df['Venue'], cluster4_df['Venue']))\n",
        "print('C2 - C4',stats.f_oneway(cluster2_df['Venue'], cluster4_df['Venue']))\n",
        "print('C3 - C4',stats.f_oneway(cluster3_df['Venue'], cluster4_df['Venue']))\n",
        "print('C1..C4',stats.f_oneway(cluster1_df['Venue'], cluster2_df['Venue'],\n",
        "                              cluster3_df['Venue'], cluster4_df['Venue']))"
      ],
      "execution_count": 62,
      "outputs": [
        {
          "output_type": "stream",
          "text": [
            "C1 - C4 F_onewayResult(statistic=0.8327928383664105, pvalue=0.3689907246453171)\n",
            "C2 - C4 F_onewayResult(statistic=6.108050847457627, pvalue=0.04836272841112637)\n",
            "C3 - C4 F_onewayResult(statistic=3.1507443557133015, pvalue=0.0919151363402473)\n",
            "C1..C4 F_onewayResult(statistic=1.2089373788253346, pvalue=0.3171103994642223)\n"
          ],
          "name": "stdout"
        }
      ]
    },
    {
      "cell_type": "code",
      "metadata": {
        "colab": {
          "base_uri": "https://localhost:8080/",
          "height": 265
        },
        "id": "H7stHkHIFBKf",
        "outputId": "e563a0c8-5eb6-4b2a-cd7f-a1542fab5a25"
      },
      "source": [
        "#PCA\n",
        "from sklearn.decomposition import PCA\n",
        "all_clusters = geo_df[['Cluster Labels','Venue']]\n",
        "\n",
        "acp = PCA(n_components=2).fit_transform(all_clusters)\n",
        "\n",
        "for colour,k in zip(['red','darkviolet','cyan','tab:olive'],[0,1,2,3]):\n",
        "  plt.scatter(acp[kmeans.labels_==k,0],acp[kmeans.labels_==k,1],c=colour)\n",
        "plt.show() \n"
      ],
      "execution_count": 63,
      "outputs": [
        {
          "output_type": "display_data",
          "data": {
            "image/png": "[encoded data removed]",
            "text/plain": [
              "<Figure size 432x288 with 1 Axes>"
            ]
          },
          "metadata": {
            "tags": [],
            "needs_background": "light"
          }
        }
      ]
    },
    {
      "cell_type": "code",
      "metadata": {
        "colab": {
          "base_uri": "https://localhost:8080/",
          "height": 359
        },
        "id": "voNCFvUtCKh_",
        "outputId": "f506f111-5607-4f06-a12a-e8051ca8d452"
      },
      "source": [
        "high_density_nbr = geo_df.sort_values(by='Venue', ascending=False).head(10)\n",
        "high_density_nbr"
      ],
      "execution_count": 64,
      "outputs": [
        {
          "output_type": "execute_result",
          "data": {
            "text/html": [
              "<div>\n",
              "<style scoped>\n",
              "    .dataframe tbody tr th:only-of-type {\n",
              "        vertical-align: middle;\n",
              "    }\n",
              "\n",
              "    .dataframe tbody tr th {\n",
              "        vertical-align: top;\n",
              "    }\n",
              "\n",
              "    .dataframe thead th {\n",
              "        text-align: right;\n",
              "    }\n",
              "</style>\n",
              "<table border=\"1\" class=\"dataframe\">\n",
              "  <thead>\n",
              "    <tr style=\"text-align: right;\">\n",
              "      <th></th>\n",
              "      <th>V Lat</th>\n",
              "      <th>V Long</th>\n",
              "      <th>Neighborhood</th>\n",
              "      <th>Cluster Labels</th>\n",
              "      <th>Venue</th>\n",
              "    </tr>\n",
              "  </thead>\n",
              "  <tbody>\n",
              "    <tr>\n",
              "      <th>37</th>\n",
              "      <td>23.044227</td>\n",
              "      <td>72.517458</td>\n",
              "      <td>Bodakdev</td>\n",
              "      <td>0</td>\n",
              "      <td>14</td>\n",
              "    </tr>\n",
              "    <tr>\n",
              "      <th>10</th>\n",
              "      <td>23.016075</td>\n",
              "      <td>72.509295</td>\n",
              "      <td>Anandnagar (Ahmedabad)</td>\n",
              "      <td>2</td>\n",
              "      <td>13</td>\n",
              "    </tr>\n",
              "    <tr>\n",
              "      <th>35</th>\n",
              "      <td>23.053084</td>\n",
              "      <td>72.532931</td>\n",
              "      <td>Memnagar</td>\n",
              "      <td>0</td>\n",
              "      <td>12</td>\n",
              "    </tr>\n",
              "    <tr>\n",
              "      <th>18</th>\n",
              "      <td>23.036000</td>\n",
              "      <td>72.564343</td>\n",
              "      <td>Navrangpura</td>\n",
              "      <td>2</td>\n",
              "      <td>8</td>\n",
              "    </tr>\n",
              "    <tr>\n",
              "      <th>17</th>\n",
              "      <td>23.037307</td>\n",
              "      <td>72.544748</td>\n",
              "      <td>Gujarat University</td>\n",
              "      <td>2</td>\n",
              "      <td>6</td>\n",
              "    </tr>\n",
              "    <tr>\n",
              "      <th>16</th>\n",
              "      <td>23.046712</td>\n",
              "      <td>72.553567</td>\n",
              "      <td>Darpan Society</td>\n",
              "      <td>2</td>\n",
              "      <td>6</td>\n",
              "    </tr>\n",
              "    <tr>\n",
              "      <th>14</th>\n",
              "      <td>22.997713</td>\n",
              "      <td>72.606717</td>\n",
              "      <td>Maninagar</td>\n",
              "      <td>2</td>\n",
              "      <td>5</td>\n",
              "    </tr>\n",
              "    <tr>\n",
              "      <th>22</th>\n",
              "      <td>23.062423</td>\n",
              "      <td>72.553180</td>\n",
              "      <td>Shastrinagar (Ahmedabad)</td>\n",
              "      <td>2</td>\n",
              "      <td>5</td>\n",
              "    </tr>\n",
              "    <tr>\n",
              "      <th>1</th>\n",
              "      <td>23.023180</td>\n",
              "      <td>72.588952</td>\n",
              "      <td>Manek Chowk</td>\n",
              "      <td>1</td>\n",
              "      <td>4</td>\n",
              "    </tr>\n",
              "    <tr>\n",
              "      <th>29</th>\n",
              "      <td>23.029157</td>\n",
              "      <td>72.532752</td>\n",
              "      <td>Azad Society</td>\n",
              "      <td>0</td>\n",
              "      <td>3</td>\n",
              "    </tr>\n",
              "  </tbody>\n",
              "</table>\n",
              "</div>"
            ],
            "text/plain": [
              "        V Lat     V Long              Neighborhood  Cluster Labels  Venue\n",
              "37  23.044227  72.517458                  Bodakdev               0     14\n",
              "10  23.016075  72.509295    Anandnagar (Ahmedabad)               2     13\n",
              "35  23.053084  72.532931                  Memnagar               0     12\n",
              "18  23.036000  72.564343               Navrangpura               2      8\n",
              "17  23.037307  72.544748        Gujarat University               2      6\n",
              "16  23.046712  72.553567            Darpan Society               2      6\n",
              "14  22.997713  72.606717                 Maninagar               2      5\n",
              "22  23.062423  72.553180  Shastrinagar (Ahmedabad)               2      5\n",
              "1   23.023180  72.588952               Manek Chowk               1      4\n",
              "29  23.029157  72.532752              Azad Society               0      3"
            ]
          },
          "metadata": {
            "tags": []
          },
          "execution_count": 64
        }
      ]
    },
    {
      "cell_type": "markdown",
      "metadata": {
        "id": "zN2Pr3ujTXJp"
      },
      "source": [
        "#### Define Function To Explore Neighborhood"
      ]
    },
    {
      "cell_type": "code",
      "metadata": {
        "id": "4T4bkZGvSz6d"
      },
      "source": [
        "def getNearbyVenues(names, latitudes, longitudes, radius=1100):\n",
        "    \n",
        "    venues_list=[]\n",
        "    for name, lat, lng in zip(names, latitudes, longitudes):\n",
        "        print(name)\n",
        "            \n",
        "        # create the API request URL\n",
        "        url = 'https://api.foursquare.com/v2/venues/explore?&client_id={}&client_secret={}&v={}&ll={},{}&radius={}&limit={}'.format(\n",
        "            CLIENT_ID, \n",
        "            CLIENT_SECRET, \n",
        "            VERSION, \n",
        "            lat, \n",
        "            lng, \n",
        "            radius, \n",
        "            LIMIT)\n",
        "            \n",
        "        # make the GET request\n",
        "        results = requests.get(url).json()[\"response\"]['groups'][0]['items']\n",
        "        \n",
        "        # return only relevant information for each nearby venue\n",
        "        venues_list.append([(\n",
        "            name, \n",
        "            lat, \n",
        "            lng, \n",
        "            v['venue']['id'],\n",
        "            v['venue']['name'], \n",
        "            v['venue']['location']['lat'], \n",
        "            v['venue']['location']['lng'],  \n",
        "            v['venue']['categories'][0]['name']) for v in results])\n",
        "\n",
        "    nearby_venues = pd.DataFrame([item for venue_list in venues_list for item in venue_list])\n",
        "    nearby_venues.columns = ['Neighborhood', \n",
        "                  'Neighborhood Latitude', \n",
        "                  'Neighborhood Longitude', \n",
        "                  'Venue ID',           \n",
        "                  'Venue', \n",
        "                  'Venue Latitude', \n",
        "                  'Venue Longitude', \n",
        "                  'Venue Category']\n",
        "    \n",
        "    return(nearby_venues)"
      ],
      "execution_count": 65,
      "outputs": []
    },
    {
      "cell_type": "code",
      "metadata": {
        "colab": {
          "base_uri": "https://localhost:8080/",
          "height": 513
        },
        "id": "qZXaf_FGTkaD",
        "outputId": "563a2160-d406-40ff-e392-daf22ae0812f"
      },
      "source": [
        "all_venues = getNearbyVenues(\n",
        "                                     names = high_density_nbr['Neighborhood'],\n",
        "                                     latitudes = high_density_nbr['V Lat'],\n",
        "                                     longitudes = high_density_nbr['V Long'],\n",
        "                                 )\n",
        "all_venues.head()"
      ],
      "execution_count": 66,
      "outputs": [
        {
          "output_type": "stream",
          "text": [
            "Bodakdev\n",
            "Anandnagar (Ahmedabad)\n",
            "Memnagar\n",
            "Navrangpura\n",
            "Gujarat University\n",
            "Darpan Society\n",
            "Maninagar\n",
            "Shastrinagar (Ahmedabad)\n",
            "Manek Chowk\n",
            "Azad Society\n"
          ],
          "name": "stdout"
        },
        {
          "output_type": "execute_result",
          "data": {
            "text/html": [
              "<div>\n",
              "<style scoped>\n",
              "    .dataframe tbody tr th:only-of-type {\n",
              "        vertical-align: middle;\n",
              "    }\n",
              "\n",
              "    .dataframe tbody tr th {\n",
              "        vertical-align: top;\n",
              "    }\n",
              "\n",
              "    .dataframe thead th {\n",
              "        text-align: right;\n",
              "    }\n",
              "</style>\n",
              "<table border=\"1\" class=\"dataframe\">\n",
              "  <thead>\n",
              "    <tr style=\"text-align: right;\">\n",
              "      <th></th>\n",
              "      <th>Neighborhood</th>\n",
              "      <th>Neighborhood Latitude</th>\n",
              "      <th>Neighborhood Longitude</th>\n",
              "      <th>Venue ID</th>\n",
              "      <th>Venue</th>\n",
              "      <th>Venue Latitude</th>\n",
              "      <th>Venue Longitude</th>\n",
              "      <th>Venue Category</th>\n",
              "    </tr>\n",
              "  </thead>\n",
              "  <tbody>\n",
              "    <tr>\n",
              "      <th>0</th>\n",
              "      <td>Bodakdev</td>\n",
              "      <td>23.044227</td>\n",
              "      <td>72.517458</td>\n",
              "      <td>4ee0f40e7ee54945fe4de077</td>\n",
              "      <td>Apna Adda</td>\n",
              "      <td>23.043714</td>\n",
              "      <td>72.514701</td>\n",
              "      <td>Coffee Shop</td>\n",
              "    </tr>\n",
              "    <tr>\n",
              "      <th>1</th>\n",
              "      <td>Bodakdev</td>\n",
              "      <td>23.044227</td>\n",
              "      <td>72.517458</td>\n",
              "      <td>4c9f09eed3c2b60cbe35d1bc</td>\n",
              "      <td>PVR Cinemas</td>\n",
              "      <td>23.048943</td>\n",
              "      <td>72.516024</td>\n",
              "      <td>Multiplex</td>\n",
              "    </tr>\n",
              "    <tr>\n",
              "      <th>2</th>\n",
              "      <td>Bodakdev</td>\n",
              "      <td>23.044227</td>\n",
              "      <td>72.517458</td>\n",
              "      <td>4fcba949e4b0e33fd4f0eca5</td>\n",
              "      <td>Cravingz</td>\n",
              "      <td>23.048866</td>\n",
              "      <td>72.516107</td>\n",
              "      <td>Ice Cream Shop</td>\n",
              "    </tr>\n",
              "    <tr>\n",
              "      <th>3</th>\n",
              "      <td>Bodakdev</td>\n",
              "      <td>23.044227</td>\n",
              "      <td>72.517458</td>\n",
              "      <td>5247073b498e70435ef93e1a</td>\n",
              "      <td>Souq - bistro &amp; grills</td>\n",
              "      <td>23.048991</td>\n",
              "      <td>72.515867</td>\n",
              "      <td>Mediterranean Restaurant</td>\n",
              "    </tr>\n",
              "    <tr>\n",
              "      <th>4</th>\n",
              "      <td>Bodakdev</td>\n",
              "      <td>23.044227</td>\n",
              "      <td>72.517458</td>\n",
              "      <td>4d4bddada22c224be8bdf393</td>\n",
              "      <td>Subway</td>\n",
              "      <td>23.048850</td>\n",
              "      <td>72.516126</td>\n",
              "      <td>Sandwich Place</td>\n",
              "    </tr>\n",
              "  </tbody>\n",
              "</table>\n",
              "</div>"
            ],
            "text/plain": [
              "  Neighborhood  ...            Venue Category\n",
              "0     Bodakdev  ...               Coffee Shop\n",
              "1     Bodakdev  ...                 Multiplex\n",
              "2     Bodakdev  ...            Ice Cream Shop\n",
              "3     Bodakdev  ...  Mediterranean Restaurant\n",
              "4     Bodakdev  ...            Sandwich Place\n",
              "\n",
              "[5 rows x 8 columns]"
            ]
          },
          "metadata": {
            "tags": []
          },
          "execution_count": 66
        }
      ]
    },
    {
      "cell_type": "code",
      "metadata": {
        "id": "T4h7zyNTUKBz"
      },
      "source": [
        "all_venues.drop_duplicates(subset=['Venue ID'], keep='first', inplace=True)"
      ],
      "execution_count": 67,
      "outputs": []
    },
    {
      "cell_type": "code",
      "metadata": {
        "colab": {
          "base_uri": "https://localhost:8080/",
          "height": 359
        },
        "id": "JTFxuB3CT40H",
        "outputId": "cca1f270-c532-44ec-c5da-9bc6b04f2ecb"
      },
      "source": [
        "top_venues = pd.DataFrame(all_venues.groupby('Venue Category').count()['Neighborhood']).sort_values(by='Neighborhood', ascending=False)\n",
        "top_venues.reset_index(inplace=True)\n",
        "top_venues = top_venues.head(10)\n",
        "top_venues.rename(columns={'Neighborhood':'Venue count'}, inplace=True)\n",
        "top_venues"
      ],
      "execution_count": 68,
      "outputs": [
        {
          "output_type": "execute_result",
          "data": {
            "text/html": [
              "<div>\n",
              "<style scoped>\n",
              "    .dataframe tbody tr th:only-of-type {\n",
              "        vertical-align: middle;\n",
              "    }\n",
              "\n",
              "    .dataframe tbody tr th {\n",
              "        vertical-align: top;\n",
              "    }\n",
              "\n",
              "    .dataframe thead th {\n",
              "        text-align: right;\n",
              "    }\n",
              "</style>\n",
              "<table border=\"1\" class=\"dataframe\">\n",
              "  <thead>\n",
              "    <tr style=\"text-align: right;\">\n",
              "      <th></th>\n",
              "      <th>Venue Category</th>\n",
              "      <th>Venue count</th>\n",
              "    </tr>\n",
              "  </thead>\n",
              "  <tbody>\n",
              "    <tr>\n",
              "      <th>0</th>\n",
              "      <td>Indian Restaurant</td>\n",
              "      <td>33</td>\n",
              "    </tr>\n",
              "    <tr>\n",
              "      <th>1</th>\n",
              "      <td>Café</td>\n",
              "      <td>30</td>\n",
              "    </tr>\n",
              "    <tr>\n",
              "      <th>2</th>\n",
              "      <td>Fast Food Restaurant</td>\n",
              "      <td>20</td>\n",
              "    </tr>\n",
              "    <tr>\n",
              "      <th>3</th>\n",
              "      <td>Pizza Place</td>\n",
              "      <td>12</td>\n",
              "    </tr>\n",
              "    <tr>\n",
              "      <th>4</th>\n",
              "      <td>Restaurant</td>\n",
              "      <td>11</td>\n",
              "    </tr>\n",
              "    <tr>\n",
              "      <th>5</th>\n",
              "      <td>Sandwich Place</td>\n",
              "      <td>11</td>\n",
              "    </tr>\n",
              "    <tr>\n",
              "      <th>6</th>\n",
              "      <td>Hotel</td>\n",
              "      <td>11</td>\n",
              "    </tr>\n",
              "    <tr>\n",
              "      <th>7</th>\n",
              "      <td>Coffee Shop</td>\n",
              "      <td>11</td>\n",
              "    </tr>\n",
              "    <tr>\n",
              "      <th>8</th>\n",
              "      <td>Ice Cream Shop</td>\n",
              "      <td>8</td>\n",
              "    </tr>\n",
              "    <tr>\n",
              "      <th>9</th>\n",
              "      <td>Vegetarian / Vegan Restaurant</td>\n",
              "      <td>8</td>\n",
              "    </tr>\n",
              "  </tbody>\n",
              "</table>\n",
              "</div>"
            ],
            "text/plain": [
              "                  Venue Category  Venue count\n",
              "0              Indian Restaurant           33\n",
              "1                           Café           30\n",
              "2           Fast Food Restaurant           20\n",
              "3                    Pizza Place           12\n",
              "4                     Restaurant           11\n",
              "5                 Sandwich Place           11\n",
              "6                          Hotel           11\n",
              "7                    Coffee Shop           11\n",
              "8                 Ice Cream Shop            8\n",
              "9  Vegetarian / Vegan Restaurant            8"
            ]
          },
          "metadata": {
            "tags": []
          },
          "execution_count": 68
        }
      ]
    },
    {
      "cell_type": "code",
      "metadata": {
        "colab": {
          "base_uri": "https://localhost:8080/",
          "height": 351
        },
        "id": "JRnT9N13VE4v",
        "outputId": "df71dcc0-c3f9-4495-fa59-dedcc180e64e"
      },
      "source": [
        "f, ax = plt.subplots(figsize=(8,5))\n",
        "plt.rcParams.update({'font.size': 15})\n",
        "\n",
        "plt.barh(top_venues.iloc[:,-2], top_venues.iloc[:,-1].values, color='cyan')\n",
        "plt.title('Top Venue Categories In Neighborhood Having More Pizza Joints', fontsize=15)\n",
        "plt.xlabel('Venue Count', fontsize=10)\n",
        "plt.ylabel('Venue Category', fontsize=10)\n",
        "\n",
        "plt.show()"
      ],
      "execution_count": 69,
      "outputs": [
        {
          "output_type": "display_data",
          "data": {
            "image/png": "[encoded data removed]",
            "text/plain": [
              "<Figure size 576x360 with 1 Axes>"
            ]
          },
          "metadata": {
            "tags": [],
            "needs_background": "light"
          }
        }
      ]
    },
    {
      "cell_type": "markdown",
      "metadata": {
        "id": "F4zlgSk7YTlT"
      },
      "source": [
        "#### Explore Cluster 4 Neighborhoods"
      ]
    },
    {
      "cell_type": "code",
      "metadata": {
        "colab": {
          "base_uri": "https://localhost:8080/",
          "height": 204
        },
        "id": "wQXK0FEKWjVK",
        "outputId": "c6055085-0878-4cb9-f2c5-7453eea6ad7e"
      },
      "source": [
        "cluster4_nbr = geo_df[geo_df['Cluster Labels']==3]\n",
        "cluster4_nbr"
      ],
      "execution_count": 70,
      "outputs": [
        {
          "output_type": "execute_result",
          "data": {
            "text/html": [
              "<div>\n",
              "<style scoped>\n",
              "    .dataframe tbody tr th:only-of-type {\n",
              "        vertical-align: middle;\n",
              "    }\n",
              "\n",
              "    .dataframe tbody tr th {\n",
              "        vertical-align: top;\n",
              "    }\n",
              "\n",
              "    .dataframe thead th {\n",
              "        text-align: right;\n",
              "    }\n",
              "</style>\n",
              "<table border=\"1\" class=\"dataframe\">\n",
              "  <thead>\n",
              "    <tr style=\"text-align: right;\">\n",
              "      <th></th>\n",
              "      <th>V Lat</th>\n",
              "      <th>V Long</th>\n",
              "      <th>Neighborhood</th>\n",
              "      <th>Cluster Labels</th>\n",
              "      <th>Venue</th>\n",
              "    </tr>\n",
              "  </thead>\n",
              "  <tbody>\n",
              "    <tr>\n",
              "      <th>3</th>\n",
              "      <td>23.083993</td>\n",
              "      <td>72.587619</td>\n",
              "      <td>Sabarmati</td>\n",
              "      <td>3</td>\n",
              "      <td>0</td>\n",
              "    </tr>\n",
              "    <tr>\n",
              "      <th>4</th>\n",
              "      <td>23.087505</td>\n",
              "      <td>72.585701</td>\n",
              "      <td>Kabir Chowk</td>\n",
              "      <td>3</td>\n",
              "      <td>0</td>\n",
              "    </tr>\n",
              "    <tr>\n",
              "      <th>5</th>\n",
              "      <td>23.091703</td>\n",
              "      <td>72.597481</td>\n",
              "      <td>Motera</td>\n",
              "      <td>3</td>\n",
              "      <td>1</td>\n",
              "    </tr>\n",
              "    <tr>\n",
              "      <th>6</th>\n",
              "      <td>23.022612</td>\n",
              "      <td>72.549083</td>\n",
              "      <td>Ambawadi (Ahmedabad)</td>\n",
              "      <td>3</td>\n",
              "      <td>2</td>\n",
              "    </tr>\n",
              "    <tr>\n",
              "      <th>7</th>\n",
              "      <td>23.022886</td>\n",
              "      <td>72.571642</td>\n",
              "      <td>Ellisbridge</td>\n",
              "      <td>3</td>\n",
              "      <td>0</td>\n",
              "    </tr>\n",
              "  </tbody>\n",
              "</table>\n",
              "</div>"
            ],
            "text/plain": [
              "       V Lat     V Long          Neighborhood  Cluster Labels  Venue\n",
              "3  23.083993  72.587619             Sabarmati               3      0\n",
              "4  23.087505  72.585701           Kabir Chowk               3      0\n",
              "5  23.091703  72.597481                Motera               3      1\n",
              "6  23.022612  72.549083  Ambawadi (Ahmedabad)               3      2\n",
              "7  23.022886  72.571642           Ellisbridge               3      0"
            ]
          },
          "metadata": {
            "tags": []
          },
          "execution_count": 70
        }
      ]
    },
    {
      "cell_type": "code",
      "metadata": {
        "colab": {
          "base_uri": "https://localhost:8080/",
          "height": 445
        },
        "id": "dzyhGMetYjU6",
        "outputId": "379c37c3-e874-414a-da53-02efee8fa888"
      },
      "source": [
        "c4_venues = getNearbyVenues(\n",
        "                                     names = cluster4_nbr['Neighborhood'],\n",
        "                                     latitudes = cluster4_nbr['V Lat'],\n",
        "                                     longitudes = cluster4_nbr['V Long'],\n",
        "                                 )\n",
        "c4_venues.head()"
      ],
      "execution_count": 71,
      "outputs": [
        {
          "output_type": "stream",
          "text": [
            "Sabarmati\n",
            "Kabir Chowk\n",
            "Motera\n",
            "Ambawadi (Ahmedabad)\n",
            "Ellisbridge\n"
          ],
          "name": "stdout"
        },
        {
          "output_type": "execute_result",
          "data": {
            "text/html": [
              "<div>\n",
              "<style scoped>\n",
              "    .dataframe tbody tr th:only-of-type {\n",
              "        vertical-align: middle;\n",
              "    }\n",
              "\n",
              "    .dataframe tbody tr th {\n",
              "        vertical-align: top;\n",
              "    }\n",
              "\n",
              "    .dataframe thead th {\n",
              "        text-align: right;\n",
              "    }\n",
              "</style>\n",
              "<table border=\"1\" class=\"dataframe\">\n",
              "  <thead>\n",
              "    <tr style=\"text-align: right;\">\n",
              "      <th></th>\n",
              "      <th>Neighborhood</th>\n",
              "      <th>Neighborhood Latitude</th>\n",
              "      <th>Neighborhood Longitude</th>\n",
              "      <th>Venue ID</th>\n",
              "      <th>Venue</th>\n",
              "      <th>Venue Latitude</th>\n",
              "      <th>Venue Longitude</th>\n",
              "      <th>Venue Category</th>\n",
              "    </tr>\n",
              "  </thead>\n",
              "  <tbody>\n",
              "    <tr>\n",
              "      <th>0</th>\n",
              "      <td>Sabarmati</td>\n",
              "      <td>23.083993</td>\n",
              "      <td>72.587619</td>\n",
              "      <td>4ead38a86c250091a225e2cc</td>\n",
              "      <td>Maharaj Snacks</td>\n",
              "      <td>23.083980</td>\n",
              "      <td>72.589414</td>\n",
              "      <td>Fast Food Restaurant</td>\n",
              "    </tr>\n",
              "    <tr>\n",
              "      <th>1</th>\n",
              "      <td>Sabarmati</td>\n",
              "      <td>23.083993</td>\n",
              "      <td>72.587619</td>\n",
              "      <td>53f85285498e1ef0fdedd5a9</td>\n",
              "      <td>Shakti The Sandwich Shop</td>\n",
              "      <td>23.086158</td>\n",
              "      <td>72.588658</td>\n",
              "      <td>Sandwich Place</td>\n",
              "    </tr>\n",
              "    <tr>\n",
              "      <th>2</th>\n",
              "      <td>Sabarmati</td>\n",
              "      <td>23.083993</td>\n",
              "      <td>72.587619</td>\n",
              "      <td>4e070364d22d658532a3685f</td>\n",
              "      <td>City Gold</td>\n",
              "      <td>23.088546</td>\n",
              "      <td>72.590189</td>\n",
              "      <td>Multiplex</td>\n",
              "    </tr>\n",
              "    <tr>\n",
              "      <th>3</th>\n",
              "      <td>Sabarmati</td>\n",
              "      <td>23.083993</td>\n",
              "      <td>72.587619</td>\n",
              "      <td>4dbea46eced7ea5898dce582</td>\n",
              "      <td>Sabarmati Railway Station</td>\n",
              "      <td>23.077659</td>\n",
              "      <td>72.588537</td>\n",
              "      <td>Train Station</td>\n",
              "    </tr>\n",
              "    <tr>\n",
              "      <th>4</th>\n",
              "      <td>Kabir Chowk</td>\n",
              "      <td>23.087505</td>\n",
              "      <td>72.585701</td>\n",
              "      <td>502d3df9e4b0f9a2dc4baa84</td>\n",
              "      <td>River Front</td>\n",
              "      <td>23.086647</td>\n",
              "      <td>72.587283</td>\n",
              "      <td>River</td>\n",
              "    </tr>\n",
              "  </tbody>\n",
              "</table>\n",
              "</div>"
            ],
            "text/plain": [
              "  Neighborhood  Neighborhood Latitude  ...  Venue Longitude        Venue Category\n",
              "0    Sabarmati              23.083993  ...        72.589414  Fast Food Restaurant\n",
              "1    Sabarmati              23.083993  ...        72.588658        Sandwich Place\n",
              "2    Sabarmati              23.083993  ...        72.590189             Multiplex\n",
              "3    Sabarmati              23.083993  ...        72.588537         Train Station\n",
              "4  Kabir Chowk              23.087505  ...        72.587283                 River\n",
              "\n",
              "[5 rows x 8 columns]"
            ]
          },
          "metadata": {
            "tags": []
          },
          "execution_count": 71
        }
      ]
    },
    {
      "cell_type": "code",
      "metadata": {
        "id": "vmgOeRedYxTe"
      },
      "source": [
        "c4_venues.drop_duplicates(subset=['Venue ID'], keep='first', inplace=True)"
      ],
      "execution_count": 72,
      "outputs": []
    },
    {
      "cell_type": "code",
      "metadata": {
        "colab": {
          "base_uri": "https://localhost:8080/",
          "height": 359
        },
        "id": "LxciVRn9Y7wv",
        "outputId": "9db9919a-f859-4e20-dae7-23132ceda367"
      },
      "source": [
        "c4_top_venues = pd.DataFrame(c4_venues.groupby('Venue Category').count()['Neighborhood']).sort_values(by='Neighborhood', ascending=False)\n",
        "c4_top_venues.reset_index(inplace=True)\n",
        "c4_top_venues = c4_top_venues.head(10)\n",
        "c4_top_venues"
      ],
      "execution_count": 73,
      "outputs": [
        {
          "output_type": "execute_result",
          "data": {
            "text/html": [
              "<div>\n",
              "<style scoped>\n",
              "    .dataframe tbody tr th:only-of-type {\n",
              "        vertical-align: middle;\n",
              "    }\n",
              "\n",
              "    .dataframe tbody tr th {\n",
              "        vertical-align: top;\n",
              "    }\n",
              "\n",
              "    .dataframe thead th {\n",
              "        text-align: right;\n",
              "    }\n",
              "</style>\n",
              "<table border=\"1\" class=\"dataframe\">\n",
              "  <thead>\n",
              "    <tr style=\"text-align: right;\">\n",
              "      <th></th>\n",
              "      <th>Venue Category</th>\n",
              "      <th>Neighborhood</th>\n",
              "    </tr>\n",
              "  </thead>\n",
              "  <tbody>\n",
              "    <tr>\n",
              "      <th>0</th>\n",
              "      <td>Indian Restaurant</td>\n",
              "      <td>12</td>\n",
              "    </tr>\n",
              "    <tr>\n",
              "      <th>1</th>\n",
              "      <td>Café</td>\n",
              "      <td>11</td>\n",
              "    </tr>\n",
              "    <tr>\n",
              "      <th>2</th>\n",
              "      <td>Fast Food Restaurant</td>\n",
              "      <td>9</td>\n",
              "    </tr>\n",
              "    <tr>\n",
              "      <th>3</th>\n",
              "      <td>Hotel</td>\n",
              "      <td>7</td>\n",
              "    </tr>\n",
              "    <tr>\n",
              "      <th>4</th>\n",
              "      <td>Vegetarian / Vegan Restaurant</td>\n",
              "      <td>3</td>\n",
              "    </tr>\n",
              "    <tr>\n",
              "      <th>5</th>\n",
              "      <td>Sandwich Place</td>\n",
              "      <td>3</td>\n",
              "    </tr>\n",
              "    <tr>\n",
              "      <th>6</th>\n",
              "      <td>Pizza Place</td>\n",
              "      <td>3</td>\n",
              "    </tr>\n",
              "    <tr>\n",
              "      <th>7</th>\n",
              "      <td>Restaurant</td>\n",
              "      <td>3</td>\n",
              "    </tr>\n",
              "    <tr>\n",
              "      <th>8</th>\n",
              "      <td>Shopping Mall</td>\n",
              "      <td>3</td>\n",
              "    </tr>\n",
              "    <tr>\n",
              "      <th>9</th>\n",
              "      <td>Mexican Restaurant</td>\n",
              "      <td>3</td>\n",
              "    </tr>\n",
              "  </tbody>\n",
              "</table>\n",
              "</div>"
            ],
            "text/plain": [
              "                  Venue Category  Neighborhood\n",
              "0              Indian Restaurant            12\n",
              "1                           Café            11\n",
              "2           Fast Food Restaurant             9\n",
              "3                          Hotel             7\n",
              "4  Vegetarian / Vegan Restaurant             3\n",
              "5                 Sandwich Place             3\n",
              "6                    Pizza Place             3\n",
              "7                     Restaurant             3\n",
              "8                  Shopping Mall             3\n",
              "9             Mexican Restaurant             3"
            ]
          },
          "metadata": {
            "tags": []
          },
          "execution_count": 73
        }
      ]
    },
    {
      "cell_type": "code",
      "metadata": {
        "colab": {
          "base_uri": "https://localhost:8080/",
          "height": 351
        },
        "id": "KzCXxSN-ZKbX",
        "outputId": "5f40e200-a620-431f-b7dd-5a674010ef7b"
      },
      "source": [
        "f, ax = plt.subplots(figsize=(8,5))\n",
        "plt.rcParams.update({'font.size': 15})\n",
        "\n",
        "plt.barh(c4_top_venues.iloc[:,-2], c4_top_venues.iloc[:,-1].values, color='cyan')\n",
        "plt.title('Top Venue Categories In Proposed Cluster', fontsize=15)\n",
        "plt.xlabel('Venue Count', fontsize=10)\n",
        "plt.ylabel('Venue Category', fontsize=10)\n",
        "\n",
        "plt.show()"
      ],
      "execution_count": 74,
      "outputs": [
        {
          "output_type": "display_data",
          "data": {
            "image/png": "[encoded data removed]",
            "text/plain": [
              "<Figure size 576x360 with 1 Axes>"
            ]
          },
          "metadata": {
            "tags": [],
            "needs_background": "light"
          }
        }
      ]
    },
    {
      "cell_type": "markdown",
      "metadata": {
        "id": "n3Rg1bBG_Gzl"
      },
      "source": [
        "#### Define Jaccard Similarity Score Function"
      ]
    },
    {
      "cell_type": "code",
      "metadata": {
        "id": "CrF5U8ZEwdtL"
      },
      "source": [
        "def jaccard_similarity(list1, list2):\n",
        "    intersection = len(list(set(list1).intersection(list2)))\n",
        "    union = (len(list1) + len(list2)) - intersection\n",
        "    return float(intersection) / union"
      ],
      "execution_count": 75,
      "outputs": []
    },
    {
      "cell_type": "markdown",
      "metadata": {
        "id": "5WdSagPIpYn8"
      },
      "source": [
        "#### Let's Check the Similarity of the Neighborhoods Having Most Pizza Places With the Proposed Cluster"
      ]
    },
    {
      "cell_type": "code",
      "metadata": {
        "colab": {
          "base_uri": "https://localhost:8080/"
        },
        "id": "Fh4jUiUEZWf7",
        "outputId": "6ce77436-0ee3-47cc-a8fc-98ecda63ee6b"
      },
      "source": [
        "from sklearn.metrics import jaccard_score\n",
        "# from sklearn.preprocessing import LabelEncoder\n",
        "\n",
        "X1 = top_venues.iloc[:,0].values.tolist()\n",
        "X2 = c4_top_venues.iloc[:,0].values.tolist()\n",
        "\n",
        "# le = LabelEncoder()\n",
        "# y = X1 + X2\n",
        "# z = pd.DataFrame(le.fit_transform(y))\n",
        "# y = pd.DataFrame(y)\n",
        "# y = pd.concat([y, z], axis=1, ignore_index=True)\n",
        "\n",
        "# print(y)\n",
        "# X1 = y.iloc[0:10, -1].values\n",
        "# print(X1)\n",
        "# X2 = y.iloc[10:20, -1].values\n",
        "# print(X2)\n",
        "# jscore = jaccard_score(X1, X2, average='weighted')\n",
        "jscore = jaccard_similarity(X1,X2)\n",
        "print('The Jaccard Similarity Score With Cluster-4 is', jscore)"
      ],
      "execution_count": 76,
      "outputs": [
        {
          "output_type": "stream",
          "text": [
            "The Jaccard Similarity Score With Cluster-4 is 0.6666666666666666\n"
          ],
          "name": "stdout"
        }
      ]
    },
    {
      "cell_type": "markdown",
      "metadata": {
        "id": "iPsMz0Rtv4yX"
      },
      "source": [
        "#### Explore Cluster 1 Neighborhoods"
      ]
    },
    {
      "cell_type": "code",
      "metadata": {
        "colab": {
          "base_uri": "https://localhost:8080/"
        },
        "id": "k3jcLasHv8Ck",
        "outputId": "78e9de36-2ff9-447d-c3e8-ba469ae75a90"
      },
      "source": [
        "cluster1_nbr = geo_df[geo_df['Cluster Labels']==0]\n",
        "c1_venues = getNearbyVenues(\n",
        "                                     names = cluster1_nbr['Neighborhood'],\n",
        "                                     latitudes = cluster1_nbr['V Lat'],\n",
        "                                     longitudes = cluster1_nbr['V Long'],\n",
        "                                 )\n",
        "c1_venues.head()\n",
        "c1_venues.drop_duplicates(subset=['Venue ID'], keep='first', inplace=True)\n",
        "c1_top_venues = pd.DataFrame(c1_venues.groupby('Venue Category').count()['Neighborhood']).sort_values(by='Neighborhood', ascending=False)\n",
        "c1_top_venues.reset_index(inplace=True)"
      ],
      "execution_count": 77,
      "outputs": [
        {
          "output_type": "stream",
          "text": [
            "Navjivan\n",
            "Jodhpur Char Rasta\n",
            "I I M\n",
            "Manekbag\n",
            "Polytechnic (Ahmedabad)\n",
            "Azad Society\n",
            "Meghaningar\n",
            "Gita Mandir Road\n",
            "Civil Hospital\n",
            "Gandhi Ashram (Ahmedabad)\n",
            "Jivraj Park\n",
            "Memnagar\n",
            "Thaltej Road\n",
            "Bodakdev\n",
            "Juhapura\n",
            "Bopal\n",
            "Ghuma\n",
            "Ambli\n",
            "Shela\n",
            "Thaltej\n",
            "Shilaj\n",
            "Sola\n",
            "Bhadaj\n",
            "Ognaj\n",
            "Ghatlodia\n",
            "Sola H B C\n"
          ],
          "name": "stdout"
        }
      ]
    },
    {
      "cell_type": "code",
      "metadata": {
        "colab": {
          "base_uri": "https://localhost:8080/",
          "height": 359
        },
        "id": "0o8l99GYx-JI",
        "outputId": "db0d9600-13c5-4f5e-cd47-8f206a534658"
      },
      "source": [
        "c1_top_venues = c1_top_venues.head(10)\n",
        "c1_top_venues"
      ],
      "execution_count": 78,
      "outputs": [
        {
          "output_type": "execute_result",
          "data": {
            "text/html": [
              "<div>\n",
              "<style scoped>\n",
              "    .dataframe tbody tr th:only-of-type {\n",
              "        vertical-align: middle;\n",
              "    }\n",
              "\n",
              "    .dataframe tbody tr th {\n",
              "        vertical-align: top;\n",
              "    }\n",
              "\n",
              "    .dataframe thead th {\n",
              "        text-align: right;\n",
              "    }\n",
              "</style>\n",
              "<table border=\"1\" class=\"dataframe\">\n",
              "  <thead>\n",
              "    <tr style=\"text-align: right;\">\n",
              "      <th></th>\n",
              "      <th>Venue Category</th>\n",
              "      <th>Neighborhood</th>\n",
              "    </tr>\n",
              "  </thead>\n",
              "  <tbody>\n",
              "    <tr>\n",
              "      <th>0</th>\n",
              "      <td>Indian Restaurant</td>\n",
              "      <td>34</td>\n",
              "    </tr>\n",
              "    <tr>\n",
              "      <th>1</th>\n",
              "      <td>Café</td>\n",
              "      <td>28</td>\n",
              "    </tr>\n",
              "    <tr>\n",
              "      <th>2</th>\n",
              "      <td>Fast Food Restaurant</td>\n",
              "      <td>22</td>\n",
              "    </tr>\n",
              "    <tr>\n",
              "      <th>3</th>\n",
              "      <td>Pizza Place</td>\n",
              "      <td>16</td>\n",
              "    </tr>\n",
              "    <tr>\n",
              "      <th>4</th>\n",
              "      <td>Shopping Mall</td>\n",
              "      <td>11</td>\n",
              "    </tr>\n",
              "    <tr>\n",
              "      <th>5</th>\n",
              "      <td>Restaurant</td>\n",
              "      <td>11</td>\n",
              "    </tr>\n",
              "    <tr>\n",
              "      <th>6</th>\n",
              "      <td>Hotel</td>\n",
              "      <td>10</td>\n",
              "    </tr>\n",
              "    <tr>\n",
              "      <th>7</th>\n",
              "      <td>Coffee Shop</td>\n",
              "      <td>10</td>\n",
              "    </tr>\n",
              "    <tr>\n",
              "      <th>8</th>\n",
              "      <td>Sandwich Place</td>\n",
              "      <td>8</td>\n",
              "    </tr>\n",
              "    <tr>\n",
              "      <th>9</th>\n",
              "      <td>Ice Cream Shop</td>\n",
              "      <td>7</td>\n",
              "    </tr>\n",
              "  </tbody>\n",
              "</table>\n",
              "</div>"
            ],
            "text/plain": [
              "         Venue Category  Neighborhood\n",
              "0     Indian Restaurant            34\n",
              "1                  Café            28\n",
              "2  Fast Food Restaurant            22\n",
              "3           Pizza Place            16\n",
              "4         Shopping Mall            11\n",
              "5            Restaurant            11\n",
              "6                 Hotel            10\n",
              "7           Coffee Shop            10\n",
              "8        Sandwich Place             8\n",
              "9        Ice Cream Shop             7"
            ]
          },
          "metadata": {
            "tags": []
          },
          "execution_count": 78
        }
      ]
    },
    {
      "cell_type": "markdown",
      "metadata": {
        "id": "ds8BdVqPw5-V"
      },
      "source": [
        "#### Calculate Jaccard Similarity Score For Neighborhoods With More Pizza Places and Cluster 1 Neighborhoods"
      ]
    },
    {
      "cell_type": "code",
      "metadata": {
        "colab": {
          "base_uri": "https://localhost:8080/"
        },
        "id": "QKL5qvVnwu93",
        "outputId": "fd8b7156-045e-4c01-f05f-20a7813f3b7d"
      },
      "source": [
        "from sklearn.metrics import jaccard_score\n",
        "\n",
        "X1 = top_venues.iloc[:,0].values.tolist()\n",
        "X2 = c1_top_venues.iloc[:,0].values.tolist()\n",
        "\n",
        "# jscore = jaccard_score(X1, X2, average='weighted')\n",
        "jscore = jaccard_similarity(X1,X2)\n",
        "print('The Jaccard Similarity Score With Cluster-1 is', jscore)"
      ],
      "execution_count": 79,
      "outputs": [
        {
          "output_type": "stream",
          "text": [
            "The Jaccard Similarity Score With Cluster-1 is 0.8181818181818182\n"
          ],
          "name": "stdout"
        }
      ]
    },
    {
      "cell_type": "markdown",
      "metadata": {
        "id": "q32LP4Duyb9C"
      },
      "source": [
        "#### Explore Cluster 2 Neighborhoods"
      ]
    },
    {
      "cell_type": "code",
      "metadata": {
        "colab": {
          "base_uri": "https://localhost:8080/"
        },
        "id": "3EyNQYMaxLZA",
        "outputId": "af77f302-51cc-4b49-9bbe-2b87349b125a"
      },
      "source": [
        "cluster2_nbr = geo_df[geo_df['Cluster Labels']==1]\n",
        "c2_venues = getNearbyVenues(\n",
        "                                     names = cluster2_nbr['Neighborhood'],\n",
        "                                     latitudes = cluster2_nbr['V Lat'],\n",
        "                                     longitudes = cluster2_nbr['V Long'],\n",
        "                                 )\n",
        "c2_venues.head()\n",
        "c2_venues.drop_duplicates(subset=['Venue ID'], keep='first', inplace=True)\n",
        "c2_top_venues = pd.DataFrame(c2_venues.groupby('Venue Category').count()['Neighborhood']).sort_values(by='Neighborhood', ascending=False)\n",
        "c2_top_venues.reset_index(inplace=True)"
      ],
      "execution_count": 80,
      "outputs": [
        {
          "output_type": "stream",
          "text": [
            "Lal Darwaja\n",
            "Manek Chowk\n",
            "Shahibag\n"
          ],
          "name": "stdout"
        }
      ]
    },
    {
      "cell_type": "code",
      "metadata": {
        "colab": {
          "base_uri": "https://localhost:8080/",
          "height": 359
        },
        "id": "NOAwfS35y-Y1",
        "outputId": "8b6a5e9e-833e-43b7-cca8-ae9137631f08"
      },
      "source": [
        "c2_top_venues = c2_top_venues.head(10)\n",
        "c2_top_venues"
      ],
      "execution_count": 81,
      "outputs": [
        {
          "output_type": "execute_result",
          "data": {
            "text/html": [
              "<div>\n",
              "<style scoped>\n",
              "    .dataframe tbody tr th:only-of-type {\n",
              "        vertical-align: middle;\n",
              "    }\n",
              "\n",
              "    .dataframe tbody tr th {\n",
              "        vertical-align: top;\n",
              "    }\n",
              "\n",
              "    .dataframe thead th {\n",
              "        text-align: right;\n",
              "    }\n",
              "</style>\n",
              "<table border=\"1\" class=\"dataframe\">\n",
              "  <thead>\n",
              "    <tr style=\"text-align: right;\">\n",
              "      <th></th>\n",
              "      <th>Venue Category</th>\n",
              "      <th>Neighborhood</th>\n",
              "    </tr>\n",
              "  </thead>\n",
              "  <tbody>\n",
              "    <tr>\n",
              "      <th>0</th>\n",
              "      <td>Indian Restaurant</td>\n",
              "      <td>7</td>\n",
              "    </tr>\n",
              "    <tr>\n",
              "      <th>1</th>\n",
              "      <td>Hotel</td>\n",
              "      <td>5</td>\n",
              "    </tr>\n",
              "    <tr>\n",
              "      <th>2</th>\n",
              "      <td>Tea Room</td>\n",
              "      <td>2</td>\n",
              "    </tr>\n",
              "    <tr>\n",
              "      <th>3</th>\n",
              "      <td>Historic Site</td>\n",
              "      <td>2</td>\n",
              "    </tr>\n",
              "    <tr>\n",
              "      <th>4</th>\n",
              "      <td>Bus Station</td>\n",
              "      <td>2</td>\n",
              "    </tr>\n",
              "    <tr>\n",
              "      <th>5</th>\n",
              "      <td>Asian Restaurant</td>\n",
              "      <td>1</td>\n",
              "    </tr>\n",
              "    <tr>\n",
              "      <th>6</th>\n",
              "      <td>Park</td>\n",
              "      <td>1</td>\n",
              "    </tr>\n",
              "    <tr>\n",
              "      <th>7</th>\n",
              "      <td>Snack Place</td>\n",
              "      <td>1</td>\n",
              "    </tr>\n",
              "    <tr>\n",
              "      <th>8</th>\n",
              "      <td>River</td>\n",
              "      <td>1</td>\n",
              "    </tr>\n",
              "    <tr>\n",
              "      <th>9</th>\n",
              "      <td>Restaurant</td>\n",
              "      <td>1</td>\n",
              "    </tr>\n",
              "  </tbody>\n",
              "</table>\n",
              "</div>"
            ],
            "text/plain": [
              "      Venue Category  Neighborhood\n",
              "0  Indian Restaurant             7\n",
              "1              Hotel             5\n",
              "2           Tea Room             2\n",
              "3      Historic Site             2\n",
              "4        Bus Station             2\n",
              "5   Asian Restaurant             1\n",
              "6               Park             1\n",
              "7        Snack Place             1\n",
              "8              River             1\n",
              "9         Restaurant             1"
            ]
          },
          "metadata": {
            "tags": []
          },
          "execution_count": 81
        }
      ]
    },
    {
      "cell_type": "markdown",
      "metadata": {
        "id": "KRLwnlDvzSLm"
      },
      "source": [
        "#### Calculate Jaccard Similarity Score For Neighborhoods With More Pizza Places and Cluster 2 Neighborhoods"
      ]
    },
    {
      "cell_type": "code",
      "metadata": {
        "colab": {
          "base_uri": "https://localhost:8080/"
        },
        "id": "po5OPIJLzCVi",
        "outputId": "d6289f61-3d3f-4f19-fa0b-71910e761203"
      },
      "source": [
        "from sklearn.metrics import jaccard_score\n",
        "\n",
        "X1 = top_venues.iloc[:,0].values.tolist()\n",
        "X2 = c2_top_venues.iloc[:,0].values.tolist()\n",
        "\n",
        "# jscore = jaccard_score(X1, X2, average='weighted')\n",
        "jscore = jaccard_similarity(X1,X2)\n",
        "print('The Jaccard Similarity Score With Cluster-2 is', jscore)"
      ],
      "execution_count": 82,
      "outputs": [
        {
          "output_type": "stream",
          "text": [
            "The Jaccard Similarity Score With Cluster-2 is 0.17647058823529413\n"
          ],
          "name": "stdout"
        }
      ]
    },
    {
      "cell_type": "markdown",
      "metadata": {
        "id": "HywO3RwaHdGY"
      },
      "source": [
        "#### Explore Cluster 3 Neighborhoods"
      ]
    },
    {
      "cell_type": "code",
      "metadata": {
        "colab": {
          "base_uri": "https://localhost:8080/"
        },
        "id": "gH-xFA9czZTI",
        "outputId": "c881531a-190f-4f54-808a-b4bf4e2c9445"
      },
      "source": [
        "cluster3_nbr = geo_df[geo_df['Cluster Labels']==2]\n",
        "c3_venues = getNearbyVenues(\n",
        "                                     names = cluster3_nbr['Neighborhood'],\n",
        "                                     latitudes = cluster3_nbr['V Lat'],\n",
        "                                     longitudes = cluster3_nbr['V Long'],\n",
        "                                 )\n",
        "c3_venues.head()\n",
        "c3_venues.drop_duplicates(subset=['Venue ID'], keep='first', inplace=True)\n",
        "c3_top_venues = pd.DataFrame(c3_venues.groupby('Venue Category').count()['Neighborhood']).sort_values(by='Neighborhood', ascending=False)\n",
        "c3_top_venues.reset_index(inplace=True)"
      ],
      "execution_count": 83,
      "outputs": [
        {
          "output_type": "stream",
          "text": [
            "Paldi (Ahmedabad)\n",
            "Sarkhej Road\n",
            "Anandnagar (Ahmedabad)\n",
            "Shardanagar\n",
            "Narayannagar\n",
            "Jawahar Chowk\n",
            "Maninagar\n",
            "Ashram Road\n",
            "Darpan Society\n",
            "Gujarat University\n",
            "Navrangpura\n",
            "Stadium Marg\n",
            "Vadaj\n",
            "Naranpura Vistar\n",
            "Shastrinagar (Ahmedabad)\n",
            "Nava Vadaj\n"
          ],
          "name": "stdout"
        }
      ]
    },
    {
      "cell_type": "code",
      "metadata": {
        "colab": {
          "base_uri": "https://localhost:8080/",
          "height": 359
        },
        "id": "hUA2dOzwHumZ",
        "outputId": "eab6cb2a-177b-4ae4-dc6a-fee42bf3ffaf"
      },
      "source": [
        "c3_top_venues = c3_top_venues.head(10)\n",
        "c3_top_venues"
      ],
      "execution_count": 84,
      "outputs": [
        {
          "output_type": "execute_result",
          "data": {
            "text/html": [
              "<div>\n",
              "<style scoped>\n",
              "    .dataframe tbody tr th:only-of-type {\n",
              "        vertical-align: middle;\n",
              "    }\n",
              "\n",
              "    .dataframe tbody tr th {\n",
              "        vertical-align: top;\n",
              "    }\n",
              "\n",
              "    .dataframe thead th {\n",
              "        text-align: right;\n",
              "    }\n",
              "</style>\n",
              "<table border=\"1\" class=\"dataframe\">\n",
              "  <thead>\n",
              "    <tr style=\"text-align: right;\">\n",
              "      <th></th>\n",
              "      <th>Venue Category</th>\n",
              "      <th>Neighborhood</th>\n",
              "    </tr>\n",
              "  </thead>\n",
              "  <tbody>\n",
              "    <tr>\n",
              "      <th>0</th>\n",
              "      <td>Indian Restaurant</td>\n",
              "      <td>31</td>\n",
              "    </tr>\n",
              "    <tr>\n",
              "      <th>1</th>\n",
              "      <td>Café</td>\n",
              "      <td>25</td>\n",
              "    </tr>\n",
              "    <tr>\n",
              "      <th>2</th>\n",
              "      <td>Fast Food Restaurant</td>\n",
              "      <td>20</td>\n",
              "    </tr>\n",
              "    <tr>\n",
              "      <th>3</th>\n",
              "      <td>Hotel</td>\n",
              "      <td>18</td>\n",
              "    </tr>\n",
              "    <tr>\n",
              "      <th>4</th>\n",
              "      <td>Pizza Place</td>\n",
              "      <td>13</td>\n",
              "    </tr>\n",
              "    <tr>\n",
              "      <th>5</th>\n",
              "      <td>Coffee Shop</td>\n",
              "      <td>10</td>\n",
              "    </tr>\n",
              "    <tr>\n",
              "      <th>6</th>\n",
              "      <td>Sandwich Place</td>\n",
              "      <td>9</td>\n",
              "    </tr>\n",
              "    <tr>\n",
              "      <th>7</th>\n",
              "      <td>Tea Room</td>\n",
              "      <td>8</td>\n",
              "    </tr>\n",
              "    <tr>\n",
              "      <th>8</th>\n",
              "      <td>Ice Cream Shop</td>\n",
              "      <td>8</td>\n",
              "    </tr>\n",
              "    <tr>\n",
              "      <th>9</th>\n",
              "      <td>Vegetarian / Vegan Restaurant</td>\n",
              "      <td>6</td>\n",
              "    </tr>\n",
              "  </tbody>\n",
              "</table>\n",
              "</div>"
            ],
            "text/plain": [
              "                  Venue Category  Neighborhood\n",
              "0              Indian Restaurant            31\n",
              "1                           Café            25\n",
              "2           Fast Food Restaurant            20\n",
              "3                          Hotel            18\n",
              "4                    Pizza Place            13\n",
              "5                    Coffee Shop            10\n",
              "6                 Sandwich Place             9\n",
              "7                       Tea Room             8\n",
              "8                 Ice Cream Shop             8\n",
              "9  Vegetarian / Vegan Restaurant             6"
            ]
          },
          "metadata": {
            "tags": []
          },
          "execution_count": 84
        }
      ]
    },
    {
      "cell_type": "markdown",
      "metadata": {
        "id": "H1JHKDJNH0cH"
      },
      "source": [
        "#### Calculate Jaccard Similarity Score For Neighborhoods With More Pizza Places and Cluster 3 Neighborhoods"
      ]
    },
    {
      "cell_type": "code",
      "metadata": {
        "colab": {
          "base_uri": "https://localhost:8080/"
        },
        "id": "GUbo7jsRH3QM",
        "outputId": "92da7db3-a096-44f1-d543-7f344cc63c25"
      },
      "source": [
        "from sklearn.metrics import jaccard_score\n",
        "\n",
        "X1 = top_venues.iloc[:,0].values.tolist()\n",
        "X2 = c3_top_venues.iloc[:,0].values.tolist()\n",
        "\n",
        "# jscore = jaccard_score(X1, X2, average='weighted')\n",
        "jscore = jaccard_similarity(X1,X2)\n",
        "jscore"
      ],
      "execution_count": 85,
      "outputs": [
        {
          "output_type": "execute_result",
          "data": {
            "text/plain": [
              "0.8181818181818182"
            ]
          },
          "metadata": {
            "tags": []
          },
          "execution_count": 85
        }
      ]
    },
    {
      "cell_type": "code",
      "metadata": {
        "id": "7AVSCu5gIBGC"
      },
      "source": [
        ""
      ],
      "execution_count": 85,
      "outputs": []
    }
  ]
}